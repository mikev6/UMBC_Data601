{
 "cells": [
  {
   "cell_type": "markdown",
   "metadata": {},
   "source": [
    "# Title of the Project\n",
    "\n",
    "__Enter Subtitle here if any__"
   ]
  },
  {
   "cell_type": "markdown",
   "metadata": {},
   "source": [
    "# Overview\n",
    "\n",
    "__What?__\n",
    "\n",
    "- Tell us about the problem you are about to solve.\n",
    "\n",
    "__When?__\n",
    "\n",
    "- Tell us when and how you will determine that this project is successful (metrics)\n",
    "\n",
    "__Why?__\n",
    "- Tell us why this problem is interesting.\n",
    "\n",
    "__Who?__\n",
    "\n",
    "- Tell us who might be interested in your project.\n",
    "\n",
    "__Background and Research__\n",
    "\n",
    "- What has already been done on the problem you are working on?"
   ]
  },
  {
   "cell_type": "markdown",
   "metadata": {},
   "source": [
    "\n",
    "# Get the data\n",
    "\n",
    "__Who?__\n",
    "\n",
    "Who collected the original data.\n",
    "\n",
    "__When?__\n",
    "\n",
    "When is the data collected?\n",
    "\n",
    "__What?__\n",
    "\n",
    "- What is data look like? \n",
    "- Number of columns, rows, missing values\n",
    "- Size of the data\n",
    "\n",
    "__Links__\n",
    "\n",
    "- Link to data if available\n",
    "\n",
    "- Link to data dictionary if available.\n",
    "\n",
    "__Connect__\n",
    "\n",
    "- Connect this part to the overview.\n",
    "\n",
    "- If this is supervised learning problem, what is the target column? Which columns will be important in your discussion."
   ]
  },
  {
   "cell_type": "markdown",
   "metadata": {},
   "source": [
    "# Explore the Data"
   ]
  },
  {
   "cell_type": "markdown",
   "metadata": {},
   "source": [
    "- Show us the head of the data, shape of the data.\n",
    "\n",
    "- Missing values, data types, distributions, interesting statistics, etc. \n",
    "\n",
    "- You don't have to show us all the code here but make sure that the work you show us here is connected to the problem you are trying to solve. \n",
    "\n",
    "- Don't share a scrape book with me.\n",
    "\n",
    "- If you are showing a plot make sure that there is a title, axes are labeled and you explained why you are showing me this plot (it's connection to the problem and solution).\n",
    "\n",
    "- If you are working with a supervised learning problem, talk about the target variable. It's distribution, class imbalance etc.\n"
   ]
  },
  {
   "cell_type": "markdown",
   "metadata": {},
   "source": [
    "# Prepare Data\n",
    "\n",
    "- Don't change the original dataset\n",
    "\n",
    "- Don't necessarily show me the functions you wrote. \n",
    "\n",
    "- Use utils.py script and call the utility functions if necessary.\n",
    "\n",
    "- Explain don't show and only mention a work if it is relevant for the later parts of the project."
   ]
  },
  {
   "cell_type": "markdown",
   "metadata": {},
   "source": [
    "# Modeling\n",
    "\n",
    "- What models do you use and why?\n",
    "\n",
    "- What is a good baseline?\n",
    "\n",
    "- Which metric you will be focusing on, why?"
   ]
  },
  {
   "cell_type": "code",
   "execution_count": null,
   "metadata": {},
   "outputs": [],
   "source": [
    "## Decision tree model"
   ]
  },
  {
   "cell_type": "code",
   "execution_count": 2,
   "metadata": {},
   "outputs": [],
   "source": [
    "## Logistic regression model"
   ]
  },
  {
   "cell_type": "code",
   "execution_count": 3,
   "metadata": {},
   "outputs": [],
   "source": [
    "## confusion matrices for both models"
   ]
  },
  {
   "cell_type": "markdown",
   "metadata": {},
   "source": [
    "# Fine Tune \n",
    "\n",
    "- Make sure that you played with the hyper-parameters and fine-tuned the parameters. \n",
    "\n",
    "- Use grid search, cross validation to compare different models. \n",
    "\n",
    "- Don't show all of your work here only mention if it is necessary to understand you work's results."
   ]
  },
  {
   "cell_type": "code",
   "execution_count": 1,
   "metadata": {},
   "outputs": [],
   "source": [
    "## here your code if necessary"
   ]
  },
  {
   "cell_type": "markdown",
   "metadata": {},
   "source": [
    "# Present Your Solution\n",
    "\n",
    "\n",
    "- What are your results? Why? \n",
    "\n",
    "- You must connect this part to the original business problem.\n",
    "\n",
    "- How certain are you of your results?\n",
    "\n",
    "- What are some limitations of your work?\n",
    "\n",
    "- Compared to others' work in this field, how is your result? Above expectations? Why? Below expectations? Why?\n",
    "\n"
   ]
  }
 ],
 "metadata": {
  "kernelspec": {
   "display_name": "Python 3",
   "language": "python",
   "name": "python3"
  },
  "language_info": {
   "codemirror_mode": {
    "name": "ipython",
    "version": 3
   },
   "file_extension": ".py",
   "mimetype": "text/x-python",
   "name": "python",
   "nbconvert_exporter": "python",
   "pygments_lexer": "ipython3",
   "version": "3.8.3"
  },
  "toc": {
   "base_numbering": 1,
   "nav_menu": {},
   "number_sections": true,
   "sideBar": true,
   "skip_h1_title": false,
   "title_cell": "Table of Contents",
   "title_sidebar": "Contents",
   "toc_cell": false,
   "toc_position": {},
   "toc_section_display": true,
   "toc_window_display": false
  }
 },
 "nbformat": 4,
 "nbformat_minor": 4
}
