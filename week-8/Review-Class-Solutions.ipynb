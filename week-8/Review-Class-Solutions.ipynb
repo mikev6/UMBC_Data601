{
 "cells": [
  {
   "cell_type": "markdown",
   "metadata": {},
   "source": [
    "# Review"
   ]
  },
  {
   "cell_type": "markdown",
   "metadata": {},
   "source": [
    "## [Dataset](https://archive.ics.uci.edu/ml/datasets/Breast+Cancer+Wisconsin+(Diagnostic))"
   ]
  },
  {
   "cell_type": "code",
   "execution_count": 1,
   "metadata": {},
   "outputs": [],
   "source": [
    "import pandas as pd"
   ]
  },
  {
   "cell_type": "code",
   "execution_count": 2,
   "metadata": {},
   "outputs": [],
   "source": [
    "df = pd.read_csv( 'https://archive.ics.uci.edu/ml/''machine-learning-databases''/breast-cancer-wisconsin/wdbc.data', header=None)"
   ]
  },
  {
   "cell_type": "code",
   "execution_count": 3,
   "metadata": {},
   "outputs": [],
   "source": [
    "# Let's check the dataframe"
   ]
  },
  {
   "cell_type": "code",
   "execution_count": 4,
   "metadata": {
    "scrolled": true
   },
   "outputs": [
    {
     "data": {
      "text/html": [
       "<div>\n",
       "<style scoped>\n",
       "    .dataframe tbody tr th:only-of-type {\n",
       "        vertical-align: middle;\n",
       "    }\n",
       "\n",
       "    .dataframe tbody tr th {\n",
       "        vertical-align: top;\n",
       "    }\n",
       "\n",
       "    .dataframe thead th {\n",
       "        text-align: right;\n",
       "    }\n",
       "</style>\n",
       "<table border=\"1\" class=\"dataframe\">\n",
       "  <thead>\n",
       "    <tr style=\"text-align: right;\">\n",
       "      <th></th>\n",
       "      <th>0</th>\n",
       "      <th>1</th>\n",
       "      <th>2</th>\n",
       "      <th>3</th>\n",
       "      <th>4</th>\n",
       "      <th>5</th>\n",
       "      <th>6</th>\n",
       "      <th>7</th>\n",
       "      <th>8</th>\n",
       "      <th>9</th>\n",
       "      <th>...</th>\n",
       "      <th>22</th>\n",
       "      <th>23</th>\n",
       "      <th>24</th>\n",
       "      <th>25</th>\n",
       "      <th>26</th>\n",
       "      <th>27</th>\n",
       "      <th>28</th>\n",
       "      <th>29</th>\n",
       "      <th>30</th>\n",
       "      <th>31</th>\n",
       "    </tr>\n",
       "  </thead>\n",
       "  <tbody>\n",
       "    <tr>\n",
       "      <th>0</th>\n",
       "      <td>842302</td>\n",
       "      <td>M</td>\n",
       "      <td>17.99</td>\n",
       "      <td>10.38</td>\n",
       "      <td>122.80</td>\n",
       "      <td>1001.0</td>\n",
       "      <td>0.11840</td>\n",
       "      <td>0.27760</td>\n",
       "      <td>0.3001</td>\n",
       "      <td>0.14710</td>\n",
       "      <td>...</td>\n",
       "      <td>25.38</td>\n",
       "      <td>17.33</td>\n",
       "      <td>184.60</td>\n",
       "      <td>2019.0</td>\n",
       "      <td>0.1622</td>\n",
       "      <td>0.6656</td>\n",
       "      <td>0.7119</td>\n",
       "      <td>0.2654</td>\n",
       "      <td>0.4601</td>\n",
       "      <td>0.11890</td>\n",
       "    </tr>\n",
       "    <tr>\n",
       "      <th>1</th>\n",
       "      <td>842517</td>\n",
       "      <td>M</td>\n",
       "      <td>20.57</td>\n",
       "      <td>17.77</td>\n",
       "      <td>132.90</td>\n",
       "      <td>1326.0</td>\n",
       "      <td>0.08474</td>\n",
       "      <td>0.07864</td>\n",
       "      <td>0.0869</td>\n",
       "      <td>0.07017</td>\n",
       "      <td>...</td>\n",
       "      <td>24.99</td>\n",
       "      <td>23.41</td>\n",
       "      <td>158.80</td>\n",
       "      <td>1956.0</td>\n",
       "      <td>0.1238</td>\n",
       "      <td>0.1866</td>\n",
       "      <td>0.2416</td>\n",
       "      <td>0.1860</td>\n",
       "      <td>0.2750</td>\n",
       "      <td>0.08902</td>\n",
       "    </tr>\n",
       "    <tr>\n",
       "      <th>2</th>\n",
       "      <td>84300903</td>\n",
       "      <td>M</td>\n",
       "      <td>19.69</td>\n",
       "      <td>21.25</td>\n",
       "      <td>130.00</td>\n",
       "      <td>1203.0</td>\n",
       "      <td>0.10960</td>\n",
       "      <td>0.15990</td>\n",
       "      <td>0.1974</td>\n",
       "      <td>0.12790</td>\n",
       "      <td>...</td>\n",
       "      <td>23.57</td>\n",
       "      <td>25.53</td>\n",
       "      <td>152.50</td>\n",
       "      <td>1709.0</td>\n",
       "      <td>0.1444</td>\n",
       "      <td>0.4245</td>\n",
       "      <td>0.4504</td>\n",
       "      <td>0.2430</td>\n",
       "      <td>0.3613</td>\n",
       "      <td>0.08758</td>\n",
       "    </tr>\n",
       "    <tr>\n",
       "      <th>3</th>\n",
       "      <td>84348301</td>\n",
       "      <td>M</td>\n",
       "      <td>11.42</td>\n",
       "      <td>20.38</td>\n",
       "      <td>77.58</td>\n",
       "      <td>386.1</td>\n",
       "      <td>0.14250</td>\n",
       "      <td>0.28390</td>\n",
       "      <td>0.2414</td>\n",
       "      <td>0.10520</td>\n",
       "      <td>...</td>\n",
       "      <td>14.91</td>\n",
       "      <td>26.50</td>\n",
       "      <td>98.87</td>\n",
       "      <td>567.7</td>\n",
       "      <td>0.2098</td>\n",
       "      <td>0.8663</td>\n",
       "      <td>0.6869</td>\n",
       "      <td>0.2575</td>\n",
       "      <td>0.6638</td>\n",
       "      <td>0.17300</td>\n",
       "    </tr>\n",
       "    <tr>\n",
       "      <th>4</th>\n",
       "      <td>84358402</td>\n",
       "      <td>M</td>\n",
       "      <td>20.29</td>\n",
       "      <td>14.34</td>\n",
       "      <td>135.10</td>\n",
       "      <td>1297.0</td>\n",
       "      <td>0.10030</td>\n",
       "      <td>0.13280</td>\n",
       "      <td>0.1980</td>\n",
       "      <td>0.10430</td>\n",
       "      <td>...</td>\n",
       "      <td>22.54</td>\n",
       "      <td>16.67</td>\n",
       "      <td>152.20</td>\n",
       "      <td>1575.0</td>\n",
       "      <td>0.1374</td>\n",
       "      <td>0.2050</td>\n",
       "      <td>0.4000</td>\n",
       "      <td>0.1625</td>\n",
       "      <td>0.2364</td>\n",
       "      <td>0.07678</td>\n",
       "    </tr>\n",
       "  </tbody>\n",
       "</table>\n",
       "<p>5 rows × 32 columns</p>\n",
       "</div>"
      ],
      "text/plain": [
       "         0  1      2      3       4       5        6        7       8   \\\n",
       "0    842302  M  17.99  10.38  122.80  1001.0  0.11840  0.27760  0.3001   \n",
       "1    842517  M  20.57  17.77  132.90  1326.0  0.08474  0.07864  0.0869   \n",
       "2  84300903  M  19.69  21.25  130.00  1203.0  0.10960  0.15990  0.1974   \n",
       "3  84348301  M  11.42  20.38   77.58   386.1  0.14250  0.28390  0.2414   \n",
       "4  84358402  M  20.29  14.34  135.10  1297.0  0.10030  0.13280  0.1980   \n",
       "\n",
       "        9   ...     22     23      24      25      26      27      28      29  \\\n",
       "0  0.14710  ...  25.38  17.33  184.60  2019.0  0.1622  0.6656  0.7119  0.2654   \n",
       "1  0.07017  ...  24.99  23.41  158.80  1956.0  0.1238  0.1866  0.2416  0.1860   \n",
       "2  0.12790  ...  23.57  25.53  152.50  1709.0  0.1444  0.4245  0.4504  0.2430   \n",
       "3  0.10520  ...  14.91  26.50   98.87   567.7  0.2098  0.8663  0.6869  0.2575   \n",
       "4  0.10430  ...  22.54  16.67  152.20  1575.0  0.1374  0.2050  0.4000  0.1625   \n",
       "\n",
       "       30       31  \n",
       "0  0.4601  0.11890  \n",
       "1  0.2750  0.08902  \n",
       "2  0.3613  0.08758  \n",
       "3  0.6638  0.17300  \n",
       "4  0.2364  0.07678  \n",
       "\n",
       "[5 rows x 32 columns]"
      ]
     },
     "execution_count": 4,
     "metadata": {},
     "output_type": "execute_result"
    }
   ],
   "source": [
    "df.head()"
   ]
  },
  {
   "cell_type": "code",
   "execution_count": 5,
   "metadata": {},
   "outputs": [],
   "source": [
    "# note that the target variable is the first column"
   ]
  },
  {
   "cell_type": "code",
   "execution_count": 6,
   "metadata": {},
   "outputs": [
    {
     "data": {
      "text/plain": [
       "B    357\n",
       "M    212\n",
       "Name: 1, dtype: int64"
      ]
     },
     "execution_count": 6,
     "metadata": {},
     "output_type": "execute_result"
    }
   ],
   "source": [
    "df.loc[:, 1].value_counts()"
   ]
  },
  {
   "cell_type": "markdown",
   "metadata": {},
   "source": [
    "__Problem__\n",
    "\n",
    "- For a given Patience data can we predict whether this mass is Beigning oir Malignent?\n",
    "\n",
    "__Goal__\n",
    "\n",
    "1. Creating a model 5% better than historical accuracy score\n",
    "\n",
    "or\n",
    "\n",
    "2. Creating a model with best recall score\n",
    "\n",
    "or\n",
    "\n",
    "3. Creating a model with best precision score"
   ]
  },
  {
   "cell_type": "code",
   "execution_count": 7,
   "metadata": {},
   "outputs": [
    {
     "data": {
      "text/plain": [
       "0.6274165202108963"
      ]
     },
     "execution_count": 7,
     "metadata": {},
     "output_type": "execute_result"
    }
   ],
   "source": [
    "## Dummy Model Accuracy Rate (Baseline)\n",
    "\n",
    "357/(357 + 212)"
   ]
  },
  {
   "cell_type": "code",
   "execution_count": 8,
   "metadata": {},
   "outputs": [],
   "source": [
    "# How many 'M''s and 'B''s?"
   ]
  },
  {
   "cell_type": "code",
   "execution_count": null,
   "metadata": {},
   "outputs": [],
   "source": []
  },
  {
   "cell_type": "code",
   "execution_count": 9,
   "metadata": {},
   "outputs": [
    {
     "name": "stdout",
     "output_type": "stream",
     "text": [
      "The ratio of B's is : 0.6274165202108963\n"
     ]
    }
   ],
   "source": [
    "# How is the ratio of 'B' and 'M'\n",
    "\n",
    "print(\"The ratio of B's is :\", 357/(357 + 212))"
   ]
  },
  {
   "cell_type": "code",
   "execution_count": null,
   "metadata": {},
   "outputs": [],
   "source": []
  },
  {
   "cell_type": "code",
   "execution_count": 10,
   "metadata": {},
   "outputs": [],
   "source": [
    "# Convert target variables into numerical data"
   ]
  },
  {
   "cell_type": "code",
   "execution_count": 11,
   "metadata": {},
   "outputs": [],
   "source": [
    "from sklearn.preprocessing import LabelEncoder"
   ]
  },
  {
   "cell_type": "markdown",
   "metadata": {},
   "source": [
    "Using sklearn modules allows us to __fit__ the transformations only on `training data` and only transform the `test_data`."
   ]
  },
  {
   "cell_type": "code",
   "execution_count": 12,
   "metadata": {},
   "outputs": [],
   "source": [
    "le = LabelEncoder()"
   ]
  },
  {
   "cell_type": "code",
   "execution_count": 13,
   "metadata": {},
   "outputs": [
    {
     "data": {
      "text/plain": [
       "LabelEncoder()"
      ]
     },
     "execution_count": 13,
     "metadata": {},
     "output_type": "execute_result"
    }
   ],
   "source": [
    "le.fit(df.loc[:, 1])"
   ]
  },
  {
   "cell_type": "code",
   "execution_count": 14,
   "metadata": {},
   "outputs": [],
   "source": [
    "y = le.transform(df.loc[:,1])"
   ]
  },
  {
   "cell_type": "code",
   "execution_count": 15,
   "metadata": {},
   "outputs": [],
   "source": [
    "X = df.loc[:, 2:]"
   ]
  },
  {
   "cell_type": "code",
   "execution_count": 16,
   "metadata": {},
   "outputs": [
    {
     "data": {
      "text/html": [
       "<div>\n",
       "<style scoped>\n",
       "    .dataframe tbody tr th:only-of-type {\n",
       "        vertical-align: middle;\n",
       "    }\n",
       "\n",
       "    .dataframe tbody tr th {\n",
       "        vertical-align: top;\n",
       "    }\n",
       "\n",
       "    .dataframe thead th {\n",
       "        text-align: right;\n",
       "    }\n",
       "</style>\n",
       "<table border=\"1\" class=\"dataframe\">\n",
       "  <thead>\n",
       "    <tr style=\"text-align: right;\">\n",
       "      <th></th>\n",
       "      <th>2</th>\n",
       "      <th>3</th>\n",
       "      <th>4</th>\n",
       "      <th>5</th>\n",
       "      <th>6</th>\n",
       "      <th>7</th>\n",
       "      <th>8</th>\n",
       "      <th>9</th>\n",
       "      <th>10</th>\n",
       "      <th>11</th>\n",
       "      <th>...</th>\n",
       "      <th>22</th>\n",
       "      <th>23</th>\n",
       "      <th>24</th>\n",
       "      <th>25</th>\n",
       "      <th>26</th>\n",
       "      <th>27</th>\n",
       "      <th>28</th>\n",
       "      <th>29</th>\n",
       "      <th>30</th>\n",
       "      <th>31</th>\n",
       "    </tr>\n",
       "  </thead>\n",
       "  <tbody>\n",
       "    <tr>\n",
       "      <th>0</th>\n",
       "      <td>17.99</td>\n",
       "      <td>10.38</td>\n",
       "      <td>122.8</td>\n",
       "      <td>1001.0</td>\n",
       "      <td>0.11840</td>\n",
       "      <td>0.27760</td>\n",
       "      <td>0.3001</td>\n",
       "      <td>0.14710</td>\n",
       "      <td>0.2419</td>\n",
       "      <td>0.07871</td>\n",
       "      <td>...</td>\n",
       "      <td>25.38</td>\n",
       "      <td>17.33</td>\n",
       "      <td>184.6</td>\n",
       "      <td>2019.0</td>\n",
       "      <td>0.1622</td>\n",
       "      <td>0.6656</td>\n",
       "      <td>0.7119</td>\n",
       "      <td>0.2654</td>\n",
       "      <td>0.4601</td>\n",
       "      <td>0.11890</td>\n",
       "    </tr>\n",
       "    <tr>\n",
       "      <th>1</th>\n",
       "      <td>20.57</td>\n",
       "      <td>17.77</td>\n",
       "      <td>132.9</td>\n",
       "      <td>1326.0</td>\n",
       "      <td>0.08474</td>\n",
       "      <td>0.07864</td>\n",
       "      <td>0.0869</td>\n",
       "      <td>0.07017</td>\n",
       "      <td>0.1812</td>\n",
       "      <td>0.05667</td>\n",
       "      <td>...</td>\n",
       "      <td>24.99</td>\n",
       "      <td>23.41</td>\n",
       "      <td>158.8</td>\n",
       "      <td>1956.0</td>\n",
       "      <td>0.1238</td>\n",
       "      <td>0.1866</td>\n",
       "      <td>0.2416</td>\n",
       "      <td>0.1860</td>\n",
       "      <td>0.2750</td>\n",
       "      <td>0.08902</td>\n",
       "    </tr>\n",
       "  </tbody>\n",
       "</table>\n",
       "<p>2 rows × 30 columns</p>\n",
       "</div>"
      ],
      "text/plain": [
       "      2      3      4       5        6        7       8        9       10  \\\n",
       "0  17.99  10.38  122.8  1001.0  0.11840  0.27760  0.3001  0.14710  0.2419   \n",
       "1  20.57  17.77  132.9  1326.0  0.08474  0.07864  0.0869  0.07017  0.1812   \n",
       "\n",
       "        11  ...     22     23     24      25      26      27      28      29  \\\n",
       "0  0.07871  ...  25.38  17.33  184.6  2019.0  0.1622  0.6656  0.7119  0.2654   \n",
       "1  0.05667  ...  24.99  23.41  158.8  1956.0  0.1238  0.1866  0.2416  0.1860   \n",
       "\n",
       "       30       31  \n",
       "0  0.4601  0.11890  \n",
       "1  0.2750  0.08902  \n",
       "\n",
       "[2 rows x 30 columns]"
      ]
     },
     "execution_count": 16,
     "metadata": {},
     "output_type": "execute_result"
    }
   ],
   "source": [
    "X.head(2)"
   ]
  },
  {
   "cell_type": "code",
   "execution_count": 17,
   "metadata": {},
   "outputs": [],
   "source": [
    "# Missing Values?"
   ]
  },
  {
   "cell_type": "code",
   "execution_count": 18,
   "metadata": {},
   "outputs": [
    {
     "name": "stdout",
     "output_type": "stream",
     "text": [
      "<class 'pandas.core.frame.DataFrame'>\n",
      "RangeIndex: 569 entries, 0 to 568\n",
      "Data columns (total 32 columns):\n",
      " #   Column  Non-Null Count  Dtype  \n",
      "---  ------  --------------  -----  \n",
      " 0   0       569 non-null    int64  \n",
      " 1   1       569 non-null    object \n",
      " 2   2       569 non-null    float64\n",
      " 3   3       569 non-null    float64\n",
      " 4   4       569 non-null    float64\n",
      " 5   5       569 non-null    float64\n",
      " 6   6       569 non-null    float64\n",
      " 7   7       569 non-null    float64\n",
      " 8   8       569 non-null    float64\n",
      " 9   9       569 non-null    float64\n",
      " 10  10      569 non-null    float64\n",
      " 11  11      569 non-null    float64\n",
      " 12  12      569 non-null    float64\n",
      " 13  13      569 non-null    float64\n",
      " 14  14      569 non-null    float64\n",
      " 15  15      569 non-null    float64\n",
      " 16  16      569 non-null    float64\n",
      " 17  17      569 non-null    float64\n",
      " 18  18      569 non-null    float64\n",
      " 19  19      569 non-null    float64\n",
      " 20  20      569 non-null    float64\n",
      " 21  21      569 non-null    float64\n",
      " 22  22      569 non-null    float64\n",
      " 23  23      569 non-null    float64\n",
      " 24  24      569 non-null    float64\n",
      " 25  25      569 non-null    float64\n",
      " 26  26      569 non-null    float64\n",
      " 27  27      569 non-null    float64\n",
      " 28  28      569 non-null    float64\n",
      " 29  29      569 non-null    float64\n",
      " 30  30      569 non-null    float64\n",
      " 31  31      569 non-null    float64\n",
      "dtypes: float64(30), int64(1), object(1)\n",
      "memory usage: 142.4+ KB\n"
     ]
    }
   ],
   "source": [
    "df.info()"
   ]
  },
  {
   "cell_type": "markdown",
   "metadata": {},
   "source": [
    "## EDA"
   ]
  },
  {
   "cell_type": "markdown",
   "metadata": {},
   "source": [
    "## Data Cleaning"
   ]
  },
  {
   "cell_type": "markdown",
   "metadata": {},
   "source": [
    "## Data Preparation"
   ]
  },
  {
   "cell_type": "markdown",
   "metadata": {},
   "source": [
    "__Splitting Data__"
   ]
  },
  {
   "cell_type": "code",
   "execution_count": 19,
   "metadata": {},
   "outputs": [],
   "source": [
    "## use train-test split\n",
    "from sklearn.model_selection import train_test_split"
   ]
  },
  {
   "cell_type": "code",
   "execution_count": 20,
   "metadata": {},
   "outputs": [],
   "source": [
    "X_train, X_test, y_train, y_test = train_test_split(X, y, test_size = 0.2, random_state = 101320202, stratify = y )"
   ]
  },
  {
   "cell_type": "code",
   "execution_count": 21,
   "metadata": {},
   "outputs": [
    {
     "data": {
      "text/plain": [
       "(455, 30)"
      ]
     },
     "execution_count": 21,
     "metadata": {},
     "output_type": "execute_result"
    }
   ],
   "source": [
    "X_train.shape"
   ]
  },
  {
   "cell_type": "code",
   "execution_count": 22,
   "metadata": {},
   "outputs": [
    {
     "data": {
      "text/plain": [
       "(114, 30)"
      ]
     },
     "execution_count": 22,
     "metadata": {},
     "output_type": "execute_result"
    }
   ],
   "source": [
    "X_test.shape"
   ]
  },
  {
   "cell_type": "code",
   "execution_count": 23,
   "metadata": {},
   "outputs": [],
   "source": [
    "import numpy as np"
   ]
  },
  {
   "cell_type": "code",
   "execution_count": 24,
   "metadata": {},
   "outputs": [
    {
     "data": {
      "text/plain": [
       "(array([0, 1]), array([285, 170]))"
      ]
     },
     "execution_count": 24,
     "metadata": {},
     "output_type": "execute_result"
    }
   ],
   "source": [
    "np.unique(y_train, return_counts= True)"
   ]
  },
  {
   "cell_type": "markdown",
   "metadata": {},
   "source": [
    "__Data Leakage Example__"
   ]
  },
  {
   "cell_type": "code",
   "execution_count": 25,
   "metadata": {},
   "outputs": [],
   "source": [
    "data = np.array([1, 5, 2, 3, 8])"
   ]
  },
  {
   "cell_type": "code",
   "execution_count": 26,
   "metadata": {},
   "outputs": [],
   "source": [
    "mean = data.mean()"
   ]
  },
  {
   "cell_type": "code",
   "execution_count": 27,
   "metadata": {},
   "outputs": [],
   "source": [
    "std = data.std()"
   ]
  },
  {
   "cell_type": "code",
   "execution_count": 28,
   "metadata": {},
   "outputs": [],
   "source": [
    "scaled_data = (data - mean)/std"
   ]
  },
  {
   "cell_type": "code",
   "execution_count": 29,
   "metadata": {},
   "outputs": [
    {
     "data": {
      "text/plain": [
       "array([-1.12815215,  0.48349378, -0.72524067, -0.32232919,  1.69222822])"
      ]
     },
     "execution_count": 29,
     "metadata": {},
     "output_type": "execute_result"
    }
   ],
   "source": [
    "scaled_data"
   ]
  },
  {
   "cell_type": "markdown",
   "metadata": {},
   "source": [
    "__Correct Way of Scaling Data__"
   ]
  },
  {
   "cell_type": "code",
   "execution_count": 30,
   "metadata": {},
   "outputs": [],
   "source": [
    "data_train = np.array([1,2,3])\n",
    "\n",
    "\n",
    "## future data \n",
    "data_test = np.array([5, 8])"
   ]
  },
  {
   "cell_type": "code",
   "execution_count": 31,
   "metadata": {},
   "outputs": [],
   "source": [
    "training_mean = data_train.mean()\n",
    "training_std = data_train.std()\n",
    "\n",
    "training_scaled = (data_train -  training_mean)/training_std"
   ]
  },
  {
   "cell_type": "code",
   "execution_count": 32,
   "metadata": {},
   "outputs": [
    {
     "data": {
      "text/plain": [
       "array([-1.22474487,  0.        ,  1.22474487])"
      ]
     },
     "execution_count": 32,
     "metadata": {},
     "output_type": "execute_result"
    }
   ],
   "source": [
    "training_scaled"
   ]
  },
  {
   "cell_type": "code",
   "execution_count": 33,
   "metadata": {},
   "outputs": [],
   "source": [
    "test_scaled = (data_test - training_mean)/training_std"
   ]
  },
  {
   "cell_type": "code",
   "execution_count": 34,
   "metadata": {},
   "outputs": [
    {
     "data": {
      "text/plain": [
       "array([3.67423461, 7.34846923])"
      ]
     },
     "execution_count": 34,
     "metadata": {},
     "output_type": "execute_result"
    }
   ],
   "source": [
    "test_scaled"
   ]
  },
  {
   "cell_type": "markdown",
   "metadata": {},
   "source": [
    "__Scaling data__"
   ]
  },
  {
   "cell_type": "code",
   "execution_count": 35,
   "metadata": {},
   "outputs": [],
   "source": [
    "## Standard scale data"
   ]
  },
  {
   "cell_type": "code",
   "execution_count": 36,
   "metadata": {},
   "outputs": [],
   "source": [
    "from sklearn.preprocessing import StandardScaler\n",
    "\n",
    "std_scaler = StandardScaler()"
   ]
  },
  {
   "cell_type": "code",
   "execution_count": 37,
   "metadata": {},
   "outputs": [],
   "source": [
    "std_scaler.fit(X_train) ## training_mean and std calculated\n",
    "X_train_scaled = std_scaler.transform(X_train) ## only use training mean and std\n",
    "\n",
    "\n",
    "## Never fit onto Test data!! Only Transform\n",
    "X_test_scaled  = std_scaler.transform(X_test)"
   ]
  },
  {
   "cell_type": "code",
   "execution_count": 38,
   "metadata": {},
   "outputs": [
    {
     "data": {
      "text/plain": [
       "array([[-1.53322162, -0.85311122, -1.48855726, ..., -0.15356378,\n",
       "         0.0437359 ,  0.97434563],\n",
       "       [ 0.75027919,  0.46905174,  0.77505065, ...,  1.4163528 ,\n",
       "         1.21081687,  0.63365117],\n",
       "       [ 3.85392681,  1.63398452,  3.98907295, ...,  2.21257843,\n",
       "        -0.44042433, -0.56777468],\n",
       "       ...,\n",
       "       [-0.28715177, -0.02407931, -0.3697097 , ..., -1.56408499,\n",
       "        -0.78358351, -1.20756064],\n",
       "       [-0.66466137, -1.28430311, -0.71953242, ..., -0.48557484,\n",
       "         0.34102727, -0.98324201],\n",
       "       [ 2.29489862,  0.59293008,  2.32981827, ...,  1.92263211,\n",
       "        -0.27054355,  0.07707111]])"
      ]
     },
     "execution_count": 38,
     "metadata": {},
     "output_type": "execute_result"
    }
   ],
   "source": [
    "X_train_scaled"
   ]
  },
  {
   "cell_type": "markdown",
   "metadata": {},
   "source": [
    "__Creating New Features__"
   ]
  },
  {
   "cell_type": "code",
   "execution_count": 39,
   "metadata": {},
   "outputs": [],
   "source": [
    "from sklearn.preprocessing import PolynomialFeatures"
   ]
  },
  {
   "cell_type": "code",
   "execution_count": 40,
   "metadata": {},
   "outputs": [],
   "source": [
    "poly_features = PolynomialFeatures(degree= 2, interaction_only= True)"
   ]
  },
  {
   "cell_type": "code",
   "execution_count": 41,
   "metadata": {},
   "outputs": [
    {
     "data": {
      "text/plain": [
       "PolynomialFeatures(interaction_only=True)"
      ]
     },
     "execution_count": 41,
     "metadata": {},
     "output_type": "execute_result"
    }
   ],
   "source": [
    "poly_features.fit(X_train_scaled)\n"
   ]
  },
  {
   "cell_type": "code",
   "execution_count": 42,
   "metadata": {},
   "outputs": [],
   "source": [
    "poly_trained_scaled = poly_features.transform(X_train_scaled)"
   ]
  },
  {
   "cell_type": "code",
   "execution_count": 43,
   "metadata": {},
   "outputs": [
    {
     "data": {
      "text/plain": [
       "(455, 466)"
      ]
     },
     "execution_count": 43,
     "metadata": {},
     "output_type": "execute_result"
    }
   ],
   "source": [
    "poly_trained_scaled.shape"
   ]
  },
  {
   "cell_type": "code",
   "execution_count": 44,
   "metadata": {},
   "outputs": [],
   "source": [
    "poly_test_scaled = poly_features.transform(X_test_scaled)"
   ]
  },
  {
   "cell_type": "code",
   "execution_count": 45,
   "metadata": {},
   "outputs": [
    {
     "data": {
      "text/plain": [
       "(114, 466)"
      ]
     },
     "execution_count": 45,
     "metadata": {},
     "output_type": "execute_result"
    }
   ],
   "source": [
    "poly_test_scaled.shape"
   ]
  },
  {
   "cell_type": "markdown",
   "metadata": {},
   "source": [
    "## Modeling"
   ]
  },
  {
   "cell_type": "markdown",
   "metadata": {},
   "source": [
    "### Logistic Regression"
   ]
  },
  {
   "cell_type": "markdown",
   "metadata": {},
   "source": [
    "__With No regularization__ (Vanilla Log Reg)"
   ]
  },
  {
   "cell_type": "code",
   "execution_count": 46,
   "metadata": {},
   "outputs": [],
   "source": [
    "## import Logistic regression"
   ]
  },
  {
   "cell_type": "code",
   "execution_count": 47,
   "metadata": {},
   "outputs": [],
   "source": [
    "from sklearn.linear_model import LogisticRegression"
   ]
  },
  {
   "cell_type": "code",
   "execution_count": 48,
   "metadata": {},
   "outputs": [],
   "source": [
    "## instantiate LR with no penalty"
   ]
  },
  {
   "cell_type": "code",
   "execution_count": 49,
   "metadata": {},
   "outputs": [],
   "source": [
    "lr = LogisticRegression(penalty = 'none')"
   ]
  },
  {
   "cell_type": "code",
   "execution_count": 50,
   "metadata": {},
   "outputs": [],
   "source": [
    "## fit model"
   ]
  },
  {
   "cell_type": "code",
   "execution_count": 51,
   "metadata": {},
   "outputs": [
    {
     "data": {
      "text/plain": [
       "LogisticRegression(penalty='none')"
      ]
     },
     "execution_count": 51,
     "metadata": {},
     "output_type": "execute_result"
    }
   ],
   "source": [
    "lr.fit(X_train_scaled, y_train) ## learned the coefficients"
   ]
  },
  {
   "cell_type": "code",
   "execution_count": 52,
   "metadata": {},
   "outputs": [],
   "source": [
    "y_pred = lr.predict(X_train_scaled)"
   ]
  },
  {
   "cell_type": "code",
   "execution_count": 53,
   "metadata": {},
   "outputs": [
    {
     "data": {
      "text/plain": [
       "1.0"
      ]
     },
     "execution_count": 53,
     "metadata": {},
     "output_type": "execute_result"
    }
   ],
   "source": [
    "score = lr.score(X_train_scaled, y_train)\n",
    "score ## accuracy"
   ]
  },
  {
   "cell_type": "code",
   "execution_count": 54,
   "metadata": {},
   "outputs": [],
   "source": [
    "## from sklearn.metrics import confusion_matrix"
   ]
  },
  {
   "cell_type": "code",
   "execution_count": 55,
   "metadata": {},
   "outputs": [],
   "source": [
    "from sklearn.metrics import confusion_matrix"
   ]
  },
  {
   "cell_type": "code",
   "execution_count": 56,
   "metadata": {},
   "outputs": [],
   "source": [
    "## create a confusion matrix"
   ]
  },
  {
   "cell_type": "code",
   "execution_count": 57,
   "metadata": {},
   "outputs": [
    {
     "data": {
      "text/plain": [
       "array([[285,   0],\n",
       "       [  0, 170]])"
      ]
     },
     "execution_count": 57,
     "metadata": {},
     "output_type": "execute_result"
    }
   ],
   "source": [
    "cm = confusion_matrix(y_train, y_pred)\n",
    "cm"
   ]
  },
  {
   "cell_type": "code",
   "execution_count": 58,
   "metadata": {},
   "outputs": [],
   "source": [
    "## visualize confusion matrix with utils.py plot_confusion_matrix"
   ]
  },
  {
   "cell_type": "code",
   "execution_count": 59,
   "metadata": {},
   "outputs": [],
   "source": [
    "import utils"
   ]
  },
  {
   "cell_type": "code",
   "execution_count": 60,
   "metadata": {},
   "outputs": [
    {
     "data": {
      "image/png": "[encoded data removed]",
      "text/plain": [
       "<Figure size 648x648 with 2 Axes>"
      ]
     },
     "metadata": {
      "needs_background": "light"
     },
     "output_type": "display_data"
    }
   ],
   "source": [
    "utils.plot_confusion_matrix(cm,score )"
   ]
  },
  {
   "cell_type": "code",
   "execution_count": 61,
   "metadata": {},
   "outputs": [
    {
     "data": {
      "text/plain": [
       "0.956140350877193"
      ]
     },
     "execution_count": 61,
     "metadata": {},
     "output_type": "execute_result"
    }
   ],
   "source": [
    "lr.score(X_test_scaled, y_test)"
   ]
  },
  {
   "cell_type": "markdown",
   "metadata": {},
   "source": [
    "__Validation__"
   ]
  },
  {
   "cell_type": "code",
   "execution_count": 62,
   "metadata": {},
   "outputs": [],
   "source": [
    "## import -- from sklearn.model_selection import cross_validate"
   ]
  },
  {
   "cell_type": "code",
   "execution_count": 63,
   "metadata": {},
   "outputs": [],
   "source": [
    "from sklearn.model_selection import cross_validate"
   ]
  },
  {
   "cell_type": "code",
   "execution_count": 64,
   "metadata": {},
   "outputs": [],
   "source": [
    "## call cross-validate with return_train_score, return estimator, cv =5"
   ]
  },
  {
   "cell_type": "code",
   "execution_count": 65,
   "metadata": {},
   "outputs": [],
   "source": [
    "lr = LogisticRegression(penalty = 'none')"
   ]
  },
  {
   "cell_type": "code",
   "execution_count": 66,
   "metadata": {},
   "outputs": [
    {
     "name": "stderr",
     "output_type": "stream",
     "text": [
      "[Parallel(n_jobs=-1)]: Using backend LokyBackend with 12 concurrent workers.\n",
      "[Parallel(n_jobs=-1)]: Done   3 out of   5 | elapsed:    1.1s remaining:    0.7s\n",
      "[Parallel(n_jobs=-1)]: Done   5 out of   5 | elapsed:    1.1s finished\n"
     ]
    }
   ],
   "source": [
    "cv_fivefold = cross_validate(estimator= lr, \n",
    "                             X = X_train_scaled,\n",
    "                             y = y_train,\n",
    "                             cv = 5,\n",
    "                             n_jobs= -1, \n",
    "                             return_train_score= True, \n",
    "                             return_estimator= True, verbose = 2)"
   ]
  },
  {
   "cell_type": "code",
   "execution_count": 67,
   "metadata": {},
   "outputs": [],
   "source": [
    "## investigate cv results"
   ]
  },
  {
   "cell_type": "code",
   "execution_count": 68,
   "metadata": {},
   "outputs": [
    {
     "data": {
      "text/plain": [
       "array([0.98901099, 0.95604396, 0.97802198, 0.97802198, 0.92307692])"
      ]
     },
     "execution_count": 68,
     "metadata": {},
     "output_type": "execute_result"
    }
   ],
   "source": [
    "cv_fivefold['test_score']"
   ]
  },
  {
   "cell_type": "code",
   "execution_count": 69,
   "metadata": {},
   "outputs": [],
   "source": [
    "validation_mean = cv_fivefold['test_score'].mean()\n",
    "\n",
    "validation_std = cv_fivefold['test_score'].std()"
   ]
  },
  {
   "cell_type": "code",
   "execution_count": 70,
   "metadata": {},
   "outputs": [],
   "source": [
    "## Print results and keep them somewhere"
   ]
  },
  {
   "cell_type": "code",
   "execution_count": 71,
   "metadata": {},
   "outputs": [
    {
     "name": "stdout",
     "output_type": "stream",
     "text": [
      "Vanilla Regression 5-fold cv results (Accuracy) 0.965 =/- 0.023\n"
     ]
    }
   ],
   "source": [
    "print('Vanilla Regression 5-fold cv results (Accuracy) %.3f =/- %.3f'%(validation_mean, validation_std))"
   ]
  },
  {
   "cell_type": "code",
   "execution_count": 72,
   "metadata": {},
   "outputs": [],
   "source": [
    "## note that we could use other scoring options in cross_validate"
   ]
  },
  {
   "cell_type": "markdown",
   "metadata": {},
   "source": [
    "[Cross_validate - Scoring](https://scikit-learn.org/stable/modules/generated/sklearn.model_selection.cross_validate.html#sklearn.model_selection.cross_validate)"
   ]
  },
  {
   "cell_type": "code",
   "execution_count": 73,
   "metadata": {},
   "outputs": [
    {
     "name": "stdout",
     "output_type": "stream",
     "text": [
      "[CV]  ................................................................\n",
      "[CV] ................................................. , total=   0.0s\n",
      "[CV]  ................................................................\n",
      "[CV] ................................................. , total=   0.0s\n",
      "[CV]  ................................................................\n",
      "[CV] ................................................. , total=   0.0s\n",
      "[CV]  ................................................................\n",
      "[CV] ................................................. , total=   0.0s\n",
      "[CV]  ................................................................\n",
      "[CV] ................................................. , total=   0.0s\n"
     ]
    },
    {
     "name": "stderr",
     "output_type": "stream",
     "text": [
      "[Parallel(n_jobs=1)]: Using backend SequentialBackend with 1 concurrent workers.\n",
      "[Parallel(n_jobs=1)]: Done   1 out of   1 | elapsed:    0.0s remaining:    0.0s\n",
      "[Parallel(n_jobs=1)]: Done   5 out of   5 | elapsed:    0.1s finished\n"
     ]
    }
   ],
   "source": [
    "cv_fivefold = cross_validate(estimator= lr, \n",
    "                             X = X_train_scaled,\n",
    "                             y = y_train,\n",
    "                             cv = 5,\n",
    "                             scoring = 'recall',\n",
    "                             return_train_score= True, \n",
    "                             return_estimator= True, verbose = 2)"
   ]
  },
  {
   "cell_type": "code",
   "execution_count": 74,
   "metadata": {},
   "outputs": [
    {
     "data": {
      "text/plain": [
       "array([0.97058824, 0.91176471, 0.94117647, 0.94117647, 0.97058824])"
      ]
     },
     "execution_count": 74,
     "metadata": {},
     "output_type": "execute_result"
    }
   ],
   "source": [
    "cv_fivefold['test_score'] ## recall scores"
   ]
  },
  {
   "cell_type": "code",
   "execution_count": 75,
   "metadata": {},
   "outputs": [],
   "source": [
    "## note that sklearn has many other metric you can use"
   ]
  },
  {
   "cell_type": "code",
   "execution_count": 76,
   "metadata": {},
   "outputs": [],
   "source": [
    "## from sklearn.metrics import recall_score, precision_score, roc_auc_score"
   ]
  },
  {
   "cell_type": "code",
   "execution_count": null,
   "metadata": {},
   "outputs": [],
   "source": []
  },
  {
   "cell_type": "markdown",
   "metadata": {},
   "source": [
    "### Logistic Regression with Regularization"
   ]
  },
  {
   "cell_type": "code",
   "execution_count": 77,
   "metadata": {},
   "outputs": [],
   "source": [
    "## check the Logistic regression module again"
   ]
  },
  {
   "cell_type": "code",
   "execution_count": 78,
   "metadata": {},
   "outputs": [],
   "source": [
    "from sklearn.linear_model import LogisticRegression"
   ]
  },
  {
   "cell_type": "code",
   "execution_count": 79,
   "metadata": {},
   "outputs": [],
   "source": [
    "lr = LogisticRegression(penalty = 'l2', C = 1, solver = 'saga', max_iter= 1000)"
   ]
  },
  {
   "cell_type": "markdown",
   "metadata": {},
   "source": [
    "__With regularization scaling is necessary__"
   ]
  },
  {
   "cell_type": "code",
   "execution_count": 80,
   "metadata": {},
   "outputs": [
    {
     "data": {
      "text/plain": [
       "LogisticRegression(C=1, max_iter=1000, solver='saga')"
      ]
     },
     "execution_count": 80,
     "metadata": {},
     "output_type": "execute_result"
    }
   ],
   "source": [
    "lr.fit(X_train_scaled, y_train)"
   ]
  },
  {
   "cell_type": "code",
   "execution_count": 81,
   "metadata": {},
   "outputs": [],
   "source": [
    "y_pred = lr.predict(X_train_scaled)"
   ]
  },
  {
   "cell_type": "code",
   "execution_count": 82,
   "metadata": {},
   "outputs": [
    {
     "data": {
      "text/plain": [
       "array([[284,   1],\n",
       "       [  4, 166]])"
      ]
     },
     "execution_count": 82,
     "metadata": {},
     "output_type": "execute_result"
    }
   ],
   "source": [
    "confusion_matrix(y_train, y_pred)"
   ]
  },
  {
   "cell_type": "code",
   "execution_count": 83,
   "metadata": {},
   "outputs": [
    {
     "name": "stderr",
     "output_type": "stream",
     "text": [
      "[Parallel(n_jobs=1)]: Using backend SequentialBackend with 1 concurrent workers.\n"
     ]
    },
    {
     "name": "stdout",
     "output_type": "stream",
     "text": [
      "[CV]  ................................................................\n"
     ]
    },
    {
     "name": "stderr",
     "output_type": "stream",
     "text": [
      "[Parallel(n_jobs=1)]: Done   1 out of   1 | elapsed:    0.1s remaining:    0.0s\n"
     ]
    },
    {
     "name": "stdout",
     "output_type": "stream",
     "text": [
      "[CV] ................................................. , total=   0.1s\n",
      "[CV]  ................................................................\n",
      "[CV] ................................................. , total=   0.1s\n",
      "[CV]  ................................................................\n",
      "[CV] ................................................. , total=   0.1s\n",
      "[CV]  ................................................................\n",
      "[CV] ................................................. , total=   0.1s\n",
      "[CV]  ................................................................\n",
      "[CV] ................................................. , total=   0.1s\n"
     ]
    },
    {
     "name": "stderr",
     "output_type": "stream",
     "text": [
      "[Parallel(n_jobs=1)]: Done   5 out of   5 | elapsed:    0.3s finished\n"
     ]
    }
   ],
   "source": [
    "cv_fivefold = cross_validate(estimator= lr, \n",
    "                             X = X_train_scaled,\n",
    "                             y = y_train,\n",
    "                             cv = 5,\n",
    "                             return_train_score= True, \n",
    "                             return_estimator= True, verbose = 2)"
   ]
  },
  {
   "cell_type": "code",
   "execution_count": 84,
   "metadata": {},
   "outputs": [
    {
     "name": "stdout",
     "output_type": "stream",
     "text": [
      "Vanilla Regression 5-fold cv results (Accuracy) 0.967 =/- 0.018\n"
     ]
    }
   ],
   "source": [
    "validation_mean = cv_fivefold['test_score'].mean()\n",
    "\n",
    "validation_std = cv_fivefold['test_score'].std()\n",
    "\n",
    "print('Vanilla Regression 5-fold cv results (Accuracy) %.3f =/- %.3f'%(validation_mean, validation_std))"
   ]
  },
  {
   "cell_type": "markdown",
   "metadata": {},
   "source": [
    "__Grid Search Validation__"
   ]
  },
  {
   "cell_type": "code",
   "execution_count": 85,
   "metadata": {},
   "outputs": [],
   "source": [
    "## import GridSerachCV from sklearn.model_selection"
   ]
  },
  {
   "cell_type": "code",
   "execution_count": 86,
   "metadata": {},
   "outputs": [],
   "source": [
    "from sklearn.model_selection import GridSearchCV"
   ]
  },
  {
   "cell_type": "code",
   "execution_count": 87,
   "metadata": {},
   "outputs": [],
   "source": [
    "## prepare a grid with 'C' and 'penalty'"
   ]
  },
  {
   "cell_type": "code",
   "execution_count": 88,
   "metadata": {},
   "outputs": [],
   "source": [
    "grid = {'C': [0.01, 0.1, 1, 10, 100], 'penalty': ['l1', 'l2']}"
   ]
  },
  {
   "cell_type": "code",
   "execution_count": 89,
   "metadata": {},
   "outputs": [],
   "source": [
    "lr = LogisticRegression(solver = 'saga', max_iter= 10000)"
   ]
  },
  {
   "cell_type": "code",
   "execution_count": 90,
   "metadata": {},
   "outputs": [],
   "source": [
    "## instantiate the gridsearch"
   ]
  },
  {
   "cell_type": "code",
   "execution_count": 91,
   "metadata": {},
   "outputs": [],
   "source": [
    "grid_search_cv = GridSearchCV(estimator = lr, param_grid= grid, cv =5, return_train_score= True, verbose= 2)"
   ]
  },
  {
   "cell_type": "code",
   "execution_count": 92,
   "metadata": {},
   "outputs": [],
   "source": [
    "## fit grid search"
   ]
  },
  {
   "cell_type": "code",
   "execution_count": 93,
   "metadata": {},
   "outputs": [
    {
     "name": "stdout",
     "output_type": "stream",
     "text": [
      "Fitting 5 folds for each of 10 candidates, totalling 50 fits\n",
      "[CV] C=0.01, penalty=l1 ..............................................\n",
      "[CV] ............................... C=0.01, penalty=l1, total=   0.0s\n",
      "[CV] C=0.01, penalty=l1 ..............................................\n",
      "[CV] ............................... C=0.01, penalty=l1, total=   0.0s\n",
      "[CV] C=0.01, penalty=l1 ..............................................\n",
      "[CV] ............................... C=0.01, penalty=l1, total=   0.0s\n",
      "[CV] C=0.01, penalty=l1 ..............................................\n",
      "[CV] ............................... C=0.01, penalty=l1, total=   0.0s\n",
      "[CV] C=0.01, penalty=l1 ..............................................\n",
      "[CV] ............................... C=0.01, penalty=l1, total=   0.0s\n",
      "[CV] C=0.01, penalty=l2 ..............................................\n",
      "[CV] ............................... C=0.01, penalty=l2, total=   0.0s\n",
      "[CV] C=0.01, penalty=l2 ..............................................\n",
      "[CV] ............................... C=0.01, penalty=l2, total=   0.0s\n",
      "[CV] C=0.01, penalty=l2 ..............................................\n"
     ]
    },
    {
     "name": "stderr",
     "output_type": "stream",
     "text": [
      "[Parallel(n_jobs=1)]: Using backend SequentialBackend with 1 concurrent workers.\n",
      "[Parallel(n_jobs=1)]: Done   1 out of   1 | elapsed:    0.0s remaining:    0.0s\n"
     ]
    },
    {
     "name": "stdout",
     "output_type": "stream",
     "text": [
      "[CV] ............................... C=0.01, penalty=l2, total=   0.0s\n",
      "[CV] C=0.01, penalty=l2 ..............................................\n",
      "[CV] ............................... C=0.01, penalty=l2, total=   0.0s\n",
      "[CV] C=0.01, penalty=l2 ..............................................\n",
      "[CV] ............................... C=0.01, penalty=l2, total=   0.0s\n",
      "[CV] C=0.1, penalty=l1 ...............................................\n",
      "[CV] ................................ C=0.1, penalty=l1, total=   0.2s\n",
      "[CV] C=0.1, penalty=l1 ...............................................\n",
      "[CV] ................................ C=0.1, penalty=l1, total=   0.1s\n",
      "[CV] C=0.1, penalty=l1 ...............................................\n",
      "[CV] ................................ C=0.1, penalty=l1, total=   0.3s\n",
      "[CV] C=0.1, penalty=l1 ...............................................\n",
      "[CV] ................................ C=0.1, penalty=l1, total=   0.3s\n",
      "[CV] C=0.1, penalty=l1 ...............................................\n",
      "[CV] ................................ C=0.1, penalty=l1, total=   0.1s\n",
      "[CV] C=0.1, penalty=l2 ...............................................\n",
      "[CV] ................................ C=0.1, penalty=l2, total=   0.0s\n",
      "[CV] C=0.1, penalty=l2 ...............................................\n",
      "[CV] ................................ C=0.1, penalty=l2, total=   0.0s\n",
      "[CV] C=0.1, penalty=l2 ...............................................\n",
      "[CV] ................................ C=0.1, penalty=l2, total=   0.0s\n",
      "[CV] C=0.1, penalty=l2 ...............................................\n",
      "[CV] ................................ C=0.1, penalty=l2, total=   0.0s\n",
      "[CV] C=0.1, penalty=l2 ...............................................\n",
      "[CV] ................................ C=0.1, penalty=l2, total=   0.0s\n",
      "[CV] C=1, penalty=l1 .................................................\n",
      "[CV] .................................. C=1, penalty=l1, total=   0.2s\n",
      "[CV] C=1, penalty=l1 .................................................\n",
      "[CV] .................................. C=1, penalty=l1, total=   0.4s\n",
      "[CV] C=1, penalty=l1 .................................................\n",
      "[CV] .................................. C=1, penalty=l1, total=   0.4s\n",
      "[CV] C=1, penalty=l1 .................................................\n",
      "[CV] .................................. C=1, penalty=l1, total=   0.4s\n",
      "[CV] C=1, penalty=l1 .................................................\n",
      "[CV] .................................. C=1, penalty=l1, total=   0.6s\n",
      "[CV] C=1, penalty=l2 .................................................\n",
      "[CV] .................................. C=1, penalty=l2, total=   0.0s\n",
      "[CV] C=1, penalty=l2 .................................................\n",
      "[CV] .................................. C=1, penalty=l2, total=   0.1s\n",
      "[CV] C=1, penalty=l2 .................................................\n",
      "[CV] .................................. C=1, penalty=l2, total=   0.1s\n",
      "[CV] C=1, penalty=l2 .................................................\n",
      "[CV] .................................. C=1, penalty=l2, total=   0.1s\n",
      "[CV] C=1, penalty=l2 .................................................\n",
      "[CV] .................................. C=1, penalty=l2, total=   0.1s\n",
      "[CV] C=10, penalty=l1 ................................................\n",
      "[CV] ................................. C=10, penalty=l1, total=   0.5s\n",
      "[CV] C=10, penalty=l1 ................................................\n",
      "[CV] ................................. C=10, penalty=l1, total=   0.4s\n",
      "[CV] C=10, penalty=l1 ................................................\n",
      "[CV] ................................. C=10, penalty=l1, total=   0.4s\n",
      "[CV] C=10, penalty=l1 ................................................\n",
      "[CV] ................................. C=10, penalty=l1, total=   0.5s\n",
      "[CV] C=10, penalty=l1 ................................................\n",
      "[CV] ................................. C=10, penalty=l1, total=   0.4s\n",
      "[CV] C=10, penalty=l2 ................................................\n",
      "[CV] ................................. C=10, penalty=l2, total=   0.2s\n",
      "[CV] C=10, penalty=l2 ................................................\n",
      "[CV] ................................. C=10, penalty=l2, total=   0.2s\n",
      "[CV] C=10, penalty=l2 ................................................\n",
      "[CV] ................................. C=10, penalty=l2, total=   0.2s\n",
      "[CV] C=10, penalty=l2 ................................................\n",
      "[CV] ................................. C=10, penalty=l2, total=   0.2s\n",
      "[CV] C=10, penalty=l2 ................................................\n",
      "[CV] ................................. C=10, penalty=l2, total=   0.2s\n",
      "[CV] C=100, penalty=l1 ...............................................\n",
      "[CV] ................................ C=100, penalty=l1, total=   0.7s\n",
      "[CV] C=100, penalty=l1 ...............................................\n",
      "[CV] ................................ C=100, penalty=l1, total=   0.6s\n",
      "[CV] C=100, penalty=l1 ...............................................\n",
      "[CV] ................................ C=100, penalty=l1, total=   0.5s\n",
      "[CV] C=100, penalty=l1 ...............................................\n",
      "[CV] ................................ C=100, penalty=l1, total=   0.6s\n",
      "[CV] C=100, penalty=l1 ...............................................\n",
      "[CV] ................................ C=100, penalty=l1, total=   0.6s\n",
      "[CV] C=100, penalty=l2 ...............................................\n",
      "[CV] ................................ C=100, penalty=l2, total=   0.5s\n",
      "[CV] C=100, penalty=l2 ...............................................\n",
      "[CV] ................................ C=100, penalty=l2, total=   0.4s\n",
      "[CV] C=100, penalty=l2 ...............................................\n",
      "[CV] ................................ C=100, penalty=l2, total=   0.4s\n",
      "[CV] C=100, penalty=l2 ...............................................\n",
      "[CV] ................................ C=100, penalty=l2, total=   0.4s\n",
      "[CV] C=100, penalty=l2 ...............................................\n",
      "[CV] ................................ C=100, penalty=l2, total=   0.4s\n"
     ]
    },
    {
     "name": "stderr",
     "output_type": "stream",
     "text": [
      "[Parallel(n_jobs=1)]: Done  50 out of  50 | elapsed:   11.9s finished\n"
     ]
    },
    {
     "data": {
      "text/plain": [
       "GridSearchCV(cv=5, estimator=LogisticRegression(max_iter=10000, solver='saga'),\n",
       "             param_grid={'C': [0.01, 0.1, 1, 10, 100], 'penalty': ['l1', 'l2']},\n",
       "             return_train_score=True, verbose=2)"
      ]
     },
     "execution_count": 93,
     "metadata": {},
     "output_type": "execute_result"
    }
   ],
   "source": [
    "grid_search_cv.fit(X_train_scaled, y_train)"
   ]
  },
  {
   "cell_type": "code",
   "execution_count": 94,
   "metadata": {},
   "outputs": [],
   "source": [
    "## check gridsearch cv_results_\n",
    "\n",
    "## we can make them a dataframe also"
   ]
  },
  {
   "cell_type": "code",
   "execution_count": 95,
   "metadata": {},
   "outputs": [
    {
     "data": {
      "text/plain": [
       "{'mean_fit_time': array([0.0274631 , 0.00597587, 0.21828723, 0.01182823, 0.39726391,\n",
       "        0.05580611, 0.43871622, 0.2146462 , 0.59617057, 0.41154237]),\n",
       " 'std_fit_time': array([0.01156334, 0.00048348, 0.08192432, 0.00102208, 0.13035833,\n",
       "        0.00538055, 0.04955793, 0.00738761, 0.05409366, 0.03164377]),\n",
       " 'mean_score_time': array([0.00037565, 0.00027623, 0.00032625, 0.00025954, 0.00037436,\n",
       "        0.00028977, 0.00030146, 0.00032783, 0.00030389, 0.00029874]),\n",
       " 'std_score_time': array([5.68810170e-05, 1.93443144e-05, 1.54325899e-05, 3.57244922e-05,\n",
       "        1.29016345e-04, 2.08468930e-05, 5.26165551e-06, 6.59117638e-05,\n",
       "        1.94375343e-05, 6.13991493e-06]),\n",
       " 'param_C': masked_array(data=[0.01, 0.01, 0.1, 0.1, 1, 1, 10, 10, 100, 100],\n",
       "              mask=[False, False, False, False, False, False, False, False,\n",
       "                    False, False],\n",
       "        fill_value='?',\n",
       "             dtype=object),\n",
       " 'param_penalty': masked_array(data=['l1', 'l2', 'l1', 'l2', 'l1', 'l2', 'l1', 'l2', 'l1',\n",
       "                    'l2'],\n",
       "              mask=[False, False, False, False, False, False, False, False,\n",
       "                    False, False],\n",
       "        fill_value='?',\n",
       "             dtype=object),\n",
       " 'params': [{'C': 0.01, 'penalty': 'l1'},\n",
       "  {'C': 0.01, 'penalty': 'l2'},\n",
       "  {'C': 0.1, 'penalty': 'l1'},\n",
       "  {'C': 0.1, 'penalty': 'l2'},\n",
       "  {'C': 1, 'penalty': 'l1'},\n",
       "  {'C': 1, 'penalty': 'l2'},\n",
       "  {'C': 10, 'penalty': 'l1'},\n",
       "  {'C': 10, 'penalty': 'l2'},\n",
       "  {'C': 100, 'penalty': 'l1'},\n",
       "  {'C': 100, 'penalty': 'l2'}],\n",
       " 'split0_test_score': array([0.74725275, 0.93406593, 0.95604396, 0.96703297, 0.98901099,\n",
       "        0.97802198, 1.        , 1.        , 0.98901099, 0.98901099]),\n",
       " 'split1_test_score': array([0.82417582, 0.94505495, 0.95604396, 0.95604396, 0.94505495,\n",
       "        0.96703297, 0.94505495, 0.95604396, 0.94505495, 0.94505495]),\n",
       " 'split2_test_score': array([0.79120879, 0.95604396, 0.98901099, 0.98901099, 0.97802198,\n",
       "        0.96703297, 0.97802198, 0.97802198, 0.97802198, 0.97802198]),\n",
       " 'split3_test_score': array([0.75824176, 0.91208791, 0.93406593, 0.96703297, 0.98901099,\n",
       "        0.98901099, 1.        , 1.        , 1.        , 1.        ]),\n",
       " 'split4_test_score': array([0.82417582, 0.96703297, 0.97802198, 0.97802198, 0.95604396,\n",
       "        0.93406593, 0.92307692, 0.93406593, 0.93406593, 0.93406593]),\n",
       " 'mean_test_score': array([0.78901099, 0.94285714, 0.96263736, 0.97142857, 0.97142857,\n",
       "        0.96703297, 0.96923077, 0.97362637, 0.96923077, 0.96923077]),\n",
       " 'std_test_score': array([0.03215107, 0.01890621, 0.01916   , 0.01120664, 0.01785503,\n",
       "        0.01838813, 0.03061184, 0.02563056, 0.0254414 , 0.0254414 ]),\n",
       " 'rank_test_score': array([10,  9,  8,  2,  3,  7,  4,  1,  4,  4], dtype=int32),\n",
       " 'split0_train_score': array([0.79945055, 0.95054945, 0.97802198, 0.98351648, 0.99175824,\n",
       "        0.98901099, 0.99175824, 0.99175824, 0.99450549, 0.99175824]),\n",
       " 'split1_train_score': array([0.80494505, 0.95054945, 0.97252747, 0.98076923, 0.98626374,\n",
       "        0.98901099, 1.        , 0.99450549, 1.        , 1.        ]),\n",
       " 'split2_train_score': array([0.77472527, 0.9478022 , 0.96703297, 0.98076923, 0.99450549,\n",
       "        0.98901099, 0.99450549, 0.99450549, 0.99450549, 0.99450549]),\n",
       " 'split3_train_score': array([0.8021978 , 0.95604396, 0.97252747, 0.97527473, 0.98626374,\n",
       "        0.98626374, 0.99175824, 0.98901099, 0.99175824, 0.99175824]),\n",
       " 'split4_train_score': array([0.79120879, 0.94505495, 0.97252747, 0.98626374, 0.99450549,\n",
       "        0.99175824, 0.99450549, 0.99450549, 1.        , 1.        ]),\n",
       " 'mean_train_score': array([0.79450549, 0.95      , 0.97252747, 0.98131868, 0.99065934,\n",
       "        0.98901099, 0.99450549, 0.99285714, 0.99615385, 0.9956044 ]),\n",
       " 'std_train_score': array([0.01090628, 0.00364464, 0.00347503, 0.00364464, 0.00372655,\n",
       "        0.00173752, 0.00300946, 0.0021978 , 0.0032967 , 0.00372655])}"
      ]
     },
     "execution_count": 95,
     "metadata": {},
     "output_type": "execute_result"
    }
   ],
   "source": [
    "grid_search_cv.cv_results_"
   ]
  },
  {
   "cell_type": "code",
   "execution_count": 96,
   "metadata": {},
   "outputs": [
    {
     "data": {
      "text/html": [
       "<div>\n",
       "<style scoped>\n",
       "    .dataframe tbody tr th:only-of-type {\n",
       "        vertical-align: middle;\n",
       "    }\n",
       "\n",
       "    .dataframe tbody tr th {\n",
       "        vertical-align: top;\n",
       "    }\n",
       "\n",
       "    .dataframe thead th {\n",
       "        text-align: right;\n",
       "    }\n",
       "</style>\n",
       "<table border=\"1\" class=\"dataframe\">\n",
       "  <thead>\n",
       "    <tr style=\"text-align: right;\">\n",
       "      <th></th>\n",
       "      <th>7</th>\n",
       "      <th>3</th>\n",
       "      <th>4</th>\n",
       "      <th>6</th>\n",
       "      <th>8</th>\n",
       "      <th>9</th>\n",
       "      <th>5</th>\n",
       "      <th>2</th>\n",
       "      <th>1</th>\n",
       "      <th>0</th>\n",
       "    </tr>\n",
       "  </thead>\n",
       "  <tbody>\n",
       "    <tr>\n",
       "      <th>mean_fit_time</th>\n",
       "      <td>0.214646</td>\n",
       "      <td>0.0118282</td>\n",
       "      <td>0.397264</td>\n",
       "      <td>0.438716</td>\n",
       "      <td>0.596171</td>\n",
       "      <td>0.411542</td>\n",
       "      <td>0.0558061</td>\n",
       "      <td>0.218287</td>\n",
       "      <td>0.00597587</td>\n",
       "      <td>0.0274631</td>\n",
       "    </tr>\n",
       "    <tr>\n",
       "      <th>std_fit_time</th>\n",
       "      <td>0.00738761</td>\n",
       "      <td>0.00102208</td>\n",
       "      <td>0.130358</td>\n",
       "      <td>0.0495579</td>\n",
       "      <td>0.0540937</td>\n",
       "      <td>0.0316438</td>\n",
       "      <td>0.00538055</td>\n",
       "      <td>0.0819243</td>\n",
       "      <td>0.00048348</td>\n",
       "      <td>0.0115633</td>\n",
       "    </tr>\n",
       "    <tr>\n",
       "      <th>mean_score_time</th>\n",
       "      <td>0.000327826</td>\n",
       "      <td>0.000259542</td>\n",
       "      <td>0.000374365</td>\n",
       "      <td>0.000301456</td>\n",
       "      <td>0.000303888</td>\n",
       "      <td>0.000298738</td>\n",
       "      <td>0.000289774</td>\n",
       "      <td>0.000326252</td>\n",
       "      <td>0.000276232</td>\n",
       "      <td>0.000375652</td>\n",
       "    </tr>\n",
       "    <tr>\n",
       "      <th>std_score_time</th>\n",
       "      <td>6.59118e-05</td>\n",
       "      <td>3.57245e-05</td>\n",
       "      <td>0.000129016</td>\n",
       "      <td>5.26166e-06</td>\n",
       "      <td>1.94375e-05</td>\n",
       "      <td>6.13991e-06</td>\n",
       "      <td>2.08469e-05</td>\n",
       "      <td>1.54326e-05</td>\n",
       "      <td>1.93443e-05</td>\n",
       "      <td>5.6881e-05</td>\n",
       "    </tr>\n",
       "    <tr>\n",
       "      <th>param_C</th>\n",
       "      <td>10</td>\n",
       "      <td>0.1</td>\n",
       "      <td>1</td>\n",
       "      <td>10</td>\n",
       "      <td>100</td>\n",
       "      <td>100</td>\n",
       "      <td>1</td>\n",
       "      <td>0.1</td>\n",
       "      <td>0.01</td>\n",
       "      <td>0.01</td>\n",
       "    </tr>\n",
       "    <tr>\n",
       "      <th>param_penalty</th>\n",
       "      <td>l2</td>\n",
       "      <td>l2</td>\n",
       "      <td>l1</td>\n",
       "      <td>l1</td>\n",
       "      <td>l1</td>\n",
       "      <td>l2</td>\n",
       "      <td>l2</td>\n",
       "      <td>l1</td>\n",
       "      <td>l2</td>\n",
       "      <td>l1</td>\n",
       "    </tr>\n",
       "    <tr>\n",
       "      <th>params</th>\n",
       "      <td>{'C': 10, 'penalty': 'l2'}</td>\n",
       "      <td>{'C': 0.1, 'penalty': 'l2'}</td>\n",
       "      <td>{'C': 1, 'penalty': 'l1'}</td>\n",
       "      <td>{'C': 10, 'penalty': 'l1'}</td>\n",
       "      <td>{'C': 100, 'penalty': 'l1'}</td>\n",
       "      <td>{'C': 100, 'penalty': 'l2'}</td>\n",
       "      <td>{'C': 1, 'penalty': 'l2'}</td>\n",
       "      <td>{'C': 0.1, 'penalty': 'l1'}</td>\n",
       "      <td>{'C': 0.01, 'penalty': 'l2'}</td>\n",
       "      <td>{'C': 0.01, 'penalty': 'l1'}</td>\n",
       "    </tr>\n",
       "    <tr>\n",
       "      <th>split0_test_score</th>\n",
       "      <td>1</td>\n",
       "      <td>0.967033</td>\n",
       "      <td>0.989011</td>\n",
       "      <td>1</td>\n",
       "      <td>0.989011</td>\n",
       "      <td>0.989011</td>\n",
       "      <td>0.978022</td>\n",
       "      <td>0.956044</td>\n",
       "      <td>0.934066</td>\n",
       "      <td>0.747253</td>\n",
       "    </tr>\n",
       "    <tr>\n",
       "      <th>split1_test_score</th>\n",
       "      <td>0.956044</td>\n",
       "      <td>0.956044</td>\n",
       "      <td>0.945055</td>\n",
       "      <td>0.945055</td>\n",
       "      <td>0.945055</td>\n",
       "      <td>0.945055</td>\n",
       "      <td>0.967033</td>\n",
       "      <td>0.956044</td>\n",
       "      <td>0.945055</td>\n",
       "      <td>0.824176</td>\n",
       "    </tr>\n",
       "    <tr>\n",
       "      <th>split2_test_score</th>\n",
       "      <td>0.978022</td>\n",
       "      <td>0.989011</td>\n",
       "      <td>0.978022</td>\n",
       "      <td>0.978022</td>\n",
       "      <td>0.978022</td>\n",
       "      <td>0.978022</td>\n",
       "      <td>0.967033</td>\n",
       "      <td>0.989011</td>\n",
       "      <td>0.956044</td>\n",
       "      <td>0.791209</td>\n",
       "    </tr>\n",
       "    <tr>\n",
       "      <th>split3_test_score</th>\n",
       "      <td>1</td>\n",
       "      <td>0.967033</td>\n",
       "      <td>0.989011</td>\n",
       "      <td>1</td>\n",
       "      <td>1</td>\n",
       "      <td>1</td>\n",
       "      <td>0.989011</td>\n",
       "      <td>0.934066</td>\n",
       "      <td>0.912088</td>\n",
       "      <td>0.758242</td>\n",
       "    </tr>\n",
       "    <tr>\n",
       "      <th>split4_test_score</th>\n",
       "      <td>0.934066</td>\n",
       "      <td>0.978022</td>\n",
       "      <td>0.956044</td>\n",
       "      <td>0.923077</td>\n",
       "      <td>0.934066</td>\n",
       "      <td>0.934066</td>\n",
       "      <td>0.934066</td>\n",
       "      <td>0.978022</td>\n",
       "      <td>0.967033</td>\n",
       "      <td>0.824176</td>\n",
       "    </tr>\n",
       "    <tr>\n",
       "      <th>mean_test_score</th>\n",
       "      <td>0.973626</td>\n",
       "      <td>0.971429</td>\n",
       "      <td>0.971429</td>\n",
       "      <td>0.969231</td>\n",
       "      <td>0.969231</td>\n",
       "      <td>0.969231</td>\n",
       "      <td>0.967033</td>\n",
       "      <td>0.962637</td>\n",
       "      <td>0.942857</td>\n",
       "      <td>0.789011</td>\n",
       "    </tr>\n",
       "    <tr>\n",
       "      <th>std_test_score</th>\n",
       "      <td>0.0256306</td>\n",
       "      <td>0.0112066</td>\n",
       "      <td>0.017855</td>\n",
       "      <td>0.0306118</td>\n",
       "      <td>0.0254414</td>\n",
       "      <td>0.0254414</td>\n",
       "      <td>0.0183881</td>\n",
       "      <td>0.01916</td>\n",
       "      <td>0.0189062</td>\n",
       "      <td>0.0321511</td>\n",
       "    </tr>\n",
       "    <tr>\n",
       "      <th>rank_test_score</th>\n",
       "      <td>1</td>\n",
       "      <td>2</td>\n",
       "      <td>3</td>\n",
       "      <td>4</td>\n",
       "      <td>4</td>\n",
       "      <td>4</td>\n",
       "      <td>7</td>\n",
       "      <td>8</td>\n",
       "      <td>9</td>\n",
       "      <td>10</td>\n",
       "    </tr>\n",
       "    <tr>\n",
       "      <th>split0_train_score</th>\n",
       "      <td>0.991758</td>\n",
       "      <td>0.983516</td>\n",
       "      <td>0.991758</td>\n",
       "      <td>0.991758</td>\n",
       "      <td>0.994505</td>\n",
       "      <td>0.991758</td>\n",
       "      <td>0.989011</td>\n",
       "      <td>0.978022</td>\n",
       "      <td>0.950549</td>\n",
       "      <td>0.799451</td>\n",
       "    </tr>\n",
       "    <tr>\n",
       "      <th>split1_train_score</th>\n",
       "      <td>0.994505</td>\n",
       "      <td>0.980769</td>\n",
       "      <td>0.986264</td>\n",
       "      <td>1</td>\n",
       "      <td>1</td>\n",
       "      <td>1</td>\n",
       "      <td>0.989011</td>\n",
       "      <td>0.972527</td>\n",
       "      <td>0.950549</td>\n",
       "      <td>0.804945</td>\n",
       "    </tr>\n",
       "    <tr>\n",
       "      <th>split2_train_score</th>\n",
       "      <td>0.994505</td>\n",
       "      <td>0.980769</td>\n",
       "      <td>0.994505</td>\n",
       "      <td>0.994505</td>\n",
       "      <td>0.994505</td>\n",
       "      <td>0.994505</td>\n",
       "      <td>0.989011</td>\n",
       "      <td>0.967033</td>\n",
       "      <td>0.947802</td>\n",
       "      <td>0.774725</td>\n",
       "    </tr>\n",
       "    <tr>\n",
       "      <th>split3_train_score</th>\n",
       "      <td>0.989011</td>\n",
       "      <td>0.975275</td>\n",
       "      <td>0.986264</td>\n",
       "      <td>0.991758</td>\n",
       "      <td>0.991758</td>\n",
       "      <td>0.991758</td>\n",
       "      <td>0.986264</td>\n",
       "      <td>0.972527</td>\n",
       "      <td>0.956044</td>\n",
       "      <td>0.802198</td>\n",
       "    </tr>\n",
       "    <tr>\n",
       "      <th>split4_train_score</th>\n",
       "      <td>0.994505</td>\n",
       "      <td>0.986264</td>\n",
       "      <td>0.994505</td>\n",
       "      <td>0.994505</td>\n",
       "      <td>1</td>\n",
       "      <td>1</td>\n",
       "      <td>0.991758</td>\n",
       "      <td>0.972527</td>\n",
       "      <td>0.945055</td>\n",
       "      <td>0.791209</td>\n",
       "    </tr>\n",
       "    <tr>\n",
       "      <th>mean_train_score</th>\n",
       "      <td>0.992857</td>\n",
       "      <td>0.981319</td>\n",
       "      <td>0.990659</td>\n",
       "      <td>0.994505</td>\n",
       "      <td>0.996154</td>\n",
       "      <td>0.995604</td>\n",
       "      <td>0.989011</td>\n",
       "      <td>0.972527</td>\n",
       "      <td>0.95</td>\n",
       "      <td>0.794505</td>\n",
       "    </tr>\n",
       "    <tr>\n",
       "      <th>std_train_score</th>\n",
       "      <td>0.0021978</td>\n",
       "      <td>0.00364464</td>\n",
       "      <td>0.00372655</td>\n",
       "      <td>0.00300946</td>\n",
       "      <td>0.0032967</td>\n",
       "      <td>0.00372655</td>\n",
       "      <td>0.00173752</td>\n",
       "      <td>0.00347503</td>\n",
       "      <td>0.00364464</td>\n",
       "      <td>0.0109063</td>\n",
       "    </tr>\n",
       "  </tbody>\n",
       "</table>\n",
       "</div>"
      ],
      "text/plain": [
       "                                             7                            3  \\\n",
       "mean_fit_time                         0.214646                    0.0118282   \n",
       "std_fit_time                        0.00738761                   0.00102208   \n",
       "mean_score_time                    0.000327826                  0.000259542   \n",
       "std_score_time                     6.59118e-05                  3.57245e-05   \n",
       "param_C                                     10                          0.1   \n",
       "param_penalty                               l2                           l2   \n",
       "params              {'C': 10, 'penalty': 'l2'}  {'C': 0.1, 'penalty': 'l2'}   \n",
       "split0_test_score                            1                     0.967033   \n",
       "split1_test_score                     0.956044                     0.956044   \n",
       "split2_test_score                     0.978022                     0.989011   \n",
       "split3_test_score                            1                     0.967033   \n",
       "split4_test_score                     0.934066                     0.978022   \n",
       "mean_test_score                       0.973626                     0.971429   \n",
       "std_test_score                       0.0256306                    0.0112066   \n",
       "rank_test_score                              1                            2   \n",
       "split0_train_score                    0.991758                     0.983516   \n",
       "split1_train_score                    0.994505                     0.980769   \n",
       "split2_train_score                    0.994505                     0.980769   \n",
       "split3_train_score                    0.989011                     0.975275   \n",
       "split4_train_score                    0.994505                     0.986264   \n",
       "mean_train_score                      0.992857                     0.981319   \n",
       "std_train_score                      0.0021978                   0.00364464   \n",
       "\n",
       "                                            4                           6  \\\n",
       "mean_fit_time                        0.397264                    0.438716   \n",
       "std_fit_time                         0.130358                   0.0495579   \n",
       "mean_score_time                   0.000374365                 0.000301456   \n",
       "std_score_time                    0.000129016                 5.26166e-06   \n",
       "param_C                                     1                          10   \n",
       "param_penalty                              l1                          l1   \n",
       "params              {'C': 1, 'penalty': 'l1'}  {'C': 10, 'penalty': 'l1'}   \n",
       "split0_test_score                    0.989011                           1   \n",
       "split1_test_score                    0.945055                    0.945055   \n",
       "split2_test_score                    0.978022                    0.978022   \n",
       "split3_test_score                    0.989011                           1   \n",
       "split4_test_score                    0.956044                    0.923077   \n",
       "mean_test_score                      0.971429                    0.969231   \n",
       "std_test_score                       0.017855                   0.0306118   \n",
       "rank_test_score                             3                           4   \n",
       "split0_train_score                   0.991758                    0.991758   \n",
       "split1_train_score                   0.986264                           1   \n",
       "split2_train_score                   0.994505                    0.994505   \n",
       "split3_train_score                   0.986264                    0.991758   \n",
       "split4_train_score                   0.994505                    0.994505   \n",
       "mean_train_score                     0.990659                    0.994505   \n",
       "std_train_score                    0.00372655                  0.00300946   \n",
       "\n",
       "                                              8                            9  \\\n",
       "mean_fit_time                          0.596171                     0.411542   \n",
       "std_fit_time                          0.0540937                    0.0316438   \n",
       "mean_score_time                     0.000303888                  0.000298738   \n",
       "std_score_time                      1.94375e-05                  6.13991e-06   \n",
       "param_C                                     100                          100   \n",
       "param_penalty                                l1                           l2   \n",
       "params              {'C': 100, 'penalty': 'l1'}  {'C': 100, 'penalty': 'l2'}   \n",
       "split0_test_score                      0.989011                     0.989011   \n",
       "split1_test_score                      0.945055                     0.945055   \n",
       "split2_test_score                      0.978022                     0.978022   \n",
       "split3_test_score                             1                            1   \n",
       "split4_test_score                      0.934066                     0.934066   \n",
       "mean_test_score                        0.969231                     0.969231   \n",
       "std_test_score                        0.0254414                    0.0254414   \n",
       "rank_test_score                               4                            4   \n",
       "split0_train_score                     0.994505                     0.991758   \n",
       "split1_train_score                            1                            1   \n",
       "split2_train_score                     0.994505                     0.994505   \n",
       "split3_train_score                     0.991758                     0.991758   \n",
       "split4_train_score                            1                            1   \n",
       "mean_train_score                       0.996154                     0.995604   \n",
       "std_train_score                       0.0032967                   0.00372655   \n",
       "\n",
       "                                            5                            2  \\\n",
       "mean_fit_time                       0.0558061                     0.218287   \n",
       "std_fit_time                       0.00538055                    0.0819243   \n",
       "mean_score_time                   0.000289774                  0.000326252   \n",
       "std_score_time                    2.08469e-05                  1.54326e-05   \n",
       "param_C                                     1                          0.1   \n",
       "param_penalty                              l2                           l1   \n",
       "params              {'C': 1, 'penalty': 'l2'}  {'C': 0.1, 'penalty': 'l1'}   \n",
       "split0_test_score                    0.978022                     0.956044   \n",
       "split1_test_score                    0.967033                     0.956044   \n",
       "split2_test_score                    0.967033                     0.989011   \n",
       "split3_test_score                    0.989011                     0.934066   \n",
       "split4_test_score                    0.934066                     0.978022   \n",
       "mean_test_score                      0.967033                     0.962637   \n",
       "std_test_score                      0.0183881                      0.01916   \n",
       "rank_test_score                             7                            8   \n",
       "split0_train_score                   0.989011                     0.978022   \n",
       "split1_train_score                   0.989011                     0.972527   \n",
       "split2_train_score                   0.989011                     0.967033   \n",
       "split3_train_score                   0.986264                     0.972527   \n",
       "split4_train_score                   0.991758                     0.972527   \n",
       "mean_train_score                     0.989011                     0.972527   \n",
       "std_train_score                    0.00173752                   0.00347503   \n",
       "\n",
       "                                               1                             0  \n",
       "mean_fit_time                         0.00597587                     0.0274631  \n",
       "std_fit_time                          0.00048348                     0.0115633  \n",
       "mean_score_time                      0.000276232                   0.000375652  \n",
       "std_score_time                       1.93443e-05                    5.6881e-05  \n",
       "param_C                                     0.01                          0.01  \n",
       "param_penalty                                 l2                            l1  \n",
       "params              {'C': 0.01, 'penalty': 'l2'}  {'C': 0.01, 'penalty': 'l1'}  \n",
       "split0_test_score                       0.934066                      0.747253  \n",
       "split1_test_score                       0.945055                      0.824176  \n",
       "split2_test_score                       0.956044                      0.791209  \n",
       "split3_test_score                       0.912088                      0.758242  \n",
       "split4_test_score                       0.967033                      0.824176  \n",
       "mean_test_score                         0.942857                      0.789011  \n",
       "std_test_score                         0.0189062                     0.0321511  \n",
       "rank_test_score                                9                            10  \n",
       "split0_train_score                      0.950549                      0.799451  \n",
       "split1_train_score                      0.950549                      0.804945  \n",
       "split2_train_score                      0.947802                      0.774725  \n",
       "split3_train_score                      0.956044                      0.802198  \n",
       "split4_train_score                      0.945055                      0.791209  \n",
       "mean_train_score                            0.95                      0.794505  \n",
       "std_train_score                       0.00364464                     0.0109063  "
      ]
     },
     "execution_count": 96,
     "metadata": {},
     "output_type": "execute_result"
    }
   ],
   "source": [
    "pd.DataFrame(grid_search_cv.cv_results_ ).sort_values('mean_test_score', ascending = False).T"
   ]
  },
  {
   "cell_type": "code",
   "execution_count": 97,
   "metadata": {},
   "outputs": [],
   "source": [
    "## print best parameters"
   ]
  },
  {
   "cell_type": "code",
   "execution_count": 98,
   "metadata": {},
   "outputs": [],
   "source": [
    "## cross_validate the best estimator_"
   ]
  },
  {
   "cell_type": "code",
   "execution_count": 99,
   "metadata": {},
   "outputs": [],
   "source": [
    "lr = LogisticRegression(C = 0.1, penalty = 'l2', solver = 'saga', max_iter= 10000)"
   ]
  },
  {
   "cell_type": "code",
   "execution_count": 100,
   "metadata": {},
   "outputs": [
    {
     "name": "stdout",
     "output_type": "stream",
     "text": [
      "[CV]  ................................................................\n",
      "[CV] ................................................. , total=   0.0s\n",
      "[CV]  ................................................................\n",
      "[CV] ................................................. , total=   0.0s\n",
      "[CV]  ................................................................\n",
      "[CV] ................................................. , total=   0.0s\n",
      "[CV]  ................................................................\n",
      "[CV] ................................................. , total=   0.0s\n",
      "[CV]  ................................................................\n",
      "[CV] ................................................. , total=   0.0s\n"
     ]
    },
    {
     "name": "stderr",
     "output_type": "stream",
     "text": [
      "[Parallel(n_jobs=1)]: Using backend SequentialBackend with 1 concurrent workers.\n",
      "[Parallel(n_jobs=1)]: Done   1 out of   1 | elapsed:    0.0s remaining:    0.0s\n",
      "[Parallel(n_jobs=1)]: Done   5 out of   5 | elapsed:    0.1s finished\n"
     ]
    }
   ],
   "source": [
    "cv_fivefold = cross_validate(estimator= lr, \n",
    "                             X = X_train_scaled,\n",
    "                             y = y_train,\n",
    "                             cv = 5,\n",
    "                             return_train_score= True, \n",
    "                             return_estimator= True, verbose = 2)"
   ]
  },
  {
   "cell_type": "code",
   "execution_count": 101,
   "metadata": {},
   "outputs": [
    {
     "data": {
      "text/plain": [
       "array([0.96703297, 0.95604396, 0.98901099, 0.96703297, 0.97802198])"
      ]
     },
     "execution_count": 101,
     "metadata": {},
     "output_type": "execute_result"
    }
   ],
   "source": [
    "cv_fivefold['test_score']"
   ]
  },
  {
   "cell_type": "code",
   "execution_count": 102,
   "metadata": {},
   "outputs": [],
   "source": [
    "## pretty print test scores"
   ]
  },
  {
   "cell_type": "code",
   "execution_count": 103,
   "metadata": {},
   "outputs": [],
   "source": [
    "## fit best regularization logreg and plot the confusion matrix"
   ]
  },
  {
   "cell_type": "code",
   "execution_count": 104,
   "metadata": {},
   "outputs": [
    {
     "name": "stdout",
     "output_type": "stream",
     "text": [
      "Regularized Log Regression 5-fold cv results (Accuracy) 0.971 =/- 0.011\n"
     ]
    }
   ],
   "source": [
    "validation_mean = cv_fivefold['test_score'].mean()\n",
    "\n",
    "validation_std = cv_fivefold['test_score'].std()\n",
    "\n",
    "print('Regularized Log Regression 5-fold cv results (Accuracy) %.3f =/- %.3f'%(validation_mean, validation_std))"
   ]
  },
  {
   "cell_type": "markdown",
   "metadata": {},
   "source": [
    "# Tree Based Models"
   ]
  },
  {
   "cell_type": "markdown",
   "metadata": {},
   "source": [
    "## Decision Trees"
   ]
  },
  {
   "cell_type": "code",
   "execution_count": 105,
   "metadata": {},
   "outputs": [],
   "source": [
    "## import decisiontree classifier"
   ]
  },
  {
   "cell_type": "code",
   "execution_count": 106,
   "metadata": {},
   "outputs": [],
   "source": [
    "## instantiate"
   ]
  },
  {
   "cell_type": "code",
   "execution_count": 107,
   "metadata": {},
   "outputs": [],
   "source": [
    "from sklearn.tree import DecisionTreeClassifier"
   ]
  },
  {
   "cell_type": "code",
   "execution_count": 108,
   "metadata": {},
   "outputs": [
    {
     "data": {
      "text/plain": [
       "1.0"
      ]
     },
     "execution_count": 108,
     "metadata": {},
     "output_type": "execute_result"
    }
   ],
   "source": [
    "dt_clf = DecisionTreeClassifier()\n",
    "\n",
    "dt_clf.fit(X_train, y_train)\n",
    "\n",
    "dt_clf.score(X_train, y_train)\n"
   ]
  },
  {
   "cell_type": "code",
   "execution_count": null,
   "metadata": {},
   "outputs": [],
   "source": []
  },
  {
   "cell_type": "code",
   "execution_count": 109,
   "metadata": {},
   "outputs": [],
   "source": [
    "## cross_validate"
   ]
  },
  {
   "cell_type": "code",
   "execution_count": 110,
   "metadata": {},
   "outputs": [
    {
     "name": "stderr",
     "output_type": "stream",
     "text": [
      "[Parallel(n_jobs=1)]: Using backend SequentialBackend with 1 concurrent workers.\n",
      "[Parallel(n_jobs=1)]: Done   1 out of   1 | elapsed:    0.0s remaining:    0.0s\n"
     ]
    },
    {
     "name": "stdout",
     "output_type": "stream",
     "text": [
      "[CV]  ................................................................\n",
      "[CV] ................................................. , total=   0.0s\n",
      "[CV]  ................................................................\n",
      "[CV] ................................................. , total=   0.0s\n",
      "[CV]  ................................................................\n",
      "[CV] ................................................. , total=   0.0s\n",
      "[CV]  ................................................................\n",
      "[CV] ................................................. , total=   0.0s\n",
      "[CV]  ................................................................\n",
      "[CV] ................................................. , total=   0.0s\n"
     ]
    },
    {
     "name": "stderr",
     "output_type": "stream",
     "text": [
      "[Parallel(n_jobs=1)]: Done   5 out of   5 | elapsed:    0.0s finished\n"
     ]
    }
   ],
   "source": [
    "cv_fivefold = cross_validate(estimator= dt_clf, \n",
    "                             X = X_train_scaled,\n",
    "                             y = y_train,\n",
    "                             cv = 5,\n",
    "                             return_train_score= True, \n",
    "                             return_estimator= True, \n",
    "                             verbose = 2)"
   ]
  },
  {
   "cell_type": "code",
   "execution_count": 111,
   "metadata": {},
   "outputs": [
    {
     "data": {
      "text/plain": [
       "array([0.92307692, 0.92307692, 0.92307692, 0.94505495, 0.91208791])"
      ]
     },
     "execution_count": 111,
     "metadata": {},
     "output_type": "execute_result"
    }
   ],
   "source": [
    "cv_fivefold['test_score']"
   ]
  },
  {
   "cell_type": "code",
   "execution_count": 112,
   "metadata": {},
   "outputs": [
    {
     "data": {
      "text/plain": [
       "array([1., 1., 1., 1., 1.])"
      ]
     },
     "execution_count": 112,
     "metadata": {},
     "output_type": "execute_result"
    }
   ],
   "source": [
    "cv_fivefold['train_score']"
   ]
  },
  {
   "cell_type": "markdown",
   "metadata": {},
   "source": [
    "__Overfitting__"
   ]
  },
  {
   "cell_type": "code",
   "execution_count": 113,
   "metadata": {},
   "outputs": [],
   "source": [
    "## confusion matrix plot"
   ]
  },
  {
   "cell_type": "code",
   "execution_count": null,
   "metadata": {},
   "outputs": [],
   "source": []
  },
  {
   "cell_type": "markdown",
   "metadata": {},
   "source": [
    "## Random Forests"
   ]
  },
  {
   "cell_type": "markdown",
   "metadata": {},
   "source": [
    "### Bootstrapping\n",
    "\n",
    "<img src= \"images/bootstrap1.png\" style=\"height:450px\">\n"
   ]
  },
  {
   "cell_type": "markdown",
   "metadata": {},
   "source": [
    "### Bagging: Bootstrap Aggregation\n",
    "\n",
    "\n",
    "__Core idea__\n",
    "\n",
    "- Decision trees have high variance.\n",
    "\n",
    "- We know averaging can reduce the variance. (Central Limit Theorem?)\n",
    "\n",
    "- Why bootstrap though?\n",
    "\n",
    "    - Averaging the same numbers yields the same number: [2,2,2,2]  --> avg: 2\n",
    "    \n",
    "    - You want each tree to learn a little bit differently so that averaging make sense.\n",
    "\n",
    "__A little bit more details__\n"
   ]
  },
  {
   "cell_type": "markdown",
   "metadata": {},
   "source": [
    "We will use this idea calculate $$ \\hat{f}^{1}(x), \\cdots, \\hat{f}^{B}(x)$$ where each $\\hat{f}^{i}$ represents a decision tree fitted to the bootstrapped data.\n",
    "\n",
    "Then we will make a prediction by: \n",
    "\n",
    "$$ \\hat{f}_{\\text{avg}}(x) = \\frac{1}{B}\\sum_{b=1}^{B} \\hat{f}^{b}(x)$$\n",
    "\n",
    "Note that this is for regression and for the classification we can get majority vote.\n",
    "\n",
    "[sklearn averages over probabilities not majority vote](https://scikit-learn.org/stable/modules/ensemble.html#forest)\n"
   ]
  },
  {
   "cell_type": "markdown",
   "metadata": {},
   "source": [
    "__Problem__ We still have some problem with this approach and random forests will address this problem. Can you see the issue?\n",
    "\n",
    "- If we have a strong predictor then this will dominate in each tree.\n",
    "\n",
    "Hint: Correlated trees\n",
    "\n",
    "- Random forests adds some randomness into the procedure to make each tree uncorrolated."
   ]
  },
  {
   "cell_type": "markdown",
   "metadata": {},
   "source": [
    "### Implementation of Random Forest"
   ]
  },
  {
   "cell_type": "code",
   "execution_count": 114,
   "metadata": {},
   "outputs": [],
   "source": [
    "from sklearn.ensemble import RandomForestClassifier"
   ]
  },
  {
   "cell_type": "code",
   "execution_count": 115,
   "metadata": {},
   "outputs": [
    {
     "data": {
      "text/plain": [
       "(455, 30)"
      ]
     },
     "execution_count": 115,
     "metadata": {},
     "output_type": "execute_result"
    }
   ],
   "source": [
    "X_train.shape"
   ]
  },
  {
   "cell_type": "code",
   "execution_count": 116,
   "metadata": {},
   "outputs": [
    {
     "data": {
      "text/plain": [
       "3.4011973816621555"
      ]
     },
     "execution_count": 116,
     "metadata": {},
     "output_type": "execute_result"
    }
   ],
   "source": [
    "np.log(30)"
   ]
  },
  {
   "cell_type": "code",
   "execution_count": 117,
   "metadata": {},
   "outputs": [],
   "source": [
    "rf = RandomForestClassifier(n_estimators= 700, max_features='auto', max_depth= 10)"
   ]
  },
  {
   "cell_type": "code",
   "execution_count": 118,
   "metadata": {},
   "outputs": [
    {
     "name": "stdout",
     "output_type": "stream",
     "text": [
      "[CV]  ................................................................\n"
     ]
    },
    {
     "name": "stderr",
     "output_type": "stream",
     "text": [
      "[Parallel(n_jobs=1)]: Using backend SequentialBackend with 1 concurrent workers.\n"
     ]
    },
    {
     "name": "stdout",
     "output_type": "stream",
     "text": [
      "[CV] ................................................. , total=   1.0s\n",
      "[CV]  ................................................................\n"
     ]
    },
    {
     "name": "stderr",
     "output_type": "stream",
     "text": [
      "[Parallel(n_jobs=1)]: Done   1 out of   1 | elapsed:    1.0s remaining:    0.0s\n"
     ]
    },
    {
     "name": "stdout",
     "output_type": "stream",
     "text": [
      "[CV] ................................................. , total=   0.9s\n",
      "[CV]  ................................................................\n",
      "[CV] ................................................. , total=   1.0s\n",
      "[CV]  ................................................................\n",
      "[CV] ................................................. , total=   0.9s\n",
      "[CV]  ................................................................\n",
      "[CV] ................................................. , total=   0.9s\n"
     ]
    },
    {
     "name": "stderr",
     "output_type": "stream",
     "text": [
      "[Parallel(n_jobs=1)]: Done   5 out of   5 | elapsed:    4.9s finished\n"
     ]
    }
   ],
   "source": [
    "cv_fivefold = cross_validate(estimator= rf, \n",
    "                             X = X_train_scaled,\n",
    "                             y = y_train,\n",
    "                             cv = 5,\n",
    "                             return_train_score= True, \n",
    "                             return_estimator= True, \n",
    "                             verbose = 2)"
   ]
  },
  {
   "cell_type": "code",
   "execution_count": 119,
   "metadata": {},
   "outputs": [
    {
     "data": {
      "text/plain": [
       "array([0.95604396, 0.97802198, 0.97802198, 0.95604396, 0.96703297])"
      ]
     },
     "execution_count": 119,
     "metadata": {},
     "output_type": "execute_result"
    }
   ],
   "source": [
    "cv_fivefold['test_score']"
   ]
  },
  {
   "cell_type": "code",
   "execution_count": 120,
   "metadata": {},
   "outputs": [
    {
     "name": "stdout",
     "output_type": "stream",
     "text": [
      "Random Forest 5-fold cv results (Accuracy) 0.967 =/- 0.010\n"
     ]
    }
   ],
   "source": [
    "validation_mean = cv_fivefold['test_score'].mean()\n",
    "\n",
    "validation_std = cv_fivefold['test_score'].std()\n",
    "\n",
    "print('Random Forest 5-fold cv results (Accuracy) %.3f =/- %.3f'%(validation_mean, validation_std))"
   ]
  },
  {
   "cell_type": "code",
   "execution_count": 121,
   "metadata": {},
   "outputs": [],
   "source": [
    "rf.fit(X_train, y_train)\n",
    "y_pred = rf.predict(X_train)\n",
    "score = rf.score(X_train, y_train)\n",
    "cm = confusion_matrix(y_train, y_pred)"
   ]
  },
  {
   "cell_type": "code",
   "execution_count": null,
   "metadata": {},
   "outputs": [],
   "source": [
    "from matplotlib.pyplot "
   ]
  },
  {
   "cell_type": "code",
   "execution_count": 122,
   "metadata": {},
   "outputs": [
    {
     "ename": "NameError",
     "evalue": "name 'plt' is not defined",
     "output_type": "error",
     "traceback": [
      "\u001b[0;31m--------------------------------------------------------------------------\u001b[0m",
      "\u001b[0;31mNameError\u001b[0m                                Traceback (most recent call last)",
      "\u001b[0;32m<ipython-input-122-83c8cbb18219>\u001b[0m in \u001b[0;36m<module>\u001b[0;34m\u001b[0m\n\u001b[0;32m----> 1\u001b[0;31m \u001b[0mplt\u001b[0m\u001b[0;34m.\u001b[0m\u001b[0mfigure\u001b[0m\u001b[0;34m(\u001b[0m\u001b[0mfigsize\u001b[0m\u001b[0;34m=\u001b[0m\u001b[0;34m(\u001b[0m\u001b[0;36m9\u001b[0m\u001b[0;34m,\u001b[0m\u001b[0;36m9\u001b[0m\u001b[0;34m)\u001b[0m\u001b[0;34m)\u001b[0m\u001b[0;34m\u001b[0m\u001b[0;34m\u001b[0m\u001b[0m\n\u001b[0m\u001b[1;32m      2\u001b[0m \u001b[0msns\u001b[0m\u001b[0;34m.\u001b[0m\u001b[0mheatmap\u001b[0m\u001b[0;34m(\u001b[0m\u001b[0mcm\u001b[0m\u001b[0;34m,\u001b[0m \u001b[0mannot\u001b[0m\u001b[0;34m=\u001b[0m\u001b[0;32mTrue\u001b[0m\u001b[0;34m,\u001b[0m \u001b[0mfmt\u001b[0m\u001b[0;34m=\u001b[0m\u001b[0;34m\".3f\"\u001b[0m\u001b[0;34m,\u001b[0m \u001b[0mlinewidths\u001b[0m\u001b[0;34m=\u001b[0m\u001b[0;36m.5\u001b[0m\u001b[0;34m,\u001b[0m \u001b[0msquare\u001b[0m \u001b[0;34m=\u001b[0m \u001b[0;32mTrue\u001b[0m\u001b[0;34m,\u001b[0m \u001b[0mcmap\u001b[0m \u001b[0;34m=\u001b[0m \u001b[0;34m'Pastel1'\u001b[0m\u001b[0;34m)\u001b[0m\u001b[0;34m;\u001b[0m\u001b[0;34m\u001b[0m\u001b[0;34m\u001b[0m\u001b[0m\n\u001b[1;32m      3\u001b[0m \u001b[0mplt\u001b[0m\u001b[0;34m.\u001b[0m\u001b[0mylabel\u001b[0m\u001b[0;34m(\u001b[0m\u001b[0;34m'Actual label'\u001b[0m\u001b[0;34m)\u001b[0m\u001b[0;34m;\u001b[0m\u001b[0;34m\u001b[0m\u001b[0;34m\u001b[0m\u001b[0m\n\u001b[1;32m      4\u001b[0m \u001b[0mplt\u001b[0m\u001b[0;34m.\u001b[0m\u001b[0mxlabel\u001b[0m\u001b[0;34m(\u001b[0m\u001b[0;34m'Predicted label'\u001b[0m\u001b[0;34m)\u001b[0m\u001b[0;34m;\u001b[0m\u001b[0;34m\u001b[0m\u001b[0;34m\u001b[0m\u001b[0m\n\u001b[1;32m      5\u001b[0m \u001b[0mall_sample_title\u001b[0m \u001b[0;34m=\u001b[0m \u001b[0;34m'Accuracy Score: {0}'\u001b[0m\u001b[0;34m.\u001b[0m\u001b[0mformat\u001b[0m\u001b[0;34m(\u001b[0m\u001b[0mscore\u001b[0m\u001b[0;34m)\u001b[0m\u001b[0;34m\u001b[0m\u001b[0;34m\u001b[0m\u001b[0m\n",
      "\u001b[0;31mNameError\u001b[0m: name 'plt' is not defined"
     ]
    }
   ],
   "source": [
    "plt.figure(figsize=(9,9))\n",
    "sns.heatmap(cm, annot=True, fmt=\".3f\", linewidths=.5, square = True, cmap = 'Pastel1');\n",
    "plt.ylabel('Actual label');\n",
    "plt.xlabel('Predicted label');\n",
    "all_sample_title = 'Accuracy Score: {0}'.format(score)\n",
    "plt.title(all_sample_title, size = 15);\n",
    "plt.savefig('logs/random_forest.png')\n",
    "plt.draw()"
   ]
  },
  {
   "cell_type": "markdown",
   "metadata": {},
   "source": [
    "__Roc Curves__"
   ]
  },
  {
   "cell_type": "code",
   "execution_count": null,
   "metadata": {},
   "outputs": [],
   "source": [
    "import matplotlib.pyplot as plt  # doctest: +SKIP\n",
    "from sklearn import datasets, metrics, model_selection, svm\n",
    "\n",
    "rf.fit(X_train, y_train)\n",
    "\n",
    "rfc_disp = metrics.plot_roc_curve(rf, X_test, y_test)  # doctest: +SKIP\n",
    "log_disp = metrics.plot_roc_curve(lr, X_test_scaled, y_test, ax = rfc_disp.ax_)  # doctest: +SKIP\n",
    "dct_disp = metrics.plot_roc_curve(dt_clf, X_test, y_test, ax = rfc_disp.ax_)  # doctest: +SKIP\n",
    "\n",
    "rfc_disp.figure_.suptitle(\"ROC curve comparison\")\n",
    "plt.show()  "
   ]
  },
  {
   "cell_type": "markdown",
   "metadata": {},
   "source": [
    "## Best Model and Model Evaluation"
   ]
  },
  {
   "cell_type": "code",
   "execution_count": null,
   "metadata": {},
   "outputs": [],
   "source": [
    "lr = LogisticRegression(C = 0.1, penalty = 'l2', solver = 'saga', max_iter= 10000)\n",
    "\n",
    "lr.fit(X_train_scaled, y_train)\n",
    "score = lr.score(X_test_scaled, y_test)"
   ]
  },
  {
   "cell_type": "code",
   "execution_count": null,
   "metadata": {},
   "outputs": [],
   "source": [
    "y_pred = lr.predict(X_test_scaled)"
   ]
  },
  {
   "cell_type": "code",
   "execution_count": null,
   "metadata": {},
   "outputs": [],
   "source": [
    "cm = confusion_matrix(y_test, y_pred)"
   ]
  },
  {
   "cell_type": "code",
   "execution_count": null,
   "metadata": {},
   "outputs": [],
   "source": [
    "cm"
   ]
  },
  {
   "cell_type": "code",
   "execution_count": null,
   "metadata": {},
   "outputs": [],
   "source": [
    "score"
   ]
  },
  {
   "cell_type": "code",
   "execution_count": null,
   "metadata": {},
   "outputs": [],
   "source": [
    "utils.plot_confusion_matrix(cm, score)"
   ]
  },
  {
   "cell_type": "markdown",
   "metadata": {},
   "source": [
    "### Extra Material \n",
    "\n",
    "- [Sklearn averages probabilities in RF implementation](https://scikit-learn.org/stable/modules/ensemble.html#forest)\n",
    "\n",
    "- [On the variance](https://newonlinecourses.science.psu.edu/stat414/node/167/)\n",
    "\n",
    "- [Do RF immune to overfitting?](https://en.wikipedia.org/wiki/Talk%3ARandom_forest)\n",
    "\n",
    "- [Tricky stuff with respect to feature importance](http://rnowling.github.io/machine/learning/2015/08/10/random-forest-bias.html)\n",
    "\n",
    "- [An interesting implementation of feature importance](https://scikit-learn.org/stable/auto_examples/ensemble/plot_forest_importances_faces.html#sphx-glr-auto-examples-ensemble-plot-forest-importances-faces-py)\n",
    "\n",
    "- [Different Ensemble Methods in sklearn](https://scikit-learn.org/stable/modules/ensemble.html#forest)\n",
    "\n",
    "- [ISLR - section 8.2](http://faculty.marshall.usc.edu/gareth-james/ISL/ISLR%20Seventh%20Printing.pdf)\n",
    "\n",
    "- [Another library for RF: H2o](http://docs.h2o.ai/h2o/latest-stable/h2o-docs/data-science/drf.html)"
   ]
  }
 ],
 "metadata": {
  "kernelspec": {
   "display_name": "Python 3",
   "language": "python",
   "name": "python3"
  },
  "language_info": {
   "codemirror_mode": {
    "name": "ipython",
    "version": 3
   },
   "file_extension": ".py",
   "mimetype": "text/x-python",
   "name": "python",
   "nbconvert_exporter": "python",
   "pygments_lexer": "ipython3",
   "version": "3.8.3"
  },
  "toc": {
   "base_numbering": 1,
   "nav_menu": {},
   "number_sections": true,
   "sideBar": true,
   "skip_h1_title": false,
   "title_cell": "Table of Contents",
   "title_sidebar": "Contents",
   "toc_cell": false,
   "toc_position": {},
   "toc_section_display": true,
   "toc_window_display": false
  }
 },
 "nbformat": 4,
 "nbformat_minor": 4
}
