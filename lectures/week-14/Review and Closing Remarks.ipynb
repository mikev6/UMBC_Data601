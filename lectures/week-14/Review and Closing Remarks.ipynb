{
 "cells": [
  {
   "cell_type": "markdown",
   "metadata": {
    "slideshow": {
     "slide_type": "slide"
    }
   },
   "source": [
    "# Agenda\n",
    "\n",
    "- Course Evaluations (Deadline: December 8th at midnight)\n",
    "\n",
    "- [Final Project: Deadline December 8th 9:00 AM](https://github.com/mguner/UMBC_Data601/blob/master/assignments/Data601-Final_Project.ipynb)\n",
    "\n",
    "- [Final Report Template](https://github.com/mguner/UMBC_Data601/blob/master/assignments/Final%20Project%20Report%20Template.ipynb)\n",
    "\n",
    "[Google Form for Final Project Submissions](https://forms.gle/XZ3EyLrLTaUsFXEUA)"
   ]
  },
  {
   "cell_type": "markdown",
   "metadata": {
    "slideshow": {
     "slide_type": "slide"
    }
   },
   "source": [
    "# Week 1"
   ]
  },
  {
   "cell_type": "markdown",
   "metadata": {
    "slideshow": {
     "slide_type": "slide"
    }
   },
   "source": [
    "What is Data Science?"
   ]
  },
  {
   "cell_type": "markdown",
   "metadata": {
    "slideshow": {
     "slide_type": "fragment"
    }
   },
   "source": [
    "Data Science is an interdisciplinary field that uses:\n",
    "\n",
    "- Scientific methods\n",
    "\n",
    "- processes\n",
    "\n",
    "- algorithms and\n",
    "\n",
    "- systems \n",
    "\n",
    "to __extract knowledge and insights__ from __structured and unstructured data__\n",
    "\n"
   ]
  },
  {
   "cell_type": "markdown",
   "metadata": {
    "slideshow": {
     "slide_type": "slide"
    }
   },
   "source": [
    "What is Data Science not!"
   ]
  },
  {
   "cell_type": "markdown",
   "metadata": {
    "slideshow": {
     "slide_type": "fragment"
    }
   },
   "source": [
    "- It's not machine learning\n",
    "\n",
    "- It's not statistics\n",
    "\n",
    "- It's not mathematics\n",
    "\n",
    "- It's not AI\n",
    "\n",
    "- It's not dark magic\n",
    "\n",
    "- It's not secret formula"
   ]
  },
  {
   "cell_type": "markdown",
   "metadata": {
    "slideshow": {
     "slide_type": "slide"
    }
   },
   "source": [
    "Roles in Data Science Projects"
   ]
  },
  {
   "cell_type": "markdown",
   "metadata": {
    "slideshow": {
     "slide_type": "fragment"
    }
   },
   "source": [
    "- Data Engineers\n",
    "\n",
    "- Data Scientists\n",
    "\n",
    "- Software Engineers\n",
    "\n",
    "- Data Storyteller/Translators"
   ]
  },
  {
   "cell_type": "markdown",
   "metadata": {
    "slideshow": {
     "slide_type": "slide"
    }
   },
   "source": [
    "Tools of Data Science"
   ]
  },
  {
   "cell_type": "markdown",
   "metadata": {
    "slideshow": {
     "slide_type": "fragment"
    }
   },
   "source": [
    "- Anaconda\n",
    "\n",
    "- Jupyter Notebook\n",
    "\n",
    "- Terminal\n",
    "\n",
    "- Git and Github"
   ]
  },
  {
   "cell_type": "markdown",
   "metadata": {
    "slideshow": {
     "slide_type": "slide"
    }
   },
   "source": [
    "# Week 2: Python Basics"
   ]
  },
  {
   "cell_type": "markdown",
   "metadata": {
    "slideshow": {
     "slide_type": "subslide"
    }
   },
   "source": [
    "- Operators\n",
    "\n",
    "- Data Structures\n",
    "\n",
    "    - Lists\n",
    "    - Dictionaries\n",
    "   \n",
    "- Conditional Statements\n",
    "\n",
    "    - if else\n",
    "    - while\n",
    "\n",
    "- Functions\n",
    "\n",
    "- iterators\n",
    "\n",
    "- String Methods\n"
   ]
  },
  {
   "cell_type": "markdown",
   "metadata": {
    "slideshow": {
     "slide_type": "slide"
    }
   },
   "source": [
    "# Week 3 : Data Wrangling"
   ]
  },
  {
   "cell_type": "markdown",
   "metadata": {
    "slideshow": {
     "slide_type": "fragment"
    }
   },
   "source": [
    "- Data Formats\n",
    "\n",
    "    - JSON, CSV, XML\n",
    "    \n",
    "- JSON library: Opening json files.\n",
    "\n",
    "- Pandas: \n",
    "\n",
    "    - Reading CSV files and TSV files\n",
    "    - Wrangling data with Pandas library\n",
    "\n",
    "- Chardet Library: Encoding/decoding data"
   ]
  },
  {
   "cell_type": "markdown",
   "metadata": {
    "slideshow": {
     "slide_type": "slide"
    }
   },
   "source": [
    "# Week 4 : API's and Webscraping"
   ]
  },
  {
   "cell_type": "markdown",
   "metadata": {
    "slideshow": {
     "slide_type": "slide"
    }
   },
   "source": [
    "- REST API\n",
    "\n",
    "    - \"REST API is a web service that uses REST (Representational State Transfer) architecture to handle a request on a frontend web service.\"\n",
    "\n",
    "- Python Requests Library\n",
    "\n",
    "- wikipedia API, Open Notify API\n",
    "\n",
    "- Working with API Keys with an example from YELP API"
   ]
  },
  {
   "cell_type": "markdown",
   "metadata": {
    "slideshow": {
     "slide_type": "slide"
    }
   },
   "source": [
    "# Week 5: Data Science Life Cycle: CrispDM"
   ]
  },
  {
   "cell_type": "markdown",
   "metadata": {
    "slideshow": {
     "slide_type": "slide"
    }
   },
   "source": [
    "- Data Science Project Life Cycle:"
   ]
  },
  {
   "cell_type": "markdown",
   "metadata": {
    "slideshow": {
     "slide_type": "fragment"
    }
   },
   "source": [
    "- Business Understanding"
   ]
  },
  {
   "cell_type": "markdown",
   "metadata": {
    "slideshow": {
     "slide_type": "fragment"
    }
   },
   "source": [
    "- Data Understanding"
   ]
  },
  {
   "cell_type": "markdown",
   "metadata": {
    "slideshow": {
     "slide_type": "fragment"
    }
   },
   "source": [
    "- Data Preparation"
   ]
  },
  {
   "cell_type": "markdown",
   "metadata": {
    "slideshow": {
     "slide_type": "fragment"
    }
   },
   "source": [
    "- Modeling"
   ]
  },
  {
   "cell_type": "markdown",
   "metadata": {
    "slideshow": {
     "slide_type": "fragment"
    }
   },
   "source": [
    "- Evaluation"
   ]
  },
  {
   "cell_type": "markdown",
   "metadata": {
    "slideshow": {
     "slide_type": "fragment"
    }
   },
   "source": [
    "- Deployment - Sharing Results"
   ]
  },
  {
   "cell_type": "markdown",
   "metadata": {
    "slideshow": {
     "slide_type": "slide"
    }
   },
   "source": [
    "<center>\n",
    "    <img src = 'images/crisp_dm.png' width =550 />\n",
    "    <center/>"
   ]
  },
  {
   "cell_type": "markdown",
   "metadata": {
    "slideshow": {
     "slide_type": "slide"
    }
   },
   "source": [
    "- Reproducibility - Science Part of DS\n",
    "\n",
    "    - Script Everything\n",
    "\n",
    "    - Record-document decision making steps.\n",
    "\n",
    "    - Start thinking about this at the beginning of the project - Planning"
   ]
  },
  {
   "cell_type": "markdown",
   "metadata": {
    "slideshow": {
     "slide_type": "slide"
    }
   },
   "source": [
    "# Week 6 : Regression"
   ]
  },
  {
   "cell_type": "markdown",
   "metadata": {
    "slideshow": {
     "slide_type": "slide"
    }
   },
   "source": [
    "__Measurement Scales__"
   ]
  },
  {
   "cell_type": "markdown",
   "metadata": {
    "slideshow": {
     "slide_type": "fragment"
    }
   },
   "source": [
    "- Nominal Scales\n",
    "   \n",
    "    - Republican, Democrat"
   ]
  },
  {
   "cell_type": "markdown",
   "metadata": {
    "slideshow": {
     "slide_type": "fragment"
    }
   },
   "source": [
    "- Ordinal Scales\n",
    "\n",
    "    - commander < captain < admiral"
   ]
  },
  {
   "cell_type": "markdown",
   "metadata": {
    "slideshow": {
     "slide_type": "fragment"
    }
   },
   "source": [
    "- Interval Scales\n",
    "\n",
    "    - 10°F, 20°F, 40°F, 80°F"
   ]
  },
  {
   "cell_type": "markdown",
   "metadata": {
    "slideshow": {
     "slide_type": "fragment"
    }
   },
   "source": [
    "- Ratio Scales\n",
    "\n",
    "    - Time, Weights, Distances"
   ]
  },
  {
   "cell_type": "markdown",
   "metadata": {
    "slideshow": {
     "slide_type": "slide"
    }
   },
   "source": [
    "__Algorithm: Linear Regression__"
   ]
  },
  {
   "cell_type": "markdown",
   "metadata": {
    "slideshow": {
     "slide_type": "fragment"
    }
   },
   "source": [
    "- Model: $Y = \\beta_0 + \\beta_1 \\mathbf{X_1} + \\cdots + \\beta_{p} \\mathbf{X_{p}} + \\mathbf{\\mathcal{E}}$ \n",
    "\n",
    "- Objective Function, Cost Function: Least Squeares Approach\n",
    "\n",
    "- Evaluation Metrics: $R^{2}$: Explained Variance"
   ]
  },
  {
   "cell_type": "markdown",
   "metadata": {
    "slideshow": {
     "slide_type": "slide"
    }
   },
   "source": [
    "__Model Assumptions__"
   ]
  },
  {
   "cell_type": "markdown",
   "metadata": {
    "slideshow": {
     "slide_type": "fragment"
    }
   },
   "source": [
    "- Linearity\n",
    "- Normality of errors (with fixed mean and standard deviation)\n",
    "- Independence of observations\n",
    "\n",
    "For Sanity Checks:\n",
    "\n",
    "- Residual Plots"
   ]
  },
  {
   "cell_type": "markdown",
   "metadata": {
    "slideshow": {
     "slide_type": "slide"
    }
   },
   "source": [
    "# Week 7 : Classification Problems"
   ]
  },
  {
   "cell_type": "markdown",
   "metadata": {
    "slideshow": {
     "slide_type": "slide"
    }
   },
   "source": [
    "- Introduction: \n",
    "\n",
    "    - Different Classification problem examples\n",
    "    \n",
    "    - Comparison of Linear Regression and Classification problems\n",
    "\n",
    "- Binary vs Multi-Class Problems"
   ]
  },
  {
   "cell_type": "markdown",
   "metadata": {
    "slideshow": {
     "slide_type": "slide"
    }
   },
   "source": [
    "__Algorithm: Logistic Regression__"
   ]
  },
  {
   "cell_type": "markdown",
   "metadata": {
    "slideshow": {
     "slide_type": "fragment"
    }
   },
   "source": [
    "- Model: Log of odds and use of logit function\n",
    "\n",
    "- Objective-Cost Function: Negative loglikelihood\n",
    "\n",
    "- Evaluation: Confusion Matrix with python and accuracy,recall and precision."
   ]
  },
  {
   "cell_type": "markdown",
   "metadata": {
    "slideshow": {
     "slide_type": "slide"
    }
   },
   "source": [
    "# Week 8 : Model Selection and Evaluation"
   ]
  },
  {
   "cell_type": "markdown",
   "metadata": {
    "slideshow": {
     "slide_type": "slide"
    }
   },
   "source": [
    "- Training error vs Test Error\n",
    "\n",
    "- Bias-Variance Trade Off\n",
    "\n",
    "- Different cross validation approaches for estimating the test error. "
   ]
  },
  {
   "cell_type": "markdown",
   "metadata": {
    "slideshow": {
     "slide_type": "fragment"
    }
   },
   "source": [
    "__Regularization Techniques__\n",
    "\n",
    "- Ridge and Lasso (L2 and L1 penalty)"
   ]
  },
  {
   "cell_type": "markdown",
   "metadata": {
    "slideshow": {
     "slide_type": "slide"
    }
   },
   "source": [
    "# Week 9 : Unsupervised Learning Problems"
   ]
  },
  {
   "cell_type": "markdown",
   "metadata": {
    "slideshow": {
     "slide_type": "slide"
    }
   },
   "source": [
    "- Introduction to Unsupervised Learning Problems\n",
    "\n",
    "- Introduction to Clustering Problems\n",
    "\n",
    "- Algorithm: KMeans\n",
    "\n",
    "- Objective Function: Inertia\n",
    "\n",
    "- Evaluation Metrics: Silhoutte and Calinski-Harabasz metrics, elbow method\n"
   ]
  },
  {
   "cell_type": "markdown",
   "metadata": {
    "slideshow": {
     "slide_type": "slide"
    }
   },
   "source": [
    "# Week 10 : Unsupervised Learning Problems-II"
   ]
  },
  {
   "cell_type": "markdown",
   "metadata": {
    "slideshow": {
     "slide_type": "slide"
    }
   },
   "source": [
    "- Introduction to the problem of dimension reduction.\n",
    "- Algorithm: PCA\n",
    "- Objective Function: Explained Variance\n",
    "- Elbow Method and Explained Variance"
   ]
  },
  {
   "cell_type": "markdown",
   "metadata": {
    "slideshow": {
     "slide_type": "slide"
    }
   },
   "source": [
    "# Week 11 : Handling Time Series Data"
   ]
  },
  {
   "cell_type": "markdown",
   "metadata": {
    "slideshow": {
     "slide_type": "slide"
    }
   },
   "source": [
    "- Define timeseries data and its challenges.\n",
    "\n",
    "- Introduce `to_datetime` method from pandas library\n",
    "\n",
    "- Time series data plotting with pandas\n",
    "\n",
    "- Rolling Averages\n",
    "\n",
    "- Resampling Methods: ffill, bfill"
   ]
  },
  {
   "cell_type": "markdown",
   "metadata": {
    "slideshow": {
     "slide_type": "slide"
    }
   },
   "source": [
    "# Week 12 : Ethics of Data Science"
   ]
  },
  {
   "cell_type": "markdown",
   "metadata": {
    "slideshow": {
     "slide_type": "slide"
    }
   },
   "source": [
    "- Informed Consent\n",
    "\n",
    "- Profiling and Discrimination\n",
    "\n",
    "- Checklists\n",
    "\n",
    "- Five C's of Ethics of DS\n",
    "\n",
    "    - Consent\n",
    "    - Clarity\n",
    "    - Consistency and Trust\n",
    "    - Control and Transparency\n",
    "    - Consequences"
   ]
  },
  {
   "cell_type": "markdown",
   "metadata": {
    "slideshow": {
     "slide_type": "slide"
    }
   },
   "source": [
    "# Week 13 : End to End DS Project"
   ]
  },
  {
   "cell_type": "markdown",
   "metadata": {
    "slideshow": {
     "slide_type": "slide"
    }
   },
   "source": [
    "- Creating a virtual environment\n",
    "\n",
    "- Review of overall structure of a good project."
   ]
  },
  {
   "cell_type": "markdown",
   "metadata": {
    "slideshow": {
     "slide_type": "slide"
    }
   },
   "source": [
    "# Week 14 : Final Week, Review, Feedback"
   ]
  }
 ],
 "metadata": {
  "celltoolbar": "Slideshow",
  "kernelspec": {
   "display_name": "Python 3",
   "language": "python",
   "name": "python3"
  },
  "language_info": {
   "codemirror_mode": {
    "name": "ipython",
    "version": 3
   },
   "file_extension": ".py",
   "mimetype": "text/x-python",
   "name": "python",
   "nbconvert_exporter": "python",
   "pygments_lexer": "ipython3",
   "version": "3.8.3"
  },
  "toc": {
   "base_numbering": 1,
   "nav_menu": {},
   "number_sections": true,
   "sideBar": true,
   "skip_h1_title": false,
   "title_cell": "Table of Contents",
   "title_sidebar": "Contents",
   "toc_cell": false,
   "toc_position": {},
   "toc_section_display": true,
   "toc_window_display": false
  }
 },
 "nbformat": 4,
 "nbformat_minor": 4
}
