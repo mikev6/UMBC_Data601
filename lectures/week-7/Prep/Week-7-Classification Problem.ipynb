{
 "cells": [
  {
   "cell_type": "markdown",
   "metadata": {},
   "source": [
    "# Week-7 Classification Problems\n",
    "\n",
    "[Introduction to Statistical Learning with R](https://faculty.marshall.usc.edu/gareth-james/ISL/ISLR%20Seventh%20Printing.pdf)\n",
    "\n",
    "## Chapter-4 Classification p127 to p138\n",
    "\n",
    "\n",
    "__Some points to keep in your mind as you're reading__\n",
    "\n",
    "\n",
    "* Give some examples for qualitative data\n",
    "\n",
    "* Come up with more examples of classification task\n",
    "\n",
    "* Understand why we cannot label Y variables with numbers and try to fit a linear regression to the data.\n",
    "\n",
    "* What does logistic regression model?\n",
    "\n",
    "* What does the notation Pr(default = Yes | balance) mean?\n",
    "\n",
    "* What does p(X) stand for in equation 4.1\n",
    "\n",
    "* What is the maximum value of logistic function?\n",
    "\n",
    "* What is the minimum value of logistic function?\n",
    "\n",
    "* What are the minimum and maximum possible values of the exponential function $e^{x}$?\n",
    "\n",
    "* Explain maximum likelihood method.\n",
    "\n",
    "* Derive equation 4.3 from 4.2\n",
    "\n",
    "* What is logit function?\n",
    "\n",
    "* What is likelihood function?\n",
    "\n",
    "* What is the maximum value of the likelihood function?\n",
    "\n",
    "* What is the minimum value of the likelihood function?\n",
    "\n",
    "* Once $\\beta$'s learned then how do we use them for making new predictions?"
   ]
  }
 ],
 "metadata": {
  "kernelspec": {
   "display_name": "Python 3",
   "language": "python",
   "name": "python3"
  },
  "language_info": {
   "codemirror_mode": {
    "name": "ipython",
    "version": 3
   },
   "file_extension": ".py",
   "mimetype": "text/x-python",
   "name": "python",
   "nbconvert_exporter": "python",
   "pygments_lexer": "ipython3",
   "version": "3.8.3"
  },
  "toc": {
   "base_numbering": 1,
   "nav_menu": {},
   "number_sections": true,
   "sideBar": true,
   "skip_h1_title": false,
   "title_cell": "Table of Contents",
   "title_sidebar": "Contents",
   "toc_cell": false,
   "toc_position": {},
   "toc_section_display": true,
   "toc_window_display": false
  }
 },
 "nbformat": 4,
 "nbformat_minor": 4
}
