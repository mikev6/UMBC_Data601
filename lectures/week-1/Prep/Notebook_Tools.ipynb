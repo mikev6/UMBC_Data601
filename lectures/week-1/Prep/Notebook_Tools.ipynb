{
 "cells": [
  {
   "cell_type": "markdown",
   "metadata": {},
   "source": [
    "Notebook is a useful tool for data scientists: It allows us to use coding and presentation tools together. "
   ]
  },
  {
   "cell_type": "code",
   "execution_count": 1,
   "metadata": {},
   "outputs": [
    {
     "name": "stdout",
     "output_type": "stream",
     "text": [
      "Welcome to DATA601!\n"
     ]
    }
   ],
   "source": [
    "# we can code\n",
    "\n",
    "print(\"Welcome to DATA601!\")"
   ]
  },
  {
   "cell_type": "markdown",
   "metadata": {},
   "source": [
    "__we can create headers of different sizes__\n",
    "\n",
    "# Header\n",
    "\n",
    "## Header\n",
    "\n",
    "### Header\n",
    "\n",
    "#### Header\n",
    "\n",
    "__we can create bullet points__\n",
    "\n",
    "- Item\n",
    "- item\n",
    "\n",
    "__we can order items__\n",
    "\n",
    "1. item 1\n",
    "1. item 2\n",
    "\n",
    "__we can write mathematical formulas__\n",
    "\n",
    "simple ones:\n",
    "\n",
    "$$ X^{n} = Y^{n} + Z^{n} $$\n",
    "\n",
    "or a litte bit complicated ones:\n",
    "\n",
    "\\begin{align}\n",
    "\\nabla \\times \\vec{\\mathbf{B}} -\\, \\frac1c\\, \\frac{\\partial\\vec{\\mathbf{E}}}{\\partial t} & = \\frac{4\\pi}{c}\\vec{\\mathbf{j}} \\\\   \\nabla \\cdot \\vec{\\mathbf{E}} & = 4 \\pi \\rho \\\\\n",
    "\\nabla \\times \\vec{\\mathbf{E}}\\, +\\, \\frac1c\\, \\frac{\\partial\\vec{\\mathbf{B}}}{\\partial t} & = \\vec{\\mathbf{0}} \\\\\n",
    "\\nabla \\cdot \\vec{\\mathbf{B}} & = 0\n",
    "\\end{align}\n",
    "\n",
    "__we can create links__\n",
    "\n",
    "[Jupyter notebook Documentation](https://jupyter-notebook.readthedocs.io/en/stable/examples/Notebook/Typesetting%20Equations.html)\n",
    "\n",
    "__we can embed codes into text__\n",
    "\n",
    "```python\n",
    "\n",
    "for i in range(10):\n",
    "    if i%5 == 0:\n",
    "        print(\"{} is divisible by 5\".format(i))\n",
    "    else:\n",
    "        print(\"{} is not divisible by 5\".format(i))\n",
    "```\n",
    "\n",
    "\n",
    "__we can write html__\n",
    "\n",
    "<img src = \"images/notebook_logo.jpeg\" width= 450/>\n",
    "\n",
    "__we can create tables__\n",
    "\n",
    "| Column 1       | Column 2     | Column 3     |\n",
    "| :------------- | :----------: | -----------: |\n",
    "|  Cell Contents | More Stuff   | And Again    |\n",
    "| You Can Also   | Put Pipes In | Like this    |\n",
    "| More     | Items        | Added        |\n",
    "\n",
    "\n",
    "__we can create colored boxes for tips and notes__\n",
    "\n",
    "<div class=\"alert alert-block alert-info\">\n",
    "<b>Tip:</b> Use blue boxes (alert-info) for tips and notes. \n",
    "If it’s a note, you don’t have to include the word “Note”.\n",
    "</div>\n",
    "\n",
    "<div class=\"alert alert-block alert-warning\">\n",
    "<b>Example:</b> Use yellow boxes for examples that are not \n",
    "inside code cells, or use for mathematical formulas if needed.\n",
    "</div>\n",
    "\n",
    " ***\n",
    "\n",
    "For more on what you can do with jupyter-notebook markdowns check out online tutorials and documentation. I find this blog post particularly interesting.\n",
    "\n",
    "[IBM - Markdown Tutorial](https://www.ibm.com/support/knowledgecenter/SSHGWL_1.2.3/analyze-data/markd-jupyter.html)"
   ]
  },
  {
   "cell_type": "code",
   "execution_count": 13,
   "metadata": {},
   "outputs": [
    {
     "name": "stdout",
     "output_type": "stream",
     "text": [
      "Screen Shot 2020-08-28 at 1.10.56 PM.png\r\n",
      "Screen Shot 2020-08-28 at 6.40.19 PM.png\r\n",
      "Screen Shot 2020-08-28 at 6.40.35 PM.png\r\n",
      "Screen Shot 2020-08-29 at 6.54.04 PM.png\r\n",
      "USG.png\r\n",
      "git_logo.jpeg\r\n",
      "git_logo.png\r\n"
     ]
    }
   ],
   "source": [
    "!ls /Users/mguner/Desktop/"
   ]
  },
  {
   "cell_type": "markdown",
   "metadata": {},
   "source": [
    "<button type=\"button\" class=\"btn\">Basic</button>\n",
    "\n",
    "<input type=\"button\" class=\"btn btn-info\" value=\"Input Button\">\n",
    "\n",
    "<a href=https://www.w3schools.com/bootstrap/bootstrap_buttons.asp class=\"btn btn-info\" role=\"button\">More button examples</a>"
   ]
  },
  {
   "cell_type": "code",
   "execution_count": 1,
   "metadata": {},
   "outputs": [],
   "source": [
    "import pandas as pd"
   ]
  },
  {
   "cell_type": "code",
   "execution_count": 7,
   "metadata": {},
   "outputs": [
    {
     "data": {
      "text/html": [
       "<div>\n",
       "<style scoped>\n",
       "    .dataframe tbody tr th:only-of-type {\n",
       "        vertical-align: middle;\n",
       "    }\n",
       "\n",
       "    .dataframe tbody tr th {\n",
       "        vertical-align: top;\n",
       "    }\n",
       "\n",
       "    .dataframe thead th {\n",
       "        text-align: right;\n",
       "    }\n",
       "</style>\n",
       "<table border=\"1\" class=\"dataframe\">\n",
       "  <thead>\n",
       "    <tr style=\"text-align: right;\">\n",
       "      <th></th>\n",
       "      <th>Data601</th>\n",
       "      <th>Data602</th>\n",
       "    </tr>\n",
       "  </thead>\n",
       "  <tbody>\n",
       "    <tr>\n",
       "      <th>0</th>\n",
       "      <td>Murat</td>\n",
       "      <td>John</td>\n",
       "    </tr>\n",
       "    <tr>\n",
       "      <th>1</th>\n",
       "      <td>Marry</td>\n",
       "      <td>Mike</td>\n",
       "    </tr>\n",
       "    <tr>\n",
       "      <th>2</th>\n",
       "      <td>Stu</td>\n",
       "      <td>Alice</td>\n",
       "    </tr>\n",
       "  </tbody>\n",
       "</table>\n",
       "</div>"
      ],
      "text/plain": [
       "  Data601 Data602\n",
       "0   Murat    John\n",
       "1   Marry    Mike\n",
       "2     Stu   Alice"
      ]
     },
     "execution_count": 7,
     "metadata": {},
     "output_type": "execute_result"
    }
   ],
   "source": [
    "pd.DataFrame({\"Data601\": [\"Murat\", \"Marry\", \"Stu\"], \"Data602\":[\"John\", \"Mike\", \"Alice\"]})"
   ]
  },
  {
   "cell_type": "markdown",
   "metadata": {},
   "source": []
  },
  {
   "cell_type": "markdown",
   "metadata": {},
   "source": [
    "<div class=\"container\">\n",
    "  <h2>Basic Table</h2>\n",
    "  <p>The .table class adds basic styling (light padding and only horizontal dividers) to a table:</p>            \n",
    "  <table class=\"table\">\n",
    "    <thead>\n",
    "      <tr>\n",
    "        <th>Firstname</th>\n",
    "        <th>Lastname</th>\n",
    "        <th>Email</th>\n",
    "      </tr>\n",
    "    </thead>\n",
    "    <tbody>\n",
    "      <tr>\n",
    "        <td>John</td>\n",
    "        <td>Doe</td>\n",
    "        <td>john@example.com</td>\n",
    "      </tr>\n",
    "      <tr>\n",
    "        <td>Mary</td>\n",
    "        <td>Moe</td>\n",
    "        <td>mary@example.com</td>\n",
    "      </tr>\n",
    "      <tr>\n",
    "        <td>July</td>\n",
    "        <td>Dooley</td>\n",
    "        <td>july@example.com</td>\n",
    "      </tr>\n",
    "    </tbody>\n",
    "  </table>\n",
    "</div>"
   ]
  },
  {
   "cell_type": "markdown",
   "metadata": {},
   "source": [
    "<div class=\"alert alert-success\">\n",
    "  <strong>Success!</strong> You should <a href=\"https://www.w3schools.com/bootstrap/bootstrap_alerts.asp\" class=\"alert-link\">read this message</a>.\n",
    "</div>"
   ]
  }
 ],
 "metadata": {
  "kernelspec": {
   "display_name": "Python 3",
   "language": "python",
   "name": "python3"
  },
  "language_info": {
   "codemirror_mode": {
    "name": "ipython",
    "version": 3
   },
   "file_extension": ".py",
   "mimetype": "text/x-python",
   "name": "python",
   "nbconvert_exporter": "python",
   "pygments_lexer": "ipython3",
   "version": "3.8.3"
  },
  "toc": {
   "base_numbering": 1,
   "nav_menu": {},
   "number_sections": true,
   "sideBar": true,
   "skip_h1_title": false,
   "title_cell": "Table of Contents",
   "title_sidebar": "Contents",
   "toc_cell": false,
   "toc_position": {},
   "toc_section_display": true,
   "toc_window_display": false
  }
 },
 "nbformat": 4,
 "nbformat_minor": 4
}
