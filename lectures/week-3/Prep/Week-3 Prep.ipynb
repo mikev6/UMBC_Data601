{
 "cells": [
  {
   "cell_type": "markdown",
   "metadata": {},
   "source": [
    "# Week-3: Data Visualization and Cleaning \n",
    "\n",
    "## Readings:\n",
    "\n",
    "- From Think Like a Data Scientist: \n",
    "\n",
    "    - Chapter-4: Data Wrangling: from capture to domestication\n",
    "    - Chapter-5: Data Assessment: Poking and Prodding\n",
    "    \n",
    "Some questions to keep in mind as you are reading:\n",
    "\n",
    "- What is Data Wrangling?\n",
    "\n",
    "- Why wrangling isn't a task with can be described exactly?\n",
    "\n",
    "- Think about a sport and choose two very important figures of this sport (Messi vs Maradona for soccer, M. Jordan vs L. James in basketball, Sampras vs Federer for tennis, etc. ) and ask yourself how would you make a good (good in the context of data science) comparison of these two players.\n",
    "\n",
    "- Where you would go to get data?\n",
    "\n",
    "- What might be some challenges of the  data you collected?\n",
    "\n",
    "- What are the some types of messy data?\n",
    "\n",
    "- What might go wrong with the data when you collect it from an online source?\n",
    "\n",
    "- What are the common file formats?\n",
    "\n",
    "- What are the common pitfalls in data wrangling?\n",
    "\n",
    "- What are the some of the most important descriptive statistics?\n",
    "\n",
    "- Compare descriptive and inferential statistics.\n",
    "\n",
    "- What is histogram?\n",
    "\n",
    "- When we talk about the distribution of a variable what do we mean?\n",
    "    \n",
    "## For Coding Part:\n",
    "\n",
    "- [Python Data Science Handbook](https://jakevdp.github.io/PythonDataScienceHandbook/index.html)\n",
    "    - Chapter-3: Data Manipulation with Pandas\n",
    "    - Chapter-4: Visualization with Matplotlib\n",
    "\n",
    "## Additional Resources\n",
    "\n",
    "- [matplotlib Gallery](https://matplotlib.org/3.1.1/gallery/index.html)\n",
    "\n",
    "- [PyData Conference - Cleaning and Tidying Data in Pandas](https://www.youtube.com/watch?v=iYie42M1ZyU&ab_channel=PyData)\n",
    "\n",
    "- [Data School - Top 25 Pandas Tricks](https://www.youtube.com/watch?v=RlIiVeig3hc&ab_channel=DataSchool)\n",
    "\n",
    "- [Become a Python Analyst - Pandas Tutorial](https://github.com/PacktPublishing/Become-a-Python-Data-AnalystV2B/blob/master/Chapter03/DataAnalysisWithPandas.ipynb)"
   ]
  }
 ],
 "metadata": {
  "kernelspec": {
   "display_name": "Python 3",
   "language": "python",
   "name": "python3"
  },
  "language_info": {
   "codemirror_mode": {
    "name": "ipython",
    "version": 3
   },
   "file_extension": ".py",
   "mimetype": "text/x-python",
   "name": "python",
   "nbconvert_exporter": "python",
   "pygments_lexer": "ipython3",
   "version": "3.8.3"
  },
  "toc": {
   "base_numbering": 1,
   "nav_menu": {},
   "number_sections": true,
   "sideBar": true,
   "skip_h1_title": false,
   "title_cell": "Table of Contents",
   "title_sidebar": "Contents",
   "toc_cell": false,
   "toc_position": {},
   "toc_section_display": true,
   "toc_window_display": false
  }
 },
 "nbformat": 4,
 "nbformat_minor": 4
}
