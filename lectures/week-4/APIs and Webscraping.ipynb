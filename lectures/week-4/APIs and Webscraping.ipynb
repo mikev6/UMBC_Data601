{
 "cells": [
  {
   "cell_type": "markdown",
   "metadata": {
    "slideshow": {
     "slide_type": "slide"
    }
   },
   "source": [
    "# Agenda\n",
    "\n",
    "- Logistics \n",
    "\n",
    "-- What is API?\n",
    "\n",
    "- Why to use API?\n",
    "\n",
    "- Some Examples of API's\n",
    "\n",
    "- Types of HTTP Status codes\n",
    "\n",
    "- Token's and authentication\n",
    "\n",
    "- [Github API](https://developer.github.com/v3/)"
   ]
  },
  {
   "cell_type": "markdown",
   "metadata": {
    "slideshow": {
     "slide_type": "slide"
    }
   },
   "source": [
    "# Hw-1\n",
    "\n",
    "- Extension (optional) to 09/24 4:30 PM\n",
    "\n",
    "- If you want to submit right now: You will get 2pts (out of 10) bonus.\n",
    "\n",
    "- [Google Form](https://forms.gle/Y3T4ycudhr9Yb4z26)"
   ]
  },
  {
   "cell_type": "markdown",
   "metadata": {
    "slideshow": {
     "slide_type": "slide"
    }
   },
   "source": [
    "# Hw-2\n",
    "\n",
    "- Due Date: Week-9 (10/08 - Thursday 4:30 PM)\n",
    "\n",
    "- Data acquisition (Either with an API or web scraping) and wrangling\n",
    "\n",
    "- Deliverables: Same as the first homework\n",
    "\n",
    "    - Github Repo with organized ReadMe\n",
    "    - Clean code for scraping - using API\n",
    "    - A report notebook (Technical Notebook)\n",
    "    \n",
    "- [A Perfect Example](https://github.com/tgel0/spotify-data)"
   ]
  },
  {
   "cell_type": "markdown",
   "metadata": {
    "slideshow": {
     "slide_type": "slide"
    }
   },
   "source": [
    "# What is an API?\n",
    "\n",
    "API: __A__plication __P__rogramming __I__nterface\n",
    "\n",
    "\"It defines a way for services and products to communicate with each other through a documented interface\"\n"
   ]
  },
  {
   "cell_type": "markdown",
   "metadata": {
    "slideshow": {
     "slide_type": "slide"
    }
   },
   "source": [
    "__Why to use an API?__\n",
    "\n",
    "- Share data easily\n",
    "\n",
    "- Control/track shared data\n",
    "\n",
    "- For users: CSV's as static - data changes rapidly\n",
    "\n",
    "- You don't want to save all of the data -  You need only a smaller relevant part of the data.\n"
   ]
  },
  {
   "cell_type": "markdown",
   "metadata": {
    "slideshow": {
     "slide_type": "slide"
    }
   },
   "source": [
    "- \"Some APIs, like the Reddit and Spotify APIs, are designed to expand the reach of the organization by making their data available to users, and enabling external developers to build products that are in some way reliant on the business, and so keep customers coming back. For example, Spotify featured the “artist explorer” in the hopes that users will find new artists, build new playlists, and therefore continue (or start) using Spotify.\""
   ]
  },
  {
   "cell_type": "markdown",
   "metadata": {},
   "source": [
    "[Source](https://medium.com/@TebbaVonMathenstien/what-is-an-api-and-why-should-i-use-one-863c3365726b)"
   ]
  },
  {
   "cell_type": "markdown",
   "metadata": {
    "slideshow": {
     "slide_type": "slide"
    }
   },
   "source": [
    "__Some Examples__\n",
    "\n",
    "[Google Geolocation API](https://developers.google.com/maps/documentation/geolocation/overview)\n",
    "\n",
    "[Spotify Web API](https://developer.spotify.com/documentation/web-api/)\n",
    "\n",
    "[Twitter API](https://help.twitter.com/en/rules-and-policies/twitter-api)\n",
    "\n",
    "[Sklearn API?](https://scikit-learn.org/stable/modules/classes.html)"
   ]
  },
  {
   "cell_type": "markdown",
   "metadata": {
    "slideshow": {
     "slide_type": "slide"
    }
   },
   "source": [
    "__Example API: wikipedia__"
   ]
  },
  {
   "cell_type": "code",
   "execution_count": 141,
   "metadata": {
    "slideshow": {
     "slide_type": "slide"
    }
   },
   "outputs": [
    {
     "name": "stdout",
     "output_type": "stream",
     "text": [
      "Collecting package metadata (current_repodata.json): done\n",
      "Solving environment: done\n",
      "\n",
      "# All requested packages already installed.\n",
      "\n"
     ]
    }
   ],
   "source": [
    "# Install a conda package in the current Jupyter kernel\n",
    "import sys\n",
    "!conda install -c conda-forge --yes --prefix {sys.prefix} wikipedia"
   ]
  },
  {
   "cell_type": "code",
   "execution_count": 142,
   "metadata": {
    "slideshow": {
     "slide_type": "slide"
    }
   },
   "outputs": [],
   "source": [
    "## Let's import wikipedia - Make sure you installed it before importing\n",
    "import wikipedia\n",
    "\n",
    "## let's get some data\n",
    "\n",
    "ds = wikipedia.page(\"Data Science\")\n",
    "\n",
    "## check summary, content, section, title, etc.\n",
    "ds.summary;"
   ]
  },
  {
   "cell_type": "markdown",
   "metadata": {
    "slideshow": {
     "slide_type": "notes"
    }
   },
   "source": [
    "[IBM - What is an API](https://developer.ibm.com/apiconnect/docs/what-is-an-api/)\n",
    "[Wiki - API](https://en.wikipedia.org/wiki/API)\n",
    "\n",
    "[What is an API - Why Should I Use It?](https://medium.com/@TebbaVonMathenstien/what-is-an-api-and-why-should-i-use-one-863c3365726b)"
   ]
  },
  {
   "cell_type": "markdown",
   "metadata": {
    "slideshow": {
     "slide_type": "slide"
    }
   },
   "source": [
    "__What is a REST API?__\n",
    "\n",
    "\"A REST API is a web service that uses the REST (Representational State Transfer) architecture to handle a request on a frontend web service.\"\n",
    "\n",
    "[Source: IBM - What is a REST API](https://www.ibm.com/cloud/learn/rest-apis)"
   ]
  },
  {
   "cell_type": "markdown",
   "metadata": {
    "slideshow": {
     "slide_type": "slide"
    }
   },
   "source": [
    "__What are the actions we can do with REST__\n",
    "\n",
    "- GET: To Request data from a specified resource.\n",
    "\n",
    "- POST: To send data to a server to create/update a resource.\n",
    "\n",
    "- PUT: To send data to a server to create/update a resource.\n",
    "\n",
    "- DELETE: To delete the specified resource."
   ]
  },
  {
   "cell_type": "markdown",
   "metadata": {},
   "source": [
    "[Source](https://www.w3schools.com/tags/ref_httpmethods.asp)"
   ]
  },
  {
   "cell_type": "markdown",
   "metadata": {
    "slideshow": {
     "slide_type": "slide"
    }
   },
   "source": [
    "__Python Requests Library__\n",
    "\n",
    "\"Requests is an elegant and simple HTTP library for Python, built for human beings.\"\n",
    "\n",
    "First Let's make sure that `requests` library is installed."
   ]
  },
  {
   "cell_type": "markdown",
   "metadata": {},
   "source": [
    "[Python Requests Library](https://requests.readthedocs.io/en/master/)"
   ]
  },
  {
   "cell_type": "code",
   "execution_count": 3,
   "metadata": {
    "slideshow": {
     "slide_type": "slide"
    }
   },
   "outputs": [
    {
     "name": "stdout",
     "output_type": "stream",
     "text": [
      "Collecting package metadata (current_repodata.json): done\n",
      "Solving environment: done\n",
      "\n",
      "# All requested packages already installed.\n",
      "\n"
     ]
    }
   ],
   "source": [
    "## requests library installation\n",
    "import sys\n",
    "!conda install -c conda-forge --yes --prefix {sys.prefix} requests"
   ]
  },
  {
   "cell_type": "markdown",
   "metadata": {
    "slideshow": {
     "slide_type": "slide"
    }
   },
   "source": [
    "Now, let's see what are the some of the things we can do with `requests` library"
   ]
  },
  {
   "cell_type": "code",
   "execution_count": 28,
   "metadata": {
    "slideshow": {
     "slide_type": "slide"
    }
   },
   "outputs": [
    {
     "data": {
      "text/plain": [
       "requests.models.Response"
      ]
     },
     "execution_count": 28,
     "metadata": {},
     "output_type": "execute_result"
    }
   ],
   "source": [
    "## first import requests library\n",
    "import requests\n",
    "## The most simple/basic thing we will do with requests library\n",
    "## is to make a request\n",
    "\n",
    "r = requests.get('https://api.github.com/events')\n",
    "\n",
    "## r is an Response object\n",
    "type(r)"
   ]
  },
  {
   "cell_type": "markdown",
   "metadata": {
    "slideshow": {
     "slide_type": "slide"
    }
   },
   "source": [
    "__Response Content__\n"
   ]
  },
  {
   "cell_type": "code",
   "execution_count": 5,
   "metadata": {},
   "outputs": [],
   "source": [
    "## We can read the content of the server's response\n",
    "## .text return string valued response- make educated guess about the encoding\n",
    "r.text;\n",
    "\n",
    "## .content returns bytes - for non-text requests\n",
    "\n",
    "r.content;\n",
    "\n",
    "## If you know that you are getting the data in json format:\n",
    "r.json();"
   ]
  },
  {
   "cell_type": "code",
   "execution_count": 6,
   "metadata": {
    "slideshow": {
     "slide_type": "slide"
    }
   },
   "outputs": [
    {
     "ename": "HTTPError",
     "evalue": "404 Client Error: NOT FOUND for url: https://httpbin.org/status/404",
     "output_type": "error",
     "traceback": [
      "\u001b[0;31m---------------------------------------------------------------------------\u001b[0m",
      "\u001b[0;31mHTTPError\u001b[0m                                 Traceback (most recent call last)",
      "\u001b[0;32m<ipython-input-6-64d47be0712a>\u001b[0m in \u001b[0;36m<module>\u001b[0;34m\u001b[0m\n\u001b[1;32m      6\u001b[0m \u001b[0mbad_r\u001b[0m\u001b[0;34m.\u001b[0m\u001b[0mstatus_code\u001b[0m\u001b[0;34m;\u001b[0m\u001b[0;34m\u001b[0m\u001b[0;34m\u001b[0m\u001b[0m\n\u001b[1;32m      7\u001b[0m \u001b[0;31m## in our code if we want we can raise errors\u001b[0m\u001b[0;34m\u001b[0m\u001b[0;34m\u001b[0m\u001b[0;34m\u001b[0m\u001b[0m\n\u001b[0;32m----> 8\u001b[0;31m \u001b[0mbad_r\u001b[0m\u001b[0;34m.\u001b[0m\u001b[0mraise_for_status\u001b[0m\u001b[0;34m(\u001b[0m\u001b[0;34m)\u001b[0m\u001b[0;34m;\u001b[0m\u001b[0;34m\u001b[0m\u001b[0;34m\u001b[0m\u001b[0m\n\u001b[0m",
      "\u001b[0;32m~/opt/anaconda3/lib/python3.8/site-packages/requests/models.py\u001b[0m in \u001b[0;36mraise_for_status\u001b[0;34m(self)\u001b[0m\n\u001b[1;32m    939\u001b[0m \u001b[0;34m\u001b[0m\u001b[0m\n\u001b[1;32m    940\u001b[0m         \u001b[0;32mif\u001b[0m \u001b[0mhttp_error_msg\u001b[0m\u001b[0;34m:\u001b[0m\u001b[0;34m\u001b[0m\u001b[0;34m\u001b[0m\u001b[0m\n\u001b[0;32m--> 941\u001b[0;31m             \u001b[0;32mraise\u001b[0m \u001b[0mHTTPError\u001b[0m\u001b[0;34m(\u001b[0m\u001b[0mhttp_error_msg\u001b[0m\u001b[0;34m,\u001b[0m \u001b[0mresponse\u001b[0m\u001b[0;34m=\u001b[0m\u001b[0mself\u001b[0m\u001b[0;34m)\u001b[0m\u001b[0;34m\u001b[0m\u001b[0;34m\u001b[0m\u001b[0m\n\u001b[0m\u001b[1;32m    942\u001b[0m \u001b[0;34m\u001b[0m\u001b[0m\n\u001b[1;32m    943\u001b[0m     \u001b[0;32mdef\u001b[0m \u001b[0mclose\u001b[0m\u001b[0;34m(\u001b[0m\u001b[0mself\u001b[0m\u001b[0;34m)\u001b[0m\u001b[0;34m:\u001b[0m\u001b[0;34m\u001b[0m\u001b[0;34m\u001b[0m\u001b[0m\n",
      "\u001b[0;31mHTTPError\u001b[0m: 404 Client Error: NOT FOUND for url: https://httpbin.org/status/404"
     ]
    }
   ],
   "source": [
    "## we can check the status code of a response\n",
    "r.status_code;\n",
    "\n",
    "## note that bad responses will have different status code\n",
    "bad_r = requests.get('https://httpbin.org/status/404')\n",
    "bad_r.status_code;\n",
    "## in our code if we want we can raise errors\n",
    "bad_r.raise_for_status();"
   ]
  },
  {
   "cell_type": "markdown",
   "metadata": {
    "slideshow": {
     "slide_type": "notes"
    }
   },
   "source": [
    "[For More on Requests](https://requests.readthedocs.io/en/master/user/quickstart/#make-a-request)"
   ]
  },
  {
   "cell_type": "markdown",
   "metadata": {
    "slideshow": {
     "slide_type": "slide"
    }
   },
   "source": [
    "__HTTP Status Codes__\n",
    "\n",
    "* 200 — everything went okay, and the result has been returned (if any)\n",
    "* 301 — the server is redirecting you to a different endpoint. This can happen when a company switches domain names, or an endpoint name is changed.\n",
    "* 401 — the server thinks you’re not authenticated. This happens when you don’t send the right credentials to access an API (we’ll talk about authentication in a later post).\n",
    "* 400 — the server thinks you made a bad request. This can happen when you don’t send along the right data, among other things.\n",
    "* 403 — the resource you’re trying to access is forbidden — you don’t have the right permissions to see it.\n",
    "* 404 — the resource you tried to access wasn’t found on the server."
   ]
  },
  {
   "cell_type": "markdown",
   "metadata": {
    "slideshow": {
     "slide_type": "notes"
    }
   },
   "source": [
    "[Source](https://www.digitalocean.com/community/tutorials/how-to-troubleshoot-common-http-error-codes)"
   ]
  },
  {
   "cell_type": "markdown",
   "metadata": {
    "slideshow": {
     "slide_type": "slide"
    }
   },
   "source": [
    "__Let's see requests library in action__\n",
    "\n",
    "[Open Notify API](http://open-notify.org/Open-Notify-API/)"
   ]
  },
  {
   "cell_type": "code",
   "execution_count": 7,
   "metadata": {
    "slideshow": {
     "slide_type": "slide"
    }
   },
   "outputs": [],
   "source": [
    "## let's Use International Space Station's API\n",
    "response = requests.get(\"http://api.open-notify.org/iss-now.json\")\n",
    "\n",
    "## Let's check the status code of the response\n",
    "\n",
    "## What is the content of the response? Let's make is prettier"
   ]
  },
  {
   "cell_type": "code",
   "execution_count": 8,
   "metadata": {
    "slideshow": {
     "slide_type": "notes"
    }
   },
   "outputs": [
    {
     "name": "stdout",
     "output_type": "stream",
     "text": [
      "2020-09-17T14:45:00\n"
     ]
    }
   ],
   "source": [
    "## converting timestamps to readable format\n",
    "from datetime import datetime\n",
    "readable = datetime.fromtimestamp(response.json()['timestamp']).isoformat()\n",
    "print(readable)"
   ]
  },
  {
   "cell_type": "code",
   "execution_count": 9,
   "metadata": {
    "slideshow": {
     "slide_type": "slide"
    }
   },
   "outputs": [],
   "source": [
    "## here is an example of a failed request\n",
    "bad_response = requests.get(\"http://api.open-notify.org/iss-pass.json\")\n",
    "\n",
    "## check the status code / note that there is still content in response"
   ]
  },
  {
   "cell_type": "markdown",
   "metadata": {},
   "source": [
    "## WebScraping"
   ]
  },
  {
   "cell_type": "code",
   "execution_count": 20,
   "metadata": {},
   "outputs": [
    {
     "name": "stdout",
     "output_type": "stream",
     "text": [
      "Collecting package metadata (current_repodata.json): done\n",
      "Solving environment: done\n",
      "\n",
      "# All requested packages already installed.\n",
      "\n"
     ]
    }
   ],
   "source": [
    "!conda install -c conda-forge --yes --prefix {sys.prefix} beautifulsoup4\n"
   ]
  },
  {
   "cell_type": "code",
   "execution_count": 59,
   "metadata": {
    "slideshow": {
     "slide_type": "slide"
    }
   },
   "outputs": [],
   "source": [
    "html_doc = \"\"\"\n",
    "<html><head><title>The Dormouse's story</title></head>\n",
    "<body>\n",
    "<p class=\"title\"><b>The Dormouse's story</b></p>\n",
    "\n",
    "<p class=\"story\">Once upon a time there were three little sisters; and their names were\n",
    "<a href=\"http://example.com/elsie\" class=\"sister\" id=\"link1\">Elsie</a>,\n",
    "<a href=\"http://example.com/lacie\" class=\"sister\" id=\"link2\">Lacie</a> and\n",
    "<a href=\"http://example.com/tillie\" class=\"sister\" id=\"link3\">Tillie</a>;\n",
    "and they lived at the bottom of a well.</p>\n",
    "\n",
    "<p class=\"story\">...</p>\n",
    "\"\"\""
   ]
  },
  {
   "cell_type": "markdown",
   "metadata": {},
   "source": [
    "[Source](https://www.crummy.com/software/BeautifulSoup/bs4/doc/)"
   ]
  },
  {
   "cell_type": "code",
   "execution_count": 88,
   "metadata": {
    "scrolled": true
   },
   "outputs": [
    {
     "name": "stdout",
     "output_type": "stream",
     "text": [
      "<html>\n",
      " <head>\n",
      "  <title>\n",
      "   The Dormouse's story\n",
      "  </title>\n",
      " </head>\n",
      " <body>\n",
      "  <p class=\"title\">\n",
      "   <b>\n",
      "    The Dormouse's story\n",
      "   </b>\n",
      "  </p>\n",
      "  <p class=\"story\">\n",
      "   Once upon a time there were three little sisters; and their names were\n",
      "   <a class=\"sister\" href=\"http://example.com/elsie\" id=\"link1\">\n",
      "    Elsie\n",
      "   </a>\n",
      "   ,\n",
      "   <a class=\"sister\" href=\"http://example.com/lacie\" id=\"link2\">\n",
      "    Lacie\n",
      "   </a>\n",
      "   and\n",
      "   <a class=\"sister\" href=\"http://example.com/tillie\" id=\"link3\">\n",
      "    Tillie\n",
      "   </a>\n",
      "   ;\n",
      "and they lived at the bottom of a well.\n",
      "  </p>\n",
      "  <p class=\"story\">\n",
      "   ...\n",
      "  </p>\n",
      " </body>\n",
      "</html>\n"
     ]
    }
   ],
   "source": [
    "soup = BeautifulSoup(html_doc, 'html.parser')\n",
    "print(soup.prettify())"
   ]
  },
  {
   "cell_type": "markdown",
   "metadata": {},
   "source": [
    "<html>\n",
    " <head>\n",
    "  <title>\n",
    "   The Dormouse's story\n",
    "  </title>\n",
    " </head>\n",
    " <body>\n",
    "  <p class=\"title\">\n",
    "   <b>\n",
    "    The Dormouse's story\n",
    "   </b>\n",
    "  </p>\n",
    "  <p class=\"story\">\n",
    "   Once upon a time there were three little sisters; and their names were\n",
    "   <a class=\"sister\" href=\"http://example.com/elsie\" id=\"link1\">\n",
    "    Elsie\n",
    "   </a>\n",
    "   ,\n",
    "   <a class=\"sister\" href=\"http://example.com/lacie\" id=\"link2\">\n",
    "    Lacie\n",
    "   </a>\n",
    "   and\n",
    "   <a class=\"sister\" href=\"http://example.com/tillie\" id=\"link3\">\n",
    "    Tillie\n",
    "   </a>\n",
    "   ;\n",
    "and they lived at the bottom of a well.\n",
    "  </p>\n",
    "  <p class=\"story\">\n",
    "   ...\n",
    "  </p>\n",
    " </body>\n",
    "</html>\n",
    "\n"
   ]
  },
  {
   "cell_type": "code",
   "execution_count": 106,
   "metadata": {
    "slideshow": {
     "slide_type": "slide"
    }
   },
   "outputs": [],
   "source": [
    "## check title\n",
    "\n",
    "## check title's parent\n",
    "\n",
    "## let's list the children of the body\n",
    "\n",
    "## let's find_all paragraphs in the body\n",
    "\n",
    "## find the first paragraph and then its siblings"
   ]
  },
  {
   "cell_type": "code",
   "execution_count": 108,
   "metadata": {},
   "outputs": [
    {
     "data": {
      "text/plain": [
       "[<a class=\"sister\" href=\"http://example.com/elsie\" id=\"link1\">Elsie</a>,\n",
       " <a class=\"sister\" href=\"http://example.com/lacie\" id=\"link2\">Lacie</a>,\n",
       " <a class=\"sister\" href=\"http://example.com/tillie\" id=\"link3\">Tillie</a>]"
      ]
     },
     "execution_count": 108,
     "metadata": {},
     "output_type": "execute_result"
    }
   ],
   "source": [
    "soup.p.find_next_sibling().find_all('a')\n"
   ]
  },
  {
   "cell_type": "markdown",
   "metadata": {
    "slideshow": {
     "slide_type": "slide"
    }
   },
   "source": [
    "__Let's See Beautiful Soup in Action__\n",
    "\n",
    "[Heat Hot Sauce Shop](https://heathotsauce.com/)"
   ]
  },
  {
   "cell_type": "code",
   "execution_count": 126,
   "metadata": {
    "slideshow": {
     "slide_type": "slide"
    }
   },
   "outputs": [],
   "source": [
    "from bs4 import BeautifulSoup"
   ]
  },
  {
   "cell_type": "code",
   "execution_count": 129,
   "metadata": {},
   "outputs": [
    {
     "name": "stdout",
     "output_type": "stream",
     "text": [
      "1 <Response [200]>\n",
      "2 <Response [200]>\n",
      "3 <Response [200]>\n",
      "4 <Response [200]>\n",
      "5 <Response [200]>\n",
      "6 <Response [200]>\n",
      "7 <Response [200]>\n",
      "8 <Response [200]>\n",
      "9 <Response [200]>\n"
     ]
    }
   ],
   "source": [
    "# scrape all 19 pages to get names and urls\n",
    "\n",
    "names = []\n",
    "urls = []\n",
    "\n",
    "# go to each page (print progress)\n",
    "for i in range(1, 10):\n",
    "    url = 'https://heathotsauce.com/collections/all?page=' + str(i)\n",
    "    page = requests.get(url)\n",
    "    print (i, page)\n",
    "    soup = BeautifulSoup(page.content, 'html.parser')\n",
    "    \n",
    "    #in each page, scrape the names\n",
    "    for j in soup.findAll('span', class_='title product-name-custom'):\n",
    "        names.append(j.get_text())\n",
    "    for k in soup.findAll(itemprop = 'url'):\n",
    "        urls.append(k.get('href'))"
   ]
  },
  {
   "cell_type": "code",
   "execution_count": 130,
   "metadata": {},
   "outputs": [],
   "source": [
    "import pandas as pd\n",
    "#combine names and urls into a df\n",
    "names_urls = pd.DataFrame({'names':names, 'urls':urls})\n",
    "\n",
    "# add url to start of urls\n",
    "names_urls['urls'] = names_urls['urls'].apply(lambda x: 'https://heathotsauce.com' + str(x))"
   ]
  },
  {
   "cell_type": "code",
   "execution_count": 139,
   "metadata": {},
   "outputs": [
    {
     "data": {
      "text/plain": [
       "'https://heathotsauce.com/collections/all/products/512-pot-sauce'"
      ]
     },
     "execution_count": 139,
     "metadata": {},
     "output_type": "execute_result"
    }
   ],
   "source": [
    "names_urls.urls[3]\n"
   ]
  },
  {
   "cell_type": "code",
   "execution_count": 136,
   "metadata": {},
   "outputs": [
    {
     "name": "stdout",
     "output_type": "stream",
     "text": [
      "0 <Response [200]>\n",
      "1 <Response [200]>\n",
      "2 <Response [200]>\n",
      "3 <Response [200]>\n",
      "4 <Response [200]>\n",
      "5 <Response [200]>\n",
      "6 <Response [200]>\n",
      "7 <Response [200]>\n",
      "8 <Response [200]>\n",
      "9 <Response [200]>\n"
     ]
    }
   ],
   "source": [
    "## Go to each unique url, grab name, price, manufacturer, description\n",
    "\n",
    "## NOTE: I requested too many timesand was timed out. \n",
    "## Do this in batches, save as different df, then concat together\n",
    "\n",
    "name = []\n",
    "mfc = []\n",
    "price = []\n",
    "desc = []\n",
    "urls = []\n",
    "\n",
    "for n, url in enumerate(names_urls['urls'][:10]):\n",
    "    page = requests.get(url)\n",
    "    soup = BeautifulSoup(page.content, 'html.parser')\n",
    "    \n",
    "#     name\n",
    "    try:\n",
    "        name.append(soup.find('h1', class_='product_name').get_text())\n",
    "    except:\n",
    "        name.append('')\n",
    "#     manufacturer\n",
    "    try:\n",
    "        mfc.append(soup.find('p', class_='vendor').get_text())\n",
    "    except:\n",
    "        mfc.append('')\n",
    "#     price\n",
    "    try:\n",
    "        price.append(soup.find('span', class_='money').get_text())\n",
    "    except:\n",
    "        price.append('')\n",
    "#     description\n",
    "    try:\n",
    "        desc.append(soup.find('div', class_='description').get_text())\n",
    "    except:\n",
    "        desc.append('')\n",
    "#     url\n",
    "    try:\n",
    "        urls.append(url)\n",
    "    except:\n",
    "        urls.append('')\n",
    "    \n",
    "#     print progress, if response != 200, stop kernel. you have been timed out\n",
    "    print (n, page)\n",
    "\n",
    "df_1 = pd.DataFrame({'names':name,\n",
    "                   'mfc':mfc,\n",
    "                   'price':price,\n",
    "                   'desc':desc,\n",
    "                   'url':urls})"
   ]
  },
  {
   "cell_type": "code",
   "execution_count": 140,
   "metadata": {},
   "outputs": [
    {
     "data": {
      "text/plain": [
       "names                                    512 Pot Sauce    \n",
       "mfc                                              Mikey V's\n",
       "price                                               $ 7.99\n",
       "desc     A mellow, creamy roasted Jalapeno & tomatillo ...\n",
       "url      https://heathotsauce.com/collections/all/produ...\n",
       "Name: 3, dtype: object"
      ]
     },
     "execution_count": 140,
     "metadata": {},
     "output_type": "execute_result"
    }
   ],
   "source": [
    "full_df.iloc[3]"
   ]
  },
  {
   "cell_type": "code",
   "execution_count": 133,
   "metadata": {
    "scrolled": false
   },
   "outputs": [],
   "source": [
    "# combine all df batches. strip manufacturers of \\n\n",
    "full_df = df_1\n",
    "full_df['mfc'] = full_df['mfc'].apply(lambda x: x.strip())\n",
    "full_df['desc'] = full_df['desc'].apply(lambda x: x.strip())\n",
    "\n",
    "# remove gift sets and empty rows\n",
    "full_df = full_df[full_df['mfc'] != 'Gift Set']\n",
    "full_df = full_df[full_df['desc'] != '']\n",
    "full_df.reset_index(inplace=True, drop=True)\n",
    "\n",
    "# save df as csv\n",
    "full_df.to_csv('hot_sauces.csv', encoding='utf-8', index=False)"
   ]
  },
  {
   "cell_type": "code",
   "execution_count": null,
   "metadata": {},
   "outputs": [],
   "source": []
  },
  {
   "cell_type": "code",
   "execution_count": 134,
   "metadata": {},
   "outputs": [
    {
     "data": {
      "text/plain": [
       "'$7.99 FLAT RATE SHIPPING\\xa0+ Your Choice of Freebies'"
      ]
     },
     "execution_count": 134,
     "metadata": {},
     "output_type": "execute_result"
    }
   ],
   "source": [
    "soup.p.text"
   ]
  },
  {
   "cell_type": "code",
   "execution_count": 135,
   "metadata": {},
   "outputs": [
    {
     "data": {
      "text/plain": [
       "<!DOCTYPE html>\n",
       "\n",
       "<!--[if lt IE 7 ]><html class=\"ie ie6\" lang=\"en\"> <![endif]-->\n",
       "<!--[if IE 7 ]><html class=\"ie ie7\" lang=\"en\"> <![endif]-->\n",
       "<!--[if IE 8 ]><html class=\"ie ie8\" lang=\"en\"> <![endif]-->\n",
       "<!--[if IE 9 ]><html class=\"ie ie9\" lang=\"en\"> <![endif]-->\n",
       "<!--[if (gte IE 10)|!(IE)]><!--><html lang=\"en\"> <!--<![endif]-->\n",
       "<head>\n",
       "<meta charset=\"utf-8\"/>\n",
       "<meta content=\"on\" http-equiv=\"cleartype\"/>\n",
       "<meta content=\"index,follow\" name=\"robots\"/>\n",
       "<title>Angry Cock - Heat</title>\n",
       "<meta content=\"Made with 80% fresh Bhut Jolokia peppers (also known as ghost chiles) and a blend of select spices, Angry Cock is an extract free ultra hot sauce. Try in soups, gumbo and red beans &amp;amp; rice Heat Level: Extra Hot Ingredients: ﻿Bhut Jolokia Chiles, Vinegar, Onion, Garlic, Black Pepper, Chile Caribe, Salt, and a select \" name=\"description\">\n",
       "<!-- Custom Fonts -->\n",
       "<link href=\"//fonts.googleapis.com/css?family=.|Lato:light,normal,bold|Lato:light,normal,bold|PT+Sans+Narrow:light,normal,bold|Merriweather:light,normal,bold\" rel=\"stylesheet\" type=\"text/css\"/>\n",
       "<meta content=\"Heat\" name=\"author\"/>\n",
       "<meta content=\"https://heathotsauce.com/products/fire-cock\" property=\"og:url\"/>\n",
       "<meta content=\"Heat\" property=\"og:site_name\"/>\n",
       "<meta content=\"product\" property=\"og:type\"/>\n",
       "<meta content=\"Angry Cock\" property=\"og:title\"/>\n",
       "<meta content=\"http://cdn.shopify.com/s/files/1/0645/7913/products/unnamed_a5621c6c-17fc-4866-aaae-9702e00fcddc_600x.jpg?v=1579497661\" property=\"og:image\"/>\n",
       "<meta content=\"https://cdn.shopify.com/s/files/1/0645/7913/products/unnamed_a5621c6c-17fc-4866-aaae-9702e00fcddc_600x.jpg?v=1579497661\" property=\"og:image:secure_url\"/>\n",
       "<meta content=\"9.99\" property=\"og:price:amount\"/>\n",
       "<meta content=\"USD\" property=\"og:price:currency\"/>\n",
       "<meta content=\"Made with 80% fresh Bhut Jolokia peppers (also known as ghost chiles) and a blend of select spices, Angry Cock is an extract free ultra hot sauce. Try in soups, gumbo and red beans &amp;amp; rice Heat Level: Extra Hot Ingredients: ﻿Bhut Jolokia Chiles, Vinegar, Onion, Garlic, Black Pepper, Chile Caribe, Salt, and a select \" property=\"og:description\"/>\n",
       "<meta content=\"@heathotsauce\" name=\"twitter:site\"/>\n",
       "<meta content=\"summary\" name=\"twitter:card\"/>\n",
       "<meta content=\"Angry Cock\" name=\"twitter:title\"/>\n",
       "<meta content=\"\n",
       "Made with 80% fresh Bhut Jolokia peppers (also known as ghost chiles) and a blend of select spices, Angry Cock is an extract free ultra hot sauce. Try in soups, gumbo and red beans &amp;amp; rice\n",
       "Heat Level: Extra Hot\n",
       "Ingredients: ﻿Bhut Jolokia Chiles, Vinegar, Onion, Garlic, Black Pepper, Chile Caribe, Salt, and a select blend of Dehydrated Vegetables.\n",
       "5 oz\" name=\"twitter:description\"/>\n",
       "<meta content=\"https://cdn.shopify.com/s/files/1/0645/7913/products/unnamed_a5621c6c-17fc-4866-aaae-9702e00fcddc_240x.jpg?v=1579497661\" name=\"twitter:image\"/>\n",
       "<meta content=\"240\" name=\"twitter:image:width\"/>\n",
       "<meta content=\"240\" name=\"twitter:image:height\"/>\n",
       "<!-- Mobile Specific Metas -->\n",
       "<meta content=\"True\" name=\"HandheldFriendly\"/>\n",
       "<meta content=\"320\" name=\"MobileOptimized\"/>\n",
       "<meta content=\"width=device-width,initial-scale=1\" name=\"viewport\"/>\n",
       "<meta content=\"#ffffff\" name=\"theme-color\"/>\n",
       "<!-- Stylesheets for Retina 4.2.1 -->\n",
       "<link href=\"//cdn.shopify.com/s/files/1/0645/7913/t/33/assets/styles.scss.css?v=1310806729409994422\" media=\"all\" rel=\"stylesheet\" type=\"text/css\"/>\n",
       "<!--[if lte IE 9]>\n",
       "      <link href=\"//cdn.shopify.com/s/files/1/0645/7913/t/33/assets/ie.css?v=1637061743444055949\" rel=\"stylesheet\" type=\"text/css\" media=\"all\" />\n",
       "    <![endif]-->\n",
       "<link href=\"//cdn.shopify.com/s/files/1/0645/7913/t/33/assets/customized-style.css?v=5905236797211778854\" media=\"all\" rel=\"stylesheet\" type=\"text/css\"/>\n",
       "<link href=\"//cdn.shopify.com/s/files/1/0645/7913/files/favicon_32x32.png?v=1505639028\" rel=\"shortcut icon\" type=\"image/x-icon\"/>\n",
       "<link href=\"https://heathotsauce.com/products/fire-cock\" rel=\"canonical\">\n",
       "<script src=\"//cdn.shopify.com/s/files/1/0645/7913/t/33/assets/app.js?v=2303260639027626028\" type=\"text/javascript\"></script>\n",
       "<script>window.performance && window.performance.mark && window.performance.mark('shopify.content_for_header.start');</script><meta content=\"/6457913/digital_wallets/dialog\" id=\"shopify-digital-wallet\" name=\"shopify-digital-wallet\"/>\n",
       "<meta content=\"d58f7b10463ea5a8ea5b02d7b4652b48\" name=\"shopify-checkout-api-token\"/>\n",
       "<meta data-currency=\"USD\" data-environment=\"production\" data-locale=\"en_US\" data-paypal-v4=\"true\" data-shop-id=\"6457913\" data-venmo-supported=\"true\" id=\"in-context-paypal-metadata\"/>\n",
       "<meta data-amazon-payments=\"true\" data-amazon-payments-callback-url=\"https://heathotsauce.com/6457913/amazon_payments/callback\" data-amazon-payments-client-id=\"amzn1.application-oa2-client.edd01a530cc04545bf4662450bad0edc\" data-amazon-payments-language=\"en-US\" data-amazon-payments-region=\"US\" data-amazon-payments-sandbox-mode=\"false\" data-amazon-payments-seller-id=\"A11FZTJ9QF1DVC\" data-amazon-payments-widget-library-url=\"https://static-na.payments-amazon.com/OffAmazonPayments/us/js/Widgets.js\" id=\"amazon-payments-metadata\"/>\n",
       "<link href=\"https://heathotsauce.com/products/fire-cock.oembed\" rel=\"alternate\" type=\"application/json+oembed\"/>\n",
       "<link href=\"https://monorail-edge.shopifysvc.com\" rel=\"dns-prefetch\"/>\n",
       "<script id=\"apple-pay-shop-capabilities\" type=\"application/json\">{\"shopId\":6457913,\"countryCode\":\"US\",\"currencyCode\":\"USD\",\"merchantCapabilities\":[\"supports3DS\"],\"merchantId\":\"gid:\\/\\/shopify\\/Shop\\/6457913\",\"merchantName\":\"Heat\",\"requiredBillingContactFields\":[\"postalAddress\",\"email\"],\"requiredShippingContactFields\":[\"postalAddress\",\"email\"],\"shippingType\":\"shipping\",\"supportedNetworks\":[\"visa\",\"masterCard\",\"amex\",\"discover\",\"elo\"],\"total\":{\"type\":\"pending\",\"label\":\"Heat\",\"amount\":\"1.00\"}}</script>\n",
       "<script id=\"shopify-features\" type=\"application/json\">{\"accessToken\":\"d58f7b10463ea5a8ea5b02d7b4652b48\",\"betas\":[\"rich-media-storefront-analytics\"],\"domain\":\"heathotsauce.com\",\"predictiveSearch\":true,\"shopId\":6457913,\"smart_payment_buttons_url\":\"https:\\/\\/cdn.shopify.com\\/shopifycloud\\/payment-sheet\\/assets\\/latest\\/spb.en.js\",\"dynamic_checkout_cart_url\":\"https:\\/\\/cdn.shopify.com\\/shopifycloud\\/payment-sheet\\/assets\\/latest\\/dynamic-checkout-cart.en.js\",\"locale\":\"en\"}</script>\n",
       "<script>var Shopify = Shopify || {};\n",
       "Shopify.shop = \"heat-hot-sauce-shop.myshopify.com\";\n",
       "Shopify.locale = \"en\";\n",
       "Shopify.currency = {\"active\":\"USD\",\"rate\":\"1.0\"};\n",
       "Shopify.theme = {\"name\":\"retina-4-2-1\",\"id\":174143043,\"theme_store_id\":null,\"role\":\"main\"};\n",
       "Shopify.theme.handle = \"null\";\n",
       "Shopify.theme.style = {\"id\":null,\"handle\":null};\n",
       "Shopify.cdnHost = \"cdn.shopify.com\";</script>\n",
       "<script type=\"module\">!function(o){(o.Shopify=o.Shopify||{}).modules=!0}(window);</script>\n",
       "<script>!function(o){function n(){var o=[];function n(){o.push(Array.prototype.slice.apply(arguments))}return n.q=o,n}var t=o.Shopify=o.Shopify||{};t.loadFeatures=n(),t.autoloadFeatures=n()}(window);</script>\n",
       "<script>window.ShopifyPay = window.ShopifyPay || {};\n",
       "window.ShopifyPay.apiHost = \"pay.shopify.com\";</script>\n",
       "<script>(function() {\n",
       "  function asyncLoad() {\n",
       "    var urls = [\"https:\\/\\/dow068lag04cv.cloudfront.net\\/4345-cf0ef97d73e586ba36851b5709865a54.js?shop=heat-hot-sauce-shop.myshopify.com\",\"https:\\/\\/assets.smartwishlist.webmarked.net\\/static\\/v6\\/smartwishlist2.js?shop=heat-hot-sauce-shop.myshopify.com\",\"https:\\/\\/cdn.gethypervisual.com\\/assets\\/hypervisual.js?shop=heat-hot-sauce-shop.myshopify.com\",\"\\/\\/static.zotabox.com\\/4\\/6\\/46ddb434301b3a8c4e33ba54d84711e2\\/widgets.js?shop=heat-hot-sauce-shop.myshopify.com\",\"https:\\/\\/chimpstatic.com\\/mcjs-connected\\/js\\/users\\/22b941da0b099f885fd18ceea\\/d21cde08f1a2d1cd8c5cf90e5.js?shop=heat-hot-sauce-shop.myshopify.com\",\"\\/\\/www.searchanise.com\\/widgets\\/shopify\\/init.js?a=4O3v3n9d4o\\u0026shop=heat-hot-sauce-shop.myshopify.com\",\"https:\\/\\/chimpstatic.com\\/mcjs-connected\\/js\\/users\\/22b941da0b099f885fd18ceea\\/da9fb4c922c4c09779b91bbc9.js?shop=heat-hot-sauce-shop.myshopify.com\",\"https:\\/\\/cdn.instantbrandpage.lowfruitsolutions.com\\/a88775cb62a43799424eec40a2c31f96\\/featured-slider-6ab003dc75cfab3f78407355fb1bc34d.js?shop=heat-hot-sauce-shop.myshopify.com\",\"https:\\/\\/cdn.instantbrandpage.lowfruitsolutions.com\\/a88775cb62a43799424eec40a2c31f96\\/brand-page-adc58dcf46c3cfc6bfd04a3fa5692b70.js?shop=heat-hot-sauce-shop.myshopify.com\",\"https:\\/\\/cdn.secomapp.com\\/freegifts\\/app\\/heat-hot-sauce-shop.myshopify.com_1586298264.js?shop=heat-hot-sauce-shop.myshopify.com\",\"https:\\/\\/ccmicrojs.cartkitcdn.com\\/cc.production.min.js?shop=heat-hot-sauce-shop.myshopify.com\",\"https:\\/\\/checkouts-public.s3.amazonaws.com\\/cartsync.production.min.js?shop=heat-hot-sauce-shop.myshopify.com\"];\n",
       "    for (var i = 0; i < urls.length; i++) {\n",
       "      var s = document.createElement('script');\n",
       "      s.type = 'text/javascript';\n",
       "      s.async = true;\n",
       "      s.src = urls[i];\n",
       "      var x = document.getElementsByTagName('script')[0];\n",
       "      x.parentNode.insertBefore(s, x);\n",
       "    }\n",
       "  };\n",
       "  if(window.attachEvent) {\n",
       "    window.attachEvent('onload', asyncLoad);\n",
       "  } else {\n",
       "    window.addEventListener('load', asyncLoad, false);\n",
       "  }\n",
       "})();</script>\n",
       "<script id=\"__st\">var __st={\"a\":6457913,\"offset\":-25200,\"reqid\":\"b23122b4-cc18-4c12-aa7f-e0f162e63cd3\",\"pageurl\":\"heathotsauce.com\\/products\\/fire-cock\",\"u\":\"d5e23972a667\",\"p\":\"product\",\"rtyp\":\"product\",\"rid\":10774675843};</script>\n",
       "<script>window.ShopifyPaypalV4VisibilityTracking = true;</script>\n",
       "<script>window.ShopifyAnalytics = window.ShopifyAnalytics || {};\n",
       "window.ShopifyAnalytics.meta = window.ShopifyAnalytics.meta || {};\n",
       "window.ShopifyAnalytics.meta.currency = 'USD';\n",
       "var meta = {\"product\":{\"id\":10774675843,\"gid\":\"gid:\\/\\/shopify\\/Product\\/10774675843\",\"vendor\":\"CaJohns\",\"type\":\"Hot Sauce\",\"variants\":[{\"id\":43377269891,\"price\":999,\"name\":\"Angry Cock\",\"public_title\":null,\"sku\":\"91954\"}]},\"page\":{\"pageType\":\"product\",\"resourceType\":\"product\",\"resourceId\":10774675843}};\n",
       "for (var attr in meta) {\n",
       "  window.ShopifyAnalytics.meta[attr] = meta[attr];\n",
       "}</script>\n",
       "<script>window.ShopifyAnalytics.merchantGoogleAnalytics = function() {\n",
       "  \n",
       "};\n",
       "</script>\n",
       "<script class=\"analytics\">(window.gaDevIds=window.gaDevIds||[]).push('BwiEti');\n",
       "\n",
       "\n",
       "(function () {\n",
       "  var customDocumentWrite = function(content) {\n",
       "    var jquery = null;\n",
       "\n",
       "    if (window.jQuery) {\n",
       "      jquery = window.jQuery;\n",
       "    } else if (window.Checkout && window.Checkout.$) {\n",
       "      jquery = window.Checkout.$;\n",
       "    }\n",
       "\n",
       "    if (jquery) {\n",
       "      jquery('body').append(content);\n",
       "    }\n",
       "  };\n",
       "\n",
       "  var isDuplicatedThankYouPageView = function() {\n",
       "    return document.cookie.indexOf('loggedConversion=' + window.location.pathname) !== -1;\n",
       "  }\n",
       "\n",
       "  var setCookieIfThankYouPage = function() {\n",
       "    if (window.location.pathname.indexOf('/checkouts') !== -1 &&\n",
       "        window.location.pathname.indexOf('/thank_you') !== -1) {\n",
       "\n",
       "      var twoMonthsFromNow = new Date(Date.now());\n",
       "      twoMonthsFromNow.setMonth(twoMonthsFromNow.getMonth() + 2);\n",
       "\n",
       "      document.cookie = 'loggedConversion=' + window.location.pathname + '; expires=' + twoMonthsFromNow;\n",
       "    }\n",
       "  }\n",
       "\n",
       "  var trekkie = window.ShopifyAnalytics.lib = window.trekkie = window.trekkie || [];\n",
       "  if (trekkie.integrations) {\n",
       "    return;\n",
       "  }\n",
       "  trekkie.methods = [\n",
       "    'identify',\n",
       "    'page',\n",
       "    'ready',\n",
       "    'track',\n",
       "    'trackForm',\n",
       "    'trackLink'\n",
       "  ];\n",
       "  trekkie.factory = function(method) {\n",
       "    return function() {\n",
       "      var args = Array.prototype.slice.call(arguments);\n",
       "      args.unshift(method);\n",
       "      trekkie.push(args);\n",
       "      return trekkie;\n",
       "    };\n",
       "  };\n",
       "  for (var i = 0; i < trekkie.methods.length; i++) {\n",
       "    var key = trekkie.methods[i];\n",
       "    trekkie[key] = trekkie.factory(key);\n",
       "  }\n",
       "  trekkie.load = function(config) {\n",
       "    trekkie.config = config;\n",
       "    var script = document.createElement('script');\n",
       "    script.type = 'text/javascript';\n",
       "    script.onerror = function(e) {      var Monorail = {\n",
       "      produce: function produce(monorailDomain, schemaId, payload) {\n",
       "        var currentMs = new Date().getTime();\n",
       "        var event = {\n",
       "          schema_id: schemaId,\n",
       "          payload: payload,\n",
       "          metadata: {\n",
       "            event_created_at_ms: currentMs,\n",
       "            event_sent_at_ms: currentMs\n",
       "          }\n",
       "        };\n",
       "        return Monorail.sendRequest(\"https://\" + monorailDomain + \"/v1/produce\", JSON.stringify(event));\n",
       "      },\n",
       "      sendRequest: function sendRequest(endpointUrl, payload) {\n",
       "        // Try the sendBeacon API\n",
       "        if (window && window.navigator && typeof window.navigator.sendBeacon === 'function' && typeof window.Blob === 'function' && !Monorail.isIos12()) {\n",
       "          var blobData = new window.Blob([payload], {\n",
       "            type: 'text/plain'\n",
       "          });\n",
       "    \n",
       "          if (window.navigator.sendBeacon(endpointUrl, blobData)) {\n",
       "            return true;\n",
       "          } // sendBeacon was not successful\n",
       "    \n",
       "        } // XHR beacon   \n",
       "    \n",
       "        var xhr = new XMLHttpRequest();\n",
       "    \n",
       "        try {\n",
       "          xhr.open('POST', endpointUrl);\n",
       "          xhr.setRequestHeader('Content-Type', 'text/plain');\n",
       "          xhr.send(payload);\n",
       "        } catch (e) {\n",
       "          console.log(e);\n",
       "        }\n",
       "    \n",
       "        return false;\n",
       "      },\n",
       "      isIos12: function isIos12() {\n",
       "        return window.navigator.userAgent.lastIndexOf('iPhone; CPU iPhone OS 12_') !== -1 || window.navigator.userAgent.lastIndexOf('iPad; CPU OS 12_') !== -1;\n",
       "      }\n",
       "    };\n",
       "    Monorail.produce('monorail-edge.shopifysvc.com',\n",
       "      'test_trekkie_load_errors/1.0',\n",
       "      {shop_id: 6457913,\n",
       "      theme_id: 174143043,\n",
       "      app_name: \"storefront\"});          \n",
       "\n",
       "      (new Image()).src = '//v.shopify.com/internal_errors/track?error=trekkie_load';\n",
       "    };\n",
       "    script.async = true;\n",
       "    script.src = 'https://cdn.shopify.com/s/javascripts/tricorder/trekkie.storefront.min.js?v=2020.07.13.1';\n",
       "    var first = document.getElementsByTagName('script')[0];\n",
       "    first.parentNode.insertBefore(script, first);\n",
       "  };\n",
       "  trekkie.load(\n",
       "    {\"Trekkie\":{\"appName\":\"storefront\",\"development\":false,\"defaultAttributes\":{\"shopId\":6457913,\"isMerchantRequest\":null,\"themeId\":174143043,\"themeCityHash\":\"983080704288488193\",\"contentLanguage\":\"en\",\"currency\":\"USD\"},\"isServerSideCookieWritingEnabled\":true,\"isPixelGateEnabled\":false},\"Performance\":{\"navigationTimingApiMeasurementsEnabled\":true,\"navigationTimingApiMeasurementsSampleRate\":1},\"Google Analytics\":{\"trackingId\":\"UA-54731336-1\",\"domain\":\"auto\",\"siteSpeedSampleRate\":\"10\",\"enhancedEcommerce\":true,\"doubleClick\":true,\"includeSearch\":true},\"Facebook Pixel\":{\"pixelIds\":[\"1421626078162106\"],\"agent\":\"plshopify1.2\"},\"Session Attribution\":{}}\n",
       "  );\n",
       "\n",
       "  var loaded = false;\n",
       "  trekkie.ready(function() {\n",
       "    if (loaded) return;\n",
       "    loaded = true;\n",
       "\n",
       "    window.ShopifyAnalytics.lib = window.trekkie;\n",
       "    \n",
       "      ga('require', 'linker');\n",
       "      function addListener(element, type, callback) {\n",
       "        if (element.addEventListener) {\n",
       "          element.addEventListener(type, callback);\n",
       "        }\n",
       "        else if (element.attachEvent) {\n",
       "          element.attachEvent('on' + type, callback);\n",
       "        }\n",
       "      }\n",
       "      function decorate(event) {\n",
       "        event = event || window.event;\n",
       "        var target = event.target || event.srcElement;\n",
       "        if (target && (target.getAttribute('action') || target.getAttribute('href'))) {\n",
       "          ga(function (tracker) {\n",
       "            var linkerParam = tracker.get('linkerParam');\n",
       "            document.cookie = '_shopify_ga=' + linkerParam + '; ' + 'path=/';\n",
       "          });\n",
       "        }\n",
       "      }\n",
       "      addListener(window, 'load', function(){\n",
       "        for (var i=0; i < document.forms.length; i++) {\n",
       "          var action = document.forms[i].getAttribute('action');\n",
       "          if(action && action.indexOf('/cart') >= 0) {\n",
       "            addListener(document.forms[i], 'submit', decorate);\n",
       "          }\n",
       "        }\n",
       "        for (var i=0; i < document.links.length; i++) {\n",
       "          var href = document.links[i].getAttribute('href');\n",
       "          if(href && href.indexOf('/checkout') >= 0) {\n",
       "            addListener(document.links[i], 'click', decorate);\n",
       "          }\n",
       "        }\n",
       "      });\n",
       "    \n",
       "\n",
       "    var originalDocumentWrite = document.write;\n",
       "    document.write = customDocumentWrite;\n",
       "    try { window.ShopifyAnalytics.merchantGoogleAnalytics.call(this); } catch(error) {};\n",
       "    document.write = originalDocumentWrite;\n",
       "      (function () {\n",
       "        if (window.BOOMR && (window.BOOMR.version || window.BOOMR.snippetExecuted)) {\n",
       "          return;\n",
       "        }\n",
       "        window.BOOMR = window.BOOMR || {};\n",
       "        window.BOOMR.snippetStart = new Date().getTime();\n",
       "        window.BOOMR.snippetExecuted = true;\n",
       "        window.BOOMR.snippetVersion = 12;\n",
       "        window.BOOMR.application = \"storefront-renderer\";\n",
       "        window.BOOMR.themeName = \"Retina\";\n",
       "        window.BOOMR.themeVersion = \"4.2.1\";\n",
       "        window.BOOMR.shopId = 6457913;\n",
       "        window.BOOMR.themeId = 174143043;\n",
       "        window.BOOMR.url =\n",
       "          \"https://cdn.shopify.com/shopifycloud/boomerang/shopify-boomerang-1.0.0.min.js\";\n",
       "        var where = document.currentScript || document.getElementsByTagName(\"script\")[0];\n",
       "        var parentNode = where.parentNode;\n",
       "        var promoted = false;\n",
       "        var LOADER_TIMEOUT = 3000;\n",
       "        function promote() {\n",
       "          if (promoted) {\n",
       "            return;\n",
       "          }\n",
       "          var script = document.createElement(\"script\");\n",
       "          script.id = \"boomr-scr-as\";\n",
       "          script.src = window.BOOMR.url;\n",
       "          script.async = true;\n",
       "          parentNode.appendChild(script);\n",
       "          promoted = true;\n",
       "        }\n",
       "        function iframeLoader(wasFallback) {\n",
       "          promoted = true;\n",
       "          var dom, bootstrap, iframe, iframeStyle;\n",
       "          var doc = document;\n",
       "          var win = window;\n",
       "          window.BOOMR.snippetMethod = wasFallback ? \"if\" : \"i\";\n",
       "          bootstrap = function(parent, scriptId) {\n",
       "            var script = doc.createElement(\"script\");\n",
       "            script.id = scriptId || \"boomr-if-as\";\n",
       "            script.src = window.BOOMR.url;\n",
       "            BOOMR_lstart = new Date().getTime();\n",
       "            parent = parent || doc.body;\n",
       "            parent.appendChild(script);\n",
       "          };\n",
       "          if (!window.addEventListener && window.attachEvent && navigator.userAgent.match(/MSIE [67]./)) {\n",
       "            window.BOOMR.snippetMethod = \"s\";\n",
       "            bootstrap(parentNode, \"boomr-async\");\n",
       "            return;\n",
       "          }\n",
       "          iframe = document.createElement(\"IFRAME\");\n",
       "          iframe.src = \"about:blank\";\n",
       "          iframe.title = \"\";\n",
       "          iframe.role = \"presentation\";\n",
       "          iframe.loading = \"eager\";\n",
       "          iframeStyle = (iframe.frameElement || iframe).style;\n",
       "          iframeStyle.width = 0;\n",
       "          iframeStyle.height = 0;\n",
       "          iframeStyle.border = 0;\n",
       "          iframeStyle.display = \"none\";\n",
       "          parentNode.appendChild(iframe);\n",
       "          try {\n",
       "            win = iframe.contentWindow;\n",
       "            doc = win.document.open();\n",
       "          } catch (e) {\n",
       "            dom = document.domain;\n",
       "            iframe.src = \"javascript:var d=document.open();d.domain='\" + dom + \"';void(0);\";\n",
       "            win = iframe.contentWindow;\n",
       "            doc = win.document.open();\n",
       "          }\n",
       "          if (dom) {\n",
       "            doc._boomrl = function() {\n",
       "              this.domain = dom;\n",
       "              bootstrap();\n",
       "            };\n",
       "            doc.write(\"<body onload='document._boomrl();'>\");\n",
       "          } else {\n",
       "            win._boomrl = function() {\n",
       "              bootstrap();\n",
       "            };\n",
       "            if (win.addEventListener) {\n",
       "              win.addEventListener(\"load\", win._boomrl, false);\n",
       "            } else if (win.attachEvent) {\n",
       "              win.attachEvent(\"onload\", win._boomrl);\n",
       "            }\n",
       "          }\n",
       "          doc.close();\n",
       "        }\n",
       "        var link = document.createElement(\"link\");\n",
       "        if (link.relList &&\n",
       "          typeof link.relList.supports === \"function\" &&\n",
       "          link.relList.supports(\"preload\") &&\n",
       "          (\"as\" in link)) {\n",
       "          window.BOOMR.snippetMethod = \"p\";\n",
       "          link.href = window.BOOMR.url;\n",
       "          link.rel = \"preload\";\n",
       "          link.as = \"script\";\n",
       "          link.addEventListener(\"load\", promote);\n",
       "          link.addEventListener(\"error\", function() {\n",
       "            iframeLoader(true);\n",
       "          });\n",
       "          setTimeout(function() {\n",
       "            if (!promoted) {\n",
       "              iframeLoader(true);\n",
       "            }\n",
       "          }, LOADER_TIMEOUT);\n",
       "          BOOMR_lstart = new Date().getTime();\n",
       "          parentNode.appendChild(link);\n",
       "        } else {\n",
       "          iframeLoader(false);\n",
       "        }\n",
       "        function boomerangSaveLoadTime(e) {\n",
       "          window.BOOMR_onload = (e && e.timeStamp) || new Date().getTime();\n",
       "        }\n",
       "        if (window.addEventListener) {\n",
       "          window.addEventListener(\"load\", boomerangSaveLoadTime, false);\n",
       "        } else if (window.attachEvent) {\n",
       "          window.attachEvent(\"onload\", boomerangSaveLoadTime);\n",
       "        }\n",
       "        if (document.addEventListener) {\n",
       "          document.addEventListener(\"onBoomerangLoaded\", function(e) {\n",
       "            e.detail.BOOMR.init({\n",
       "              producer_url: \"https://monorail-edge.shopifysvc.com/v1/produce\",\n",
       "              ResourceTiming: {\n",
       "                enabled: true,\n",
       "                trackedResourceTypes: [\"script\", \"img\", \"css\"]\n",
       "              },\n",
       "            });\n",
       "            e.detail.BOOMR.t_end = new Date().getTime();\n",
       "          });\n",
       "        } else if (document.attachEvent) {\n",
       "          document.attachEvent(\"onpropertychange\", function(e) {\n",
       "            if (!e) e=event;\n",
       "            if (e.propertyName === \"onBoomerangLoaded\") {\n",
       "              e.detail.BOOMR.init({\n",
       "                producer_url: \"https://monorail-edge.shopifysvc.com/v1/produce\",\n",
       "                ResourceTiming: {\n",
       "                  enabled: true,\n",
       "                  trackedResourceTypes: [\"script\", \"img\", \"css\"]\n",
       "                },\n",
       "              });\n",
       "              e.detail.BOOMR.t_end = new Date().getTime();\n",
       "            }\n",
       "          });\n",
       "        }\n",
       "      })();\n",
       "    \n",
       "\n",
       "    if (!isDuplicatedThankYouPageView()) {\n",
       "      setCookieIfThankYouPage();\n",
       "      \n",
       "        window.ShopifyAnalytics.lib.page(\n",
       "          null,\n",
       "          {\"pageType\":\"product\",\"resourceType\":\"product\",\"resourceId\":10774675843}\n",
       "        );\n",
       "      \n",
       "      \n",
       "        window.ShopifyAnalytics.lib.track(\n",
       "          \"Viewed Product\",\n",
       "          {\"currency\":\"USD\",\"variantId\":43377269891,\"productId\":10774675843,\"productGid\":\"gid:\\/\\/shopify\\/Product\\/10774675843\",\"name\":\"Angry Cock\",\"price\":\"9.99\",\"sku\":\"91954\",\"brand\":\"CaJohns\",\"variant\":null,\"category\":\"Hot Sauce\",\"nonInteraction\":true}\n",
       "        );\n",
       "      \n",
       "\n",
       "        window.ShopifyAnalytics.lib.track(\n",
       "          \"monorail:\\/\\/trekkie_storefront_viewed_product\\/1.1\",\n",
       "          {\"currency\":\"USD\",\"variantId\":43377269891,\"productId\":10774675843,\"productGid\":\"gid:\\/\\/shopify\\/Product\\/10774675843\",\"name\":\"Angry Cock\",\"price\":\"9.99\",\"sku\":\"91954\",\"brand\":\"CaJohns\",\"variant\":null,\"category\":\"Hot Sauce\",\"nonInteraction\":true,\"referer\":\"https:\\/\\/heathotsauce.com\\/products\\/fire-cock\"}\n",
       "        );\n",
       "      \n",
       "    }\n",
       "  });\n",
       "\n",
       "  \n",
       "      var eventsListenerScript = document.createElement('script');\n",
       "      eventsListenerScript.async = true;\n",
       "      eventsListenerScript.src = \"//cdn.shopify.com/s/assets/shop_events_listener-d81deda6557a113fbcc6a993184828adcef6f241e4ca52b6a21169cb03169317.js\";\n",
       "      document.getElementsByTagName('head')[0].appendChild(eventsListenerScript);\n",
       "    \n",
       "})();</script>\n",
       "<script>!function(e){e.addEventListener(\"DOMContentLoaded\",function(){var t;null!==e.querySelector('form[action^=\"/contact\"] input[name=\"form_type\"][value=\"contact\"]')&&(window.Shopify=window.Shopify||{},window.Shopify.recaptchaV3=window.Shopify.recaptchaV3||{siteKey:\"6LcCR2cUAAAAANS1Gpq_mDIJ2pQuJphsSQaUEuc9\"},(t=e.createElement(\"script\")).setAttribute(\"src\",\"https://cdn.shopify.com/shopifycloud/storefront-recaptcha-v3/v0.1/index.js\"),e.body.appendChild(t))})}(document);</script>\n",
       "<script crossorigin=\"anonymous\" data-source-attribution=\"shopify.loadfeatures\" defer=\"defer\" integrity=\"sha256-/yz3KdTbvYyCjvClJ1EuENpgCyPfKK73b0tRgu969Zs=\" src=\"//cdn.shopify.com/s/assets/storefront/load_feature-ff2cf729d4dbbd8c828ef0a527512e10da600b23df28aef76f4b5182ef7af59b.js\"></script>\n",
       "<script crossorigin=\"anonymous\" defer=\"defer\" src=\"//cdn.shopify.com/s/assets/shopify_pay/storefront-21b5dddfc8b64c1ad68cee3ba7448d1ffa15c24e969ebc1fbccf1a3784b659ad.js?v=20190107\"></script>\n",
       "<script crossorigin=\"anonymous\" data-source-attribution=\"shopify.dynamic-checkout\" defer=\"defer\" integrity=\"sha256-h+g5mYiIAULyxidxudjy/2wpCz/3Rd1CbrDf4NudHa4=\" src=\"//cdn.shopify.com/s/assets/storefront/features-87e8399988880142f2c62771b9d8f2ff6c290b3ff745dd426eb0dfe0db9d1dae.js\"></script>\n",
       "<style id=\"shopify-dynamic-checkout-cart\">@media screen and (min-width: 750px) {\n",
       "  #dynamic-checkout-cart {\n",
       "    min-height: 50px;\n",
       "  }\n",
       "}\n",
       "\n",
       "@media screen and (max-width: 750px) {\n",
       "  #dynamic-checkout-cart {\n",
       "    min-height: 300px;\n",
       "  }\n",
       "}\n",
       "</style><script>window.performance && window.performance.mark && window.performance.mark('shopify.content_for_header.end');</script>\n",
       "<link href=\"//cdn.shopify.com/s/files/1/0645/7913/t/33/assets/sca-quick-view.css?v=12120723185976466452\" rel=\"stylesheet\"/>\n",
       "<link href=\"//cdn.shopify.com/s/files/1/0645/7913/t/33/assets/sca-jquery.fancybox.css?v=5043371938869384684\" rel=\"stylesheet\"/>\n",
       "<script src=\"//cdn.shopify.com/s/assets/themes_support/option_selection-fe6b72c2bbdd3369ac0bfefe8648e3c889efca213baefd4cfb0dd9363563831f.js\" type=\"text/javascript\"></script>\n",
       "<script id=\"sca_fg_cart_ShowGiftAsProductTemplate\" type=\"text/template\">\n",
       "  \n",
       "  <div class=\"item not-sca-qv\" id=\"sca-freegift-{{productID}}\">\n",
       "    <a class=\"close_box\" style=\"display: none;position: absolute;top:5px;right: 10px;font-size: 22px;font-weight: bold;cursor: pointer;text-decoration:none;color: #aaa;\">×</a>\n",
       "    <img class=\"lazyOwl\" data-src=\"{{productImageURL}}\">\n",
       "    <div class=\"sca-product-shop\">\n",
       "      <div class=\"f-fix\"><span class=\"sca-product-title\" style=\"white-space: nowrap;color:#000;{{showfgTitle}}\">{{productTitle}}</span>\n",
       "          <div id=\"product-variants-{{productID}}\">\n",
       "            <div class=\"sca-price\" id=\"price-field-{{productID}}\">\n",
       "              <span class=\"sca-old-price\">{{variant_compare_at_price}}</span>\n",
       "              <span class=\"sca-special-price\">{{variant_price}}</span>\n",
       "            </div>\n",
       "            <div id=\"stay-content-sca-freegift-{{productID}}\" class=\"sca-fg-cart-item\">\n",
       "              <a class=\"close_box\" style=\"display: none;position: absolute;top:5px;right: 10px;font-size: 22px;font-weight: bold;cursor: pointer;text-decoration:none;color: #aaa;\">×</a>\n",
       "              <select id=\"product-select-{{productID}}\" name=\"id\" style=\"display: none\">\n",
       "                {{optionVariantData}}\n",
       "              </select>\n",
       "            </div>\n",
       "          </div>\n",
       "          <button type='button' id=\"sca-btn-select-{{productID}}\" class=\"sca-button\" onclick=\"onclickSelect_{{productID}}();\"><span>{{SelectButton}}</span></button>\n",
       "          <button type='button' id=\"sca-btn-{{productID}}\" class=\"sca-button\" style=\"display: none\"><span>{{AddToCartButton}}</span></button>\n",
       "      </div>\n",
       "    </div>\n",
       "  </div>\n",
       "  \n",
       "</script>\n",
       "<script id=\"sca_fg_cart_ShowGiftAsProductScriptTemplate\" type=\"text/template\">\n",
       "  \n",
       "  var selectCallback_{{productID}}=function(_,t){if(_?(_.available?($(\"#sca-btn-{{productID}}\").removeClass(\"disabled\").removeAttr(\"disabled\").html(\"<span>{{AddToCartButton}}</span>\").fadeTo(200,1),$(\"#sca-btn-{{productID}}\").unbind(\"click\"),$(\"#sca-btn-{{productID}}\").click(SECOMAPP.jQuery.proxy(function(){SECOMAPP.addGiftToCart(_.id,1)},_))):$(\"#sca-btn-{{productID}}\").html(\"<span>{{UnavailableButton}}</span>\").addClass(\"disabled\").attr(\"disabled\",\"disabled\").fadeTo(200,.5),_.compare_at_price>_.price?$(\"#price-field-{{productID}}\").html(\"<span class='sca-old-price'>\"+SECOMAPP.formatMoney(_.compare_at_price)+\"</span>&nbsp;<s class='sca-special-price'>\"+SECOMAPP.formatMoney(_.price)+\"</s>\"):$(\"#price-field-{{productID}}\").html(\"<span class='sca-special-price'>\"+SECOMAPP.formatMoney(_.price)+\"</span>\")):$(\"#sca-btn-{{productID}}\").html(\"<span>{{UnavailableButton}}</span>\").addClass(\"disabled\").attr(\"disabled\",\"disabled\").fadeTo(200,.5),_&&_.featured_image){var a=$(\"#sca-freegift-{{productID}} img\"),o=_.featured_image,n=a[0];Shopify.Image.switchImage(o,n,function(_,t,a){$(a).parents(\"a\").attr(\"href\",_),$(a).attr(\"src\",_)})}},onclickSelect_{{productID}}=function(){SECOMAPP.jQuery.getJSON(\"/products/{{productHandle}}.js\",{_: new Date().getTime()},function(_){1==_.options.length&&$(\"<label><strong>\"+_.options[0].name+\"</strong></label>\").insertBefore(\"#product-select-{{productID}}\");var t=[];SECOMAPP.jQuery.each(_.options,function(_,a){t[_]=a.name}),_.options=t;for(var a={{variantsGiftList}},o={{mainVariantsList}},n=_.variants.length-1;n>-1;n--)a.indexOf(_.variants[n].id)<0&&o.indexOf(_.variants[n].id)<0&&_.variants.splice(n,1);for(var e=o.length-1;e>-1;e--){var c=a[e],i=o[e],s=0,r=0;for(n=_.variants.length-1;n>-1;n--)_.variants[n].id==c?s=n:_.variants[n].id==i&&(r=n);\"undefined\"!=typeof SECOMAPP&&void 0!==SECOMAPP.fgsettings&&!0===SECOMAPP.fgsettings.sca_sync_gift&&void 0!==SECOMAPP.fgsettings.sca_fg_gift_variant_quantity_format&&\"equal_original_inventory\"===SECOMAPP.fgsettings.sca_fg_gift_variant_quantity_format&&(_.variants[s].available=_.variants[r].available,_.variants[s].inventory_management=_.variants[r].inventory_management),_.variants[s].option1=_.variants[r].option1,_.variants[s].options[0].name=_.variants[r].options[0].name,_.variants[s].options[1]&&(_.variants[s].options[1].name=_.variants[r].options[1].name,_.variants[s].option2=_.variants[r].option2),_.variants[s].options[2]&&(_.variants[s].options[2].name=_.variants[r].options[2].name,_.variants[s].option3=_.variants[r].option3),_.variants[s].title=_.variants[r].title,_.variants[s].name=_.variants[r].name,_.variants[s].public_title=_.variants[r].public_title,_.variants.splice(r,1)}$(\"#sca-btn-select-{{productID}}\").hide(),$(\"#product-select-{{productID}}\").show(),$(\"#sca-btn-{{productID}}\").show(),$(\"#stay-content-sca-freegift-{{productID}} .close_box\").show(),$(\"#stay-content-sca-freegift-{{productID}} .close_box\").click(function(){$(\"#stay-content-sca-freegift-{{productID}}\").hide(),$(\"#sca-btn-{{productID}}\").hide(),$(\"#sca-btn-select-{{productID}}\").show()}),new Shopify.OptionSelectors(\"product-select-{{productID}}\",{product:_,onVariantSelected:selectCallback_{{productID}},enableHistoryState:!0}),1==_.variants.length&&-1!==_.variants[0].title.indexOf(\"Default\")?jQuery(\"#sca-freegift-{{productID}} .selector-wrapper\").hide():($(\"#stay-content-sca-freegift-{{productID}}\").show(),$(\"#stay-content-sca-freegift-{{productID}}\").focus()),onclickSelect_{{productID}}=function(){$(\"#stay-content-sca-freegift-{{productID}}\").show(),$(\"#sca-btn-{{productID}}\").show(),$(\"#sca-btn-select-{{productID}}\").hide()}})};\n",
       "  \n",
       "</script>\n",
       "<script id=\"sca_fg_cart_ShowGiftAsVariantTemplate\" type=\"text/template\">\n",
       "  \n",
       "  <div class=\"item not-sca-qv\" id=\"sca-freegift-{{variantID}}\">\n",
       "    <img class=\"lazyOwl\" data-src=\"{{variantImageURL}}\">\n",
       "    <div class=\"sca-product-shop\">\n",
       "      <div class=\"f-fix\">\n",
       "        <span class=\"sca-product-title\" style=\"white-space: nowrap;color:#000;\">{{variantTitle}}</span>\n",
       "        <!-- <div class=\"sca-price\">\n",
       "          <span class=\"sca-old-price\">{{variant_compare_at_price}}</span>\n",
       "          <span class=\"sca-special-price\">{{variant_price}}</span>\n",
       "        </div> -->\n",
       "        <button type=\"button\" id=\"sca-btn{{variantID}}\" class=\"sca-button\" onclick=\"SECOMAPP.addGiftToCart({{variantID}},1);\">\n",
       "          <span>{{AddToCartButton}}</span>\n",
       "        </button>\n",
       "      </div>\n",
       "    </div>\n",
       "  </div>\n",
       "  \n",
       "</script>\n",
       "<script id=\"sca_fg_prod_GiftList\" type=\"text/template\">\n",
       "  \n",
       "  <a id =\"{{giftShowID}}\" class=\"product-image freegif-product-image freegift-info-{{giftShowID}}\"\n",
       "     title=\"{{giftTitle}}\" href=\"/products/{{productsHandle}}\">\n",
       "    <img class=\"not-sca-qv\" src=\"{{giftImgUrl}}\" alt=\"{{giftTitle}}\" />\n",
       "  </a>\n",
       "  \n",
       "</script>\n",
       "<script id=\"sca_fg_prod_Gift_PopupDetail\" type=\"text/template\">\n",
       "  \n",
       "  <div class=\"sca-fg-item fg-info-{{giftShowID}}\" style=\"display:none;z-index:2147483647;\">\n",
       "    <div class=\"sca-fg-item-options\">\n",
       "      <div class=\"sca-fg-item-option-title\">\n",
       "        <em>{{freegiftRuleName}}</em>\n",
       "      </div>\n",
       "      <div class=\"sca-fg-item-option-ct\">\n",
       "        <!--        <div class=\"sca-fg-image-item\">\n",
       "                        <img src=\"{{giftImgUrl}}\" /> -->\n",
       "        <div class=\"sca-fg-item-name\">\n",
       "          <a href=\"#\">{{giftTitle}}</a>\n",
       "        </div>\n",
       "        <!--        </div> -->\n",
       "      </div>\n",
       "    </div>\n",
       "  </div>\n",
       "  \n",
       "</script>\n",
       "<script id=\"sca_fg_ajax_GiftListPopup\" type=\"text/template\">\n",
       "  \n",
       "  <div id=\"freegift_popup\" class=\"mfp-hide\">\n",
       "    <div id=\"sca-fg-owl-carousel\">\n",
       "      <div id=\"freegift_cart_container\" class=\"sca-fg-cart-container\" style=\"display: none;\">\n",
       "        <div id=\"freegift_message\" class=\"owl-carousel\"></div>\n",
       "      </div>\n",
       "      <div id=\"sca-fg-slider-cart\" style=\"display: none;\">\n",
       "        <div class=\"sca-fg-cart-title\">\n",
       "          <strong>{{popupTitle}}</strong>\n",
       "        </div>\n",
       "        <div id=\"sca_freegift_list\" class=\"owl-carousel\"></div>\n",
       "      </div>\n",
       "    </div>\n",
       "  </div>\n",
       "  \n",
       "</script>\n",
       "<link href=\"//cdn.shopify.com/s/files/1/0645/7913/t/33/assets/sca.freegift.css?v=3763659051011093816\" media=\"all\" rel=\"stylesheet\" type=\"text/css\">\n",
       "<script src=\"//cdn.shopify.com/s/assets/themes_support/option_selection-fe6b72c2bbdd3369ac0bfefe8648e3c889efca213baefd4cfb0dd9363563831f.js\" type=\"text/javascript\"></script>\n",
       "<script>\n",
       "    Shopify.money_format = \"$ {{amount}}\";\n",
       "</script>\n",
       "<script type=\"text/javascript\">(function(){if(typeof SECOMAPP===\"undefined\"){SECOMAPP={}};if(typeof Shopify===\"undefined\"){Shopify={}};SECOMAPP.fg_ver=1586298264;SECOMAPP.fg_scriptfile=\"freegifts_20200402.min.js\";SECOMAPP.gifts_list_avai={\"45011945731\":true,\"3015612399656\":true,\"45013285699\":true,\"45013285763\":true,\"45013285827\":true,\"3556475895848\":true,\"12443545534561\":true,\"19647669796961\":true,\"19647669829729\":true,\"19647669862497\":true,\"29761226276961\":true,\"29761226309729\":true};})();</script>\n",
       "<script data-cfasync=\"false\" type=\"text/javascript\">\n",
       "  /* Smart Ecommerce App (SEA Inc)\n",
       "  * http://www.secomapp.com\n",
       "  * Do not reuse those source codes if don't have permission of us.\n",
       "  * */\n",
       "  \n",
       "  \n",
       "  (function(){if(!Array.isArray){Array.isArray=function(e){return Object.prototype.toString.call(e)===\"[object Array]\"}}\"function\"!==typeof Object.create&&(Object.create=function(e){function t(){}t.prototype=e;return new t});if(!Object.keys){Object.keys=function(e){var t=[],r;for(r in e){if(Object.prototype.hasOwnProperty.call(e,r)){t.push(r)}}return t}}if(!String.prototype.endsWith){Object.defineProperty(String.prototype,\"endsWith\",{value:function(e,t){var r=this.toString();if(t===undefined||t>r.length){t=r.length}t-=e.length;var i=r.indexOf(e,t);return i!==-1&&i===t},writable:true,enumerable:true,configurable:true})}if(!Array.prototype.indexOf){Array.prototype.indexOf=function(e,t){var r;if(this==null){throw new TypeError('\"this\" is null or not defined')}var i=Object(this);var n=i.length>>>0;if(n===0){return-1}var o=+t||0;if(Math.abs(o)===Infinity){o=0}if(o>=n){return-1}r=Math.max(o>=0?o:n-Math.abs(o),0);while(r<n){if(r in i&&i[r]===e){return r}r++}return-1}}if(!Array.prototype.forEach){Array.prototype.forEach=function(e,t){var r,i;if(this==null){throw new TypeError(\" this is null or not defined\")}var n=Object(this);var o=n.length>>>0;if(typeof e!==\"function\"){throw new TypeError(e+\" is not a function\")}if(arguments.length>1){r=t}i=0;while(i<o){var a;if(i in n){a=n[i];e.call(r,a,i,n)}i++}}}console=console||{};console.log=console.log||function(){};if(typeof Shopify===\"undefined\"){Shopify={}}if(typeof Shopify.onError!==\"function\"){Shopify.onError=function(){}}if(typeof SECOMAPP===\"undefined\"){SECOMAPP={}}SECOMAPP.removeGiftsVariant=function(e){setTimeout(function(){try{e(\"select option\").not(\".sca-fg-cart-item select option\").filter(function(){var t=e(this).val();var r=e(this).text();if(r.indexOf(\" - \")!==-1){r=r.slice(0,r.indexOf(\" - \"))}var i=[];if(r.indexOf(\" / \")!==-1){i=r.split(\" / \");r=i[i.length-1]}if(typeof SECOMAPP.gifts_list_avai!==\"undefined\"&&typeof SECOMAPP.gifts_list_avai[t]!==\"undefined\"||r.endsWith(\"% off)\")){e(this).parent(\"select\").find(\"option\").not(\".sca-fg-cart-item select option\").filter(function(){var i=e(this).val();var n=e(this).text();return n.endsWith(r)||i==t}).remove();e(\".dropdown *,ul li,label,div\").filter(function(){var i=e(this).html(),n=e(this).data(\"value\");return i&&i.endsWith(r)||n==t}).remove();return true}return false})}catch(e){console.log(e)}},500)};SECOMAPP.formatMoney=function(e,t){if(typeof e==\"string\"){e=e.replace(\".\",\"\")}var r=\"\";var i=typeof Shopify!==\"undefined\"&&typeof Shopify.money_format!==\"undefined\"?Shopify.money_format:\"{{amount}}\";var n=/\\{\\{\\s*(\\w+)\\s*\\}\\}/;var o=t||(typeof this.fgsettings.sca_currency_format===\"string\"&&this.fgsettings.sca_currency_format.indexOf(\"amount\")>-1?this.fgsettings.sca_currency_format:null)||i;if(o.indexOf(\"amount_no_decimals_no_comma_separator\")<0&&o.indexOf(\"amount_no_comma_separator_up_cents\")<0&&o.indexOf(\"amount_up_cents\")<0&&typeof Shopify.formatMoney===\"function\"){return Shopify.formatMoney(e,o)}function a(e,t){return typeof e==\"undefined\"?t:e}function f(e,t,r,i,n,o){t=a(t,2);r=a(r,\",\");i=a(i,\".\");if(isNaN(e)||e==null){return 0}e=(e/100).toFixed(t);var f=e.split(\".\"),c=f[0].replace(/(\\d)(?=(\\d\\d\\d)+(?!\\d))/g,\"$1\"+r),s=f[1]?!n||!o?i+f[1]:n+f[1]+o:\"\";return c+s}switch(o.match(n)[1]){case\"amount\":r=f(e,2);break;case\"amount_no_decimals\":r=f(e,0);break;case\"amount_with_comma_separator\":r=f(e,2,\",\",\".\");break;case\"amount_no_decimals_with_comma_separator\":r=f(e,0,\",\",\".\");break;case\"amount_no_decimals_no_comma_separator\":r=f(e,0,\"\",\"\");break;case\"amount_up_cents\":r=f(e,2,\",\",\"\",\"<sup>\",\"</sup>\");break;case\"amount_no_comma_separator_up_cents\":r=f(e,2,\"\",\"\",\"<sup>\",\"</sup>\");break}return o.replace(n,r)};SECOMAPP.setCookie=function(e,t,r,i,n){var o=new Date;o.setTime(o.getTime()+r*24*60*60*1e3+i*60*1e3);var a=\"expires=\"+o.toUTCString();document.cookie=e+\"=\"+t+\";\"+a+(n?\";path=\"+n:\";path=/\")};SECOMAPP.deleteCookie=function(e,t){document.cookie=e+\"=; expires=Thu, 01 Jan 1970 00:00:00 UTC; \"+(t?\";path=\"+t:\";path=/\")};SECOMAPP.getCookie=function(e){var t=e+\"=\";var r=document.cookie.split(\";\");for(var i=0;i<r.length;i++){var n=r[i];while(n.charAt(0)==\" \")n=n.substring(1);if(n.indexOf(t)==0)return n.substring(t.length,n.length)}return\"\"};SECOMAPP.getQueryString=function(){var e={};var t=window.location.search.substring(1);var r=t.split(\"&\");for(var i=0;i<r.length;i++){var n=r[i].split(\"=\");if(typeof e[n[0]]===\"undefined\"){e[n[0]]=decodeURIComponent(n[1])}else if(typeof e[n[0]]===\"string\"){var o=[e[n[0]],decodeURIComponent(n[1])];e[n[0]]=o}else{e[n[0]].push(decodeURIComponent(n[1]))}}return e};SECOMAPP.freegifts_product_json=function(e){if(e){for(var t=0;t<e.options.length;t++)if(typeof e.options[t]!==\"undefined\"&&typeof e.options[t].values!==\"undefined\"){var r=e.options[t];for(var i=0;i<r.values.length;i++)(r.values[i].endsWith(\"(Freegifts)\")||r.values[i].endsWith(\"% off)\"))&&(r.values.splice(i,1),i--)}for(var n=function(e){for(var t in e)if(e.hasOwnProperty(t))return!1;return!0},o=e.price,a=e.price_max,f=e.price_min,c=e.compare_at_price,s=e.compare_at_price_max,p=e.compare_at_price_min,t=0;t<e.variants.length;t++){var i=e.variants[t],u=i.option3?i.option3:i.option2?i.option2:i.option1;\"undefined\"!=typeof SECOMAPP&&\"undefined\"!=typeof SECOMAPP.gifts_list_avai&&!n(SECOMAPP.gifts_list_avai)&&\"undefined\"!=typeof SECOMAPP.gifts_list_avai[i.id]||u.endsWith(\"(Freegifts)\")||u.endsWith(\"% off)\")?(e.variants.splice(t,1),t-=1):(a>=i.price&&(a=i.price,o=i.price),f<=i.price&&(f=i.price),i.compare_at_price&&(s>=i.compare_at_price&&(s=i.compare_at_price,c=i.compare_at_price),p<=i.compare_at_price&&(p=i.compare_at_price)),1==i.available&&(e.available=!0))}e.price=o,e.price_max=f,e.price_min=a,e.compare_at_price=c,e.compare_at_price_max=p,e.compare_at_price_min=s,e.price_varies=f>a?!0:!1,e.compare_at_price_varies=p>s?!0:!1}return e};SECOMAPP.fg_codes=[];if(SECOMAPP.getCookie(\"sca_fg_codes\")!==\"\"){SECOMAPP.fg_codes=JSON.parse(SECOMAPP.getCookie(\"sca_fg_codes\"))}var e=SECOMAPP.getQueryString();if(e[\"freegifts_code\"]&&SECOMAPP.fg_codes.indexOf(e[\"freegifts_code\"])===-1){if(typeof SECOMAPP.activateOnlyOnePromoCode!==\"undefined\"&&SECOMAPP.activateOnlyOnePromoCode===true){SECOMAPP.fg_codes=[]}SECOMAPP.fg_codes.push(e[\"freegifts_code\"]);SECOMAPP.setCookie(\"sca_fg_codes\",JSON.stringify(SECOMAPP.fg_codes))}})();\n",
       "  \n",
       "  ;SECOMAPP.customer={};SECOMAPP.customer.orders=[];SECOMAPP.customer.freegifts=[];;SECOMAPP.customer.email=null;SECOMAPP.customer.first_name=null;SECOMAPP.customer.last_name=null;SECOMAPP.customer.tags=null;SECOMAPP.customer.orders_count=null;SECOMAPP.customer.total_spent=null;\n",
       "</script>\n",
       "<!--Installed by Yotpo Automatic Installation-->\n",
       "<script>(function e(){var e=document.createElement(\"script\");e.type=\"text/javascript\",e.async=true,e.src=\"//staticw2.yotpo.com/vRHKoHMwYhiPWtnK5lZOielzKkI67I1G8y37Zb3W/widget.js\";var t=document.getElementsByTagName(\"script\")[0];t.parentNode.insertBefore(e,t)})();</script>\n",
       "<!-- BeginConsistentCartAddon --> <script>    Shopify.customer_logged_in = false ;  Shopify.customer_email = \"\" ;  Shopify.log_uuids = true;    </script> <!-- EndConsistentCartAddon -->\n",
       "</link></link></meta></head>\n",
       "<body class=\"product\">\n",
       "<div id=\"content\n",
       "_wrapper\">\n",
       "<div class=\"shopify-section header-section\" id=\"shopify-section-header\">\n",
       "<div class=\"promo_banner_mobile\">\n",
       "<p><a href=\"/blogs/heatblog/update-on-the-health-crisis\" title=\"Update on the health crisis\">$7.99 FLAT RATE SHIPPING</a> + Your Choice of Freebies</p>\n",
       "<!-- <div class=\"icon-close\"></div> -->\n",
       "</div>\n",
       "<div class=\"mm-fixed-top Fixed mobile-header\" data-search-enabled=\"true\" id=\"header\">\n",
       "<a class=\"icon-menu\" href=\"#nav\"> <span>Menu</span></a>\n",
       "<a class=\"icon-cart right\" href=\"#cart\"> <span>Cart</span></a>\n",
       "</div>\n",
       "<div class=\"hidden\">\n",
       "<div id=\"nav\">\n",
       "<ul>\n",
       "<li><a href=\"/\">Home</a></li>\n",
       "<li>\n",
       "<a href=\"/collections/all-sauces\">Shop</a>\n",
       "<ul>\n",
       "<li><a href=\"/collections/all-sauces\">All Sauces</a></li>\n",
       "<li><a href=\"/pages/our-brands\">All Brands</a></li>\n",
       "<li><a href=\"/pages/gift-sets\">Gift Sets</a></li>\n",
       "<li><a href=\"/collections/award-winning-hot-sauce\">Award Winning</a></li>\n",
       "<li><a href=\"/collections/hot-ones\">Featured on Hot Ones</a></li>\n",
       "<li><a href=\"/collections/sauces-featured-on-serious-eats\">Featured on Serious Eats</a></li>\n",
       "<li><a href=\"/collections/chile-powders\">Pods &amp; Powders</a></li>\n",
       "<li><a href=\"/collections/hot-sauce-sales\">Sales</a></li>\n",
       "</ul>\n",
       "</li>\n",
       "<li>\n",
       "<a href=\"/pages/about-us\">About</a>\n",
       "<ul>\n",
       "<li><a href=\"/pages/about-us\">About Us</a></li>\n",
       "<li><a href=\"/blogs/heatblog\">Blog</a></li>\n",
       "<li><a href=\"/pages/cheap-quick-shipping\">Cheap Shipping</a></li>\n",
       "<li><a href=\"/pages/all-about-chile-peppers\">About Chile Peppers</a></li>\n",
       "<li><a href=\"/pages/spicy-links\">Spicy Links</a></li>\n",
       "<li><a href=\"/pages/our-berkeley-storefront\">Berkeley Storefront</a></li>\n",
       "</ul>\n",
       "</li>\n",
       "<li><a href=\"/products/sauce-of-the-month\">Sauce of the Month</a></li>\n",
       "<li>\n",
       "<a href=\"/account\">Account</a>\n",
       "<ul>\n",
       "<li><a href=\"/account\">Online Shop Account </a></li>\n",
       "<li><a href=\"https://club.heathotsauce.com/customer/account\">Monthly Club Account</a></li>\n",
       "<li><a href=\"/a/wishlist\">Wishlist</a></li>\n",
       "</ul>\n",
       "</li>\n",
       "</ul>\n",
       "</div>\n",
       "<form action=\"/checkout\" id=\"cart\" method=\"post\">\n",
       "<ul data-money-format=\"$ {{amount}}\" data-shop-currency=\"USD\" data-shop-name=\"Heat\">\n",
       "<li class=\"mm-subtitle\"><a class=\"mm-subclose continue\" href=\"#cart\">Continue Shopping</a></li>\n",
       "<li class=\"mm-label empty_cart\"><a href=\"/cart\">Your Cart is Empty</a></li>\n",
       "</ul>\n",
       "</form>\n",
       "</div>\n",
       "<div class=\"header default-header mm-fixed-top Fixed behind-menu--true header_bar js-no-change\">\n",
       "<div class=\"promo_banner\">\n",
       "<p><a href=\"/blogs/heatblog/update-on-the-health-crisis\" title=\"Update on the health crisis\">$7.99 FLAT RATE SHIPPING</a> + Your Choice of Freebies</p>\n",
       "<!-- <div class=\"icon-close\"></div> -->\n",
       "</div>\n",
       "<div class=\"container\">\n",
       "<div class=\"four columns logo secondary-logo--true\">\n",
       "<a href=\"https://heathotsauce.com\" title=\"Heat\">\n",
       "<img alt=\"Heat\" class=\"primary_logo\" src=\"//cdn.shopify.com/s/files/1/0645/7913/files/logoclearpepper_280x@2x.png?v=1496710793\"/>\n",
       "<img alt=\"Heat\" class=\"secondary_logo\" src=\"//cdn.shopify.com/s/files/1/0645/7913/files/logoclearpepper_280x@2x.png?v=1496710793\"/>\n",
       "</a>\n",
       "</div>\n",
       "<div class=\"twelve columns nav mobile_hidden\">\n",
       "<ul class=\"menu\">\n",
       "<li><a class=\"top-link\" href=\"/\">Home</a></li>\n",
       "<li><a class=\"sub-menu\" href=\"/collections/all-sauces\">Shop\n",
       "              <span class=\"arrow\">▾</span></a>\n",
       "<div class=\"dropdown\">\n",
       "<ul>\n",
       "<li><a href=\"/collections/all-sauces\">All Sauces</a></li>\n",
       "<li><a href=\"/pages/our-brands\">All Brands</a></li>\n",
       "<li><a href=\"/pages/gift-sets\">Gift Sets</a></li>\n",
       "<li><a href=\"/collections/award-winning-hot-sauce\">Award Winning</a></li>\n",
       "<li><a href=\"/collections/hot-ones\">Featured on Hot Ones</a></li>\n",
       "<li><a href=\"/collections/sauces-featured-on-serious-eats\">Featured on Serious Eats</a></li>\n",
       "<li><a href=\"/collections/chile-powders\">Pods &amp; Powders</a></li>\n",
       "<li><a href=\"/collections/hot-sauce-sales\">Sales</a></li>\n",
       "</ul>\n",
       "</div>\n",
       "</li>\n",
       "<li><a class=\"sub-menu\" href=\"/pages/about-us\">About\n",
       "              <span class=\"arrow\">▾</span></a>\n",
       "<div class=\"dropdown\">\n",
       "<ul>\n",
       "<li><a href=\"/pages/about-us\">About Us</a></li>\n",
       "<li><a href=\"/blogs/heatblog\">Blog</a></li>\n",
       "<li><a href=\"/pages/cheap-quick-shipping\">Cheap Shipping</a></li>\n",
       "<li><a href=\"/pages/all-about-chile-peppers\">About Chile Peppers</a></li>\n",
       "<li><a href=\"/pages/spicy-links\">Spicy Links</a></li>\n",
       "<li><a href=\"/pages/our-berkeley-storefront\">Berkeley Storefront</a></li>\n",
       "</ul>\n",
       "</div>\n",
       "</li>\n",
       "<li><a class=\"top-link\" href=\"/products/sauce-of-the-month\">Sauce of the Month</a></li>\n",
       "<li><a class=\"sub-menu\" href=\"/account\">Account\n",
       "              <span class=\"arrow\">▾</span></a>\n",
       "<div class=\"dropdown\">\n",
       "<ul>\n",
       "<li><a href=\"/account\">Online Shop Account </a></li>\n",
       "<li><a href=\"https://club.heathotsauce.com/customer/account\">Monthly Club Account</a></li>\n",
       "<li><a href=\"/a/wishlist\">Wishlist</a></li>\n",
       "</ul>\n",
       "</div>\n",
       "</li>\n",
       "<li>\n",
       "<a class=\"icon-search\" href=\"/search\" id=\"search-toggle\" title=\"Search\"></a>\n",
       "</li>\n",
       "<li>\n",
       "<a class=\"icon-cart cart-button\" href=\"#cart\"> <span>Cart</span></a>\n",
       "</li>\n",
       "</ul>\n",
       "</div>\n",
       "</div>\n",
       "</div>\n",
       "<div class=\"container mobile_logo\">\n",
       "<div class=\"logo\">\n",
       "<a href=\"https://heathotsauce.com\" title=\"Heat\">\n",
       "<img alt=\"Heat\" src=\"//cdn.shopify.com/s/files/1/0645/7913/files/logoclearpepper_280x@2x.png?v=1496710793\"/>\n",
       "</a>\n",
       "</div>\n",
       "</div>\n",
       "<style>\n",
       "  div.content.container {\n",
       "    padding: 120px 0px 0px 0px;\n",
       "  }\n",
       "\n",
       "  \n",
       "\n",
       "  @media only screen and (max-width: 767px) {\n",
       "    div.content.container, div.content {\n",
       "      padding-top: 5px;\n",
       "    }\n",
       "  }\n",
       "\n",
       "  .logo a {\n",
       "    display: block;\n",
       "    padding-top: 0px;\n",
       "    max-width: 200px;\n",
       "  }\n",
       "\n",
       "  \n",
       "    .nav ul.menu { padding-top: 14px; }\n",
       "  \n",
       "\n",
       "  \n",
       "\n",
       "</style>\n",
       "</div>\n",
       "<div class=\"content container\">\n",
       "<div class=\"shopify-section product-template-section\" id=\"shopify-section-product-template\"><div class=\"sixteen columns\">\n",
       "<div class=\"clearfix breadcrumb\">\n",
       "<div class=\"right mobile_hidden\">\n",
       "</div>\n",
       "<div class=\"breadcrumb_text\" itemscope=\"\" itemtype=\"http://schema.org/BreadcrumbList\">\n",
       "<span itemprop=\"itemListElement\" itemscope=\"\" itemtype=\"http://schema.org/ListItem\"><a href=\"https://heathotsauce.com\" itemprop=\"item\" title=\"Heat\"><span itemprop=\"name\">Home</span></a></span>\n",
       "          /  \n",
       "        <span itemprop=\"itemListElement\" itemscope=\"\" itemtype=\"http://schema.org/ListItem\">\n",
       "<a href=\"/collections/all\" itemprop=\"item\" title=\"Products\"><span itemprop=\"name\">Products</span></a>\n",
       "</span>\n",
       "          /  \n",
       "        Angry Cock\n",
       "      </div>\n",
       "</div>\n",
       "</div>\n",
       "<div class=\"sixteen columns\">\n",
       "<div class=\"product-10774675843\">\n",
       "<div class=\"section product_section clearfix product_slideshow_animation--none product_images_position--left\" data-slideshow-animation=\"none\" data-slideshow-speed=\"6\" data-thumbnail=\"bottom-thumbnails\" itemscope=\"\" itemtype=\"http://schema.org/Product\">\n",
       "<div class=\"nine columns alpha\">\n",
       "<div class=\"flexslider product_gallery product-10774675843-gallery product_slider\">\n",
       "<ul class=\"slides\">\n",
       "<li data-thumb=\"//cdn.shopify.com/s/files/1/0645/7913/products/unnamed_a5621c6c-17fc-4866-aaae-9702e00fcddc_grande.jpg?v=1579497661\" data-title=\"Angry Cock - CaJohns Heat Hot Sauce Shop\">\n",
       "<a class=\"fancybox\" data-fancybox-group=\"10774675843\" href=\"//cdn.shopify.com/s/files/1/0645/7913/products/unnamed_a5621c6c-17fc-4866-aaae-9702e00fcddc_2048x.jpg?v=1579497661\" rel=\"group\" title=\"Angry Cock - CaJohns Heat Hot Sauce Shop\">\n",
       "<div class=\"image__container\" style=\" max-width: 500.0px; \">\n",
       "<img alt=\"\" class=\"lazyload lazyload--mirage cloudzoom featured_image\" data-cloudzoom=\"zoomImage: '//cdn.shopify.com/s/files/1/0645/7913/products/unnamed_a5621c6c-17fc-4866-aaae-9702e00fcddc_2048x.jpg?v=1579497661', tintColor: '#ffffff', zoomPosition: 'inside', zoomOffsetX: 0, touchStartDelay: 250\" data-image-id=\"24037778627\" data-index=\"0\" data-sizes=\"auto\" data-src=\"//cdn.shopify.com/s/files/1/0645/7913/products/unnamed_a5621c6c-17fc-4866-aaae-9702e00fcddc_2048x.jpg?v=1579497661\" data-srcset=\" //cdn.shopify.com/s/files/1/0645/7913/products/unnamed_a5621c6c-17fc-4866-aaae-9702e00fcddc_2048x.jpg?v=1579497661 2048w,\n",
       "                                  //cdn.shopify.com/s/files/1/0645/7913/products/unnamed_a5621c6c-17fc-4866-aaae-9702e00fcddc_1600x.jpg?v=1579497661 1600w,\n",
       "                                  //cdn.shopify.com/s/files/1/0645/7913/products/unnamed_a5621c6c-17fc-4866-aaae-9702e00fcddc_1200x.jpg?v=1579497661 1200w,\n",
       "                                  //cdn.shopify.com/s/files/1/0645/7913/products/unnamed_a5621c6c-17fc-4866-aaae-9702e00fcddc_1000x.jpg?v=1579497661 1000w,\n",
       "                                  //cdn.shopify.com/s/files/1/0645/7913/products/unnamed_a5621c6c-17fc-4866-aaae-9702e00fcddc_800x.jpg?v=1579497661 800w,\n",
       "                                  //cdn.shopify.com/s/files/1/0645/7913/products/unnamed_a5621c6c-17fc-4866-aaae-9702e00fcddc_600x.jpg?v=1579497661 600w,\n",
       "                                  //cdn.shopify.com/s/files/1/0645/7913/products/unnamed_a5621c6c-17fc-4866-aaae-9702e00fcddc_400x.jpg?v=1579497661 400w\" src=\"//cdn.shopify.com/s/files/1/0645/7913/products/unnamed_a5621c6c-17fc-4866-aaae-9702e00fcddc_100x.jpg?v=1579497661\" style=\"width: 100%; height: auto; max-width:800px;\"/>\n",
       "<div class=\"transition-helper\">\n",
       "</div>\n",
       "</div>\n",
       "</a>\n",
       "</li>\n",
       "</ul>\n",
       "</div>\n",
       "</div>\n",
       "<div class=\"seven columns omega\">\n",
       "<h1 class=\"product_name\" itemprop=\"name\"><div style=\"position:relative;\"> Angry Cock <div name=\"secomapp-fg-image-10774675843\" style=\"display: none;\"> <img alt=\"\" class=\"sca-fg-img-collect\" src=\"//cdn.shopify.com/s/files/1/0645/7913/t/33/assets/icon-freegift.png?v=13293130802511109535\"/> </div> </div></h1>\n",
       "<p class=\"vendor\">\n",
       "<span itemprop=\"brand\"><a href=\"/collections/vendors?q=CaJohns\" title=\"CaJohns\">CaJohns</a></span>\n",
       "</p>\n",
       "<p class=\"modal_price\" itemprop=\"offers\" itemscope=\"\" itemtype=\"http://schema.org/Offer\">\n",
       "<meta content=\"USD\" itemprop=\"priceCurrency\">\n",
       "<meta content=\"Heat\" itemprop=\"seller\">\n",
       "<link href=\"http://schema.org/OutOfStock\" itemprop=\"availability\"/>\n",
       "<meta content=\"New\" itemprop=\"itemCondition\">\n",
       "<span class=\"sold_out\">Sold Out</span>\n",
       "<span class=\"\" content=\"9.99\" itemprop=\"price\">\n",
       "<span class=\"current_price hidden\">\n",
       "<span class=\"money\">$ 9.99</span>\n",
       "</span>\n",
       "</span>\n",
       "<span class=\"was_price\">\n",
       "</span>\n",
       "</meta></meta></meta></p>\n",
       "<form action=\"/cart/add\" class=\"clearfix product_form init\" data-enable-state=\"true\" data-money-format=\"$ {{amount}}\" data-product='{\"id\":10774675843,\"title\":\"Angry Cock\",\"handle\":\"fire-cock\",\"description\":\"\\u003cmeta charset=\\\"utf-8\\\"\\u003e\\n\\u003cp\\u003e\\u003cspan\\u003eMade with 80% fresh Bhut Jolokia peppers (also known as ghost chiles) and a blend of select spices, Angry Cock is an extract free ultra hot sauce. Try in soups, gumbo and red beans \\u0026amp; rice\\u003c\\/span\\u003e\\u003c\\/p\\u003e\\n\\u003cp\\u003e\\u003cstrong\\u003eHeat Level: \\u003c\\/strong\\u003eExtra Hot\\u003c\\/p\\u003e\\n\\u003cp\\u003e\\u003cstrong\\u003eIngredients: \\u003c\\/strong\\u003e﻿\\u003cspan\\u003eBhut Jolokia Chiles, Vinegar, Onion, Garlic, Black Pepper, Chile Caribe, Salt, and a select blend of Dehydrated Vegetables.\\u003c\\/span\\u003e\\u003c\\/p\\u003e\\n\\u003cp\\u003e\\u003cstrong\\u003e5 oz\\u003c\\/strong\\u003e\\u003c\\/p\\u003e\",\"published_at\":\"2017-08-13T23:35:30-07:00\",\"created_at\":\"2017-08-13T18:15:04-07:00\",\"vendor\":\"CaJohns\",\"type\":\"Hot Sauce\",\"tags\":[\"7-pot\",\"ebbfcm\",\"extra-hot\"],\"price\":999,\"price_min\":999,\"price_max\":999,\"available\":false,\"price_varies\":false,\"compare_at_price\":null,\"compare_at_price_min\":0,\"compare_at_price_max\":0,\"compare_at_price_varies\":false,\"variants\":[{\"id\":43377269891,\"title\":\"Default Title\",\"option1\":\"Default Title\",\"option2\":null,\"option3\":null,\"sku\":\"91954\",\"requires_shipping\":true,\"taxable\":false,\"featured_image\":null,\"available\":false,\"name\":\"Angry Cock\",\"public_title\":null,\"options\":[\"Default Title\"],\"price\":999,\"weight\":318,\"compare_at_price\":null,\"inventory_quantity\":0,\"inventory_management\":\"shopify\",\"inventory_policy\":\"deny\",\"barcode\":\"\"}],\"images\":[\"\\/\\/cdn.shopify.com\\/s\\/files\\/1\\/0645\\/7913\\/products\\/unnamed_a5621c6c-17fc-4866-aaae-9702e00fcddc.jpg?v=1579497661\"],\"featured_image\":\"\\/\\/cdn.shopify.com\\/s\\/files\\/1\\/0645\\/7913\\/products\\/unnamed_a5621c6c-17fc-4866-aaae-9702e00fcddc.jpg?v=1579497661\",\"options\":[\"Title\"],\"media\":[{\"alt\":\"Angry Cock - CaJohns Heat Hot Sauce Shop\",\"id\":379365982305,\"position\":1,\"preview_image\":{\"aspect_ratio\":1.0,\"height\":800,\"width\":800,\"src\":\"https:\\/\\/cdn.shopify.com\\/s\\/files\\/1\\/0645\\/7913\\/products\\/unnamed_a5621c6c-17fc-4866-aaae-9702e00fcddc.jpg?v=1568964555\"},\"aspect_ratio\":1.0,\"height\":800,\"media_type\":\"image\",\"src\":\"https:\\/\\/cdn.shopify.com\\/s\\/files\\/1\\/0645\\/7913\\/products\\/unnamed_a5621c6c-17fc-4866-aaae-9702e00fcddc.jpg?v=1568964555\",\"width\":800}],\"content\":\"\\u003cmeta charset=\\\"utf-8\\\"\\u003e\\n\\u003cp\\u003e\\u003cspan\\u003eMade with 80% fresh Bhut Jolokia peppers (also known as ghost chiles) and a blend of select spices, Angry Cock is an extract free ultra hot sauce. Try in soups, gumbo and red beans \\u0026amp; rice\\u003c\\/span\\u003e\\u003c\\/p\\u003e\\n\\u003cp\\u003e\\u003cstrong\\u003eHeat Level: \\u003c\\/strong\\u003eExtra Hot\\u003c\\/p\\u003e\\n\\u003cp\\u003e\\u003cstrong\\u003eIngredients: \\u003c\\/strong\\u003e﻿\\u003cspan\\u003eBhut Jolokia Chiles, Vinegar, Onion, Garlic, Black Pepper, Chile Caribe, Salt, and a select blend of Dehydrated Vegetables.\\u003c\\/span\\u003e\\u003c\\/p\\u003e\\n\\u003cp\\u003e\\u003cstrong\\u003e5 oz\\u003c\\/strong\\u003e\\u003c\\/p\\u003e\"}' data-product-id=\"10774675843\" data-select-id=\"product-select-10774675843productproduct-template\" data-shop-currency=\"USD\" id=\"product-form-10774675843product-template\" method=\"post\">\n",
       "<input name=\"id\" type=\"hidden\" value=\"43377269891\"/>\n",
       "<div class=\"purchase clearfix inline_purchase\">\n",
       "<div data-product=\"10774675843\" data-variant=\"43377269891\" id=\"smartwishlist\"></div>\n",
       "</div>\n",
       "</form>\n",
       "<div id=\"iStock-wrapper\" style=\"display:none;\">\n",
       "<h2>Out Of Stock!</h2>\n",
       "<p id=\"iStock-notifyTxt\">We will notify you when this product becomes available.</p>\n",
       "<div id=\"iStock-availability\" style=\"display:none\">\n",
       "<label>Availability Date: </label>\n",
       "<span></span>\n",
       "</div>\n",
       "<div id=\"iStock-fields\">\n",
       "<input id=\"iStock-email-id\" name=\"iStock-email-id\" placeholder=\"Email Address\" type=\"text\" value=\"\"/>\n",
       "<input id=\"iStock-product\" name=\"iStock-product\" type=\"hidden\" value=\"Angry Cock\"/>\n",
       "<input class=\"action_button\" id=\"iStock-notify-btn\" type=\"button\" value=\"Notify Me\"/>\n",
       "</div>\n",
       "<div id=\"iStock-msg\"></div>\n",
       "</div>\n",
       "<script type=\"text/javascript\">\n",
       "\tvar iStockShop = \"heat-hot-sauce-shop.myshopify.com\";\n",
       "\tvar iStockProductId = 10774675843;\n",
       "\tvar iStockVariants = [{\"id\":43377269891,\"title\":\"Default Title\",\"option1\":\"Default Title\",\"option2\":null,\"option3\":null,\"sku\":\"91954\",\"requires_shipping\":true,\"taxable\":false,\"featured_image\":null,\"available\":false,\"name\":\"Angry Cock\",\"public_title\":null,\"options\":[\"Default Title\"],\"price\":999,\"weight\":318,\"compare_at_price\":null,\"inventory_quantity\":0,\"inventory_management\":\"shopify\",\"inventory_policy\":\"deny\",\"barcode\":\"\"}];\n",
       "    var iStockproductFrm = \".product_form\";\n",
       "</script>\n",
       "<script src=\"https://istock.shopapps.in/front/iStock-notify.php?shop=heat-hot-sauce-shop.myshopify.com\"></script>\n",
       "<div class=\"description\" itemprop=\"description\">\n",
       "<meta charset=\"utf-8\"/>\n",
       "<p><span>Made with 80% fresh Bhut Jolokia peppers (also known as ghost chiles) and a blend of select spices, Angry Cock is an extract free ultra hot sauce. Try in soups, gumbo and red beans &amp; rice</span></p>\n",
       "<p><strong>Heat Level: </strong>Extra Hot</p>\n",
       "<p><strong>Ingredients: </strong>﻿<span>Bhut Jolokia Chiles, Vinegar, Onion, Garlic, Black Pepper, Chile Caribe, Salt, and a select blend of Dehydrated Vegetables.</span></p>\n",
       "<p><strong>5 oz</strong></p>\n",
       "</div>\n",
       "<div class=\"meta\">\n",
       "</div>\n",
       "<hr/>\n",
       "<span class=\"social_buttons\">\n",
       "  Share:\n",
       "\n",
       "  \n",
       "\n",
       "  \n",
       "\n",
       "  <a class=\"icon-twitter\" href=\"https://twitter.com/intent/tweet?text=Angry%20Cock&amp;url=https://heathotsauce.com/products/fire-cock&amp;via=heathotsauce\" target=\"_blank\" title=\"Share this on Twitter\"></a>\n",
       "<a class=\"icon-facebook\" href=\"https://www.facebook.com/sharer/sharer.php?u=https://heathotsauce.com/products/fire-cock\" target=\"_blank\" title=\"Share this on Facebook\"></a>\n",
       "<a class=\"icon-pinterest\" data-pin-do=\"skipLink\" href=\"https://pinterest.com/pin/create/button/?url=https://heathotsauce.com/products/fire-cock&amp;description=Angry Cock&amp;media=https://cdn.shopify.com/s/files/1/0645/7913/products/unnamed_a5621c6c-17fc-4866-aaae-9702e00fcddc_600x.jpg?v=1579497661\" target=\"_blank\" title=\"Share this on Pinterest\"></a>\n",
       "<a class=\"icon-gplus\" href=\"https://plus.google.com/share?url=https://heathotsauce.com/products/fire-cock\" target=\"_blank\" title=\"Share this on Google+\"></a>\n",
       "<a class=\"icon-email\" href=\"mailto:?subject=Thought you might like Angry Cock&amp;body=Hey, I was browsing Heat and found Angry Cock. I wanted to share it with you.%0D%0A%0D%0Ahttps://heathotsauce.com/products/fire-cock\" target=\"_blank\" title=\"Email this to a friend\"></a>\n",
       "</span>\n",
       "</div>\n",
       "</div>\n",
       "</div>\n",
       "<br class=\"clear\"/>\n",
       "<br class=\"clear\"/>\n",
       "<h4 class=\"title center\">Related Items</h4>\n",
       "<div class=\"products\" itemtype=\"http://schema.org/ItemList\">\n",
       "<div class=\"four columns alpha thumbnail even\" itemprop=\"itemListElement\" itemscope=\"\" itemtype=\"http://schema.org/Product\">\n",
       "<a href=\"/products/double-take-scotch-bonnet-mustard\" itemprop=\"url\">\n",
       "<div class=\"relative product_image\">\n",
       "<div class=\"image__container\" style=\" max-width: 210.0px; \">\n",
       "<img alt=\"Double Take Scotch Bonnet Mustard\" class=\"lazyload lazyload--mirage primary\" data-sizes=\"auto\" data-src=\"//cdn.shopify.com/s/files/1/0645/7913/products/mustard_2048x.jpg?v=1600100934\" data-srcset=\" //cdn.shopify.com/s/files/1/0645/7913/products/mustard_2048x.jpg?v=1600100934 2048w,\n",
       "                            //cdn.shopify.com/s/files/1/0645/7913/products/mustard_1600x.jpg?v=1600100934 1600w,\n",
       "                            //cdn.shopify.com/s/files/1/0645/7913/products/mustard_1200x.jpg?v=1600100934 1200w,\n",
       "                            //cdn.shopify.com/s/files/1/0645/7913/products/mustard_1000x.jpg?v=1600100934 1000w,\n",
       "                            //cdn.shopify.com/s/files/1/0645/7913/products/mustard_800x.jpg?v=1600100934 800w,\n",
       "                            //cdn.shopify.com/s/files/1/0645/7913/products/mustard_600x.jpg?v=1600100934 600w,\n",
       "                            //cdn.shopify.com/s/files/1/0645/7913/products/mustard_400x.jpg?v=1600100934 400w\" src=\"//cdn.shopify.com/s/files/1/0645/7913/products/mustard_100x.jpg?v=1600100934\" style=\"width: 100%; height: auto; max-width:995px;\"/>\n",
       "<div name=\"secomapp-fg-image-4760396398689\" style=\"display: none;\"> <img alt=\"\" class=\"sca-fg-img-collect\" src=\"//cdn.shopify.com/s/files/1/0645/7913/t/33/assets/icon-freegift.png?v=13293130802511109535\"/> </div>\n",
       "<div class=\"sca-fg-cat-list\" name=\"secomapp-fg-data-4760396398689\" prod-show=\"list\" style=\"display:none;\"> </div>\n",
       "<div class=\"transition-helper\">\n",
       "</div>\n",
       "</div>\n",
       "<span class=\"quick_shop action_button\" data-fancybox-href=\"#product-4760396398689\" data-gallery=\"product-4760396398689-gallery\" data-istockproduct=\"Double Take Scotch Bonnet Mustard\" data-istockproductid=\"4760396398689\" data-istockvariants='[{\"id\":32705172930657,\"title\":\"Default Title\",\"option1\":\"Default Title\",\"option2\":null,\"option3\":null,\"sku\":\"\",\"requires_shipping\":true,\"taxable\":false,\"featured_image\":null,\"available\":true,\"name\":\"Double Take Scotch Bonnet Mustard\",\"public_title\":null,\"options\":[\"Default Title\"],\"price\":799,\"weight\":318,\"compare_at_price\":null,\"inventory_quantity\":24,\"inventory_management\":\"shopify\",\"inventory_policy\":\"deny\",\"barcode\":\"\"}]'>\n",
       "          + Quick Shop\n",
       "        </span>\n",
       "</div>\n",
       "<div class=\"info\">\n",
       "<span class=\"vendor-custom\" itemprop=\"brand\">Double Take Salsa Co</span>\n",
       "<span class=\"title product-name-custom\" itemprop=\"name\">Double Take Scotch Bonnet Mustard</span>\n",
       "<span class=\"price-custom price\" itemprop=\"offers\" itemscope=\"\" itemtype=\"http://schema.org/Offer\">\n",
       "<meta content=\"7.99\" itemprop=\"price\">\n",
       "<meta content=\"USD\" itemprop=\"priceCurrency\">\n",
       "<meta content=\"Heat\" itemprop=\"seller\">\n",
       "<link href=\"http://schema.org/InStock\" itemprop=\"availability\"/>\n",
       "<meta content=\"New\" itemprop=\"itemCondition\">\n",
       "<span class=\"money\">$ 7.99</span>\n",
       "</meta></meta></meta></meta></span>\n",
       "</div>\n",
       "</a>\n",
       "</div>\n",
       "<div class=\"modal product-4760396398689 product_section thumbnail_position--bottom-thumbnails product_slideshow_animation--none\" data-slideshow-animation=\"none\" data-slideshow-speed=\"6\" data-thumbnail=\"bottom-thumbnails\" id=\"product-4760396398689\">\n",
       "<div class=\"container\" style=\"width: inherit\">\n",
       "<div class=\"eight columns\" style=\"padding-left: 15px\">\n",
       "<div class=\"flexslider product_gallery product-4760396398689-gallery\">\n",
       "<ul class=\"slides\">\n",
       "<li data-thumb=\"//cdn.shopify.com/s/files/1/0645/7913/products/mustard_grande.jpg?v=1600100934\" data-title=\"Double Take Scotch Bonnet Mustard\">\n",
       "<a class=\"fancybox\" data-fancybox-group=\"4760396398689\" href=\"//cdn.shopify.com/s/files/1/0645/7913/products/mustard_2048x.jpg?v=1600100934\" rel=\"group\" title=\"Double Take Scotch Bonnet Mustard\">\n",
       "<div class=\"image__container\" style=\" max-width: 500.0px; \">\n",
       "<img alt=\"Double Take Scotch Bonnet Mustard\" class=\"lazyload lazyload--mirage cloudzoom featured_image\" data-cloudzoom=\"zoomImage: '//cdn.shopify.com/s/files/1/0645/7913/products/mustard_2048x.jpg?v=1600100934', tintColor: '#ffffff', zoomPosition: 'inside', zoomOffsetX: 0, touchStartDelay: 250\" data-image-id=\"16091374387297\" data-index=\"0\" data-sizes=\"auto\" data-src=\"//cdn.shopify.com/s/files/1/0645/7913/products/mustard_2048x.jpg?v=1600100934\" data-srcset=\" //cdn.shopify.com/s/files/1/0645/7913/products/mustard_2048x.jpg?v=1600100934 2048w,\n",
       "                                  //cdn.shopify.com/s/files/1/0645/7913/products/mustard_1600x.jpg?v=1600100934 1600w,\n",
       "                                  //cdn.shopify.com/s/files/1/0645/7913/products/mustard_1200x.jpg?v=1600100934 1200w,\n",
       "                                  //cdn.shopify.com/s/files/1/0645/7913/products/mustard_1000x.jpg?v=1600100934 1000w,\n",
       "                                  //cdn.shopify.com/s/files/1/0645/7913/products/mustard_800x.jpg?v=1600100934 800w,\n",
       "                                  //cdn.shopify.com/s/files/1/0645/7913/products/mustard_600x.jpg?v=1600100934 600w,\n",
       "                                  //cdn.shopify.com/s/files/1/0645/7913/products/mustard_400x.jpg?v=1600100934 400w\" src=\"//cdn.shopify.com/s/files/1/0645/7913/products/mustard_100x.jpg?v=1600100934\" style=\"width: 100%; height: auto; max-width:995px;\"/>\n",
       "<div class=\"transition-helper\">\n",
       "</div>\n",
       "</div>\n",
       "</a>\n",
       "</li>\n",
       "</ul>\n",
       "</div>\n",
       "</div>\n",
       "<div class=\"six columns\">\n",
       "<h3>Double Take Scotch Bonnet Mustard</h3>\n",
       "<p class=\"vendor\">\n",
       "<span itemprop=\"brand\"><a href=\"/collections/vendors?q=Double%20Take%20Salsa%20Co\" title=\"Double Take Salsa Co\">Double Take Salsa Co</a></span>\n",
       "</p>\n",
       "<p class=\"modal_price\">\n",
       "<span class=\"sold_out\"></span>\n",
       "<span class=\"\">\n",
       "<span class=\"current_price\">\n",
       "<span class=\"money\">$ 7.99</span>\n",
       "</span>\n",
       "</span>\n",
       "<span class=\"was_price\">\n",
       "</span>\n",
       "</p>\n",
       "<form action=\"/cart/add\" class=\"clearfix product_form init\" data-enable-state=\"true\" data-money-format=\"$ {{amount}}\" data-product='{\"id\":4760396398689,\"title\":\"Double Take Scotch Bonnet Mustard\",\"handle\":\"double-take-scotch-bonnet-mustard\",\"description\":\"\\u003cp\\u003e\\u003cspan data-mce-fragment=\\\"1\\\"\\u003eA Barbados-style hot sauce featuring yellow mustard, citrus, and scotch bonnet peppers.\\u003c\\/span\\u003e\\u003c\\/p\\u003e\\n\\u003cp\\u003e\\u003cspan data-mce-fragment=\\\"1\\\"\\u003e\\u003cstrong\\u003eHeat Level\\u003c\\/strong\\u003e: Medium\\u003c\\/span\\u003e\\u003c\\/p\\u003e\\n\\u003cp\\u003e\\u003cspan data-mce-fragment=\\\"1\\\"\\u003e\\u003cstrong\\u003eIngredients\\u003c\\/strong\\u003e: Yellow Deli Mustard (distilled vinegar, water, #1 grade mustard seed, salt, turmeric, paprika, spice, natural flavors, garlic powder), Orange Juice, Lime Juice, Scotch Bonnet Peppers, Brown Sugar (sugar, cane molasses), Spices.\\u003c\\/span\\u003e\\u003c\\/p\\u003e\\n\\u003cp\\u003e\\u003cstrong\\u003e5 oz\\u003c\\/strong\\u003e\\u003c\\/p\\u003e\",\"published_at\":\"2020-09-14T09:28:55-07:00\",\"created_at\":\"2020-09-14T09:28:52-07:00\",\"vendor\":\"Double Take Salsa Co\",\"type\":\"Hot Sauce\",\"tags\":[\"citrus\",\"citrusy\",\"medium\",\"mustard\",\"scotch-bonnet\"],\"price\":799,\"price_min\":799,\"price_max\":799,\"available\":true,\"price_varies\":false,\"compare_at_price\":null,\"compare_at_price_min\":0,\"compare_at_price_max\":0,\"compare_at_price_varies\":false,\"variants\":[{\"id\":32705172930657,\"title\":\"Default Title\",\"option1\":\"Default Title\",\"option2\":null,\"option3\":null,\"sku\":\"\",\"requires_shipping\":true,\"taxable\":false,\"featured_image\":null,\"available\":true,\"name\":\"Double Take Scotch Bonnet Mustard\",\"public_title\":null,\"options\":[\"Default Title\"],\"price\":799,\"weight\":318,\"compare_at_price\":null,\"inventory_quantity\":24,\"inventory_management\":\"shopify\",\"inventory_policy\":\"deny\",\"barcode\":\"\"}],\"images\":[\"\\/\\/cdn.shopify.com\\/s\\/files\\/1\\/0645\\/7913\\/products\\/mustard.jpg?v=1600100934\"],\"featured_image\":\"\\/\\/cdn.shopify.com\\/s\\/files\\/1\\/0645\\/7913\\/products\\/mustard.jpg?v=1600100934\",\"options\":[\"Title\"],\"media\":[{\"alt\":null,\"id\":8265172222049,\"position\":1,\"preview_image\":{\"aspect_ratio\":1.0,\"height\":995,\"width\":995,\"src\":\"https:\\/\\/cdn.shopify.com\\/s\\/files\\/1\\/0645\\/7913\\/products\\/mustard.jpg?v=1600100934\"},\"aspect_ratio\":1.0,\"height\":995,\"media_type\":\"image\",\"src\":\"https:\\/\\/cdn.shopify.com\\/s\\/files\\/1\\/0645\\/7913\\/products\\/mustard.jpg?v=1600100934\",\"width\":995}],\"content\":\"\\u003cp\\u003e\\u003cspan data-mce-fragment=\\\"1\\\"\\u003eA Barbados-style hot sauce featuring yellow mustard, citrus, and scotch bonnet peppers.\\u003c\\/span\\u003e\\u003c\\/p\\u003e\\n\\u003cp\\u003e\\u003cspan data-mce-fragment=\\\"1\\\"\\u003e\\u003cstrong\\u003eHeat Level\\u003c\\/strong\\u003e: Medium\\u003c\\/span\\u003e\\u003c\\/p\\u003e\\n\\u003cp\\u003e\\u003cspan data-mce-fragment=\\\"1\\\"\\u003e\\u003cstrong\\u003eIngredients\\u003c\\/strong\\u003e: Yellow Deli Mustard (distilled vinegar, water, #1 grade mustard seed, salt, turmeric, paprika, spice, natural flavors, garlic powder), Orange Juice, Lime Juice, Scotch Bonnet Peppers, Brown Sugar (sugar, cane molasses), Spices.\\u003c\\/span\\u003e\\u003c\\/p\\u003e\\n\\u003cp\\u003e\\u003cstrong\\u003e5 oz\\u003c\\/strong\\u003e\\u003c\\/p\\u003e\"}' data-product-id=\"4760396398689\" data-select-id=\"product-select-4760396398689product-template\" data-shop-currency=\"USD\" id=\"product-form-4760396398689product-template\" method=\"post\">\n",
       "<input name=\"id\" type=\"hidden\" value=\"32705172930657\"/>\n",
       "<div class=\"left\">\n",
       "<label for=\"quantity\">Qty</label>\n",
       "<input class=\"quantity\" id=\"quantity\" max=\"24\" min=\"1\" name=\"quantity\" size=\"2\" type=\"number\" value=\"1\"/>\n",
       "</div>\n",
       "<div class=\"purchase clearfix inline_purchase\">\n",
       "<button class=\"action_button add_to_cart\" data-label=\"Add to Cart\" name=\"add\" type=\"submit\"><span class=\"text\">Add to Cart</span></button>\n",
       "</div>\n",
       "<div class=\"purchase clearfix inline_purchase\">\n",
       "<div data-product=\"4760396398689\" data-variant=\"32705172930657\" id=\"smartwishlist\"></div>\n",
       "</div>\n",
       "</form>\n",
       "<div class=\"iStock-wrapper\" style=\"display:none\">\n",
       "<h2>Out Of Stock!</h2>\n",
       "<p class=\"iStock-notifyTxt\">We will notify you when this product becomes available.</p>\n",
       "<div class=\"iStock-availability\" style=\"display:none\">\n",
       "<label>Availability Date: </label>\n",
       "<span></span>\n",
       "</div>\n",
       "<div class=\"iStock-fields\">\n",
       "<input class=\"iStock-email-id\" name=\"iStock-email-id\" placeholder=\"Email Address\" type=\"text\" value=\"\"/>\n",
       "<input class=\"iStock-notify-btn action_button\" type=\"button\" value=\"Notify Me\"/>\n",
       "</div>\n",
       "<div class=\"iStock-msg\"></div>\n",
       "</div>\n",
       "<hr/>\n",
       "<p>A Barbados-style hot sauce featuring yellow mustard, citrus, and scotch bonnet peppers. Heat Level: Medium Ingredients: Yellow Deli Mustard (distilled vinegar, water, #1 grade mustard seed, salt, turmeric, paprika, spice, natural flavors, garlic powder), Orange Juice, Lime Juice, Scotch Bonnet...</p>\n",
       "<p>\n",
       "<a class=\"view_product_info\" href=\"/products/double-take-scotch-bonnet-mustard\" title=\"Double Take Scotch Bonnet Mustard\">View full product details <span class=\"icon-arrow-right\"></span></a>\n",
       "</p>\n",
       "</div>\n",
       "</div>\n",
       "</div>\n",
       "<div class=\"four columns thumbnail odd\" itemprop=\"itemListElement\" itemscope=\"\" itemtype=\"http://schema.org/Product\">\n",
       "<a href=\"/products/arties-hot-bourbon-blend\" itemprop=\"url\">\n",
       "<div class=\"relative product_image\">\n",
       "<div class=\"image__container\" style=\" max-width: 210.0px; \">\n",
       "<img alt=\"Artie's Hot Bourbon Blend\" class=\"lazyload lazyload--mirage primary\" data-sizes=\"auto\" data-src=\"//cdn.shopify.com/s/files/1/0645/7913/products/bourbon_2048x.jpg?v=1599243219\" data-srcset=\" //cdn.shopify.com/s/files/1/0645/7913/products/bourbon_2048x.jpg?v=1599243219 2048w,\n",
       "                            //cdn.shopify.com/s/files/1/0645/7913/products/bourbon_1600x.jpg?v=1599243219 1600w,\n",
       "                            //cdn.shopify.com/s/files/1/0645/7913/products/bourbon_1200x.jpg?v=1599243219 1200w,\n",
       "                            //cdn.shopify.com/s/files/1/0645/7913/products/bourbon_1000x.jpg?v=1599243219 1000w,\n",
       "                            //cdn.shopify.com/s/files/1/0645/7913/products/bourbon_800x.jpg?v=1599243219 800w,\n",
       "                            //cdn.shopify.com/s/files/1/0645/7913/products/bourbon_600x.jpg?v=1599243219 600w,\n",
       "                            //cdn.shopify.com/s/files/1/0645/7913/products/bourbon_400x.jpg?v=1599243219 400w\" src=\"//cdn.shopify.com/s/files/1/0645/7913/products/bourbon_100x.jpg?v=1599243219\" style=\"width: 100%; height: auto; max-width:1000px;\"/>\n",
       "<div name=\"secomapp-fg-image-4750416674913\" style=\"display: none;\"> <img alt=\"\" class=\"sca-fg-img-collect\" src=\"//cdn.shopify.com/s/files/1/0645/7913/t/33/assets/icon-freegift.png?v=13293130802511109535\"/> </div>\n",
       "<div class=\"sca-fg-cat-list\" name=\"secomapp-fg-data-4750416674913\" prod-show=\"list\" style=\"display:none;\"> </div>\n",
       "<div class=\"transition-helper\">\n",
       "</div>\n",
       "</div>\n",
       "<span class=\"quick_shop action_button\" data-fancybox-href=\"#product-4750416674913\" data-gallery=\"product-4750416674913-gallery\" data-istockproduct=\"Artie's Hot Bourbon Blend\" data-istockproductid=\"4750416674913\" data-istockvariants='[{\"id\":32682035839073,\"title\":\"Default Title\",\"option1\":\"Default Title\",\"option2\":null,\"option3\":null,\"sku\":\"\",\"requires_shipping\":true,\"taxable\":false,\"featured_image\":null,\"available\":true,\"name\":\"Arties Hot Bourbon Blend\",\"public_title\":null,\"options\":[\"Default Title\"],\"price\":899,\"weight\":318,\"compare_at_price\":null,\"inventory_quantity\":46,\"inventory_management\":\"shopify\",\"inventory_policy\":\"deny\",\"barcode\":\"\"}]'>\n",
       "          + Quick Shop\n",
       "        </span>\n",
       "</div>\n",
       "<div class=\"info\">\n",
       "<span class=\"vendor-custom\" itemprop=\"brand\">Tamerlaine</span>\n",
       "<span class=\"title product-name-custom\" itemprop=\"name\">Artie's Hot Bourbon Blend</span>\n",
       "<span class=\"price-custom price\" itemprop=\"offers\" itemscope=\"\" itemtype=\"http://schema.org/Offer\">\n",
       "<meta content=\"8.99\" itemprop=\"price\">\n",
       "<meta content=\"USD\" itemprop=\"priceCurrency\">\n",
       "<meta content=\"Heat\" itemprop=\"seller\">\n",
       "<link href=\"http://schema.org/InStock\" itemprop=\"availability\"/>\n",
       "<meta content=\"New\" itemprop=\"itemCondition\">\n",
       "<span class=\"money\">$ 8.99</span>\n",
       "</meta></meta></meta></meta></span>\n",
       "</div>\n",
       "</a>\n",
       "</div>\n",
       "<div class=\"modal product-4750416674913 product_section thumbnail_position--bottom-thumbnails product_slideshow_animation--none\" data-slideshow-animation=\"none\" data-slideshow-speed=\"6\" data-thumbnail=\"bottom-thumbnails\" id=\"product-4750416674913\">\n",
       "<div class=\"container\" style=\"width: inherit\">\n",
       "<div class=\"eight columns\" style=\"padding-left: 15px\">\n",
       "<div class=\"flexslider product_gallery product-4750416674913-gallery\">\n",
       "<ul class=\"slides\">\n",
       "<li data-thumb=\"//cdn.shopify.com/s/files/1/0645/7913/products/bourbon_grande.jpg?v=1599243219\" data-title=\"Artie's Hot Bourbon Blend\">\n",
       "<a class=\"fancybox\" data-fancybox-group=\"4750416674913\" href=\"//cdn.shopify.com/s/files/1/0645/7913/products/bourbon_2048x.jpg?v=1599243219\" rel=\"group\" title=\"Artie's Hot Bourbon Blend\">\n",
       "<div class=\"image__container\" style=\" max-width: 500.0px; \">\n",
       "<img alt=\"Artie's Hot Bourbon Blend\" class=\"lazyload lazyload--mirage cloudzoom featured_image\" data-cloudzoom=\"zoomImage: '//cdn.shopify.com/s/files/1/0645/7913/products/bourbon_2048x.jpg?v=1599243219', tintColor: '#ffffff', zoomPosition: 'inside', zoomOffsetX: 0, touchStartDelay: 250\" data-image-id=\"16016020570209\" data-index=\"0\" data-sizes=\"auto\" data-src=\"//cdn.shopify.com/s/files/1/0645/7913/products/bourbon_2048x.jpg?v=1599243219\" data-srcset=\" //cdn.shopify.com/s/files/1/0645/7913/products/bourbon_2048x.jpg?v=1599243219 2048w,\n",
       "                                  //cdn.shopify.com/s/files/1/0645/7913/products/bourbon_1600x.jpg?v=1599243219 1600w,\n",
       "                                  //cdn.shopify.com/s/files/1/0645/7913/products/bourbon_1200x.jpg?v=1599243219 1200w,\n",
       "                                  //cdn.shopify.com/s/files/1/0645/7913/products/bourbon_1000x.jpg?v=1599243219 1000w,\n",
       "                                  //cdn.shopify.com/s/files/1/0645/7913/products/bourbon_800x.jpg?v=1599243219 800w,\n",
       "                                  //cdn.shopify.com/s/files/1/0645/7913/products/bourbon_600x.jpg?v=1599243219 600w,\n",
       "                                  //cdn.shopify.com/s/files/1/0645/7913/products/bourbon_400x.jpg?v=1599243219 400w\" src=\"//cdn.shopify.com/s/files/1/0645/7913/products/bourbon_100x.jpg?v=1599243219\" style=\"width: 100%; height: auto; max-width:1000px;\"/>\n",
       "<div class=\"transition-helper\">\n",
       "</div>\n",
       "</div>\n",
       "</a>\n",
       "</li>\n",
       "</ul>\n",
       "</div>\n",
       "</div>\n",
       "<div class=\"six columns\">\n",
       "<h3>Artie's Hot Bourbon Blend</h3>\n",
       "<p class=\"vendor\">\n",
       "<span itemprop=\"brand\"><a href=\"/collections/vendors?q=Tamerlaine\" title=\"Tamerlaine\">Tamerlaine</a></span>\n",
       "</p>\n",
       "<p class=\"modal_price\">\n",
       "<span class=\"sold_out\"></span>\n",
       "<span class=\"\">\n",
       "<span class=\"current_price\">\n",
       "<span class=\"money\">$ 8.99</span>\n",
       "</span>\n",
       "</span>\n",
       "<span class=\"was_price\">\n",
       "</span>\n",
       "</p>\n",
       "<form action=\"/cart/add\" class=\"clearfix product_form init\" data-enable-state=\"true\" data-money-format=\"$ {{amount}}\" data-product=\"{&quot;id&quot;:4750416674913,&quot;title&quot;:&quot;Artie's Hot Bourbon Blend&quot;,&quot;handle&quot;:&quot;arties-hot-bourbon-blend&quot;,&quot;description&quot;:&quot;\\u003cdiv class=\\&quot;ProductItem-details-excerpt\\&quot; data-content-field=\\&quot;excerpt\\&quot;\\u003e\\n\\u003cp class=\\&quot;\\&quot;\\u003eA mix of Fresno Peppers, Bourbon, Ginger and Clove gives this special hot sauce a bold and distinctive taste that goes well on any plate.\\u003c\\/p\\u003e\\n\\u003cp class=\\&quot;\\&quot;\\u003e100% of the proceeds go towards the care of the animals at Tamerlaine Sanctuary \\u0026amp; Preserve.\\u003c\\/p\\u003e\\n\\u003cp class=\\&quot;\\&quot;\\u003e\\u003cstrong\\u003eHeat Level\\u003c\\/strong\\u003e: Medium\\u003c\\/p\\u003e\\n\\u003cp class=\\&quot;\\&quot;\\u003e\\u003cstrong\\u003e\\u003c\\/strong\\u003e\\u003cstrong\\u003e5 oz\\u003c\\/strong\\u003e\\u003c\\/p\\u003e\\n\\u003c\\/div\\u003e\\n\\u003cdiv class=\\&quot;product-quantity-input\\&quot; data-item-id=\\&quot;5c7c56899b747a0e60a98cda\\&quot;\\u003e\\u003c\\/div\\u003e&quot;,&quot;published_at&quot;:&quot;2020-09-04T11:08:36-07:00&quot;,&quot;created_at&quot;:&quot;2020-09-04T11:08:36-07:00&quot;,&quot;vendor&quot;:&quot;Tamerlaine&quot;,&quot;type&quot;:&quot;Hot Sauce&quot;,&quot;tags&quot;:[&quot;fresno&quot;,&quot;medium&quot;,&quot;organic&quot;,&quot;smoky&quot;],&quot;price&quot;:899,&quot;price_min&quot;:899,&quot;price_max&quot;:899,&quot;available&quot;:true,&quot;price_varies&quot;:false,&quot;compare_at_price&quot;:null,&quot;compare_at_price_min&quot;:0,&quot;compare_at_price_max&quot;:0,&quot;compare_at_price_varies&quot;:false,&quot;variants&quot;:[{&quot;id&quot;:32682035839073,&quot;title&quot;:&quot;Default Title&quot;,&quot;option1&quot;:&quot;Default Title&quot;,&quot;option2&quot;:null,&quot;option3&quot;:null,&quot;sku&quot;:&quot;&quot;,&quot;requires_shipping&quot;:true,&quot;taxable&quot;:false,&quot;featured_image&quot;:null,&quot;available&quot;:true,&quot;name&quot;:&quot;Artie's Hot Bourbon Blend&quot;,&quot;public_title&quot;:null,&quot;options&quot;:[&quot;Default Title&quot;],&quot;price&quot;:899,&quot;weight&quot;:318,&quot;compare_at_price&quot;:null,&quot;inventory_quantity&quot;:46,&quot;inventory_management&quot;:&quot;shopify&quot;,&quot;inventory_policy&quot;:&quot;deny&quot;,&quot;barcode&quot;:&quot;&quot;}],&quot;images&quot;:[&quot;\\/\\/cdn.shopify.com\\/s\\/files\\/1\\/0645\\/7913\\/products\\/bourbon.jpg?v=1599243219&quot;],&quot;featured_image&quot;:&quot;\\/\\/cdn.shopify.com\\/s\\/files\\/1\\/0645\\/7913\\/products\\/bourbon.jpg?v=1599243219&quot;,&quot;options&quot;:[&quot;Title&quot;],&quot;media&quot;:[{&quot;alt&quot;:null,&quot;id&quot;:8189793501281,&quot;position&quot;:1,&quot;preview_image&quot;:{&quot;aspect_ratio&quot;:1.0,&quot;height&quot;:1000,&quot;width&quot;:1000,&quot;src&quot;:&quot;https:\\/\\/cdn.shopify.com\\/s\\/files\\/1\\/0645\\/7913\\/products\\/bourbon.jpg?v=1599243219&quot;},&quot;aspect_ratio&quot;:1.0,&quot;height&quot;:1000,&quot;media_type&quot;:&quot;image&quot;,&quot;src&quot;:&quot;https:\\/\\/cdn.shopify.com\\/s\\/files\\/1\\/0645\\/7913\\/products\\/bourbon.jpg?v=1599243219&quot;,&quot;width&quot;:1000}],&quot;content&quot;:&quot;\\u003cdiv class=\\&quot;ProductItem-details-excerpt\\&quot; data-content-field=\\&quot;excerpt\\&quot;\\u003e\\n\\u003cp class=\\&quot;\\&quot;\\u003eA mix of Fresno Peppers, Bourbon, Ginger and Clove gives this special hot sauce a bold and distinctive taste that goes well on any plate.\\u003c\\/p\\u003e\\n\\u003cp class=\\&quot;\\&quot;\\u003e100% of the proceeds go towards the care of the animals at Tamerlaine Sanctuary \\u0026amp; Preserve.\\u003c\\/p\\u003e\\n\\u003cp class=\\&quot;\\&quot;\\u003e\\u003cstrong\\u003eHeat Level\\u003c\\/strong\\u003e: Medium\\u003c\\/p\\u003e\\n\\u003cp class=\\&quot;\\&quot;\\u003e\\u003cstrong\\u003e\\u003c\\/strong\\u003e\\u003cstrong\\u003e5 oz\\u003c\\/strong\\u003e\\u003c\\/p\\u003e\\n\\u003c\\/div\\u003e\\n\\u003cdiv class=\\&quot;product-quantity-input\\&quot; data-item-id=\\&quot;5c7c56899b747a0e60a98cda\\&quot;\\u003e\\u003c\\/div\\u003e&quot;}\" data-product-id=\"4750416674913\" data-select-id=\"product-select-4750416674913product-template\" data-shop-currency=\"USD\" id=\"product-form-4750416674913product-template\" method=\"post\">\n",
       "<input name=\"id\" type=\"hidden\" value=\"32682035839073\"/>\n",
       "<div class=\"left\">\n",
       "<label for=\"quantity\">Qty</label>\n",
       "<input class=\"quantity\" id=\"quantity\" max=\"46\" min=\"1\" name=\"quantity\" size=\"2\" type=\"number\" value=\"1\"/>\n",
       "</div>\n",
       "<div class=\"purchase clearfix inline_purchase\">\n",
       "<button class=\"action_button add_to_cart\" data-label=\"Add to Cart\" name=\"add\" type=\"submit\"><span class=\"text\">Add to Cart</span></button>\n",
       "</div>\n",
       "<div class=\"purchase clearfix inline_purchase\">\n",
       "<div data-product=\"4750416674913\" data-variant=\"32682035839073\" id=\"smartwishlist\"></div>\n",
       "</div>\n",
       "</form>\n",
       "<div class=\"iStock-wrapper\" style=\"display:none\">\n",
       "<h2>Out Of Stock!</h2>\n",
       "<p class=\"iStock-notifyTxt\">We will notify you when this product becomes available.</p>\n",
       "<div class=\"iStock-availability\" style=\"display:none\">\n",
       "<label>Availability Date: </label>\n",
       "<span></span>\n",
       "</div>\n",
       "<div class=\"iStock-fields\">\n",
       "<input class=\"iStock-email-id\" name=\"iStock-email-id\" placeholder=\"Email Address\" type=\"text\" value=\"\"/>\n",
       "<input class=\"iStock-notify-btn action_button\" type=\"button\" value=\"Notify Me\"/>\n",
       "</div>\n",
       "<div class=\"iStock-msg\"></div>\n",
       "</div>\n",
       "<hr/>\n",
       "<p>A mix of Fresno Peppers, Bourbon, Ginger and Clove gives this special hot sauce a bold and distinctive taste that goes well on any plate. 100% of the proceeds go towards the care of the animals at Tamerlaine Sanctuary &amp;...</p>\n",
       "<p>\n",
       "<a class=\"view_product_info\" href=\"/products/arties-hot-bourbon-blend\" title=\"Artie's Hot Bourbon Blend\">View full product details <span class=\"icon-arrow-right\"></span></a>\n",
       "</p>\n",
       "</div>\n",
       "</div>\n",
       "</div>\n",
       "<div class=\"four columns thumbnail even\" itemprop=\"itemListElement\" itemscope=\"\" itemtype=\"http://schema.org/Product\">\n",
       "<a href=\"/products/fiji-fire\" itemprop=\"url\">\n",
       "<div class=\"relative product_image\">\n",
       "<div class=\"image__container\" style=\" max-width: 210.0px; \">\n",
       "<img alt=\"Fiji Fire\" class=\"lazyload lazyload--mirage primary\" data-sizes=\"auto\" data-src=\"//cdn.shopify.com/s/files/1/0645/7913/products/fijifire_1024x1024_f30b0e70-33ad-4a50-8097-22fcdebec7c8_2048x.jpg?v=1598293169\" data-srcset=\" //cdn.shopify.com/s/files/1/0645/7913/products/fijifire_1024x1024_f30b0e70-33ad-4a50-8097-22fcdebec7c8_2048x.jpg?v=1598293169 2048w,\n",
       "                            //cdn.shopify.com/s/files/1/0645/7913/products/fijifire_1024x1024_f30b0e70-33ad-4a50-8097-22fcdebec7c8_1600x.jpg?v=1598293169 1600w,\n",
       "                            //cdn.shopify.com/s/files/1/0645/7913/products/fijifire_1024x1024_f30b0e70-33ad-4a50-8097-22fcdebec7c8_1200x.jpg?v=1598293169 1200w,\n",
       "                            //cdn.shopify.com/s/files/1/0645/7913/products/fijifire_1024x1024_f30b0e70-33ad-4a50-8097-22fcdebec7c8_1000x.jpg?v=1598293169 1000w,\n",
       "                            //cdn.shopify.com/s/files/1/0645/7913/products/fijifire_1024x1024_f30b0e70-33ad-4a50-8097-22fcdebec7c8_800x.jpg?v=1598293169 800w,\n",
       "                            //cdn.shopify.com/s/files/1/0645/7913/products/fijifire_1024x1024_f30b0e70-33ad-4a50-8097-22fcdebec7c8_600x.jpg?v=1598293169 600w,\n",
       "                            //cdn.shopify.com/s/files/1/0645/7913/products/fijifire_1024x1024_f30b0e70-33ad-4a50-8097-22fcdebec7c8_400x.jpg?v=1598293169 400w\" src=\"//cdn.shopify.com/s/files/1/0645/7913/products/fijifire_1024x1024_f30b0e70-33ad-4a50-8097-22fcdebec7c8_100x.jpg?v=1598293169\" style=\"width: 100%; height: auto; max-width:1004px;\"/>\n",
       "<div name=\"secomapp-fg-image-4739990978657\" style=\"display: none;\"> <img alt=\"\" class=\"sca-fg-img-collect\" src=\"//cdn.shopify.com/s/files/1/0645/7913/t/33/assets/icon-freegift.png?v=13293130802511109535\"/> </div>\n",
       "<div class=\"sca-fg-cat-list\" name=\"secomapp-fg-data-4739990978657\" prod-show=\"list\" style=\"display:none;\"> </div>\n",
       "<div class=\"transition-helper\">\n",
       "</div>\n",
       "</div>\n",
       "<span class=\"quick_shop action_button\" data-fancybox-href=\"#product-4739990978657\" data-gallery=\"product-4739990978657-gallery\" data-istockproduct=\"Fiji Fire\" data-istockproductid=\"4739990978657\" data-istockvariants='[{\"id\":32656600236129,\"title\":\"Default Title\",\"option1\":\"Default Title\",\"option2\":null,\"option3\":null,\"sku\":\"\",\"requires_shipping\":true,\"taxable\":true,\"featured_image\":null,\"available\":true,\"name\":\"Fiji Fire\",\"public_title\":null,\"options\":[\"Default Title\"],\"price\":1099,\"weight\":318,\"compare_at_price\":null,\"inventory_quantity\":17,\"inventory_management\":\"shopify\",\"inventory_policy\":\"deny\",\"barcode\":\"\"}]'>\n",
       "          + Quick Shop\n",
       "        </span>\n",
       "</div>\n",
       "<div class=\"info\">\n",
       "<span class=\"vendor-custom\" itemprop=\"brand\">Fiji Fire</span>\n",
       "<span class=\"title product-name-custom\" itemprop=\"name\">Fiji Fire</span>\n",
       "<span class=\"price-custom price\" itemprop=\"offers\" itemscope=\"\" itemtype=\"http://schema.org/Offer\">\n",
       "<meta content=\"10.99\" itemprop=\"price\">\n",
       "<meta content=\"USD\" itemprop=\"priceCurrency\">\n",
       "<meta content=\"Heat\" itemprop=\"seller\">\n",
       "<link href=\"http://schema.org/InStock\" itemprop=\"availability\"/>\n",
       "<meta content=\"New\" itemprop=\"itemCondition\">\n",
       "<span class=\"money\">$ 10.99</span>\n",
       "</meta></meta></meta></meta></span>\n",
       "</div>\n",
       "</a>\n",
       "</div>\n",
       "<div class=\"modal product-4739990978657 product_section thumbnail_position--bottom-thumbnails product_slideshow_animation--none\" data-slideshow-animation=\"none\" data-slideshow-speed=\"6\" data-thumbnail=\"bottom-thumbnails\" id=\"product-4739990978657\">\n",
       "<div class=\"container\" style=\"width: inherit\">\n",
       "<div class=\"eight columns\" style=\"padding-left: 15px\">\n",
       "<div class=\"flexslider product_gallery product-4739990978657-gallery\">\n",
       "<ul class=\"slides\">\n",
       "<li data-thumb=\"//cdn.shopify.com/s/files/1/0645/7913/products/fijifire_1024x1024_f30b0e70-33ad-4a50-8097-22fcdebec7c8_grande.jpg?v=1598293169\" data-title=\"Fiji Fire\">\n",
       "<a class=\"fancybox\" data-fancybox-group=\"4739990978657\" href=\"//cdn.shopify.com/s/files/1/0645/7913/products/fijifire_1024x1024_f30b0e70-33ad-4a50-8097-22fcdebec7c8_2048x.jpg?v=1598293169\" rel=\"group\" title=\"Fiji Fire\">\n",
       "<div class=\"image__container\" style=\" max-width: 500.0px; \">\n",
       "<img alt=\"Fiji Fire\" class=\"lazyload lazyload--mirage cloudzoom featured_image\" data-cloudzoom=\"zoomImage: '//cdn.shopify.com/s/files/1/0645/7913/products/fijifire_1024x1024_f30b0e70-33ad-4a50-8097-22fcdebec7c8_2048x.jpg?v=1598293169', tintColor: '#ffffff', zoomPosition: 'inside', zoomOffsetX: 0, touchStartDelay: 250\" data-image-id=\"15933466869857\" data-index=\"0\" data-sizes=\"auto\" data-src=\"//cdn.shopify.com/s/files/1/0645/7913/products/fijifire_1024x1024_f30b0e70-33ad-4a50-8097-22fcdebec7c8_2048x.jpg?v=1598293169\" data-srcset=\" //cdn.shopify.com/s/files/1/0645/7913/products/fijifire_1024x1024_f30b0e70-33ad-4a50-8097-22fcdebec7c8_2048x.jpg?v=1598293169 2048w,\n",
       "                                  //cdn.shopify.com/s/files/1/0645/7913/products/fijifire_1024x1024_f30b0e70-33ad-4a50-8097-22fcdebec7c8_1600x.jpg?v=1598293169 1600w,\n",
       "                                  //cdn.shopify.com/s/files/1/0645/7913/products/fijifire_1024x1024_f30b0e70-33ad-4a50-8097-22fcdebec7c8_1200x.jpg?v=1598293169 1200w,\n",
       "                                  //cdn.shopify.com/s/files/1/0645/7913/products/fijifire_1024x1024_f30b0e70-33ad-4a50-8097-22fcdebec7c8_1000x.jpg?v=1598293169 1000w,\n",
       "                                  //cdn.shopify.com/s/files/1/0645/7913/products/fijifire_1024x1024_f30b0e70-33ad-4a50-8097-22fcdebec7c8_800x.jpg?v=1598293169 800w,\n",
       "                                  //cdn.shopify.com/s/files/1/0645/7913/products/fijifire_1024x1024_f30b0e70-33ad-4a50-8097-22fcdebec7c8_600x.jpg?v=1598293169 600w,\n",
       "                                  //cdn.shopify.com/s/files/1/0645/7913/products/fijifire_1024x1024_f30b0e70-33ad-4a50-8097-22fcdebec7c8_400x.jpg?v=1598293169 400w\" src=\"//cdn.shopify.com/s/files/1/0645/7913/products/fijifire_1024x1024_f30b0e70-33ad-4a50-8097-22fcdebec7c8_100x.jpg?v=1598293169\" style=\"width: 100%; height: auto; max-width:1004px;\"/>\n",
       "<div class=\"transition-helper\">\n",
       "</div>\n",
       "</div>\n",
       "</a>\n",
       "</li>\n",
       "</ul>\n",
       "</div>\n",
       "</div>\n",
       "<div class=\"six columns\">\n",
       "<h3>Fiji Fire</h3>\n",
       "<p class=\"vendor\">\n",
       "<span itemprop=\"brand\"><a href=\"/collections/vendors?q=Fiji%20Fire\" title=\"Fiji Fire\">Fiji Fire</a></span>\n",
       "</p>\n",
       "<p class=\"modal_price\">\n",
       "<span class=\"sold_out\"></span>\n",
       "<span class=\"\">\n",
       "<span class=\"current_price\">\n",
       "<span class=\"money\">$ 10.99</span>\n",
       "</span>\n",
       "</span>\n",
       "<span class=\"was_price\">\n",
       "</span>\n",
       "</p>\n",
       "<form action=\"/cart/add\" class=\"clearfix product_form init\" data-enable-state=\"true\" data-money-format=\"$ {{amount}}\" data-product=\"{&quot;id&quot;:4739990978657,&quot;title&quot;:&quot;Fiji Fire&quot;,&quot;handle&quot;:&quot;fiji-fire&quot;,&quot;description&quot;:&quot;\\u003cp\\u003e\\u003cspan\\u003eFiji Fire features the Bongo Chilli, is a delicious habanero with a sweet, fruity taste native to the island of Fiji. It's combined with freshly foraged turmeric, carrots, and sea salt to create a unique tangy sauce.\\u003c\\/span\\u003e\\u003c\\/p\\u003e\\n\\u003cp\\u003e\\u003cstrong\\u003eHeat Level\\u003c\\/strong\\u003e: Medium\\u003c\\/p\\u003e\\n\\u003cp\\u003e\\u003cb\\u003eIngredients:\\u003cspan\\u003e \\u003c\\/span\\u003e\\u003c\\/b\\u003e\\u003cspan\\u003eVinegar, Chillies, Carrots, Turmeric, Salt.\\u003c\\/span\\u003e\\u003c\\/p\\u003e\\n\\u003cp\\u003e\\u003cspan\\u003e5 oz\\u003c\\/span\\u003e\\u003c\\/p\\u003e&quot;,&quot;published_at&quot;:&quot;2020-08-24T11:19:28-07:00&quot;,&quot;created_at&quot;:&quot;2020-08-24T11:19:27-07:00&quot;,&quot;vendor&quot;:&quot;Fiji Fire&quot;,&quot;type&quot;:&quot;Hot Sauce&quot;,&quot;tags&quot;:[],&quot;price&quot;:1099,&quot;price_min&quot;:1099,&quot;price_max&quot;:1099,&quot;available&quot;:true,&quot;price_varies&quot;:false,&quot;compare_at_price&quot;:null,&quot;compare_at_price_min&quot;:0,&quot;compare_at_price_max&quot;:0,&quot;compare_at_price_varies&quot;:false,&quot;variants&quot;:[{&quot;id&quot;:32656600236129,&quot;title&quot;:&quot;Default Title&quot;,&quot;option1&quot;:&quot;Default Title&quot;,&quot;option2&quot;:null,&quot;option3&quot;:null,&quot;sku&quot;:&quot;&quot;,&quot;requires_shipping&quot;:true,&quot;taxable&quot;:true,&quot;featured_image&quot;:null,&quot;available&quot;:true,&quot;name&quot;:&quot;Fiji Fire&quot;,&quot;public_title&quot;:null,&quot;options&quot;:[&quot;Default Title&quot;],&quot;price&quot;:1099,&quot;weight&quot;:318,&quot;compare_at_price&quot;:null,&quot;inventory_quantity&quot;:17,&quot;inventory_management&quot;:&quot;shopify&quot;,&quot;inventory_policy&quot;:&quot;deny&quot;,&quot;barcode&quot;:&quot;&quot;}],&quot;images&quot;:[&quot;\\/\\/cdn.shopify.com\\/s\\/files\\/1\\/0645\\/7913\\/products\\/fijifire_1024x1024_f30b0e70-33ad-4a50-8097-22fcdebec7c8.jpg?v=1598293169&quot;],&quot;featured_image&quot;:&quot;\\/\\/cdn.shopify.com\\/s\\/files\\/1\\/0645\\/7913\\/products\\/fijifire_1024x1024_f30b0e70-33ad-4a50-8097-22fcdebec7c8.jpg?v=1598293169&quot;,&quot;options&quot;:[&quot;Title&quot;],&quot;media&quot;:[{&quot;alt&quot;:null,&quot;id&quot;:8107201921121,&quot;position&quot;:1,&quot;preview_image&quot;:{&quot;aspect_ratio&quot;:1.0,&quot;height&quot;:1004,&quot;width&quot;:1004,&quot;src&quot;:&quot;https:\\/\\/cdn.shopify.com\\/s\\/files\\/1\\/0645\\/7913\\/products\\/fijifire_1024x1024_f30b0e70-33ad-4a50-8097-22fcdebec7c8.jpg?v=1598293169&quot;},&quot;aspect_ratio&quot;:1.0,&quot;height&quot;:1004,&quot;media_type&quot;:&quot;image&quot;,&quot;src&quot;:&quot;https:\\/\\/cdn.shopify.com\\/s\\/files\\/1\\/0645\\/7913\\/products\\/fijifire_1024x1024_f30b0e70-33ad-4a50-8097-22fcdebec7c8.jpg?v=1598293169&quot;,&quot;width&quot;:1004}],&quot;content&quot;:&quot;\\u003cp\\u003e\\u003cspan\\u003eFiji Fire features the Bongo Chilli, is a delicious habanero with a sweet, fruity taste native to the island of Fiji. It's combined with freshly foraged turmeric, carrots, and sea salt to create a unique tangy sauce.\\u003c\\/span\\u003e\\u003c\\/p\\u003e\\n\\u003cp\\u003e\\u003cstrong\\u003eHeat Level\\u003c\\/strong\\u003e: Medium\\u003c\\/p\\u003e\\n\\u003cp\\u003e\\u003cb\\u003eIngredients:\\u003cspan\\u003e \\u003c\\/span\\u003e\\u003c\\/b\\u003e\\u003cspan\\u003eVinegar, Chillies, Carrots, Turmeric, Salt.\\u003c\\/span\\u003e\\u003c\\/p\\u003e\\n\\u003cp\\u003e\\u003cspan\\u003e5 oz\\u003c\\/span\\u003e\\u003c\\/p\\u003e&quot;}\" data-product-id=\"4739990978657\" data-select-id=\"product-select-4739990978657product-template\" data-shop-currency=\"USD\" id=\"product-form-4739990978657product-template\" method=\"post\">\n",
       "<input name=\"id\" type=\"hidden\" value=\"32656600236129\"/>\n",
       "<div class=\"left\">\n",
       "<label for=\"quantity\">Qty</label>\n",
       "<input class=\"quantity\" id=\"quantity\" max=\"17\" min=\"1\" name=\"quantity\" size=\"2\" type=\"number\" value=\"1\"/>\n",
       "</div>\n",
       "<div class=\"purchase clearfix inline_purchase\">\n",
       "<button class=\"action_button add_to_cart\" data-label=\"Add to Cart\" name=\"add\" type=\"submit\"><span class=\"text\">Add to Cart</span></button>\n",
       "</div>\n",
       "<div class=\"purchase clearfix inline_purchase\">\n",
       "<div data-product=\"4739990978657\" data-variant=\"32656600236129\" id=\"smartwishlist\"></div>\n",
       "</div>\n",
       "</form>\n",
       "<div class=\"iStock-wrapper\" style=\"display:none\">\n",
       "<h2>Out Of Stock!</h2>\n",
       "<p class=\"iStock-notifyTxt\">We will notify you when this product becomes available.</p>\n",
       "<div class=\"iStock-availability\" style=\"display:none\">\n",
       "<label>Availability Date: </label>\n",
       "<span></span>\n",
       "</div>\n",
       "<div class=\"iStock-fields\">\n",
       "<input class=\"iStock-email-id\" name=\"iStock-email-id\" placeholder=\"Email Address\" type=\"text\" value=\"\"/>\n",
       "<input class=\"iStock-notify-btn action_button\" type=\"button\" value=\"Notify Me\"/>\n",
       "</div>\n",
       "<div class=\"iStock-msg\"></div>\n",
       "</div>\n",
       "<hr/>\n",
       "<p>Fiji Fire features the Bongo Chilli, is a delicious habanero with a sweet, fruity taste native to the island of Fiji. It's combined with freshly foraged turmeric, carrots, and sea salt to create a unique tangy sauce. Heat Level: Medium...</p>\n",
       "<p>\n",
       "<a class=\"view_product_info\" href=\"/products/fiji-fire\" title=\"Fiji Fire\">View full product details <span class=\"icon-arrow-right\"></span></a>\n",
       "</p>\n",
       "</div>\n",
       "</div>\n",
       "</div>\n",
       "<div class=\"four columns omega thumbnail odd\" itemprop=\"itemListElement\" itemscope=\"\" itemtype=\"http://schema.org/Product\">\n",
       "<a href=\"/products/bullwhip-hot-sauce\" itemprop=\"url\">\n",
       "<div class=\"relative product_image\">\n",
       "<div class=\"image__container\" style=\" max-width: 210.0px; \">\n",
       "<img alt=\"Bullwhip Hot Sauce\" class=\"lazyload lazyload--mirage primary\" data-sizes=\"auto\" data-src=\"//cdn.shopify.com/s/files/1/0645/7913/products/bull_2048x.jpg?v=1597678646\" data-srcset=\" //cdn.shopify.com/s/files/1/0645/7913/products/bull_2048x.jpg?v=1597678646 2048w,\n",
       "                            //cdn.shopify.com/s/files/1/0645/7913/products/bull_1600x.jpg?v=1597678646 1600w,\n",
       "                            //cdn.shopify.com/s/files/1/0645/7913/products/bull_1200x.jpg?v=1597678646 1200w,\n",
       "                            //cdn.shopify.com/s/files/1/0645/7913/products/bull_1000x.jpg?v=1597678646 1000w,\n",
       "                            //cdn.shopify.com/s/files/1/0645/7913/products/bull_800x.jpg?v=1597678646 800w,\n",
       "                            //cdn.shopify.com/s/files/1/0645/7913/products/bull_600x.jpg?v=1597678646 600w,\n",
       "                            //cdn.shopify.com/s/files/1/0645/7913/products/bull_400x.jpg?v=1597678646 400w\" src=\"//cdn.shopify.com/s/files/1/0645/7913/products/bull_100x.jpg?v=1597678646\" style=\"width: 100%; height: auto; max-width:872px;\"/>\n",
       "<div name=\"secomapp-fg-image-4731441053793\" style=\"display: none;\"> <img alt=\"\" class=\"sca-fg-img-collect\" src=\"//cdn.shopify.com/s/files/1/0645/7913/t/33/assets/icon-freegift.png?v=13293130802511109535\"/> </div>\n",
       "<div class=\"sca-fg-cat-list\" name=\"secomapp-fg-data-4731441053793\" prod-show=\"list\" style=\"display:none;\"> </div>\n",
       "<div class=\"transition-helper\">\n",
       "</div>\n",
       "</div>\n",
       "<span class=\"quick_shop action_button\" data-fancybox-href=\"#product-4731441053793\" data-gallery=\"product-4731441053793-gallery\" data-istockproduct=\"Bullwhip Hot Sauce\" data-istockproductid=\"4731441053793\" data-istockvariants='[{\"id\":32635003306081,\"title\":\"Default Title\",\"option1\":\"Default Title\",\"option2\":null,\"option3\":null,\"sku\":\"\",\"requires_shipping\":true,\"taxable\":true,\"featured_image\":null,\"available\":true,\"name\":\"Bullwhip Hot Sauce\",\"public_title\":null,\"options\":[\"Default Title\"],\"price\":749,\"weight\":318,\"compare_at_price\":null,\"inventory_quantity\":71,\"inventory_management\":\"shopify\",\"inventory_policy\":\"deny\",\"barcode\":\"\"}]'>\n",
       "          + Quick Shop\n",
       "        </span>\n",
       "</div>\n",
       "<div class=\"info\">\n",
       "<span class=\"vendor-custom\" itemprop=\"brand\">Barnacle Foods</span>\n",
       "<span class=\"title product-name-custom\" itemprop=\"name\">Bullwhip Hot Sauce</span>\n",
       "<span class=\"price-custom price\" itemprop=\"offers\" itemscope=\"\" itemtype=\"http://schema.org/Offer\">\n",
       "<meta content=\"7.49\" itemprop=\"price\">\n",
       "<meta content=\"USD\" itemprop=\"priceCurrency\">\n",
       "<meta content=\"Heat\" itemprop=\"seller\">\n",
       "<link href=\"http://schema.org/InStock\" itemprop=\"availability\"/>\n",
       "<meta content=\"New\" itemprop=\"itemCondition\">\n",
       "<span class=\"money\">$ 7.49</span>\n",
       "</meta></meta></meta></meta></span>\n",
       "</div>\n",
       "</a>\n",
       "</div>\n",
       "<div class=\"modal product-4731441053793 product_section thumbnail_position--bottom-thumbnails product_slideshow_animation--none\" data-slideshow-animation=\"none\" data-slideshow-speed=\"6\" data-thumbnail=\"bottom-thumbnails\" id=\"product-4731441053793\">\n",
       "<div class=\"container\" style=\"width: inherit\">\n",
       "<div class=\"eight columns\" style=\"padding-left: 15px\">\n",
       "<div class=\"flexslider product_gallery product-4731441053793-gallery\">\n",
       "<ul class=\"slides\">\n",
       "<li data-thumb=\"//cdn.shopify.com/s/files/1/0645/7913/products/bull_grande.jpg?v=1597678646\" data-title=\"Bullwhip Hot Sauce\">\n",
       "<a class=\"fancybox\" data-fancybox-group=\"4731441053793\" href=\"//cdn.shopify.com/s/files/1/0645/7913/products/bull_2048x.jpg?v=1597678646\" rel=\"group\" title=\"Bullwhip Hot Sauce\">\n",
       "<div class=\"image__container\" style=\" max-width: 500.0px; \">\n",
       "<img alt=\"Bullwhip Hot Sauce\" class=\"lazyload lazyload--mirage cloudzoom featured_image\" data-cloudzoom=\"zoomImage: '//cdn.shopify.com/s/files/1/0645/7913/products/bull_2048x.jpg?v=1597678646', tintColor: '#ffffff', zoomPosition: 'inside', zoomOffsetX: 0, touchStartDelay: 250\" data-image-id=\"15886379155553\" data-index=\"0\" data-sizes=\"auto\" data-src=\"//cdn.shopify.com/s/files/1/0645/7913/products/bull_2048x.jpg?v=1597678646\" data-srcset=\" //cdn.shopify.com/s/files/1/0645/7913/products/bull_2048x.jpg?v=1597678646 2048w,\n",
       "                                  //cdn.shopify.com/s/files/1/0645/7913/products/bull_1600x.jpg?v=1597678646 1600w,\n",
       "                                  //cdn.shopify.com/s/files/1/0645/7913/products/bull_1200x.jpg?v=1597678646 1200w,\n",
       "                                  //cdn.shopify.com/s/files/1/0645/7913/products/bull_1000x.jpg?v=1597678646 1000w,\n",
       "                                  //cdn.shopify.com/s/files/1/0645/7913/products/bull_800x.jpg?v=1597678646 800w,\n",
       "                                  //cdn.shopify.com/s/files/1/0645/7913/products/bull_600x.jpg?v=1597678646 600w,\n",
       "                                  //cdn.shopify.com/s/files/1/0645/7913/products/bull_400x.jpg?v=1597678646 400w\" src=\"//cdn.shopify.com/s/files/1/0645/7913/products/bull_100x.jpg?v=1597678646\" style=\"width: 100%; height: auto; max-width:872px;\"/>\n",
       "<div class=\"transition-helper\">\n",
       "</div>\n",
       "</div>\n",
       "</a>\n",
       "</li>\n",
       "</ul>\n",
       "</div>\n",
       "</div>\n",
       "<div class=\"six columns\">\n",
       "<h3>Bullwhip Hot Sauce</h3>\n",
       "<p class=\"vendor\">\n",
       "<span itemprop=\"brand\"><a href=\"/collections/vendors?q=Barnacle%20Foods\" title=\"Barnacle Foods\">Barnacle Foods</a></span>\n",
       "</p>\n",
       "<p class=\"modal_price\">\n",
       "<span class=\"sold_out\"></span>\n",
       "<span class=\"\">\n",
       "<span class=\"current_price\">\n",
       "<span class=\"money\">$ 7.49</span>\n",
       "</span>\n",
       "</span>\n",
       "<span class=\"was_price\">\n",
       "</span>\n",
       "</p>\n",
       "<form action=\"/cart/add\" class=\"clearfix product_form init\" data-enable-state=\"true\" data-money-format=\"$ {{amount}}\" data-product='{\"id\":4731441053793,\"title\":\"Bullwhip Hot Sauce\",\"handle\":\"bullwhip-hot-sauce\",\"description\":\"\\u003cp\\u003eA one-of-a-kind sauce made with Alaskan Bull Kelp for a savory, umami flavor, along with African peri peri chile peppers, tomato, and a dash of garlic.\\u003c\\/p\\u003e\\n\\u003cp\\u003e\\u003cstrong\\u003eHeat Level\\u003c\\/strong\\u003e: Medium\\u003c\\/p\\u003e\\n\\u003cp\\u003e\\u003cstrong\\u003eIngredients\\u003c\\/strong\\u003e: Alaskan Bull Kelp, Vinegar, Water, Tomato, Vegetable Oil, Tomato Paste, Garlic, Salt, Piri Piri, Xanthan Gum.\\u003c\\/p\\u003e\\n\\u003cp\\u003e\\u003cstrong\\u003e5 oz\\u003c\\/strong\\u003e\\u003c\\/p\\u003e\",\"published_at\":\"2020-08-17T08:31:42-07:00\",\"created_at\":\"2020-08-17T08:31:41-07:00\",\"vendor\":\"Barnacle Foods\",\"type\":\"Hot Sauce\",\"tags\":[\"medium\",\"peri-peri\"],\"price\":749,\"price_min\":749,\"price_max\":749,\"available\":true,\"price_varies\":false,\"compare_at_price\":null,\"compare_at_price_min\":0,\"compare_at_price_max\":0,\"compare_at_price_varies\":false,\"variants\":[{\"id\":32635003306081,\"title\":\"Default Title\",\"option1\":\"Default Title\",\"option2\":null,\"option3\":null,\"sku\":\"\",\"requires_shipping\":true,\"taxable\":true,\"featured_image\":null,\"available\":true,\"name\":\"Bullwhip Hot Sauce\",\"public_title\":null,\"options\":[\"Default Title\"],\"price\":749,\"weight\":318,\"compare_at_price\":null,\"inventory_quantity\":71,\"inventory_management\":\"shopify\",\"inventory_policy\":\"deny\",\"barcode\":\"\"}],\"images\":[\"\\/\\/cdn.shopify.com\\/s\\/files\\/1\\/0645\\/7913\\/products\\/bull.jpg?v=1597678646\"],\"featured_image\":\"\\/\\/cdn.shopify.com\\/s\\/files\\/1\\/0645\\/7913\\/products\\/bull.jpg?v=1597678646\",\"options\":[\"Title\"],\"media\":[{\"alt\":null,\"id\":8060093956193,\"position\":1,\"preview_image\":{\"aspect_ratio\":1.0,\"height\":872,\"width\":872,\"src\":\"https:\\/\\/cdn.shopify.com\\/s\\/files\\/1\\/0645\\/7913\\/products\\/bull.jpg?v=1597678646\"},\"aspect_ratio\":1.0,\"height\":872,\"media_type\":\"image\",\"src\":\"https:\\/\\/cdn.shopify.com\\/s\\/files\\/1\\/0645\\/7913\\/products\\/bull.jpg?v=1597678646\",\"width\":872}],\"content\":\"\\u003cp\\u003eA one-of-a-kind sauce made with Alaskan Bull Kelp for a savory, umami flavor, along with African peri peri chile peppers, tomato, and a dash of garlic.\\u003c\\/p\\u003e\\n\\u003cp\\u003e\\u003cstrong\\u003eHeat Level\\u003c\\/strong\\u003e: Medium\\u003c\\/p\\u003e\\n\\u003cp\\u003e\\u003cstrong\\u003eIngredients\\u003c\\/strong\\u003e: Alaskan Bull Kelp, Vinegar, Water, Tomato, Vegetable Oil, Tomato Paste, Garlic, Salt, Piri Piri, Xanthan Gum.\\u003c\\/p\\u003e\\n\\u003cp\\u003e\\u003cstrong\\u003e5 oz\\u003c\\/strong\\u003e\\u003c\\/p\\u003e\"}' data-product-id=\"4731441053793\" data-select-id=\"product-select-4731441053793product-template\" data-shop-currency=\"USD\" id=\"product-form-4731441053793product-template\" method=\"post\">\n",
       "<input name=\"id\" type=\"hidden\" value=\"32635003306081\"/>\n",
       "<div class=\"left\">\n",
       "<label for=\"quantity\">Qty</label>\n",
       "<input class=\"quantity\" id=\"quantity\" max=\"71\" min=\"1\" name=\"quantity\" size=\"2\" type=\"number\" value=\"1\"/>\n",
       "</div>\n",
       "<div class=\"purchase clearfix inline_purchase\">\n",
       "<button class=\"action_button add_to_cart\" data-label=\"Add to Cart\" name=\"add\" type=\"submit\"><span class=\"text\">Add to Cart</span></button>\n",
       "</div>\n",
       "<div class=\"purchase clearfix inline_purchase\">\n",
       "<div data-product=\"4731441053793\" data-variant=\"32635003306081\" id=\"smartwishlist\"></div>\n",
       "</div>\n",
       "</form>\n",
       "<div class=\"iStock-wrapper\" style=\"display:none\">\n",
       "<h2>Out Of Stock!</h2>\n",
       "<p class=\"iStock-notifyTxt\">We will notify you when this product becomes available.</p>\n",
       "<div class=\"iStock-availability\" style=\"display:none\">\n",
       "<label>Availability Date: </label>\n",
       "<span></span>\n",
       "</div>\n",
       "<div class=\"iStock-fields\">\n",
       "<input class=\"iStock-email-id\" name=\"iStock-email-id\" placeholder=\"Email Address\" type=\"text\" value=\"\"/>\n",
       "<input class=\"iStock-notify-btn action_button\" type=\"button\" value=\"Notify Me\"/>\n",
       "</div>\n",
       "<div class=\"iStock-msg\"></div>\n",
       "</div>\n",
       "<hr/>\n",
       "<p>A one-of-a-kind sauce made with Alaskan Bull Kelp for a savory, umami flavor, along with African peri peri chile peppers, tomato, and a dash of garlic. Heat Level: Medium Ingredients: Alaskan Bull Kelp, Vinegar, Water, Tomato, Vegetable Oil, Tomato Paste,...</p>\n",
       "<p>\n",
       "<a class=\"view_product_info\" href=\"/products/bullwhip-hot-sauce\" title=\"Bullwhip Hot Sauce\">View full product details <span class=\"icon-arrow-right\"></span></a>\n",
       "</p>\n",
       "</div>\n",
       "</div>\n",
       "</div>\n",
       "<br class=\"clear product_clear\"/>\n",
       "</div>\n",
       "</div>\n",
       "<style>\n",
       "  \n",
       "    .product_slider .slides img { max-height: 500px; }\n",
       "  \n",
       "</style>\n",
       "</div><div class=\"yotpo yotpo-main-widget\" data-description='&lt;meta charset=\"utf-8\"&gt;\n",
       "&lt;p&gt;&lt;span&gt;Made with 80% fresh Bhut Jolokia peppers (also known as ghost chiles) and a blend of select spices, Angry Cock is an extract free ultra hot sauce. Try in soups, gumbo and red beans &amp;amp; rice&lt;/span&gt;&lt;/p&gt;\n",
       "&lt;p&gt;&lt;strong&gt;Heat Level: &lt;/strong&gt;Extra Hot&lt;/p&gt;\n",
       "&lt;p&gt;&lt;strong&gt;Ingredients: &lt;/strong&gt;﻿&lt;span&gt;Bhut Jolokia Chiles, Vinegar, Onion, Garlic, Black Pepper, Chile Caribe, Salt, and a select blend of Dehydrated Vegetables.&lt;/span&gt;&lt;/p&gt;\n",
       "&lt;p&gt;&lt;strong&gt;5 oz&lt;/strong&gt;&lt;/p&gt;' data-image-url=\"//cdn.shopify.com/s/files/1/0645/7913/products/unnamed_a5621c6c-17fc-4866-aaae-9702e00fcddc_large.jpg%3Fv=1579497661\" data-name=\"Angry Cock\" data-product-id=\"10774675843\" data-url=\"https://heathotsauce.com/products/fire-cock\"></div>\n",
       "</div>\n",
       "<div class=\"shopify-section footer-section\" id=\"shopify-section-footer\"><div class=\"sub-footer\">\n",
       "<div class=\"container\">\n",
       "<div class=\"four columns\">\n",
       "<h6 class=\"title\">Footer</h6>\n",
       "<ul class=\"footer_menu\">\n",
       "<li><a href=\"/search\" title=\"Search\">Search</a></li>\n",
       "<li><a href=\"/pages/about-us\" title=\"About Us\">About Us</a></li>\n",
       "</ul>\n",
       "</div>\n",
       "<div class=\"four columns\">\n",
       "<h6 class=\"title\">News &amp; Updates</h6>\n",
       "<p>Sign up to get the latest on sales, new releases and more …</p>\n",
       "<div class=\"newsletter\">\n",
       "<p class=\"message\"></p>\n",
       "<form accept-charset=\"UTF-8\" action=\"/contact#contact_form\" class=\"contact-form\" id=\"contact_form\" method=\"post\"><input name=\"form_type\" type=\"hidden\" value=\"customer\"/><input name=\"utf8\" type=\"hidden\" value=\"✓\"/>\n",
       "<input name=\"contact[tags]\" type=\"hidden\" value=\"newsletter\"/>\n",
       "<input name=\"challenge\" type=\"hidden\" value=\"false\"/>\n",
       "<input autocapitalize=\"off\" autocorrect=\"off\" class=\"contact_email\" name=\"contact[email]\" placeholder=\"Enter your email address...\" required=\"\" type=\"email\">\n",
       "<input class=\"action_button sign_up\" type=\"submit\" value=\"Sign Up\"/>\n",
       "</input></form>\n",
       "</div>\n",
       "</div>\n",
       "<div class=\"four columns\">\n",
       "<h6 class=\"title\">Questions?</h6>\n",
       "<p><a href=\"#zbwid-2ae7bf00\" title=\"#zbwid-2ae7bf00\">Leave us a message</a> and we'll get right back to you!</p>\n",
       "</div>\n",
       "<div class=\"four columns\">\n",
       "<h6 class=\"title\">Social Media</h6>\n",
       "<ul class=\"social_icons\">\n",
       "<li class=\"twitter\"><a href=\"https://twitter.com/heathotsauce\" rel=\"me\" target=\"_blank\" title=\"Heat on Twitter\"><span class=\"icon-twitter\"></span></a></li>\n",
       "<li class=\"facebook\"><a href=\"https://facebook.com/heathotsauceshop\" rel=\"me\" target=\"_blank\" title=\"Heat on Facebook\"><span class=\"icon-facebook\"></span></a></li>\n",
       "<li class=\"instagram\"><a href=\"https://instagram.com/heathotsauceshop\" rel=\"me\" target=\"_blank\" title=\"Heat on Instagram\"><span class=\"icon-instagram\"></span></a></li>\n",
       "<li class=\"email\"><a href=\"mailto:info@heathotsauce.com\" rel=\"me\" target=\"_blank\" title=\"Email Heat\"><span class=\"icon-email\"></span></a></li>\n",
       "</ul>\n",
       "</div>\n",
       "</div>\n",
       "</div>\n",
       "<div class=\"footer\">\n",
       "<div class=\"container\">\n",
       "<div class=\"sixteen columns\">\n",
       "<p class=\"credits\">\n",
       "        © 2020 <a href=\"/\" title=\"\">Heat</a>.\n",
       "        \n",
       "        \n",
       "        <a href=\"https://www.shopify.com?utm_campaign=poweredby&amp;utm_medium=shopify&amp;utm_source=onlinestore\" rel=\"nofollow\" target=\"_blank\">Powered by Shopify</a>\n",
       "</p>\n",
       "<div class=\"payment_methods\">\n",
       "<img alt=\"Amazon payments\" src=\"//cdn.shopify.com/s/assets/payment_icons/amazon-92e856f82cae5a564cd0f70457f11af4d58fa037cf6e5ab7adf76f6fd3b9cafe.svg\"/>\n",
       "<img alt=\"American express\" src=\"//cdn.shopify.com/s/assets/payment_icons/american_express-2264c9b8b57b23b0b0831827e90cd7bcda2836adc42a912ebedf545dead35b20.svg\"/>\n",
       "<img alt=\"Apple pay\" src=\"//cdn.shopify.com/s/assets/payment_icons/apple_pay-f6db0077dc7c325b436ecbdcf254239100b35b70b1663bc7523d7c424901fa09.svg\"/>\n",
       "<img alt=\"Diners club\" src=\"//cdn.shopify.com/s/assets/payment_icons/diners_club-16436b9fb6dd9060edb51f1c7c44e23941e544ad798282d6aef1604319562fba.svg\"/>\n",
       "<img alt=\"Discover\" src=\"//cdn.shopify.com/s/assets/payment_icons/discover-8265cfcac046637b87df7718c1436f6a1e054de3fbbb73c2ae82db1332879ba5.svg\"/>\n",
       "<img alt=\"Elo\" src=\"//cdn.shopify.com/s/assets/payment_icons/elo-2d06f4b3098dea7e1006157d01eaad1577bb31079e593b759b3892d7d2b9453b.svg\"/>\n",
       "<img alt=\"Google pay\" src=\"//cdn.shopify.com/s/assets/payment_icons/google_pay-c66a29c63facf2053bf69352982c958e9675cabea4f2f7ccec08d169d1856b31.svg\"/>\n",
       "<img alt=\"Jcb\" src=\"//cdn.shopify.com/s/assets/payment_icons/jcb-ab0f5a1739704f1ab039f19ac8c28895af5c39a3f54ee9b748ea051986b0bd36.svg\"/>\n",
       "<img alt=\"Master\" src=\"//cdn.shopify.com/s/assets/payment_icons/master-173035bc8124581983d4efa50cf8626e8553c2b311353fbf67485f9c1a2b88d1.svg\"/>\n",
       "<img alt=\"Paypal\" src=\"//cdn.shopify.com/s/assets/payment_icons/paypal-49e4c1e03244b6d2de0d270ca0d22dd15da6e92cc7266e93eb43762df5aa355d.svg\"/>\n",
       "<img alt=\"Shopify pay\" src=\"//cdn.shopify.com/s/assets/payment_icons/shopify_pay-2291782b7fc5b4dd3e389192a31ec3f638a0e61fa5ce58e2f03e678949c1b666.svg\"/>\n",
       "<img alt=\"Venmo\" src=\"//cdn.shopify.com/s/assets/payment_icons/venmo-e46496b4036966108664ea6a65bfeddd373275087df5f94cc3e5564fdb493eb0.svg\"/>\n",
       "<img alt=\"Visa\" src=\"//cdn.shopify.com/s/assets/payment_icons/visa-319d545c6fd255c9aad5eeaad21fd6f7f7b4fdbdb1a35ce83b89cca12a187f00.svg\"/>\n",
       "</div>\n",
       "</div>\n",
       "</div>\n",
       "</div>\n",
       "</div>\n",
       "<div id=\"search\">\n",
       "<div class=\"container\">\n",
       "<div class=\"ten columns offset-by-three center\">\n",
       "<form action=\"/search\">\n",
       "<input name=\"type\" type=\"hidden\" value=\"product\"/>\n",
       "<div class=\"search_wrapper\">\n",
       "<span class=\"icon-search search-submit\"></span>\n",
       "<input autocapitalize=\"off\" autocomplete=\"off\" autocorrect=\"off\" name=\"q\" placeholder=\"Search Heat...\" type=\"text\" value=\"\"/>\n",
       "</div>\n",
       "<div class=\"right search-close\">\n",
       "<span class=\"icon-close\"></span>\n",
       "</div>\n",
       "</form>\n",
       "</div>\n",
       "</div>\n",
       "</div>\n",
       "</div>\n",
       "<div class=\"sca-bm\" id=\"sca-qv-showqv\" style=\"display: none !important;\">\n",
       "<div>\n",
       "<!--START PRODUCT-->\n",
       "<div class=\"quick-view-container fancyox-view-detail\">\n",
       "<div class=\"sca-left\" id=\"sca-qv-left\">\n",
       "<div class=\"sca-qv-sale sca-qv-hidden\" id=\"sca-qv-sale\">Sale</div>\n",
       "<!-- START ZOOM IMAGE-->\n",
       "<div class=\"sca-qv-zoom-container\">\n",
       "<div class=\"zoomWrapper\">\n",
       "<div class=\"sqa-qv-zoomcontainer\" id=\"sca-qv-zoomcontainer\">\n",
       "<!-- Main image  ! DON'T PUT CONTENT HERE! -->\n",
       "</div>\n",
       "</div>\n",
       "</div>\n",
       "<!-- END ZOOM IMAGE-->\n",
       "<!-- START GALLERY-->\n",
       "<div class=\"sca-qv-gallery\" id=\"sca-qv-galleryid\">\n",
       "<!-- Collection of image ! DON'T PUT CONTENT HERE!-->\n",
       "</div>\n",
       "<!-- END GALLERY-->\n",
       "</div>\n",
       "<!--START BUY-->\n",
       "<div class=\"sca-right\" id=\"sca-qv-right\">\n",
       "<!-- -------------------------- -->\n",
       "<div class=\"name-title\" id=\"sca-qv-title\">\n",
       "<!-- Title of product ! DON'T PUT CONTENT HERE!-->\n",
       "</div>\n",
       "<!-- -------------------------- -->\n",
       "<div class=\"sca-qv-price-container\" id=\"sca-qv-price-container\">\n",
       "<!-- price information of product ! DON'T PUT CONTENT HERE!-->\n",
       "</div>\n",
       "<!-- -------------------------- -->\n",
       "<div class=\"sca-qv-row\" id=\"sca-qv-des\">\n",
       "<!-- description of product ! DON'T PUT CONTENT HERE!-->\n",
       "</div>\n",
       "<!-- -------------------------- -->\n",
       "<div data-product=\"10774675843\" data-variant=\"43377269891\" id=\"smartwishlist\"></div>\n",
       "<div class=\"sca-qv-row\">\n",
       "<a href=\"\" id=\"sca-qv-detail\"> \tView full product details → </a>\n",
       "</div>\n",
       "<!-- ----------------------------------------------------------------------- -->\n",
       "<div id=\"sca-qv-cartform\">\n",
       "<form id=\"sca-qv-add-item-form\" method=\"post\">\n",
       "<!-- Begin product options ! DON'T PUT CONTENT HERE!-->\n",
       "<div class=\"sca-qv-product-options\">\n",
       "<!-- -------------------------- -->\n",
       "<div class=\"sca-qv-optionrow\" id=\"sca-qv-variant-options\">\n",
       "<!-- variant options  of product  ! DON'T PUT CONTENT HERE!-->\n",
       "</div>\n",
       "<!-- -------------------------- -->\n",
       "<div class=\"sca-qv-optionrow\">\n",
       "<label>Quantity</label>\n",
       "<input id=\"sca-qv-quantity\" min=\"1\" name=\"quantity\" type=\"number\" value=\"1\"/>\n",
       "</div>\n",
       "<!-- -------------------------- -->\n",
       "<div class=\"sca-qv-optionrow\">\n",
       "<p class=\"sca-sold-out sca-qv-hidden\" id=\"sca-qv-unavailable\">Unavailable</p>\n",
       "<p class=\"sca-sold-out sca-qv-hidden\" id=\"sca-qv-sold-out\">Sold Out</p>\n",
       "<input class=\"sca-qv-cartbtn sca-qv-hidden\" type=\"submit\" value=\"ADD TO CART\"/>\n",
       "</div>\n",
       "<!-- -------------------------- -->\n",
       "</div>\n",
       "<!-- End product options -->\n",
       "</form>\n",
       "</div>\n",
       "</div>\n",
       "<!--END BUY-->\n",
       "</div>\n",
       "<!--END PRODUCT-->\n",
       "</div>\n",
       "</div>\n",
       "<div autoconfig=\"yes\" id=\"scaqv-metadata\" jsondata=\"eyJibnRfdGV4dCI6IlFVSUNLIFZJRVciLCJibnRfdGV4dF9mb250IjoidGFob21hIiwiYm50X3RleHRfZm9udHNpemUiOiIxNHB4IiwiYm50X3RleHRfY29sb3IiOiIjZmZmZmZmIiwiYm50X3RleHRfaG92ZXIiOiIjZmZmZmZmIiwiYm50X2NvbG9yIjoiIzAwMDAwMCIsImJudF9jb2xvcl9ob3ZlciI6IiNhMTAwMDAiLCJibnRfcG9zc2l0aW9uIjoiY2VudGVyIiwiaW1nX21haW5fd2lkdGgiOiIzNDVweCIsIndkX2hlaWdodCI6IjUwMCIsIndkX3dpZHRoIjoiODYwIiwiY2FydF9nbyI6Im5vIiwiY2FydGNvdW50IjoiI2NhcnQtY291bnQiLCJjYXJ0X3RvdGFsIjoiI2NhcnQtdG90YWwiLCJjYXJ0X25vdGlmeV9hZGRfZm9ybWF0IjoiVGhpcyBwcm9kdWN0IGluICpZb3VyIENhcnQlIGFscmVhZHkuIiwiY2FydF9ub3RpZnlfaW5fZm9ybWF0IjoiSXRlbSBhZGRlZCB0byBjYXJ0ISAqVmlldyBDYXJ0JS4iLCJjYXJ0X2NvbG9yIjoiI2ExMDAwMCIsInNhbGVfaWNvbl9jb2xvciI6IiNhMTAwMDAiLCJwcmljZV9jb2xvciI6IiM0NDQ0NDQiLCJsaW5rX2NvbG9yIjoiI2ExMDAwMCIsInRpdGxlX2NvbG9yIjoiIzAwMDAwMCIsInF2X2Rpc2FibGUiOm51bGx9\" moneyformat=\"$ {{amount}}\" noimage=\"//cdn.shopify.com/s/files/1/0645/7913/t/33/assets/sca-qv-no-image.jpg?v=4709065447284384810\"></div>\n",
       "<!-- .iStock App Script -->\n",
       "<script type=\"text/javascript\">\n",
       "      var iStockShop = \"heat-hot-sauce-shop.myshopify.com\";\n",
       "      var quickViewClass = '.quick_shop';\n",
       "      var quickShopwrapperClass = '.fancybox-skin';\n",
       "    </script>\n",
       "<script src=\"https://istock.shopapps.in/front/iStock-notify-collection.php?shop=heat-hot-sauce-shop.myshopify.com\"></script>\n",
       "<!-- .iStock App Script -->\n",
       "</body>\n",
       "</html>"
      ]
     },
     "execution_count": 135,
     "metadata": {},
     "output_type": "execute_result"
    }
   ],
   "source": [
    "soup"
   ]
  },
  {
   "cell_type": "code",
   "execution_count": 55,
   "metadata": {},
   "outputs": [
    {
     "data": {
      "text/plain": [
       "[<a href=\"/blogs/heatblog/update-on-the-health-crisis\" title=\"Update on the health crisis\">$7.99 FLAT RATE SHIPPING</a>,\n",
       " <a class=\"icon-menu\" href=\"#nav\"> <span>Menu</span></a>,\n",
       " <a class=\"icon-cart right\" href=\"#cart\"> <span>Cart</span></a>,\n",
       " <a href=\"/\">Home</a>,\n",
       " <a href=\"/collections/all-sauces\">Shop</a>,\n",
       " <a href=\"/collections/all-sauces\">All Sauces</a>,\n",
       " <a href=\"/pages/our-brands\">All Brands</a>,\n",
       " <a href=\"/pages/gift-sets\">Gift Sets</a>,\n",
       " <a href=\"/collections/award-winning-hot-sauce\">Award Winning</a>,\n",
       " <a href=\"/collections/hot-ones\">Featured on Hot Ones</a>,\n",
       " <a href=\"/collections/sauces-featured-on-serious-eats\">Featured on Serious Eats</a>,\n",
       " <a href=\"/collections/chile-powders\">Pods &amp; Powders</a>,\n",
       " <a href=\"/collections/hot-sauce-sales\">Sales</a>,\n",
       " <a href=\"/pages/about-us\">About</a>,\n",
       " <a href=\"/pages/about-us\">About Us</a>,\n",
       " <a href=\"/blogs/heatblog\">Blog</a>,\n",
       " <a href=\"/pages/cheap-quick-shipping\">Cheap Shipping</a>,\n",
       " <a href=\"/pages/all-about-chile-peppers\">About Chile Peppers</a>,\n",
       " <a href=\"/pages/spicy-links\">Spicy Links</a>,\n",
       " <a href=\"/pages/our-berkeley-storefront\">Berkeley Storefront</a>,\n",
       " <a href=\"/products/sauce-of-the-month\">Sauce of the Month</a>,\n",
       " <a href=\"/account\">Account</a>,\n",
       " <a href=\"/account\">Online Shop Account </a>,\n",
       " <a href=\"https://club.heathotsauce.com/customer/account\">Monthly Club Account</a>,\n",
       " <a href=\"/a/wishlist\">Wishlist</a>,\n",
       " <a class=\"mm-subclose continue\" href=\"#cart\">Continue Shopping</a>,\n",
       " <a href=\"/cart\">Your Cart is Empty</a>,\n",
       " <a href=\"/blogs/heatblog/update-on-the-health-crisis\" title=\"Update on the health crisis\">$7.99 FLAT RATE SHIPPING</a>,\n",
       " <a href=\"https://heathotsauce.com\" title=\"Heat\">\n",
       " <img alt=\"Heat\" class=\"primary_logo\" src=\"//cdn.shopify.com/s/files/1/0645/7913/files/logoclearpepper_280x@2x.png?v=1496710793\"/>\n",
       " <img alt=\"Heat\" class=\"secondary_logo\" src=\"//cdn.shopify.com/s/files/1/0645/7913/files/logoclearpepper_280x@2x.png?v=1496710793\"/>\n",
       " </a>,\n",
       " <a class=\"top-link\" href=\"/\">Home</a>,\n",
       " <a class=\"sub-menu\" href=\"/collections/all-sauces\">Shop\n",
       "               <span class=\"arrow\">▾</span></a>,\n",
       " <a href=\"/collections/all-sauces\">All Sauces</a>,\n",
       " <a href=\"/pages/our-brands\">All Brands</a>,\n",
       " <a href=\"/pages/gift-sets\">Gift Sets</a>,\n",
       " <a href=\"/collections/award-winning-hot-sauce\">Award Winning</a>,\n",
       " <a href=\"/collections/hot-ones\">Featured on Hot Ones</a>,\n",
       " <a href=\"/collections/sauces-featured-on-serious-eats\">Featured on Serious Eats</a>,\n",
       " <a href=\"/collections/chile-powders\">Pods &amp; Powders</a>,\n",
       " <a href=\"/collections/hot-sauce-sales\">Sales</a>,\n",
       " <a class=\"sub-menu\" href=\"/pages/about-us\">About\n",
       "               <span class=\"arrow\">▾</span></a>,\n",
       " <a href=\"/pages/about-us\">About Us</a>,\n",
       " <a href=\"/blogs/heatblog\">Blog</a>,\n",
       " <a href=\"/pages/cheap-quick-shipping\">Cheap Shipping</a>,\n",
       " <a href=\"/pages/all-about-chile-peppers\">About Chile Peppers</a>,\n",
       " <a href=\"/pages/spicy-links\">Spicy Links</a>,\n",
       " <a href=\"/pages/our-berkeley-storefront\">Berkeley Storefront</a>,\n",
       " <a class=\"top-link\" href=\"/products/sauce-of-the-month\">Sauce of the Month</a>,\n",
       " <a class=\"sub-menu\" href=\"/account\">Account\n",
       "               <span class=\"arrow\">▾</span></a>,\n",
       " <a href=\"/account\">Online Shop Account </a>,\n",
       " <a href=\"https://club.heathotsauce.com/customer/account\">Monthly Club Account</a>,\n",
       " <a href=\"/a/wishlist\">Wishlist</a>,\n",
       " <a class=\"icon-search\" href=\"/search\" id=\"search-toggle\" title=\"Search\"></a>,\n",
       " <a class=\"icon-cart cart-button\" href=\"#cart\"> <span>Cart</span></a>,\n",
       " <a href=\"https://heathotsauce.com\" title=\"Heat\">\n",
       " <img alt=\"Heat\" src=\"//cdn.shopify.com/s/files/1/0645/7913/files/logoclearpepper_280x@2x.png?v=1496710793\"/>\n",
       " </a>,\n",
       " <a href=\"https://heathotsauce.com\" itemprop=\"item\" title=\"Heat\"><span itemprop=\"name\">Home</span></a>,\n",
       " <a href=\"/collections/all\" itemprop=\"item\" title=\"Products\"><span itemprop=\"name\">Products</span></a>,\n",
       " <a href=\"/collections/all-sauces\" title=\"All Sauces\">All Sauces</a>,\n",
       " <a href=\"/pages/our-brands\" title=\"All Brands\">All Brands</a>,\n",
       " <a href=\"/pages/gift-sets\" title=\"Gift Sets\">Gift Sets</a>,\n",
       " <a href=\"/collections/award-winning-hot-sauce\" title=\"Award Winning\">Award Winning</a>,\n",
       " <a href=\"/collections/hot-ones\" title=\"Featured on Hot Ones\">Featured on Hot Ones</a>,\n",
       " <a href=\"/collections/sauces-featured-on-serious-eats\" title=\"Featured on Serious Eats\">Featured on Serious Eats</a>,\n",
       " <a href=\"/collections/chile-powders\" title=\"Pods &amp; Powders\">Pods &amp; Powders</a>,\n",
       " <a href=\"/collections/hot-sauce-sales\" title=\"Sales\">Sales</a>,\n",
       " <a href=\"/collections/mild\" title=\"Mild\">Mild</a>,\n",
       " <a href=\"/collections/medium\" title=\"Medium\">Medium</a>,\n",
       " <a href=\"/collections/hot\" title=\"Hot\">Hot</a>,\n",
       " <a href=\"/collections/extra-hot\" title=\"Extra Hot\">Extra Hot</a>,\n",
       " <a href=\"/collections/extreme\" title=\"Extreme\">Extreme</a>,\n",
       " <a href=\"/collections/no-added-sugar\" title=\"Sugar-Free\">Sugar-Free</a>,\n",
       " <a href=\"/collections/low-sodium-sauces\" title=\"Low Sodium\">Low Sodium</a>,\n",
       " <a href=\"/collections/no-sodium\" title=\"No Sodium\">No Sodium</a>,\n",
       " <a href=\"/collections/vegan-hot-sauce\" title=\"Vegan\">Vegan</a>,\n",
       " <a href=\"/collections/organic\" title=\"Organic\">Organic</a>,\n",
       " <a href=\"/collections/fruit-based\" title=\"Fruit Based\">Fruit Based</a>,\n",
       " <a href=\"/collections/jalapeno\" title=\"Jalapeño\">Jalapeño</a>,\n",
       " <a href=\"/collections/chipotle\" title=\"Chipotle\">Chipotle</a>,\n",
       " <a href=\"/collections/serrano\" title=\"Serrano\">Serrano</a>,\n",
       " <a href=\"/collections/cayenne\" title=\"Cayenne\">Cayenne</a>,\n",
       " <a href=\"/collections/peri-peri\" title=\"Peri Peri\">Peri Peri</a>,\n",
       " <a href=\"/collections/thai-chile\" title=\"Thai Chile\">Thai Chile</a>,\n",
       " <a href=\"/collections/habanero\" title=\"Habanero\">Habanero</a>,\n",
       " <a href=\"/collections/scotch-bonnet\" title=\"Scotch Bonnet\">Scotch Bonnet</a>,\n",
       " <a href=\"/collections/fatalii\" title=\"Fatalii\">Fatalii</a>,\n",
       " <a href=\"/collections/ghost-pepper\" title=\"Ghost Pepper\">Ghost Pepper</a>,\n",
       " <a href=\"/collections/trinidad-scorpion\" title=\"Trinidad Scorpion\">Trinidad Scorpion</a>,\n",
       " <a href=\"/collections/7-pot\" title=\"7-Pot\">7-Pot</a>,\n",
       " <a href=\"/collections/carolina-reaper\" title=\"Carolina Reaper\">Carolina Reaper</a>,\n",
       " <a href=\"/collections/angry-goat-pepper-co\" title=\"Angry Goat Pepper Co\">Angry Goat Pepper Co</a>,\n",
       " <a href=\"/collections/bigfats\" title=\"Big Fat's\">Big Fat's</a>,\n",
       " <a href=\"/collections/blairs\" title=\"Blair's\">Blair's</a>,\n",
       " <a href=\"/collections/born-to-hula\" title=\"Born to Hula\">Born to Hula</a>,\n",
       " <a href=\"/collections/bravado-spice-co\" title=\"Bravado Spice Co\">Bravado Spice Co</a>,\n",
       " <a href=\"/collections/formosa\" title=\"Formosa\">Formosa</a>,\n",
       " <a href=\"/collections/lucky-dog-hot-sauce\" title=\"Lucky Dog Hot Sauce\">Lucky Dog Hot Sauce</a>,\n",
       " <a href=\"/collections/marie-sharps\" title=\"Marie Sharp's\">Marie Sharp's</a>,\n",
       " <a href=\"/collections/pexpeppers\" title=\"PexPeppers\">PexPeppers</a>,\n",
       " <a href=\"/collections/queen-majesty-hot-sauce\" title=\"Queen Majesty\">Queen Majesty</a>,\n",
       " <a href=\"/collections/secret-aardvark-trading-co\" title=\"Secret Aardvark\">Secret Aardvark</a>,\n",
       " <a href=\"/collections/volcanic-peppers\" title=\"Volcanic Peppers\">Volcanic Peppers</a>,\n",
       " <a href=\"/collections/yellowbird\" title=\"Yellowbird\">Yellowbird</a>,\n",
       " <a href=\"/pages/our-brands\" title=\"&lt;b&gt;See all brands...&lt;/b&gt;\"><b>See all brands...</b></a>,\n",
       " <a href=\"/collections/all?page=17\" title=\"\">« Previous</a>,\n",
       " <a href=\"/collections/all?page=1\" title=\"\">1</a>,\n",
       " <a href=\"/collections/all?page=16\" title=\"\">16</a>,\n",
       " <a href=\"/collections/all?page=17\" title=\"\">17</a>,\n",
       " <a href=\"/search\" title=\"Search\">Search</a>,\n",
       " <a href=\"/pages/about-us\" title=\"About Us\">About Us</a>,\n",
       " <a href=\"#zbwid-2ae7bf00\" title=\"#zbwid-2ae7bf00\">Leave us a message</a>,\n",
       " <a href=\"https://twitter.com/heathotsauce\" rel=\"me\" target=\"_blank\" title=\"Heat on Twitter\"><span class=\"icon-twitter\"></span></a>,\n",
       " <a href=\"https://facebook.com/heathotsauceshop\" rel=\"me\" target=\"_blank\" title=\"Heat on Facebook\"><span class=\"icon-facebook\"></span></a>,\n",
       " <a href=\"https://instagram.com/heathotsauceshop\" rel=\"me\" target=\"_blank\" title=\"Heat on Instagram\"><span class=\"icon-instagram\"></span></a>,\n",
       " <a href=\"mailto:info@heathotsauce.com\" rel=\"me\" target=\"_blank\" title=\"Email Heat\"><span class=\"icon-email\"></span></a>,\n",
       " <a href=\"/\" title=\"\">Heat</a>,\n",
       " <a href=\"https://www.shopify.com?utm_campaign=poweredby&amp;utm_medium=shopify&amp;utm_source=onlinestore\" rel=\"nofollow\" target=\"_blank\">Powered by Shopify</a>,\n",
       " <a href=\"\" id=\"sca-qv-detail\"> \tView full product details → </a>]"
      ]
     },
     "execution_count": 55,
     "metadata": {},
     "output_type": "execute_result"
    }
   ],
   "source": [
    "soup.find_all(\"a\")"
   ]
  },
  {
   "cell_type": "code",
   "execution_count": 23,
   "metadata": {},
   "outputs": [
    {
     "name": "stdout",
     "output_type": "stream",
     "text": [
      "1 <Response [200]>\n",
      "2 <Response [200]>\n",
      "3 <Response [200]>\n",
      "4 <Response [200]>\n",
      "5 <Response [200]>\n",
      "6 <Response [200]>\n",
      "7 <Response [200]>\n",
      "8 <Response [200]>\n",
      "9 <Response [200]>\n",
      "10 <Response [200]>\n",
      "11 <Response [200]>\n",
      "12 <Response [200]>\n",
      "13 <Response [200]>\n",
      "14 <Response [200]>\n",
      "15 <Response [200]>\n",
      "16 <Response [200]>\n",
      "17 <Response [200]>\n",
      "18 <Response [200]>\n"
     ]
    }
   ],
   "source": [
    "# scrape all 19 pages to get names and urls\n",
    "\n",
    "names = []\n",
    "urls = []\n",
    "\n",
    "# go to each page (print progress)\n",
    "for i in range(1, 19):\n",
    "    url = 'https://heathotsauce.com/collections/all?page=' + str(i)\n",
    "    page = requests.get(url)\n",
    "    print (i, page)\n",
    "    soup = BeautifulSoup(page.content, 'html.parser')\n",
    "    \n",
    "    #in each page, scrape the names\n",
    "    for j in soup.findAll('span', class_='title product-name-custom'):\n",
    "        names.append(j.get_text())\n",
    "    for k in soup.findAll(itemprop = 'url'):\n",
    "        urls.append(k.get('href'))"
   ]
  },
  {
   "cell_type": "code",
   "execution_count": 56,
   "metadata": {},
   "outputs": [
    {
     "data": {
      "text/plain": [
       "\"\\n\\n\\n\\n\\n \\n\\n\\n\\n\\nProducts Page 18 - Heat\\n\\n\\n\\n\\n\\n\\n\\n\\n\\n\\n\\n\\n\\n\\n\\n\\n\\n\\n\\n\\n\\n\\n\\n\\n\\n\\n\\n\\n\\n\\n\\n\\n\\n\\n\\n\\n\\n\\n\\n\\n\\n\\n\\n\\n\\n\\n\\n\\n\\n\\n\\n\\n\\n\\n\\n\\n\\n\\n\\n\\n\\n\\n\\n  \\n\\n\\n\\n\\n\\n$7.99 FLAT RATE SHIPPING\\xa0+ Your Choice of Freebies\\n\\n\\n\\n Menu\\n Cart\\n\\n\\n\\n\\nHome\\n\\nShop\\n\\nAll Sauces\\nAll Brands\\nGift Sets\\nAward Winning\\nFeatured on Hot Ones\\nFeatured on Serious Eats\\nPods & Powders\\nSales\\n\\n\\n\\nAbout\\n\\nAbout Us\\nBlog\\nCheap Shipping\\nAbout Chile Peppers\\nSpicy Links\\nBerkeley Storefront\\n\\n\\nSauce of the Month\\n\\nAccount\\n\\nOnline Shop Account \\nMonthly Club Account\\nWishlist\\n\\n\\n\\n\\n\\n\\nContinue Shopping\\nYour Cart is Empty\\n\\n\\n\\n\\n\\n$7.99 FLAT RATE SHIPPING\\xa0+ Your Choice of Freebies\\n\\n\\n\\n\\n\\n\\n\\n\\n\\n\\n\\nHome\\nShop\\n              ▾\\n\\n\\nAll Sauces\\nAll Brands\\nGift Sets\\nAward Winning\\nFeatured on Hot Ones\\nFeatured on Serious Eats\\nPods & Powders\\nSales\\n\\n\\n\\nAbout\\n              ▾\\n\\n\\nAbout Us\\nBlog\\nCheap Shipping\\nAbout Chile Peppers\\nSpicy Links\\nBerkeley Storefront\\n\\n\\n\\nSauce of the Month\\nAccount\\n              ▾\\n\\n\\nOnline Shop Account \\nMonthly Club Account\\nWishlist\\n\\n\\n\\n\\n\\n\\n\\n Cart\\n\\n\\n\\n\\n\\n\\n\\n\\n\\n\\n\\n\\n\\n\\n\\n\\n\\n\\nHome\\n        \\xa0 / \\xa0\\n        Products\\n        \\n\\n        \\n          \\xa0 / \\xa0 Page 18 of 17\\n        \\n      \\n\\n\\nSort by: \\n\\nFeatured\\nBest Selling\\nAlphabetically: A-Z\\nAlphabetically: Z-A\\nPrice: Low to High\\nPrice: High to Low\\nDate: New to Old\\nDate: Old to New\\n\\n\\n\\n\\n\\n\\n+Shop Hot Sauce\\n\\n\\nAll Sauces\\n\\n\\nAll Brands\\n\\n\\nGift Sets\\n\\n\\nAward Winning\\n\\n\\nFeatured on Hot Ones\\n\\n\\nFeatured on Serious Eats\\n\\n\\nPods & Powders\\n\\n\\nSales\\n\\n\\n\\n\\n+Shop by Heat Level\\n\\n\\nMild\\n\\n\\nMedium\\n\\n\\nHot\\n\\n\\nExtra Hot\\n\\n\\nExtreme\\n\\n\\n\\n\\n+Shop by Ingredients\\n\\n\\nSugar-Free\\n\\n\\nLow Sodium\\n\\n\\nNo Sodium\\n\\n\\nVegan\\n\\n\\nOrganic\\n\\n\\nFruit Based\\n\\n\\n\\n\\n+Shop By Chile Pepper\\n\\n\\nJalapeño\\n\\n\\nChipotle\\n\\n\\nSerrano\\n\\n\\nCayenne\\n\\n\\nPeri Peri\\n\\n\\nThai Chile\\n\\n\\nHabanero\\n\\n\\nScotch Bonnet\\n\\n\\nFatalii\\n\\n\\nGhost Pepper\\n\\n\\nTrinidad Scorpion\\n\\n\\n7-Pot\\n\\n\\nCarolina Reaper\\n\\n\\n\\n\\n+Shop by Brand\\n\\n\\nAngry Goat Pepper Co\\n\\n\\nBig Fat's\\n\\n\\nBlair's\\n\\n\\nBorn to Hula\\n\\n\\nBravado Spice Co\\n\\n\\nFormosa\\n\\n\\nLucky Dog Hot Sauce\\n\\n\\nMarie Sharp's\\n\\n\\nPexPeppers\\n\\n\\nQueen Majesty\\n\\n\\nSecret Aardvark\\n\\n\\nVolcanic Peppers\\n\\n\\nYellowbird\\n\\n\\nSee all brands...\\n\\n\\n\\n\\n\\nProducts\\n\\nNo products found in this collection\\n\\n\\n\\n\\n« Previous 1 … 16 17\\n\\n\\n\\n\\n\\n\\n\\n\\n\\nFooter\\n\\nSearch\\nAbout Us\\n\\n\\n\\nNews & Updates\\nSign up to get the latest on sales, new releases and more …\\n\\n\\n\\n\\n\\n\\n\\n\\n\\n\\n\\nQuestions?\\nLeave us a message\\xa0and we'll get right back to you!\\n\\n\\nSocial Media\\n\\n\\n\\n\\n\\n\\n\\n\\n\\n\\n\\n\\n\\n        © 2020 Heat.\\n        \\n        \\n        Powered by Shopify\\n\\n\\n\\n\\n\\n\\n\\n\\n\\n\\n\\n\\n\\n\\n\\n\\n\\n\\n\\n\\n\\n\\n\\n\\n\\n\\n\\n\\n\\n\\n\\n\\n\\n\\n\\n\\n\\n\\n\\n\\n\\n\\nSale\\n\\n\\n\\n\\n\\n\\n\\n\\n\\n\\n\\n\\n\\n\\n\\n\\n\\n\\n\\n\\n\\n\\n\\n\\n\\n\\n\\n\\n\\n\\n\\n\\n \\tView full product details → \\n\\n\\n\\n\\n\\n\\n\\n\\n\\n\\n\\n\\nQuantity\\n\\n\\n\\n\\nUnavailable\\nSold Out\\n\\n\\n\\n\\n\\n\\n\\n\\n\\n\\n\\n\\n\\n\\n\\n\\n\\n\\n\\n\\n\""
      ]
     },
     "execution_count": 56,
     "metadata": {},
     "output_type": "execute_result"
    }
   ],
   "source": [
    "soup.get_text()"
   ]
  },
  {
   "cell_type": "markdown",
   "metadata": {
    "slideshow": {
     "slide_type": "slide"
    }
   },
   "source": [
    "__Query Parameters__"
   ]
  },
  {
   "cell_type": "code",
   "execution_count": 10,
   "metadata": {
    "slideshow": {
     "slide_type": "slide"
    }
   },
   "outputs": [
    {
     "data": {
      "text/plain": [
       "{'message': 'success',\n",
       " 'request': {'altitude': 100,\n",
       "  'datetime': 1600366053,\n",
       "  'latitude': 40.71,\n",
       "  'longitude': -74.0,\n",
       "  'passes': 5},\n",
       " 'response': [{'duration': 599, 'risetime': 1600385039},\n",
       "  {'duration': 648, 'risetime': 1600390811},\n",
       "  {'duration': 580, 'risetime': 1600396691},\n",
       "  {'duration': 571, 'risetime': 1600402568},\n",
       "  {'duration': 640, 'risetime': 1600408387}]}"
      ]
     },
     "execution_count": 10,
     "metadata": {},
     "output_type": "execute_result"
    }
   ],
   "source": [
    "Latitude =  38.53\n",
    "Longitude = - 77.02\n",
    "\n",
    "parameters = {\"lat\": 40.71, \"lon\": -74}\n",
    "\n",
    "\n",
    "# Make a get request with the parameters.\n",
    "response = requests.get(\"http://api.open-notify.org/iss-pass.json\", params=parameters)\n",
    "\n",
    "response.json()"
   ]
  },
  {
   "cell_type": "code",
   "execution_count": 11,
   "metadata": {
    "slideshow": {
     "slide_type": "slide"
    }
   },
   "outputs": [
    {
     "name": "stdout",
     "output_type": "stream",
     "text": [
      "2020-09-18T01:53:07\n"
     ]
    }
   ],
   "source": [
    "readable = datetime.fromtimestamp(1600408387).isoformat()\n",
    "print(readable)"
   ]
  },
  {
   "cell_type": "code",
   "execution_count": 12,
   "metadata": {
    "slideshow": {
     "slide_type": "slide"
    }
   },
   "outputs": [
    {
     "data": {
      "text/plain": [
       "{'number': 3,\n",
       " 'people': [{'craft': 'ISS', 'name': 'Chris Cassidy'},\n",
       "  {'craft': 'ISS', 'name': 'Anatoly Ivanishin'},\n",
       "  {'craft': 'ISS', 'name': 'Ivan Vagner'}],\n",
       " 'message': 'success'}"
      ]
     },
     "execution_count": 12,
     "metadata": {},
     "output_type": "execute_result"
    }
   ],
   "source": [
    "response= requests.get(\"http://api.open-notify.org/astros.json\")\n",
    "response.json()"
   ]
  },
  {
   "cell_type": "markdown",
   "metadata": {
    "slideshow": {
     "slide_type": "slide"
    }
   },
   "source": [
    "__Getting Access Tokens__\n",
    "\n",
    "With that, lets go grab an access token from an API site and make some API calls!\n",
    "Point your browser over to this [yelp page](https://www.yelp.com/developers/v3/manage_app) and start creating an app in order to obtain and api access token:\n",
    "\n",
    "You can either sign in to an existing Yelp account, or create a new one, if needed.\n",
    "\n"
   ]
  },
  {
   "cell_type": "markdown",
   "metadata": {},
   "source": [
    "<img src = \"images/yelpapp.png\" width = 550>"
   ]
  },
  {
   "cell_type": "code",
   "execution_count": 14,
   "metadata": {
    "slideshow": {
     "slide_type": "slide"
    }
   },
   "outputs": [
    {
     "data": {
      "text/plain": [
       "['./secrets.cfg']"
      ]
     },
     "execution_count": 14,
     "metadata": {},
     "output_type": "execute_result"
    }
   ],
   "source": [
    "import configparser\n",
    "config = configparser.ConfigParser()\n",
    "config.read('./secrets.cfg')\n"
   ]
  },
  {
   "cell_type": "code",
   "execution_count": 15,
   "metadata": {
    "slideshow": {
     "slide_type": "slide"
    }
   },
   "outputs": [],
   "source": [
    "client_id = config['Yelp']['ClientId']\n",
    "api_key = config['Yelp']['api_key']"
   ]
  },
  {
   "cell_type": "code",
   "execution_count": 16,
   "metadata": {
    "slideshow": {
     "slide_type": "slide"
    }
   },
   "outputs": [
    {
     "name": "stdout",
     "output_type": "stream",
     "text": [
      "<Response [200]>\n",
      "<class 'str'>\n",
      "{\"businesses\": [{\"id\": \"094fHChJkrJqztSFCn3ezA\", \"alias\": \"taqueria-habanero-washington\", \"name\": \"Taqueria Habanero\", \"image_url\": \"https://s3-media4.fl.yelpcdn.com/bphoto/Sy684B1dgmVmk9SQQ2HLSQ/o.jpg\", \"is_closed\": false, \"url\": \"https://www.yelp.com/biz/taqueria-habanero-washington?adjust_creative=sHfPIWw2qKXvXAWiQlx3YA&utm_campaign=yelp_api_v3&utm_medium=api_v3_business_search&utm_source=sHfPIWw2qKXvXAWiQlx3YA\", \"review_count\": 839, \"categories\": [{\"alias\": \"mexican\", \"title\": \"Mexican\"}, {\"alias\": \"cocktailbars\", \"title\": \"Cocktail Bars\"}], \"rating\": 4.5, \"coordinates\": {\"latitude\": 38.93755, \"longitude\": -77.03309}, \"transactions\": [\"delivery\"], \"price\": \"$$\", \"location\": {\"address1\": \"3710 14th St NW\", \"address2\": null, \"address3\": \"\", \"city\": \"Washington, DC\", \"zip_code\": \"20010\", \"country\": \"US\", \"state\": \"DC\", \"display_address\": [\"3710 14th St NW\", \"Washington, DC 20010\"]}, \"phone\": \"+12027227700\", \"display_phone\": \"(202) 722-7700\", \"distance\": 2926.6099864285006}, {\"id\": \"H7\n"
     ]
    }
   ],
   "source": [
    "term = 'Mexican'\n",
    "location = 'Washington DC'\n",
    "SEARCH_LIMIT = 10\n",
    "\n",
    "url = 'https://api.yelp.com/v3/businesses/search'\n",
    "\n",
    "headers = {\n",
    "        'Authorization': 'Bearer {}'.format(api_key),\n",
    "    }\n",
    "\n",
    "url_params = {\n",
    "                'term': term,\n",
    "                'location': location,\n",
    "                'limit': SEARCH_LIMIT\n",
    "            }\n",
    "response = requests.get(url, headers=headers, params=url_params)\n",
    "print(response)\n",
    "print(type(response.text))\n",
    "print(response.text[:1000])"
   ]
  },
  {
   "cell_type": "code",
   "execution_count": 17,
   "metadata": {
    "slideshow": {
     "slide_type": "slide"
    }
   },
   "outputs": [
    {
     "data": {
      "text/plain": [
       "{'id': 'iqV-9rIC-azTw9OQQc8Vhw',\n",
       " 'alias': 'district-taco-washington-6',\n",
       " 'name': 'District Taco',\n",
       " 'image_url': 'https://s3-media3.fl.yelpcdn.com/bphoto/ZeENlUMU0yPpf-ge8U09_g/o.jpg',\n",
       " 'is_closed': False,\n",
       " 'url': 'https://www.yelp.com/biz/district-taco-washington-6?adjust_creative=sHfPIWw2qKXvXAWiQlx3YA&utm_campaign=yelp_api_v3&utm_medium=api_v3_business_search&utm_source=sHfPIWw2qKXvXAWiQlx3YA',\n",
       " 'review_count': 1591,\n",
       " 'categories': [{'alias': 'mexican', 'title': 'Mexican'}],\n",
       " 'rating': 4.0,\n",
       " 'coordinates': {'latitude': 38.8976072, 'longitude': -77.030141},\n",
       " 'transactions': ['pickup', 'delivery'],\n",
       " 'price': '$',\n",
       " 'location': {'address1': '1309 F St NW',\n",
       "  'address2': '',\n",
       "  'address3': '',\n",
       "  'city': 'Washington, DC',\n",
       "  'zip_code': '20004',\n",
       "  'country': 'US',\n",
       "  'state': 'DC',\n",
       "  'display_address': ['1309 F St NW', 'Washington, DC 20004']},\n",
       " 'phone': '+12023477359',\n",
       " 'display_phone': '(202) 347-7359',\n",
       " 'distance': 1522.4651389588491}"
      ]
     },
     "execution_count": 17,
     "metadata": {},
     "output_type": "execute_result"
    }
   ],
   "source": [
    "response.json()['businesses'][3]"
   ]
  },
  {
   "cell_type": "code",
   "execution_count": 18,
   "metadata": {},
   "outputs": [
    {
     "data": {
      "text/plain": [
       "'https://api.yelp.com/v3/businesses/search?term=Mexican&location=Washington+DC&limit=10'"
      ]
     },
     "execution_count": 18,
     "metadata": {},
     "output_type": "execute_result"
    }
   ],
   "source": [
    "response.url"
   ]
  },
  {
   "cell_type": "markdown",
   "metadata": {
    "slideshow": {
     "slide_type": "slide"
    }
   },
   "source": [
    "## Resources\n",
    "\n",
    "[Python APIs](https://www.pythonforbeginners.com/api/list-of-python-apis)\n",
    "\n",
    "[HTTP Status Codes](https://httpstatuses.com/101)"
   ]
  },
  {
   "cell_type": "code",
   "execution_count": null,
   "metadata": {},
   "outputs": [],
   "source": [
    "import json\n",
    "import requests\n",
    "\n",
    "\n",
    "api_url_base = 'https://api.github.com/'\n",
    "headers = {'Content-Type': 'application/json',\n",
    "           'User-Agent': 'Python Student',\n",
    "           'Accept': 'application/vnd.github.v3+json'}\n",
    "\n",
    "def get_repos(username):\n",
    "\n",
    "    api_url = '{}orgs/{}/repos'.format(api_url_base, username)\n",
    "\n",
    "    response = requests.get(api_url, headers=headers)\n",
    "\n",
    "    if response.status_code == 200:\n",
    "        return (response.content)\n",
    "    else:\n",
    "        print('[!] HTTP {0} calling [{1}]'.format(response.status_code, api_url))\n",
    "        return None\n",
    "    \n",
    "get_repos(\"mguner\")"
   ]
  },
  {
   "cell_type": "code",
   "execution_count": null,
   "metadata": {},
   "outputs": [],
   "source": [
    "prop=revisions&rvprop=content&rvsection=0"
   ]
  },
  {
   "cell_type": "code",
   "execution_count": null,
   "metadata": {},
   "outputs": [],
   "source": [
    "http://en.wikipedia.org/w/api.php?action=query&prop=revisions&rvprop=content&rvsection=0&titles=pizza"
   ]
  },
  {
   "cell_type": "code",
   "execution_count": null,
   "metadata": {},
   "outputs": [],
   "source": [
    "payload = {'action':'query',\"format\":\"json\",'prop': 'revisions', 'rvprop': 'content', 'rvsection': \"1\", 'titles': 'pizza'}\n",
    "r = requests.get('http://en.wikipedia.org/w/api.php', params=payload)"
   ]
  },
  {
   "cell_type": "code",
   "execution_count": null,
   "metadata": {
    "scrolled": true
   },
   "outputs": [],
   "source": [
    "r.raise_for_status"
   ]
  },
  {
   "cell_type": "code",
   "execution_count": null,
   "metadata": {},
   "outputs": [],
   "source": [
    "r = requests.get(\"https://api.spotify.com/v1/audio-analysis/6EJiVf7U0p1BBfs0qqeb1f\")"
   ]
  },
  {
   "cell_type": "code",
   "execution_count": null,
   "metadata": {},
   "outputs": [],
   "source": [
    "headers: {\n",
    "    Authorization: `Bearer ${userAccessToken}`     \n",
    "  }"
   ]
  },
  {
   "cell_type": "code",
   "execution_count": null,
   "metadata": {},
   "outputs": [],
   "source": [
    "r.status_code"
   ]
  },
  {
   "cell_type": "code",
   "execution_count": null,
   "metadata": {},
   "outputs": [],
   "source": [
    "r.json()"
   ]
  },
  {
   "cell_type": "code",
   "execution_count": null,
   "metadata": {},
   "outputs": [],
   "source": [
    "a = []\n",
    "\n",
    "if a:\n",
    "    print(\"Murat\")\n",
    "    \n",
    "else:\n",
    "    print(\"something\")"
   ]
  },
  {
   "cell_type": "code",
   "execution_count": null,
   "metadata": {},
   "outputs": [],
   "source": []
  },
  {
   "cell_type": "code",
   "execution_count": null,
   "metadata": {},
   "outputs": [],
   "source": []
  },
  {
   "cell_type": "code",
   "execution_count": null,
   "metadata": {},
   "outputs": [],
   "source": []
  },
  {
   "cell_type": "code",
   "execution_count": null,
   "metadata": {},
   "outputs": [],
   "source": [
    "import requests\n",
    "\n",
    "response = requests.get(\"http://api.open-notify.org/this-api-doesnt-exist\")"
   ]
  },
  {
   "cell_type": "code",
   "execution_count": 19,
   "metadata": {
    "slideshow": {
     "slide_type": "slide"
    }
   },
   "outputs": [
    {
     "data": {
      "image/png": "[encoded data removed]",
      "text/plain": [
       "<Figure size 432x288 with 1 Axes>"
      ]
     },
     "metadata": {
      "needs_background": "light"
     },
     "output_type": "display_data"
    }
   ],
   "source": [
    "## extra\n",
    "from PIL import Image\n",
    "from io import BytesIO\n",
    "r = requests.get(\"https://upload.wikimedia.org/wikipedia/commons/b/b0/Pizza_tasting_in_the_Roosevelt_Room.jpg\")\n",
    "i = Image.open(BytesIO(r.content))\n",
    "\n",
    "import matplotlib.pyplot as plt\n",
    "\n",
    "plt.imshow(i)\n",
    "plt.show()"
   ]
  },
  {
   "cell_type": "code",
   "execution_count": null,
   "metadata": {},
   "outputs": [],
   "source": [
    "response"
   ]
  },
  {
   "cell_type": "code",
   "execution_count": null,
   "metadata": {},
   "outputs": [],
   "source": [
    "## 404 not found\n",
    "print(response.status_code)\n"
   ]
  },
  {
   "cell_type": "markdown",
   "metadata": {},
   "source": [
    "Other response codes:\n",
    "\n",
    "- 200\n",
    "- 301\n",
    "- 400\n",
    "- 401\n",
    "- 403\n",
    "- 404\n",
    "- 503\n",
    "\n",
    "Note that 2 -- family is overall good and 4-- family is not successful\n",
    "\n"
   ]
  },
  {
   "cell_type": "code",
   "execution_count": null,
   "metadata": {},
   "outputs": [],
   "source": [
    "requests.get(\"https://test.wikipedia.org/w/api.php\")"
   ]
  },
  {
   "cell_type": "code",
   "execution_count": null,
   "metadata": {},
   "outputs": [],
   "source": [
    "import json \n",
    "\n",
    "import requests"
   ]
  },
  {
   "cell_type": "code",
   "execution_count": null,
   "metadata": {},
   "outputs": [],
   "source": []
  }
 ],
 "metadata": {
  "celltoolbar": "Slideshow",
  "kernelspec": {
   "display_name": "Python 3",
   "language": "python",
   "name": "python3"
  },
  "language_info": {
   "codemirror_mode": {
    "name": "ipython",
    "version": 3
   },
   "file_extension": ".py",
   "mimetype": "text/x-python",
   "name": "python",
   "nbconvert_exporter": "python",
   "pygments_lexer": "ipython3",
   "version": "3.8.3"
  },
  "toc": {
   "base_numbering": 1,
   "nav_menu": {},
   "number_sections": true,
   "sideBar": true,
   "skip_h1_title": false,
   "title_cell": "Table of Contents",
   "title_sidebar": "Contents",
   "toc_cell": false,
   "toc_position": {},
   "toc_section_display": true,
   "toc_window_display": false
  }
 },
 "nbformat": 4,
 "nbformat_minor": 4
}
