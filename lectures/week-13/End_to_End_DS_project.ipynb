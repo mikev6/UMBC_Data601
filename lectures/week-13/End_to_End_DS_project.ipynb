{
 "cells": [
  {
   "cell_type": "markdown",
   "metadata": {},
   "source": [
    "# End to end DS project"
   ]
  },
  {
   "cell_type": "markdown",
   "metadata": {},
   "source": [
    "## Agenda"
   ]
  },
  {
   "cell_type": "markdown",
   "metadata": {},
   "source": [
    "## Setting up an environment\n"
   ]
  },
  {
   "cell_type": "markdown",
   "metadata": {},
   "source": [
    "A virtual environment is a tool that helps to keep dependencies required by different projects separate by creating isolated python virtual environments for them"
   ]
  },
  {
   "cell_type": "markdown",
   "metadata": {},
   "source": [
    "__Why to work with different environments__"
   ]
  },
  {
   "cell_type": "markdown",
   "metadata": {},
   "source": [
    "- Making sure that your code would work in other machines without a problem\n",
    "\n",
    "- Avoiding code breaks when you are collaborating\n",
    "\n",
    "- Working with a client and making sure that client can use the application smoothly."
   ]
  },
  {
   "cell_type": "markdown",
   "metadata": {},
   "source": [
    "__Basic commands__\n",
    "\n",
    "- which python (check both)\n",
    "\n",
    "- python --version\n",
    "\n",
    "- python3 -m pip --version\n",
    "\n",
    "- pip (conda) list\n",
    "\n",
    "- conda list pandas\n",
    "\n",
    "- conda env list\n",
    "\n"
   ]
  },
  {
   "cell_type": "markdown",
   "metadata": {},
   "source": [
    "__Probably you have to deal with this problem soon!__\n",
    "<center>\n",
    "    <img src= 'images/tf_install.png' width = 850 />\n",
    "<center/>"
   ]
  },
  {
   "cell_type": "markdown",
   "metadata": {},
   "source": [
    "__How do we create a Python Environment with Conda__\n",
    "\n",
    "Note that this part of the notebook will work if you are already using conda package manager. If you are using `pip` then please check the following link.\n",
    "\n",
    "[Installing a Virtual Environment with Pip](https://packaging.python.org/guides/installing-using-pip-and-virtual-environments/)"
   ]
  },
  {
   "cell_type": "markdown",
   "metadata": {},
   "source": [
    "[Creating a conda environment](https://docs.conda.io/projects/conda/en/latest/user-guide/tasks/manage-environments.html)\n",
    "\n",
    "- conda create --name myenv\n",
    "\n",
    "- creating a new environment with certain packages and versions\n",
    "\n",
    "- conda create --name myenv python = 3.6\n",
    "\n",
    "- installing packages from a txt file\n",
    "\n",
    "- conda list --explicit > spec-file.txt\n",
    "\n",
    "- conda install --name myenv --file spec-file.txt\n",
    "\n",
    "\n",
    "__From yml__\n",
    "\n",
    "- conda env export -n my_env  > environment.yml  (conda env export > environment.yml)\n",
    "- conda env create -f <path_to_yaml_file>"
   ]
  },
  {
   "cell_type": "markdown",
   "metadata": {},
   "source": [
    "__Activating and deactivating an environment__\n",
    "\n",
    "- conda activate myenv\n",
    "\n",
    "- conda deactivate myenv"
   ]
  },
  {
   "cell_type": "markdown",
   "metadata": {},
   "source": [
    "__removing an environment__\n",
    "\n",
    "- conda remove --name myenv --all"
   ]
  },
  {
   "cell_type": "markdown",
   "metadata": {},
   "source": [
    "## Getting data"
   ]
  },
  {
   "cell_type": "markdown",
   "metadata": {},
   "source": [
    "- Create a notebook in which you only get the notebook\n",
    "\n",
    "- You can also create a utils function for this purpose."
   ]
  },
  {
   "cell_type": "markdown",
   "metadata": {},
   "source": [
    "__why not download the data from browser?__\n",
    "\n",
    "- Data can change - if you want to get the latest edition of the data!\n",
    "\n",
    "- If you are working with more than one machine\n",
    "\n",
    "- If you are sharing your project with someone else\n",
    "\n",
    "[NYT-Covid_Data](https://github.com/nytimes/covid-19-data)\n"
   ]
  },
  {
   "cell_type": "markdown",
   "metadata": {},
   "source": [
    "## Sanity Check"
   ]
  },
  {
   "cell_type": "markdown",
   "metadata": {},
   "source": [
    "## Resources\n",
    "\n",
    "[Conda - Managing Environments](https://docs.conda.io/projects/conda/en/latest/user-guide/tasks/manage-environments.html#create-env-file-manually)\n",
    "\n",
    "[How to build a Conda environment through a yaml file](https://medium.com/@balance1150/how-to-build-a-conda-environment-through-a-yaml-file-db185acf5d22)\n",
    "\n",
    "[YAML - Wiki](https://en.wikipedia.org/wiki/YAML)"
   ]
  }
 ],
 "metadata": {
  "kernelspec": {
   "display_name": "Python 3",
   "language": "python",
   "name": "python3"
  },
  "language_info": {
   "codemirror_mode": {
    "name": "ipython",
    "version": 3
   },
   "file_extension": ".py",
   "mimetype": "text/x-python",
   "name": "python",
   "nbconvert_exporter": "python",
   "pygments_lexer": "ipython3",
   "version": "3.8.3"
  },
  "toc": {
   "base_numbering": 1,
   "nav_menu": {},
   "number_sections": true,
   "sideBar": true,
   "skip_h1_title": false,
   "title_cell": "Table of Contents",
   "title_sidebar": "Contents",
   "toc_cell": false,
   "toc_position": {},
   "toc_section_display": true,
   "toc_window_display": false
  }
 },
 "nbformat": 4,
 "nbformat_minor": 4
}
