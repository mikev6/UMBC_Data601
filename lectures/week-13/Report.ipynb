{
 "cells": [
  {
   "cell_type": "markdown",
   "metadata": {},
   "source": [
    "# Title\n"
   ]
  },
  {
   "cell_type": "markdown",
   "metadata": {},
   "source": [
    "## Business problem and Overview"
   ]
  },
  {
   "cell_type": "markdown",
   "metadata": {},
   "source": [
    "## Getting the data"
   ]
  },
  {
   "cell_type": "markdown",
   "metadata": {},
   "source": [
    "## Explore the data and gain insights"
   ]
  },
  {
   "cell_type": "markdown",
   "metadata": {},
   "source": [
    "## Data Preparation and Cleaning"
   ]
  },
  {
   "cell_type": "markdown",
   "metadata": {},
   "source": [
    "## Model Selection and Evaluations\n",
    "\n",
    "We have tried many models including LinearRegression, DecisionTrees, RandomForest, RidgeRegression. We compare different models with 5-fold cross-validation and as the metric we use root mean squared errors. Based on our investigation here is the validation errors and the std:\n",
    "\n",
    "linear_reg: 11570 +/- 2500\n",
    "\n",
    "Decision Trees: 13212 +/- 1120\n",
    "\n",
    "### Applied Models and reasoning and insights\n",
    "\n",
    "For this problem we would expect that randomforest models would work the best because they can learn non-linear relations. However lasso model performed better than rf. \n",
    "\n",
    "### Fine tuning parameters and insights\n",
    "\n",
    "Fine-tuning we use gridsearch with parameter_grid= {C: 100, 1000, 0.1, max_feat = 10,20}"
   ]
  },
  {
   "cell_type": "markdown",
   "metadata": {},
   "source": [
    "## Best Model and Performance Evaluation\n",
    "\n",
    "Based on the study, we decided to use Lasso model with C= 153 as the best model (rmse = 9563 +/-235) and we applied this model on the test data and here is the residuals. Also we are adding 10 sample houses and our predictions based on the best model. We will study result below. "
   ]
  },
  {
   "cell_type": "markdown",
   "metadata": {},
   "source": [
    "\n",
    "## Limitations and Later Work"
   ]
  },
  {
   "cell_type": "code",
   "execution_count": null,
   "metadata": {},
   "outputs": [],
   "source": []
  }
 ],
 "metadata": {
  "kernelspec": {
   "display_name": "Python 3",
   "language": "python",
   "name": "python3"
  },
  "language_info": {
   "codemirror_mode": {
    "name": "ipython",
    "version": 3
   },
   "file_extension": ".py",
   "mimetype": "text/x-python",
   "name": "python",
   "nbconvert_exporter": "python",
   "pygments_lexer": "ipython3",
   "version": "3.8.3"
  },
  "toc": {
   "base_numbering": 1,
   "nav_menu": {},
   "number_sections": true,
   "sideBar": true,
   "skip_h1_title": false,
   "title_cell": "Table of Contents",
   "title_sidebar": "Contents",
   "toc_cell": false,
   "toc_position": {},
   "toc_section_display": true,
   "toc_window_display": false
  }
 },
 "nbformat": 4,
 "nbformat_minor": 4
}
