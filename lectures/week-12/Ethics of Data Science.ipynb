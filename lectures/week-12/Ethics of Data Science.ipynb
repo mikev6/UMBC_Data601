{
 "cells": [
  {
   "cell_type": "markdown",
   "metadata": {
    "slideshow": {
     "slide_type": "slide"
    }
   },
   "source": [
    "## Credits\n",
    "\n",
    "As I prepare this notes I mostly followed the content of the two books on this topic:\n",
    "\n",
    "1. [Data Science by John D. Kelleher, Thierney Brendan](https://www.amazon.com/Data-Science-Press-Essential-Knowledge/dp/0262535432)\n",
    "\n",
    "I will reference to this book as DS.\n",
    "\n",
    "2. [Ethic and Data Science by Mike Loukides, Hillary Mason, DJ Patil](https://www.amazon.com/Ethics-Data-Science-Mike-Loukides-ebook/dp/B07GTC8ZN7/ref=sr_1_3?crid=118YAVOTUDZ8W&dchild=1&keywords=ethics+and+data+science&qid=1605212829&sprefix=ethics+and+data%2Cstripbooks%2C152&sr=8-3)\n",
    "\n",
    "I will reference to this book as EDS"
   ]
  },
  {
   "cell_type": "markdown",
   "metadata": {
    "slideshow": {
     "slide_type": "slide"
    }
   },
   "source": [
    "\n",
    "# Ethics and Data Science (Don't be Evil!)"
   ]
  },
  {
   "cell_type": "markdown",
   "metadata": {
    "slideshow": {
     "slide_type": "slide"
    }
   },
   "source": [
    "## Agenda\n",
    "\n",
    "- Defining Problems and Challenges\n",
    "- Understanding the scope of the problem\n",
    "- Ethical Implications of Data Science\n",
    "- Five C's \n",
    "- Note! In this lecture we will talk some sensitive and subjective matter. Please be aware of that fact when you are making a comment!"
   ]
  },
  {
   "cell_type": "markdown",
   "metadata": {
    "slideshow": {
     "slide_type": "slide"
    }
   },
   "source": [
    "## Problem\n",
    "\n",
    "- \"How do we put ethical principals into practice?\" (EDS)\n",
    "\n",
    "- An old problem, new format: \"How best to balance the freedoms and privacy of individuals and minorities against the security and interests of society.\" (DS)"
   ]
  },
  {
   "cell_type": "markdown",
   "metadata": {
    "slideshow": {
     "slide_type": "slide"
    }
   },
   "source": [
    "- Real Challenge: \"How do we design the user experience so that our concern for fairness and ethics doesn’t make an application unuseable?\" (EDS)"
   ]
  },
  {
   "cell_type": "markdown",
   "metadata": {
    "slideshow": {
     "slide_type": "slide"
    }
   },
   "source": [
    "__Group Discussion__\n",
    "\n",
    "What kind of data do you think companies are collecting about us?"
   ]
  },
  {
   "cell_type": "markdown",
   "metadata": {
    "slideshow": {
     "slide_type": "slide"
    }
   },
   "source": [
    "- Google maps (sometimes convenient and sometimes invasive)\n",
    "- Amazon -- big data? (customer online behavior)\n",
    "- spark tv's -- (netflix, hulu, etc.) (what you watch!, when you watch it, time spent, subtitles, voice)\n",
    "- Credit bureaus - credit scores, frequency, paying on time or late, credit card debt (aggregated data -  buying data)\n",
    "- Retail stores -- target, purchase habits. Items, when you purchased, how you purchased etc.\n",
    "- Social Media - facebook, instagram (thing you liked, page you follow, friends list, unfollow list, when you sharing, how frequently you are using, how much time your spending, etc.)"
   ]
  },
  {
   "cell_type": "markdown",
   "metadata": {
    "slideshow": {
     "slide_type": "slide"
    }
   },
   "source": [
    "- Any website: computer specs, cursor location, screen specs, operating system, time, location, ip, whether you used a link or not, name, \n",
    "\n",
    "- ez-pass: location, time, plate number, charge, model of you car, income, credit rating, birth date, gender, speed, trafic ticket history.\n",
    "\n",
    "- emails - meta-data, sender information, ip addresses, length of the email, etc."
   ]
  },
  {
   "cell_type": "markdown",
   "metadata": {
    "slideshow": {
     "slide_type": "slide"
    }
   },
   "source": [
    "__Scope of the Problem__\n",
    "\n",
    "- \"To put into perspective the amount of data that are gathered on the average individual in a technologically modern society, a report from the Dutch Data Protection Authority in 2009 estimated that the average Dutch citizen was included in 250 to 500 databases, with this figure rising to 1,000 databases for more socially active people\" (DS)"
   ]
  },
  {
   "cell_type": "markdown",
   "metadata": {
    "slideshow": {
     "slide_type": "slide"
    }
   },
   "source": [
    "__Just From Facebook Likes__\n"
   ]
  },
  {
   "cell_type": "markdown",
   "metadata": {
    "slideshow": {
     "slide_type": "slide"
    }
   },
   "source": [
    "- Age, Age range, ethnicity, \n",
    "- Political views\n",
    "- Where do you live\n",
    "- Music, videos and movie preferences.\n",
    "- Income\n",
    "- committing a crime \n",
    "- mood\n",
    "- sense of humor"
   ]
  },
  {
   "cell_type": "markdown",
   "metadata": {
    "slideshow": {
     "slide_type": "slide"
    }
   },
   "source": [
    "- comments here"
   ]
  },
  {
   "cell_type": "markdown",
   "metadata": {
    "slideshow": {
     "slide_type": "fragment"
    }
   },
   "source": [
    "- Sexual orientation\n",
    "\n",
    "- Political and religious views\n",
    "\n",
    "- Personality traits\n",
    "\n",
    "- Use of addictive substances\n",
    "\n"
   ]
  },
  {
   "cell_type": "markdown",
   "metadata": {
    "slideshow": {
     "slide_type": "slide"
    }
   },
   "source": [
    "__It is Not what they collected it is how they collected!__\n",
    "\n",
    "- Without an individuals knowledge and awareness (data shadow)\n",
    "\n",
    "or\n",
    "\n",
    "- An individual might choose to share data about themselves but might have little or no knowledge or control over how these data are used or shared with third parties. (data footprint)\n"
   ]
  },
  {
   "cell_type": "markdown",
   "metadata": {
    "slideshow": {
     "slide_type": "slide"
    }
   },
   "source": [
    "## Informed Consent\n",
    "\n",
    "- Having the user not only understand the terms but also understand the consequences. What data do you give us and what are we going to do with that.\n",
    "\n"
   ]
  },
  {
   "cell_type": "markdown",
   "metadata": {
    "slideshow": {
     "slide_type": "slide"
    }
   },
   "source": [
    "## Not an Easy Problem"
   ]
  },
  {
   "cell_type": "markdown",
   "metadata": {
    "slideshow": {
     "slide_type": "fragment"
    }
   },
   "source": [
    "- Increasing efficiency, effectiveness, and  competitiveness.\n",
    "    \n",
    "    - Data driven companies are more productive \n",
    "\n",
    "- Use of data science make the societies more secure\n",
    "\n",
    "    - Spam emails, fraud detection, terrorist attacks, shootings etc.\n",
    "    \n",
    "    - [Utah Data Center](https://en.wikipedia.org/wiki/Utah_Data_Center)\n",
    "    \n",
    "- [Removing some barriers?](https://www.youtube.com/watch?v=N0Vm0LXmcU4&ab_channel=Google.org)\n",
    "\n",
    "- [How AI can save our humanity?](https://www.youtube.com/watch?v=ajGgd9Ld-Wc&ab_channel=TED)\n",
    "\n",
    "- [CANNYAI](https://www.cannyai.com/)\n",
    "\n",
    "- [President Obama](https://www.youtube.com/watch?v=cQ54GDm1eL0&ab_channel=BuzzFeedVideo)"
   ]
  },
  {
   "cell_type": "markdown",
   "metadata": {
    "slideshow": {
     "slide_type": "slide"
    }
   },
   "source": [
    "## Commercial interest vs Individual Privacy"
   ]
  },
  {
   "cell_type": "markdown",
   "metadata": {
    "slideshow": {
     "slide_type": "fragment"
    }
   },
   "source": [
    "__Conflicting Arguments__\n",
    "\n",
    "- Governments are sharing more data \n",
    "\n",
    "- Transparency\n",
    "\n",
    "- Empowering citizens to hold government accountable\n",
    "\n",
    "__On the other hand__\n",
    "\n",
    "- Using purchasing habits, web search history, etc. for your health insurance [underwritings](https://en.wikipedia.org/wiki/Medical_underwriting) instead of blood tests, medical records."
   ]
  },
  {
   "cell_type": "markdown",
   "metadata": {
    "slideshow": {
     "slide_type": "slide"
    }
   },
   "source": [
    "__Targetted Marketting__\n",
    "\n",
    "- Use of personal data increases the effectiveness of the marketting 3-5 times compared to traditional marketing approaches?\n",
    "\n",
    "- Is it win-win or invasion of privacy?\n",
    "\n",
    "- [NYT- Target Case](https://nyti.ms/2kH3YzT)"
   ]
  },
  {
   "cell_type": "markdown",
   "metadata": {
    "slideshow": {
     "slide_type": "slide"
    }
   },
   "source": [
    "## Profiling and Discrimination"
   ]
  },
  {
   "cell_type": "markdown",
   "metadata": {
    "slideshow": {
     "slide_type": "fragment"
    }
   },
   "source": [
    "- Are you a target or a waste?\n",
    "\n",
    "- Different Pricing for the same product?\n",
    "\n",
    "- [NYT - Customized Coupons](https://www.nytimes.com/2012/08/10/business/supermarkets-try-customizing-prices-for-shoppers.html)"
   ]
  },
  {
   "cell_type": "markdown",
   "metadata": {
    "slideshow": {
     "slide_type": "slide"
    }
   },
   "source": [
    "__Predictive Policing__?\n",
    "\n",
    "[PredPol](https://predpol.com/)\n",
    "\n",
    "[Strategic Subject List](https://chicago.suntimes.com/city-hall/2020/1/27/21084030/chicago-police-strategic-subject-list-party-to-violence-inspector-general-joe-ferguson)"
   ]
  },
  {
   "cell_type": "markdown",
   "metadata": {
    "slideshow": {
     "slide_type": "slide"
    }
   },
   "source": [
    "\"A recent study found that the people on the SSL for 2013 were \"not more or less likely to become a victim of a homicide or shooting than the comparison group\" (Saunders, Hunt, and Hollywood 2016). However, this study also found that individuals on the list were more likely to be arrested for a shooting incident, although it did point out that this greater likelihood could have been created by the fact that these individuals were on the list, which resulted in increasing police officers’ awareness of these individuals (Saunders, Hunt, and Hollywood 2016).\""
   ]
  },
  {
   "cell_type": "markdown",
   "metadata": {
    "slideshow": {
     "slide_type": "slide"
    }
   },
   "source": [
    "## Of Oaths and Checklists?\n",
    "\n"
   ]
  },
  {
   "cell_type": "markdown",
   "metadata": {
    "slideshow": {
     "slide_type": "fragment"
    }
   },
   "source": [
    "__Oaths__\n",
    "\n",
    "[Hippocratic Oath](https://en.wikipedia.org/wiki/Hippocratic_Oath)"
   ]
  },
  {
   "cell_type": "markdown",
   "metadata": {
    "slideshow": {
     "slide_type": "slide"
    }
   },
   "source": [
    "__Some Possible Drawbacks of Oaths__\n"
   ]
  },
  {
   "cell_type": "markdown",
   "metadata": {
    "slideshow": {
     "slide_type": "fragment"
    }
   },
   "source": [
    "\n",
    "- One shots\n",
    "\n",
    "- Very general and broad principles (good on paper but not actionable)\n",
    "\n",
    "- Cover for the organization (Don't be evil? vs You can't be evil!)\n",
    "\n",
    "- Practice and theory (researchers should get informed consent vs getting informed consent)"
   ]
  },
  {
   "cell_type": "markdown",
   "metadata": {
    "slideshow": {
     "slide_type": "slide"
    }
   },
   "source": [
    "__Checklists__\n"
   ]
  },
  {
   "cell_type": "markdown",
   "metadata": {
    "slideshow": {
     "slide_type": "fragment"
    }
   },
   "source": [
    " -  They are more tailored towards practice\n",
    " \n",
    " -  Actionable\n",
    " \n",
    " - Tractable\n",
    " \n",
    " -  Revisable"
   ]
  },
  {
   "cell_type": "markdown",
   "metadata": {
    "slideshow": {
     "slide_type": "slide"
    }
   },
   "source": [
    "__A sample Check-list for DS Projects__\n",
    "\n",
    "- Have we listed how this technology can be attacked or abused?\n",
    "\n",
    "- Have we tested our training data to ensure it is fair and representative?\n",
    "\n",
    "- Have we studied and understood possible sources of bias in our data?\n",
    "\n",
    "- Does our team reflect diversity of opinions, backgrounds, and kinds of thought?\n",
    "\n",
    "- What kind of user consent do we need to collect to use the data?\n",
    "\n"
   ]
  },
  {
   "cell_type": "markdown",
   "metadata": {
    "slideshow": {
     "slide_type": "slide"
    }
   },
   "source": [
    "- Do we have a mechanism for gathering consent from users?\n",
    "\n",
    "- Have we explained clearly what users are consenting to?\n",
    "\n",
    "- Do we have a mechanism for redress if people are harmed by the results?\n",
    "\n",
    "- Can we shut down this software in production if it is behaving badly?\n",
    "\n",
    "- Have we tested for fairness with respect to different user groups?\n",
    "\n",
    "- Have we tested for disparate error rates among different user\n",
    "groups?\n",
    "\n",
    "- Do we test and monitor for model drift to ensure our software remains fair over time?\n",
    "\n",
    "- Do we have a plan to protect and secure user data?"
   ]
  },
  {
   "cell_type": "markdown",
   "metadata": {
    "slideshow": {
     "slide_type": "slide"
    }
   },
   "source": [
    "## The Five C's\n",
    "\n",
    "- Five framing guidelines for building more ethical and trustable data products."
   ]
  },
  {
   "cell_type": "markdown",
   "metadata": {
    "slideshow": {
     "slide_type": "fragment"
    }
   },
   "source": [
    "__Golden Rule__\n",
    "\n",
    "“golden rule” for data as a starting point: “treat others’ data as you would have others treat your own data.”"
   ]
  },
  {
   "cell_type": "markdown",
   "metadata": {
    "slideshow": {
     "slide_type": "slide"
    }
   },
   "source": [
    "__Consent__\n",
    "\n",
    "- Informed Consent\n",
    "\n",
    "Bad practices: Binary, lack of clarity, non-negotiable "
   ]
  },
  {
   "cell_type": "markdown",
   "metadata": {
    "slideshow": {
     "slide_type": "fragment"
    }
   },
   "source": [
    "- comments here"
   ]
  },
  {
   "cell_type": "markdown",
   "metadata": {
    "slideshow": {
     "slide_type": "slide"
    }
   },
   "source": [
    "__Clarity__"
   ]
  },
  {
   "cell_type": "markdown",
   "metadata": {
    "slideshow": {
     "slide_type": "fragment"
    }
   },
   "source": [
    "- It should be clear that who is going to use the data, when your data will be used, how long it will be kept, whether it will be shared with 3rd parties. \n",
    "\n",
    "- Not just get consent but inform the user for all aspects of the process."
   ]
  },
  {
   "cell_type": "markdown",
   "metadata": {
    "slideshow": {
     "slide_type": "slide"
    }
   },
   "source": [
    "__Consistency and Trust__"
   ]
  },
  {
   "cell_type": "markdown",
   "metadata": {
    "slideshow": {
     "slide_type": "fragment"
    }
   },
   "source": [
    "- How do you store the data?\n",
    "- What if the data is stolen? \n",
    "- Principal: Company should choose values when it comes to chose between values and money."
   ]
  },
  {
   "cell_type": "markdown",
   "metadata": {
    "slideshow": {
     "slide_type": "slide"
    }
   },
   "source": [
    "__Control and Transparency__"
   ]
  },
  {
   "cell_type": "markdown",
   "metadata": {
    "slideshow": {
     "slide_type": "fragment"
    }
   },
   "source": [
    "-  Who has the control over the data?\n",
    "-  For example: Political views, what if I want to change my opinion?\n",
    "-  Can I delete my data when I want to ?\n",
    "- Inform when you use or share my data?\n"
   ]
  },
  {
   "cell_type": "markdown",
   "metadata": {
    "slideshow": {
     "slide_type": "slide"
    }
   },
   "source": [
    "__Consequences__"
   ]
  },
  {
   "cell_type": "markdown",
   "metadata": {
    "slideshow": {
     "slide_type": "fragment"
    }
   },
   "source": [
    "- Unknown unknowns and whether a company invest on thinking possible consequences. "
   ]
  },
  {
   "cell_type": "markdown",
   "metadata": {
    "slideshow": {
     "slide_type": "slide"
    }
   },
   "source": [
    "## Credits\n",
    "\n",
    "As I prepare this notes I mostly followed the content of the two books on this topic:\n",
    "\n",
    "1. [Data Science by John D. Kelleher, Thierney Brendan](https://www.amazon.com/Data-Science-Press-Essential-Knowledge/dp/0262535432)\n",
    "\n",
    "2. [Ethic and Data Science by Mike Loukides, Hillary Mason, DJ Patil](https://www.amazon.com/Ethics-Data-Science-Mike-Loukides-ebook/dp/B07GTC8ZN7/ref=sr_1_3?crid=118YAVOTUDZ8W&dchild=1&keywords=ethics+and+data+science&qid=1605212829&sprefix=ethics+and+data%2Cstripbooks%2C152&sr=8-3)"
   ]
  },
  {
   "cell_type": "markdown",
   "metadata": {
    "slideshow": {
     "slide_type": "slide"
    }
   },
   "source": [
    "## Resources\n",
    "\n",
    "- [EU -General Data Protection Regulation](https://en.wikipedia.org/wiki/General_Data_Protection_Regulation)\n",
    "\n",
    "- [Data For Democracy](https://github.com/Data4Democracy/ethics-resources)\n",
    "\n",
    "- [ACM-Code of Ethics](https://www.acm.org/code-of-ethics)\n",
    "\n",
    "- [Ethical Guideliness for Statistical Practice](https://www.amstat.org/asa/files/pdfs/EthicalGuidelines.pdf)\n",
    "\n",
    "- [Ethics Shape Customer Experience AI](https://www.linkedin.com/pulse/ethics-shape-customer-experience-ai-susan-etlinger/)\n",
    "\n",
    "- [Should data scientists take a oath?](https://www.wired.com/story/should-data-scientists-adhere-to-a-hippocratic-oath/)\n",
    "\n",
    "- [UK Goverment-Data Ethics Framework](https://www.gov.uk/government/publications/data-ethics-framework)\n",
    "\n",
    "- [Data is new oil](https://www.economist.com/leaders/2017/05/06/the-worlds-most-valuable-resource-is-no-longer-oil-but-data)\n",
    "\n",
    "- [NYT - How Companies Learn Your Secrets](https://www.nytimes.com/2012/02/19/magazine/shopping-habits.html)"
   ]
  }
 ],
 "metadata": {
  "celltoolbar": "Slideshow",
  "kernelspec": {
   "display_name": "Python 3",
   "language": "python",
   "name": "python3"
  },
  "language_info": {
   "codemirror_mode": {
    "name": "ipython",
    "version": 3
   },
   "file_extension": ".py",
   "mimetype": "text/x-python",
   "name": "python",
   "nbconvert_exporter": "python",
   "pygments_lexer": "ipython3",
   "version": "3.8.3"
  },
  "toc": {
   "base_numbering": 1,
   "nav_menu": {},
   "number_sections": true,
   "sideBar": true,
   "skip_h1_title": false,
   "title_cell": "Table of Contents",
   "title_sidebar": "Contents",
   "toc_cell": false,
   "toc_position": {},
   "toc_section_display": true,
   "toc_window_display": false
  }
 },
 "nbformat": 4,
 "nbformat_minor": 4
}
