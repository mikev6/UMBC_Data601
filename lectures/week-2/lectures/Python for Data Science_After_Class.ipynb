{
 "cells": [
  {
   "cell_type": "markdown",
   "metadata": {
    "slideshow": {
     "slide_type": "slide"
    }
   },
   "source": [
    "# Today's Agenda\n",
    "\n",
    "\n",
    "\n"
   ]
  },
  {
   "cell_type": "markdown",
   "metadata": {
    "slideshow": {
     "slide_type": "fragment"
    }
   },
   "source": [
    "- Review of python basics: Syntax, variables, operators, built-in data structures\n",
    "\n",
    "- Discussion of __conditional statements__ in Python\n",
    "- Discussion of __functions__ in python\n",
    "- Discussion of __iterators__ in python\n",
    "- Discussion of __string methods__ in python\n"
   ]
  },
  {
   "cell_type": "markdown",
   "metadata": {
    "slideshow": {
     "slide_type": "slide"
    }
   },
   "source": [
    "# Writing Python Code\n",
    "\n",
    "- Using Python Interpreter\n",
    "\n",
    "- Python scripts\n",
    "\n",
    "- Jupyter notebooks"
   ]
  },
  {
   "cell_type": "markdown",
   "metadata": {
    "slideshow": {
     "slide_type": "slide"
    }
   },
   "source": [
    "# An overview of Python\n",
    "\n",
    "## Variables\n",
    "\n",
    "\n",
    "__Variables are pointers!__"
   ]
  },
  {
   "cell_type": "code",
   "execution_count": 5,
   "metadata": {
    "slideshow": {
     "slide_type": "slide"
    }
   },
   "outputs": [
    {
     "data": {
      "text/plain": [
       "'Data601'"
      ]
     },
     "execution_count": 5,
     "metadata": {},
     "output_type": "execute_result"
    }
   ],
   "source": [
    "## let's assign 4 to a variable x\n",
    "x = 4\n",
    "\n",
    "## note that we can assign another values to x \n",
    "\n",
    "x = 'a'\n",
    "\n",
    "y = \"Data601\"\n",
    "\n",
    "y"
   ]
  },
  {
   "cell_type": "markdown",
   "metadata": {
    "slideshow": {
     "slide_type": "slide"
    }
   },
   "source": [
    "__Everything is an object!__"
   ]
  },
  {
   "cell_type": "code",
   "execution_count": 12,
   "metadata": {
    "slideshow": {
     "slide_type": "fragment"
    }
   },
   "outputs": [
    {
     "data": {
      "text/plain": [
       "float"
      ]
     },
     "execution_count": 12,
     "metadata": {},
     "output_type": "execute_result"
    }
   ],
   "source": [
    "x = 4\n",
    "\n",
    "## check the type of x\n",
    "\n",
    "type(x)\n",
    "\n",
    "## now assign a letter to x and check its type\n",
    "\n",
    "x= \"a\"\n",
    "\n",
    "type(x)\n",
    "\n",
    "## can we assign a list to the same variable?\n",
    "\n",
    "mylist = [\"a\", \"b\"]\n",
    "\n",
    "type(mylist)\n",
    "\n",
    "## what would be its type?\n",
    "\n",
    "type(3.14)"
   ]
  },
  {
   "cell_type": "markdown",
   "metadata": {
    "slideshow": {
     "slide_type": "slide"
    }
   },
   "source": [
    "Think of objects like toolbox. They carry data and tools to change this data."
   ]
  },
  {
   "cell_type": "code",
   "execution_count": 16,
   "metadata": {
    "slideshow": {
     "slide_type": "slide"
    }
   },
   "outputs": [
    {
     "data": {
      "text/plain": [
       "[1, 2, 3]"
      ]
     },
     "execution_count": 16,
     "metadata": {},
     "output_type": "execute_result"
    }
   ],
   "source": [
    "## note that since in python variables are pointers \n",
    "## for mutable objects things might go surprising\n",
    "\n",
    "x = [1,2,3]\n",
    "\n",
    "y = x.copy()\n",
    "\n",
    "\n",
    "x.append(4)\n",
    "\n",
    "## Ask what do we expect to see if we check y\n",
    "y\n"
   ]
  },
  {
   "cell_type": "markdown",
   "metadata": {
    "slideshow": {
     "slide_type": "slide"
    }
   },
   "source": [
    "## Operators"
   ]
  },
  {
   "cell_type": "markdown",
   "metadata": {
    "slideshow": {
     "slide_type": "fragment"
    }
   },
   "source": [
    "### Arithmetic Operators\n",
    "\n"
   ]
  },
  {
   "cell_type": "code",
   "execution_count": 20,
   "metadata": {
    "slideshow": {
     "slide_type": "slide"
    }
   },
   "outputs": [
    {
     "data": {
      "text/plain": [
       "5.0"
      ]
     },
     "execution_count": 20,
     "metadata": {},
     "output_type": "execute_result"
    }
   ],
   "source": [
    "3+4\n",
    "#addition\n",
    "10-4\n",
    "# subtraction\n",
    "5*3\n",
    "## multiplication\n",
    "\n",
    "10/2\n",
    "## division\n"
   ]
  },
  {
   "cell_type": "code",
   "execution_count": 24,
   "metadata": {
    "slideshow": {
     "slide_type": "slide"
    }
   },
   "outputs": [
    {
     "data": {
      "text/plain": [
       "4"
      ]
     },
     "execution_count": 24,
     "metadata": {},
     "output_type": "execute_result"
    }
   ],
   "source": [
    "\n",
    "3**4\n",
    "## exponential\n",
    "\n",
    "14//5\n",
    "## floor division\n",
    "\n",
    "14%5\n",
    "## modulus\n",
    "\n"
   ]
  },
  {
   "cell_type": "markdown",
   "metadata": {
    "slideshow": {
     "slide_type": "slide"
    }
   },
   "source": [
    "### Comparison Operations"
   ]
  },
  {
   "cell_type": "code",
   "execution_count": 35,
   "metadata": {
    "slideshow": {
     "slide_type": "slide"
    }
   },
   "outputs": [
    {
     "name": "stdout",
     "output_type": "stream",
     "text": [
      "False\n",
      "True\n"
     ]
    },
    {
     "data": {
      "text/plain": [
       "True"
      ]
     },
     "execution_count": 35,
     "metadata": {},
     "output_type": "execute_result"
    }
   ],
   "source": [
    "a = 5\n",
    "\n",
    "b = 5\n",
    "## equal to operator ==\n",
    "\n",
    "print(a == 3)\n",
    "\n",
    "## not equal to !=\n",
    " \n",
    "print(a%2 == 1)    \n",
    "    \n",
    "## less than <\n",
    "a < 5\n",
    "\n",
    "## bigger than >\n",
    "a> 4\n",
    "\n",
    "## less than or equal to \n",
    "a<=5\n",
    "\n",
    "## bigger than or equal to\n",
    "a >=3"
   ]
  },
  {
   "cell_type": "code",
   "execution_count": 37,
   "metadata": {
    "slideshow": {
     "slide_type": "fragment"
    }
   },
   "outputs": [
    {
     "ename": "SyntaxError",
     "evalue": "invalid syntax (<ipython-input-37-e33f1d4a1a7f>, line 2)",
     "output_type": "error",
     "traceback": [
      "\u001b[0;36m  File \u001b[0;32m\"<ipython-input-37-e33f1d4a1a7f>\"\u001b[0;36m, line \u001b[0;32m2\u001b[0m\n\u001b[0;31m    4 =< 4\u001b[0m\n\u001b[0m       ^\u001b[0m\n\u001b[0;31mSyntaxError\u001b[0m\u001b[0;31m:\u001b[0m invalid syntax\n"
     ]
    }
   ],
   "source": [
    "## note that order matters\n",
    "4 =< 4"
   ]
  },
  {
   "cell_type": "markdown",
   "metadata": {
    "slideshow": {
     "slide_type": "slide"
    }
   },
   "source": [
    "### Boolean Operators"
   ]
  },
  {
   "cell_type": "code",
   "execution_count": 44,
   "metadata": {
    "slideshow": {
     "slide_type": "fragment"
    }
   },
   "outputs": [
    {
     "data": {
      "text/plain": [
       "False"
      ]
     },
     "execution_count": 44,
     "metadata": {},
     "output_type": "execute_result"
    }
   ],
   "source": [
    "x = 4\n",
    "\n",
    "## and\n",
    "\n",
    "(x%2 == 0) and (x< 2)\n",
    "## or \n",
    "(x%2 == 0) or (x< 2)\n",
    "\n",
    "## not\n",
    "\n",
    "not (x%2 == 0)"
   ]
  },
  {
   "cell_type": "markdown",
   "metadata": {
    "slideshow": {
     "slide_type": "slide"
    }
   },
   "source": [
    "<div class=\"alert alert-warning\">\n",
    "  <strong>Warning!</strong> \"is\" operator checks object identity. This is different than equality (==).\n",
    "</div>"
   ]
  },
  {
   "cell_type": "code",
   "execution_count": 50,
   "metadata": {
    "slideshow": {
     "slide_type": "fragment"
    }
   },
   "outputs": [
    {
     "name": "stdout",
     "output_type": "stream",
     "text": [
      "140509320418880\n",
      "140509321550912\n"
     ]
    }
   ],
   "source": [
    "a = [1,2,3]\n",
    "b = [1,2,3]\n",
    "\n",
    "## check whether a equal to b\n",
    "\n",
    "a==b\n",
    "\n",
    "\n",
    "## check whether a is b \n",
    "\n",
    "print(id(a))\n",
    "print(id(b))"
   ]
  },
  {
   "cell_type": "markdown",
   "metadata": {
    "slideshow": {
     "slide_type": "slide"
    }
   },
   "source": [
    "### Simple Types"
   ]
  },
  {
   "cell_type": "markdown",
   "metadata": {
    "slideshow": {
     "slide_type": "fragment"
    }
   },
   "source": [
    "<img src = \"images/simple_types.png\" width =750>"
   ]
  },
  {
   "cell_type": "code",
   "execution_count": 54,
   "metadata": {
    "slideshow": {
     "slide_type": "slide"
    }
   },
   "outputs": [
    {
     "name": "stdout",
     "output_type": "stream",
     "text": [
      "4347677024\n",
      "140509321578992\n"
     ]
    },
    {
     "name": "stderr",
     "output_type": "stream",
     "text": [
      "<>:9: SyntaxWarning: \"is not\" with a literal. Did you mean \"!=\"?\n",
      "<>:9: SyntaxWarning: \"is not\" with a literal. Did you mean \"!=\"?\n",
      "<ipython-input-54-4518fe18d9dd>:9: SyntaxWarning: \"is not\" with a literal. Did you mean \"!=\"?\n",
      "  1 is not 1.0\n"
     ]
    },
    {
     "data": {
      "text/plain": [
       "True"
      ]
     },
     "execution_count": 54,
     "metadata": {},
     "output_type": "execute_result"
    }
   ],
   "source": [
    "## check whether an integer 1 is 1.0\n",
    "\n",
    "1 == 1.0\n",
    "\n",
    "print(id(1))\n",
    "\n",
    "print(id(1.0))\n",
    "\n",
    "1 is not 1.0"
   ]
  },
  {
   "cell_type": "markdown",
   "metadata": {
    "slideshow": {
     "slide_type": "slide"
    }
   },
   "source": [
    "## Built-in Data Structures\n",
    "\n",
    "<img src = \"images/built-in_data_structures.png\" width= 750/>"
   ]
  },
  {
   "cell_type": "markdown",
   "metadata": {
    "slideshow": {
     "slide_type": "slide"
    }
   },
   "source": [
    "### Lists"
   ]
  },
  {
   "cell_type": "code",
   "execution_count": 58,
   "metadata": {
    "slideshow": {
     "slide_type": "fragment"
    }
   },
   "outputs": [
    {
     "data": {
      "text/plain": [
       "['Dylan', 'Saida', 'Clifton', 'Masoud', 'Ken', 'Sayyora', 'Marissa', 'Sean']"
      ]
     },
     "execution_count": 58,
     "metadata": {},
     "output_type": "execute_result"
    }
   ],
   "source": [
    "## let's create a list called \"names\"\n",
    "\n",
    "names = [\"Dylan\", \"Saida\", \"Clifton\", \"Masoud\", \"Ken\", \"Sayyora\", \"Marissa\", \"Sean\"]\n",
    "\n",
    "names"
   ]
  },
  {
   "cell_type": "code",
   "execution_count": 67,
   "metadata": {
    "slideshow": {
     "slide_type": "slide"
    }
   },
   "outputs": [
    {
     "name": "stdout",
     "output_type": "stream",
     "text": [
      "['Dylan', 'Saida', 'Clifton', 'Masoud', 'Ken', 'Sayyora', 'Marissa', 'Sean']\n"
     ]
    },
    {
     "data": {
      "text/plain": [
       "'Sean'"
      ]
     },
     "execution_count": 67,
     "metadata": {},
     "output_type": "execute_result"
    }
   ],
   "source": [
    "print(names)\n",
    "## we can use indexing to access items in a list\n",
    "## Recall Python starts counting from 0\n",
    "names[0]\n",
    "\n",
    "## let's get the first item in the list\n",
    "\n",
    "## let's get the last item in the list\n",
    "\n",
    "names[-1]"
   ]
  },
  {
   "cell_type": "code",
   "execution_count": 75,
   "metadata": {
    "slideshow": {
     "slide_type": "slide"
    }
   },
   "outputs": [
    {
     "name": "stdout",
     "output_type": "stream",
     "text": [
      "['Dylan', 'Saida', 'Clifton', 'Masoud', 'Ken', 'Sayyora', 'Marissa', 'Sean']\n"
     ]
    },
    {
     "data": {
      "text/plain": [
       "['Dylan', 'Saida', 'Clifton', 'Masoud', 'Ken', 'Sayyora']"
      ]
     },
     "execution_count": 75,
     "metadata": {},
     "output_type": "execute_result"
    }
   ],
   "source": [
    "print(names)\n",
    "## we can slice a list\n",
    "names[2:6]\n",
    "\n",
    "## let's get all the elements after 2nd element\n",
    "\n",
    "names[1:]\n",
    "## get all the elements up to 2nd from the end\n",
    "names[:-2]"
   ]
  },
  {
   "cell_type": "code",
   "execution_count": 81,
   "metadata": {
    "slideshow": {
     "slide_type": "slide"
    }
   },
   "outputs": [
    {
     "name": "stdout",
     "output_type": "stream",
     "text": [
      "['Dylan', 'Saida', 'Clifton', 'Masoud', 'Ken', 'Sayyora', 'Marissa', 'Sean']\n"
     ]
    },
    {
     "data": {
      "text/plain": [
       "8"
      ]
     },
     "execution_count": 81,
     "metadata": {},
     "output_type": "execute_result"
    }
   ],
   "source": [
    "print(names)\n",
    "## let's get every other elements in the list\n",
    "names[::2]\n",
    "\n",
    "## reverse the order of the elements in the list\n",
    "names[::-1]\n",
    "\n",
    "## check total numbers of elements in the list\n",
    "len(names)"
   ]
  },
  {
   "cell_type": "markdown",
   "metadata": {
    "slideshow": {
     "slide_type": "slide"
    }
   },
   "source": [
    "- we can enter mixed types in a list\n"
   ]
  },
  {
   "cell_type": "code",
   "execution_count": 94,
   "metadata": {
    "slideshow": {
     "slide_type": "fragment"
    }
   },
   "outputs": [
    {
     "data": {
      "text/plain": [
       "8"
      ]
     },
     "execution_count": 94,
     "metadata": {},
     "output_type": "execute_result"
    }
   ],
   "source": [
    "\n",
    "## create a list with mixed types\n",
    "mylist = [\"a\", 1, 1.4, None, True]\n",
    "\n",
    "\n",
    "## Can we add a lis in a list?\n",
    "\n",
    "mylist2 = [names, mylist, \"Murat\"]\n",
    "\n",
    "len(mylist2[0])\n",
    "\n",
    "len(mylist2[0])"
   ]
  },
  {
   "cell_type": "code",
   "execution_count": 125,
   "metadata": {
    "slideshow": {
     "slide_type": "slide"
    }
   },
   "outputs": [
    {
     "name": "stdout",
     "output_type": "stream",
     "text": [
      "['Dylan', 'Saida', 'Clifton', 'Masoud', 'Ken', 'Sayyora', 'Marissa', 'Sean', 'Murat', 'Limon', 'Zeytin']\n",
      "['Dylan', 'Saida', 'Clifton', 'Masoud', 'Ken', 'Sayyora', 'Marissa', 'Sean', 'Murat', 'Limon', 'Zeytin']\n"
     ]
    }
   ],
   "source": [
    "## there are lots of useful tools attached to list type objects\n",
    "\n",
    "names = [\"Dylan\", \"Saida\", \"Clifton\", \"Masoud\", \"Ken\", \"Sayyora\", \"Marissa\", \"Sean\"]\n",
    "## we can append elements to the end of the lists\n",
    "\n",
    "## we can pop the last element of the list\n",
    "\n",
    "## we can concatenate lists:\n",
    "\n",
    "print(names + [\"Murat\", \"Limon\", \"Zeytin\"])\n",
    "## we can also insert an element to any index\n",
    "names.insert(-1, [\"Murat\", \"Limon\", \"Zeytin\"])\n",
    "\n",
    "names = [\"Dylan\", \"Saida\", \"Clifton\", \"Masoud\", \"Ken\", \"Sayyora\", \"Marissa\", \"Sean\"]\n",
    "\n",
    "names.extend([\"Murat\", \"Limon\", \"Zeytin\"])\n",
    "print(names)"
   ]
  },
  {
   "cell_type": "markdown",
   "metadata": {
    "slideshow": {
     "slide_type": "slide"
    }
   },
   "source": [
    "- Some more handy methods with list"
   ]
  },
  {
   "cell_type": "code",
   "execution_count": 67,
   "metadata": {
    "slideshow": {
     "slide_type": "fragment"
    }
   },
   "outputs": [],
   "source": [
    "## Counting a particular element in a list\n",
    "\n",
    "## deleting an element with index\n",
    "\n"
   ]
  },
  {
   "cell_type": "markdown",
   "metadata": {
    "slideshow": {
     "slide_type": "slide"
    }
   },
   "source": [
    "### Dictionaries"
   ]
  },
  {
   "cell_type": "code",
   "execution_count": 136,
   "metadata": {
    "slideshow": {
     "slide_type": "slide"
    }
   },
   "outputs": [
    {
     "ename": "KeyError",
     "evalue": "2",
     "output_type": "error",
     "traceback": [
      "\u001b[0;31m---------------------------------------------------------------------------\u001b[0m",
      "\u001b[0;31mKeyError\u001b[0m                                  Traceback (most recent call last)",
      "\u001b[0;32m<ipython-input-136-f8c1a974895e>\u001b[0m in \u001b[0;36m<module>\u001b[0;34m\u001b[0m\n\u001b[1;32m      7\u001b[0m \u001b[0;34m\u001b[0m\u001b[0m\n\u001b[1;32m      8\u001b[0m \u001b[0;31m## this would give error - dictionaries don't have indices\u001b[0m\u001b[0;34m\u001b[0m\u001b[0;34m\u001b[0m\u001b[0;34m\u001b[0m\u001b[0m\n\u001b[0;32m----> 9\u001b[0;31m \u001b[0mmy_dictionary\u001b[0m\u001b[0;34m[\u001b[0m\u001b[0;36m2\u001b[0m\u001b[0;34m]\u001b[0m\u001b[0;34m\u001b[0m\u001b[0;34m\u001b[0m\u001b[0m\n\u001b[0m",
      "\u001b[0;31mKeyError\u001b[0m: 2"
     ]
    }
   ],
   "source": [
    "my_dictionary = {\"one\": \"bir\", \"two\": \"iki\", \"three\": \"uc\", \"four\": \"dort\"}\n",
    "## Create a new dictionary\n",
    "\n",
    "\n",
    "## let's access to a certain item in the list with its key.\n",
    "my_dictionary[\"three\"]\n",
    "\n",
    "## this would give error - dictionaries don't have indices\n",
    "my_dictionary[2]"
   ]
  },
  {
   "cell_type": "code",
   "execution_count": 150,
   "metadata": {
    "slideshow": {
     "slide_type": "slide"
    }
   },
   "outputs": [
    {
     "name": "stdout",
     "output_type": "stream",
     "text": [
      "one bir\n",
      "two iki\n",
      "three uc\n",
      "four dort\n",
      "five bes\n"
     ]
    }
   ],
   "source": [
    "## Assign a new element to a dictionary\n",
    "my_dictionary[\"five\"] = \"bes\"\n",
    "my_dictionary[\"two\"] = \"iki\"\n",
    "\n",
    "my_dictionary\n",
    "## Accessing all the key values of a dictionary\n",
    "my_dictionary.keys()\n",
    "## Accessing all the values of a dictionary\n",
    "my_dictionary.values()\n",
    "## Accessing all the (key, value) pairs in a dictionary\n",
    "my_dictionary.items()\n",
    "\n"
   ]
  },
  {
   "cell_type": "code",
   "execution_count": 151,
   "metadata": {
    "slideshow": {
     "slide_type": "slide"
    }
   },
   "outputs": [
    {
     "name": "stdout",
     "output_type": "stream",
     "text": [
      "one bir\n",
      "two iki\n",
      "three uc\n",
      "four dort\n",
      "five bes\n"
     ]
    }
   ],
   "source": [
    "## Note that dict.items() is a very hand too in for loops\n",
    "for (key, value) in my_dictionary.items():\n",
    "    print(key, value)\n"
   ]
  },
  {
   "cell_type": "markdown",
   "metadata": {
    "slideshow": {
     "slide_type": "slide"
    }
   },
   "source": [
    "## Control Flow\n",
    "\n",
    "\n",
    "### Conditional Statements: `if`, `elif`, `else`"
   ]
  },
  {
   "cell_type": "code",
   "execution_count": 163,
   "metadata": {
    "slideshow": {
     "slide_type": "slide"
    }
   },
   "outputs": [
    {
     "name": "stdout",
     "output_type": "stream",
     "text": [
      "Please enter a number-2\n",
      "x is negative\n"
     ]
    }
   ],
   "source": [
    "x = int(input(\"Please enter a number\"))\n",
    "\n",
    "## let's write a mini code that checks a given number is positive, negative or zero\n",
    "\n",
    "if x>0:\n",
    "    print(\"x is positive\")\n",
    "elif x == 0:\n",
    "    print(\"x is zero\")\n",
    "else:\n",
    "    print(\"x is negative\")"
   ]
  },
  {
   "cell_type": "markdown",
   "metadata": {
    "slideshow": {
     "slide_type": "slide"
    }
   },
   "source": [
    "### `for` Loops"
   ]
  },
  {
   "cell_type": "code",
   "execution_count": 164,
   "metadata": {
    "slideshow": {
     "slide_type": "slide"
    }
   },
   "outputs": [],
   "source": [
    "import time"
   ]
  },
  {
   "cell_type": "code",
   "execution_count": 177,
   "metadata": {
    "slideshow": {
     "slide_type": "slide"
    }
   },
   "outputs": [
    {
     "name": "stdout",
     "output_type": "stream",
     "text": [
      "Current value of 'i' is a\n",
      "Now i will pick next item in the list\n",
      "Current value of 'i' is 1\n",
      "Now i will pick next item in the list\n",
      "Current value of 'i' is 3\n",
      "Now i will pick next item in the list\n",
      "Current value of 'i' is b\n",
      "Now i will pick next item in the list\n",
      "Current value of 'i' is Murat\n",
      "Now i will pick next item in the list\n",
      "Current value of 'i' is True\n",
      "Now i will pick next item in the list\n"
     ]
    }
   ],
   "source": [
    "## let's discuss this code to understand the flow of for loops\n",
    "for i in [\"a\", 1, 3, \"b\", \"Murat\", True]:\n",
    "    print(f\"Current value of 'i' is {i}\")\n",
    "    print(\"Now i will pick next item in the list\")\n",
    "    time.sleep(2)"
   ]
  },
  {
   "cell_type": "markdown",
   "metadata": {
    "slideshow": {
     "slide_type": "slide"
    }
   },
   "source": [
    "### `while` loops"
   ]
  },
  {
   "cell_type": "code",
   "execution_count": 178,
   "metadata": {
    "slideshow": {
     "slide_type": "fragment"
    }
   },
   "outputs": [
    {
     "name": "stdout",
     "output_type": "stream",
     "text": [
      "Please enter an integer15\n",
      "15\n",
      "14\n",
      "13\n",
      "12\n",
      "11\n",
      "10\n",
      "9\n",
      "8\n",
      "7\n",
      "6\n",
      "5\n",
      "4\n",
      "3\n",
      "2\n",
      "1\n"
     ]
    }
   ],
   "source": [
    "x = int(input(\"Please enter an integer\"))\n",
    "\n",
    "## let's write a code that counts down from a given number down to zero with while loops\n",
    "\n",
    "while x > 0 :\n",
    "    print(x)\n",
    "    x = x - 1"
   ]
  },
  {
   "cell_type": "markdown",
   "metadata": {
    "slideshow": {
     "slide_type": "slide"
    }
   },
   "source": [
    "\n",
    "## End of Part I\n",
    "[Take this quiz before break](https://forms.gle/ytB6p9B9nmTfR9dp9)"
   ]
  },
  {
   "cell_type": "markdown",
   "metadata": {
    "slideshow": {
     "slide_type": "slide"
    }
   },
   "source": [
    "## Syntax of Functions"
   ]
  },
  {
   "cell_type": "code",
   "execution_count": 199,
   "metadata": {
    "slideshow": {
     "slide_type": "fragment"
    }
   },
   "outputs": [],
   "source": [
    "## let's write a very basic function that multiplies two given numbers\n",
    "\n",
    "def a_times_b(a, b):\n",
    "   \n",
    "    return a*b\n",
    "\n",
    "def some_other_funtions(limon, zeytin):\n",
    "    names = [limon, zeytin]\n",
    "    print(names)\n",
    "    \n",
    "    return names\n",
    " \n"
   ]
  },
  {
   "cell_type": "markdown",
   "metadata": {
    "slideshow": {
     "slide_type": "slide"
    }
   },
   "source": [
    "__Your turn!__\n",
    "\n",
    "1. Write a function that takes a list and multiplies the numbers in this list.\n"
   ]
  },
  {
   "cell_type": "markdown",
   "metadata": {
    "slideshow": {
     "slide_type": "slide"
    }
   },
   "source": [
    "- We can define functions with default values for the arguments"
   ]
  },
  {
   "cell_type": "code",
   "execution_count": 204,
   "metadata": {
    "slideshow": {
     "slide_type": "fragment"
    }
   },
   "outputs": [
    {
     "data": {
      "text/plain": [
       "13.0"
      ]
     },
     "execution_count": 204,
     "metadata": {},
     "output_type": "execute_result"
    }
   ],
   "source": [
    "\n",
    "## let's write a function that lengths of two short sides of a right triangle and \n",
    "## calculates the length of the hypotenuse. Call this function hypotenuse\n",
    "## use the default values a = 3 and b=4\n",
    "\n",
    "def hypotenuse(a = 3, b = 4):\n",
    "    \n",
    "    c = (a**2 + b**2)**0.5\n",
    "    return c\n",
    "\n",
    "hypotenuse(a= 12, b =5)\n"
   ]
  },
  {
   "cell_type": "markdown",
   "metadata": {
    "slideshow": {
     "slide_type": "slide"
    }
   },
   "source": [
    "## Anonymous (`lambda`) functions"
   ]
  },
  {
   "cell_type": "code",
   "execution_count": 205,
   "metadata": {
    "slideshow": {
     "slide_type": "fragment"
    }
   },
   "outputs": [],
   "source": [
    "add = lambda a,b,c: a+b+c\n",
    "\n",
    "\n",
    "## these are exactly the same functions\n",
    "def add(a,b,c):\n",
    "    return a+b+c"
   ]
  },
  {
   "cell_type": "markdown",
   "metadata": {
    "slideshow": {
     "slide_type": "fragment"
    }
   },
   "source": [
    "We can use `lambda` functions to create more complicated functions or when we need a function for a short period of time"
   ]
  },
  {
   "cell_type": "code",
   "execution_count": 104,
   "metadata": {
    "slideshow": {
     "slide_type": "slide"
    }
   },
   "outputs": [],
   "source": [
    "add = lambda a,b,c: a+b+c\n",
    "\n",
    "## let's write the traditional version of the add lambda function\n",
    "\n"
   ]
  },
  {
   "cell_type": "markdown",
   "metadata": {
    "slideshow": {
     "slide_type": "slide"
    }
   },
   "source": [
    "We can also use `lambda` functions to create complicated functions."
   ]
  },
  {
   "cell_type": "code",
   "execution_count": 215,
   "metadata": {
    "slideshow": {
     "slide_type": "fragment"
    }
   },
   "outputs": [
    {
     "name": "stdout",
     "output_type": "stream",
     "text": [
      "100\n"
     ]
    },
    {
     "data": {
      "text/plain": [
       "22"
      ]
     },
     "execution_count": 215,
     "metadata": {},
     "output_type": "execute_result"
    }
   ],
   "source": [
    "## let's create a function that returns a multiplication function\n",
    "\n",
    "def multiply_with_n(n):\n",
    "    return lambda x: n*x\n",
    "\n",
    "multiply_with_four = multiply_with_n(n = 4)\n",
    "\n",
    "print(multiply_with_four(x = 25))\n",
    "multiply_with_eleven = multiply_with_n(n = 11)\n",
    "\n",
    "multiply_with_eleven(x = 2)"
   ]
  },
  {
   "cell_type": "markdown",
   "metadata": {
    "slideshow": {
     "slide_type": "slide"
    }
   },
   "source": [
    "## `map` and `filter`"
   ]
  },
  {
   "cell_type": "code",
   "execution_count": 109,
   "metadata": {
    "slideshow": {
     "slide_type": "slide"
    }
   },
   "outputs": [
    {
     "name": "stdout",
     "output_type": "stream",
     "text": [
      "0 1 4 9 16 25 36 49 64 81 "
     ]
    }
   ],
   "source": [
    "# find the first 10 square numbers\n",
    "square = lambda x: x ** 2\n",
    "for val in map(square, range(10)):\n",
    "    print(val, end=' ')"
   ]
  },
  {
   "cell_type": "code",
   "execution_count": 110,
   "metadata": {
    "slideshow": {
     "slide_type": "fragment"
    }
   },
   "outputs": [
    {
     "name": "stdout",
     "output_type": "stream",
     "text": [
      "0 2 4 6 8 "
     ]
    }
   ],
   "source": [
    "# find values up to 10 for which x % 2 is zero\n",
    "is_even = lambda x: x % 2 == 0\n",
    "for val in filter(is_even, range(10)):\n",
    "    print(val, end=' ')"
   ]
  },
  {
   "cell_type": "markdown",
   "metadata": {
    "slideshow": {
     "slide_type": "slide"
    }
   },
   "source": [
    "## Built-in module for creating iterators efficiently: `itertools`"
   ]
  },
  {
   "cell_type": "code",
   "execution_count": 117,
   "metadata": {
    "slideshow": {
     "slide_type": "fragment"
    }
   },
   "outputs": [],
   "source": [
    "import itertools\n",
    "\n",
    "## let's create a product of two sets list1= [1,2,3,4], list2 = [\"a\", \"b\", \"c\"]\n"
   ]
  },
  {
   "cell_type": "markdown",
   "metadata": {
    "slideshow": {
     "slide_type": "slide"
    }
   },
   "source": [
    "## String methods "
   ]
  },
  {
   "cell_type": "code",
   "execution_count": 119,
   "metadata": {
    "slideshow": {
     "slide_type": "slide"
    }
   },
   "outputs": [],
   "source": [
    "x = \"tHis iS a sTring\"\n",
    "\n",
    "## Capitalize this string\n",
    "\n",
    "## Make this string a title\n",
    "\n",
    "## lower all the letters\n",
    "\n",
    "## swapcase the letters\n",
    "\n",
    "## split the string from empty space\n",
    "\n",
    "## check whether \"is\" in the string\n"
   ]
  },
  {
   "cell_type": "code",
   "execution_count": 122,
   "metadata": {
    "slideshow": {
     "slide_type": "slide"
    }
   },
   "outputs": [],
   "source": [
    "## Group work\n",
    "\n",
    "word = \"   Hello World!   \"\n",
    "\n",
    "## strip all the empty space from both sides\n",
    "\n",
    "## strip only from the right \n",
    "\n",
    "## only from the left\n"
   ]
  },
  {
   "cell_type": "markdown",
   "metadata": {
    "slideshow": {
     "slide_type": "slide"
    }
   },
   "source": [
    "## Preview of Data Science Tools\n",
    "\n",
    "- Numpy\n",
    "\n",
    "- Pandas\n",
    "\n",
    "- matplotlib\n",
    "\n",
    "- scipy\n",
    "\n",
    "- statsmodels\n",
    "\n",
    "- scikit-learn"
   ]
  },
  {
   "cell_type": "markdown",
   "metadata": {
    "slideshow": {
     "slide_type": "slide"
    }
   },
   "source": [
    "\n",
    "# Extra Resources\n",
    "\n",
    "[Python Documentation - Data Structures](https://docs.python.org/3/tutorial/datastructures.html)\n",
    "\n",
    "[Python Documentation - itertools](https://docs.python.org/3.5/library/itertools.html#itertools.combinations_with_replacement)\n",
    "\n",
    "[Bitwise vs Boolean Comparison](https://stackoverflow.com/questions/21415661/logical-operators-for-boolean-indexing-in-pandas)\n"
   ]
  }
 ],
 "metadata": {
  "celltoolbar": "Slideshow",
  "kernelspec": {
   "display_name": "Python 3",
   "language": "python",
   "name": "python3"
  },
  "language_info": {
   "codemirror_mode": {
    "name": "ipython",
    "version": 3
   },
   "file_extension": ".py",
   "mimetype": "text/x-python",
   "name": "python",
   "nbconvert_exporter": "python",
   "pygments_lexer": "ipython3",
   "version": "3.8.3"
  },
  "toc": {
   "base_numbering": 1,
   "nav_menu": {},
   "number_sections": true,
   "sideBar": true,
   "skip_h1_title": false,
   "title_cell": "Table of Contents",
   "title_sidebar": "Contents",
   "toc_cell": false,
   "toc_position": {},
   "toc_section_display": true,
   "toc_window_display": false
  }
 },
 "nbformat": 4,
 "nbformat_minor": 4
}
