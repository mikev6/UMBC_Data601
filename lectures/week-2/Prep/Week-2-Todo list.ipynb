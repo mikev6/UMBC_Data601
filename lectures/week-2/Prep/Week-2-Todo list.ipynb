{
 "cells": [
  {
   "cell_type": "markdown",
   "metadata": {},
   "source": [
    "# Git installation\n",
    "\n",
    "- For Mac and Linux users: You don't have to install git as it comes installed on your computers.\n",
    "\n",
    "- For Windows users please follow the directions in this video: \n",
    "\n",
    "[How to install and config git for Windows 10](https://www.youtube.com/watch?v=eB6rrsmwN0Y)\n",
    "\n",
    "\n",
    "For a detailed in depth git tutorial you can watch the following:\n",
    "[Git tutorial for beginners](https://www.youtube.com/watch?v=HVsySz-h9r4)\n",
    "\n",
    "\n",
    "# Connect Your Github with Your Local Computer\n",
    "\n",
    "[Creating a Github account and setting it up](https://www.youtube.com/watch?v=iv8rSLsi1xo)\n",
    "\n",
    "# Readings\n",
    "\n",
    "Next week we will be covering the basics of Python. So please refresh your python skills.\n",
    "\n",
    "Here is the link for a book that introduces python in a very user friendly version.\n",
    "\n",
    "[Whirl Wind Tour of Python by Jake VanderPlass](https://jakevdp.github.io/WhirlwindTourOfPython/index.html)\n",
    "\n",
    "I will assume that you know sections 3 to 7. Next week, I will try to cover:\n",
    "\n",
    "- section 8: Control Flow Statements\n",
    "- section 9: Defining Functions\n",
    "- section 11: Iterators\n",
    "- section 12: List Comprehensions\n",
    "- section 15: Strings and Regular Expressions\n",
    "- section 16: A preview of Data Science Tools\n",
    "\n",
    "It's a lot of material to cover and we might need to go over these fast so please come to class prepared. \n"
   ]
  },
  {
   "cell_type": "markdown",
   "metadata": {},
   "source": [
    "## Extra Resources\n",
    "\n",
    "### For Git&Github\n",
    "\n",
    "[Another installation tutorial of git for Windows 10](https://www.youtube.com/watch?v=nbFwejIsHlY)\n",
    "\n",
    "[Git-Tutorials](http://think-like-a-git.net/)\n",
    "\n",
    "[Git immersion - step by step tutorial](https://gitimmersion.com/index.html)\n",
    "\n",
    "[Interactive Git tutorial](https://learngitbranching.js.org/)\n",
    "\n",
    "[Another Set-up Github account tutorial](https://www.youtube.com/watch?v=XaMiHHu_rb4)\n",
    "\n",
    "[Longer but clear introduction to git and github](https://www.youtube.com/watch?v=BCQHnlnPusY)\n",
    "\n",
    "\n",
    "### For practicing Python\n",
    "[Python tutorials topic by topic](https://www.w3schools.com/python/default.asp)\n",
    "\n",
    "[Another hands-on tutorial for python](https://www.learnpython.org/)\n",
    "\n",
    "[Codewars - interactive python practices](https://www.codewars.com/)\n",
    "\n",
    "[If you like challenges for Python](https://projecteuler.net/archives)\n",
    "\n",
    "### For Terminal (Shell programming language)\n",
    "\n",
    "[Basic commands for terminal](http://www.ks.uiuc.edu/Training/Tutorials/Reference/unixprimer.html)\n",
    "\n",
    "### Anaconda Installation and Jupyter Notebook\n",
    "\n",
    "[For Windows users - installation and working with notebook](https://www.youtube.com/watch?v=Z31TOyvIgdE)\n",
    "\n",
    "[For Mac users](https://www.youtube.com/watch?v=iPsOCj_wKvY)\n"
   ]
  },
  {
   "cell_type": "code",
   "execution_count": null,
   "metadata": {},
   "outputs": [],
   "source": []
  }
 ],
 "metadata": {
  "kernelspec": {
   "display_name": "Python 3",
   "language": "python",
   "name": "python3"
  },
  "language_info": {
   "codemirror_mode": {
    "name": "ipython",
    "version": 3
   },
   "file_extension": ".py",
   "mimetype": "text/x-python",
   "name": "python",
   "nbconvert_exporter": "python",
   "pygments_lexer": "ipython3",
   "version": "3.8.3"
  },
  "toc": {
   "base_numbering": 1,
   "nav_menu": {},
   "number_sections": true,
   "sideBar": true,
   "skip_h1_title": false,
   "title_cell": "Table of Contents",
   "title_sidebar": "Contents",
   "toc_cell": false,
   "toc_position": {},
   "toc_section_display": true,
   "toc_window_display": false
  }
 },
 "nbformat": 4,
 "nbformat_minor": 4
}
